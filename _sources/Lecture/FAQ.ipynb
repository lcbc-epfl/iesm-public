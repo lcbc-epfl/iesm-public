{
 "cells": [
  {
   "cell_type": "markdown",
   "id": "cbbe8ff7-dd00-4ea7-b18e-ae2106c60faf",
   "metadata": {},
   "source": [
    "# FAQ"
   ]
  },
  {
   "cell_type": "code",
   "execution_count": null,
   "id": "4a316763-4258-49d7-a389-ab789255a01d",
   "metadata": {},
   "outputs": [],
   "source": [
    ":::{admonition} Answer\n",
    ":class: tip, dropdown\n",
    "Answer\n",
    ":::\n",
    "\n",
    ":::{admonition} Answer\n",
    ":class: tip, dropdown\n",
    "Answer\n",
    ":::"
   ]
  }
 ],
 "metadata": {
  "kernelspec": {
   "display_name": "Quantum Chemistry",
   "language": "python",
   "name": "psi4"
  },
  "language_info": {
   "codemirror_mode": {
    "name": "ipython",
    "version": 3
   },
   "file_extension": ".py",
   "mimetype": "text/x-python",
   "name": "python",
   "nbconvert_exporter": "python",
   "pygments_lexer": "ipython3",
   "version": "3.8.10"
  }
 },
 "nbformat": 4,
 "nbformat_minor": 5
}
