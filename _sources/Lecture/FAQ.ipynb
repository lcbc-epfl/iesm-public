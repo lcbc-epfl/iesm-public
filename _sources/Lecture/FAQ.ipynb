{
 "cells": [
  {
   "cell_type": "markdown",
   "id": "cbbe8ff7-dd00-4ea7-b18e-ae2106c60faf",
   "metadata": {},
   "source": [
    "# FAQ"
   ]
  },
  {
   "cell_type": "markdown",
   "id": "5769dd72-6d17-4dad-b331-dc602ae27916",
   "metadata": {},
   "source": [
    "<!--\n",
    "TEMPLATE FOR Q AND A\n",
    "\n",
    "\n",
    ":::{admonition} Question \n",
    ":class: exercise\n",
    "Question\n",
    ":::\n",
    "\n",
    ":::{admonition} Answer\n",
    ":class: tip, dropdown\n",
    "Answer\n",
    ":::\n",
    "\n",
    "-->"
   ]
  },
  {
   "cell_type": "markdown",
   "id": "c8ba4535-f881-4f37-a5d8-ec0a29448e31",
   "metadata": {},
   "source": [
    ":::{admonition} Question\n",
    ":class: exercise\n",
    "What is the role of self-interaction in DFT?\n",
    ":::\n",
    "\n",
    ":::{admonition} Answer\n",
    ":class: tip, dropdown\n",
    "One of the key failings of Kohn–Sham density functional theory with approximate density functionals in common use is self-interaction error.\n",
    "\n",
    "The energy is a functional of the single-particle density, so there is no way to precisely distinguish two-body Coulomb interactions from self-interaction: the interaction of each electron with the entire electron density (including its own density) is considered as a Coulomb energy. The removal of the self-interaction energy from the Coloumb energy is done by the exchange correlation functional, but since this functional can be only approximated, DFT always suffers from self-interaction.\n",
    "\n",
    "J. P. Perdew and A. Zunger proposed a self-interaction correction scheme (PZ-SIC, [Physical Review B, 1981](https://journals.aps.org/prb/abstract/10.1103/PhysRevB.23.5048)) which subtracts, orbital by orbital, the contribution that the Hartree and the Exchange Correlation\n",
    "functionals would make if there was only one electron in the system. However, this correction is not able to account for all the SIE. \n",
    "\n",
    "Extension of PZ-SIC and other correction methods have been proposed, but in general it is recognized that approximate density functionals in common use do not totally remove the SIE.\n",
    "([Further reading](https://aip.scitation.org/doi/10.1063/1.4866996)\n",
    ":::"
   ]
  },
  {
   "cell_type": "code",
   "execution_count": null,
   "id": "f724b117-d64e-4495-9cb0-801bd9c4fb8b",
   "metadata": {},
   "outputs": [],
   "source": []
  },
  {
   "cell_type": "code",
   "execution_count": null,
   "id": "9a69c792-0713-496e-9bdb-e364753979e2",
   "metadata": {},
   "outputs": [],
   "source": []
  }
 ],
 "metadata": {
  "kernelspec": {
   "display_name": "Quantum Chemistry",
   "language": "python",
   "name": "psi4"
  },
  "language_info": {
   "codemirror_mode": {
    "name": "ipython",
    "version": 3
   },
   "file_extension": ".py",
   "mimetype": "text/x-python",
   "name": "python",
   "nbconvert_exporter": "python",
   "pygments_lexer": "ipython3",
   "version": "3.8.10"
  }
 },
 "nbformat": 4,
 "nbformat_minor": 5
}
