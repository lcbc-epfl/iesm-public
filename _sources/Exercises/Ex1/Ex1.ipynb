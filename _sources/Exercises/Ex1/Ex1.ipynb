{
 "cells": [
  {
   "cell_type": "code",
   "execution_count": 4,
   "metadata": {},
   "outputs": [],
   "source": [
    "import numpy as np"
   ]
  },
  {
   "cell_type": "markdown",
   "metadata": {},
   "source": [
    "# Working with vectors using Numpy"
   ]
  },
  {
   "cell_type": "markdown",
   "metadata": {},
   "source": [
    "The wavefunction, $\\psi(x)$ can be represented as a *column vector*, $|\\psi\\rangle$ . The complex conjugate of the wavefunction, $\\psi^*(x)$ is also represented by a vector which is the complex conjugate transpose of $|\\psi\\rangle$. \n",
    "\n",
    "\\begin{align}\n",
    "\\psi(x)&\\rightarrow|\\psi\\rangle\\quad\\text{column vector}\\\\\n",
    "\\psi^*(x)&\\rightarrow\\langle\\psi|\\quad\\text{row vector}\n",
    "\\end{align}\n",
    "\n",
    "The normalization of a wavefunction $\\psi(x)$ is an integral\n",
    "\n",
    "$$\\int\\psi^*(x)\\psi(x)\\;\\mathrm{d}x=1.$$\n",
    "\n",
    "In Dirac notation, it is replaced with a vector equation\n",
    "\n",
    "$$\\langle\\psi|\\psi\\rangle=1.$$\n",
    "\n",
    "The orthogonality of two wavefunctions, $\\psi_i(x)$ and $\\psi_j(x)$, which, in integral notation, is\n",
    "\n",
    "$$\\int\\psi_i^*(x)\\psi_j(x)\\;\\mathrm{d}x=0,$$\n",
    "\n",
    "becomes, in Dirac notation,\n",
    "\n",
    "$$\\langle\\psi_i|\\psi_j\\rangle=1.$$"
   ]
  },
  {
   "cell_type": "markdown",
   "metadata": {},
   "source": [
    "```{admonition} Question 2\n",
    ":class: exercise \n",
    "Define two vectors, `ϕ1` and `ϕ2`, with two elements each, that are normalized, in the sense $\\langle\\phi_i|\\phi_i\\rangle=1$, and orthogonal in sense that $\\langle\\phi_i|\\phi_j\\rangle=0$.\n",
    "```\n",
    "```{margin}\n",
    "\n",
    "A vector v with the two elements 1 and 2 is defined through the command v=np.array([1,2]).\n",
    "```"
   ]
  },
  {
   "cell_type": "code",
   "execution_count": 5,
   "metadata": {},
   "outputs": [
    {
     "name": "stdout",
     "output_type": "stream",
     "text": [
      "ϕ1: []\n",
      "ϕ2: []\n"
     ]
    }
   ],
   "source": [
    "ϕ1 = np.array([]) # replace with ϕ2\n",
    "ϕ2 = np.array([]) # replace with ϕ2 \n",
    "\n",
    "print(f'ϕ1: {ϕ1}')\n",
    "print(f'ϕ2: {ϕ2}')"
   ]
  },
  {
   "cell_type": "markdown",
   "metadata": {},
   "source": [
    "```{margin}\n",
    "inner product (scalar product) of two vectors: `v.dot(v)`\n",
    "\n",
    "complex conjugate of a vector: `v.conj()`\n",
    "\n",
    "inner product of $v^\\dagger v$: `v.conj().dot(v)`\n",
    "```"
   ]
  },
  {
   "cell_type": "markdown",
   "metadata": {},
   "source": [
    "```{admonition} Question 3\n",
    ":class: exercise \n",
    "Show that $\\phi_1$ and $\\phi_2$ are normalized and orthonormal\n",
    "```"
   ]
  },
  {
   "cell_type": "code",
   "execution_count": 7,
   "metadata": {},
   "outputs": [
    {
     "name": "stdout",
     "output_type": "stream",
     "text": [
      "<ϕ1|ϕ1> = 0\n"
     ]
    }
   ],
   "source": [
    "# Check Normalization\n",
    "\n",
    "ϕ1_norm = 0 # Replace with vector operation\n",
    "\n",
    "print(f'<ϕ1|ϕ1> = {ϕ1_norm}')"
   ]
  },
  {
   "cell_type": "code",
   "execution_count": null,
   "metadata": {},
   "outputs": [],
   "source": [
    "# Check Orthogonality\n",
    "\n",
    "ϕ1ϕ2 = 0 # Replace with vector operation\n",
    "\n",
    "print(f'<ϕ1|ϕ2> = {ϕ1ϕ2}')"
   ]
  }
 ],
 "metadata": {
  "kernelspec": {
   "display_name": "iesm",
   "language": "python",
   "name": "iesm"
  },
  "language_info": {
   "codemirror_mode": {
    "name": "ipython",
    "version": 3
   },
   "file_extension": ".py",
   "mimetype": "text/x-python",
   "name": "python",
   "nbconvert_exporter": "python",
   "pygments_lexer": "ipython3",
   "version": "3.7.10"
  }
 },
 "nbformat": 4,
 "nbformat_minor": 2
}
