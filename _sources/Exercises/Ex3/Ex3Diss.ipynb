{
 "cells": [
  {
   "cell_type": "markdown",
   "source": [
    "# Recording a Dissociation Curve for H$_2$: RHF vs. UHF\n"
   ],
   "metadata": {}
  },
  {
   "cell_type": "code",
   "execution_count": 2,
   "source": [
    "import psi4\n",
    "import pandas as pd\n",
    "import numpy as np\n",
    "import matplotlib.pyplot as plt\n",
    "\n",
    "plt.style.use(['seaborn-poster', 'seaborn-ticks'])"
   ],
   "outputs": [],
   "metadata": {}
  },
  {
   "cell_type": "markdown",
   "source": [
    "then we set the maximum ressources that can be used"
   ],
   "metadata": {}
  },
  {
   "cell_type": "code",
   "execution_count": 3,
   "source": [
    "psi4.set_memory('2 GB')\n",
    "psi4.set_num_threads(2)"
   ],
   "outputs": [],
   "metadata": {}
  },
  {
   "cell_type": "markdown",
   "source": [
    "Calculate the energy of H$_2$ at the following internuclear distances at\n",
    "both the RHF/6-31G and UHF/6-31G level of theory. \n",
    "\n",
    "You are given the example for RHF and you need to modify the UHF calculation. \n",
    "\n",
    "The calcuation works by creating a list of the distances we want to try and then by iterating over it:\n",
    "\n",
    "- we create a `h2` molecule replacing the z coordinate with our desired distance using a Python f-string\n",
    "- we specify the logfile and set appending to `True`\n",
    "- we specify the reference we want to use and set `guess_mix` to false and use `'guess':'sad'` for the guess\n",
    "- we use `psi4.energy` specificing the desired method, basis and molecule\n",
    "- we clean up temporary files and add our calculated energy to a list for the plotting\n",
    "\n",
    "For the UHF calculations, copy the cell and change the reference and then first try the same options for `guess` and `guess_mix` and then set the options to `'guess':'gwh', 'guess_mix':True`"
   ],
   "metadata": {}
  },
  {
   "cell_type": "code",
   "execution_count": 9,
   "source": [
    "psi4.core.clean_options()\n",
    "psi4.core.clean()"
   ],
   "outputs": [],
   "metadata": {}
  },
  {
   "cell_type": "code",
   "execution_count": null,
   "source": [
    "distances = [0.50,0.60,0.80,1.00,1.50,2.50,4.00, 5.00, 6.00]\n",
    "\n",
    "\n",
    "energies_RHF = []\n",
    "print(f'R(Å) |  E_RHF [a.u]')\n",
    "print( '-----|-------------')\n",
    "      \n",
    "for dist in distances:\n",
    "    h2 = psi4.geometry(f\"\"\"\n",
    "    0 1\n",
    "    symmetry c1\n",
    "    H 0.0 0.0 0.0\n",
    "    H 0.0 0.0 {dist}\n",
    "    \"\"\")\n",
    " \n",
    "    psi4.core.set_output_file(f'dissociationcurve_RHF.log', True)\n",
    "    psi4.set_options({'reference':'rhf', 'guess_mix': \"False\"})\n",
    "    E_RHF = psi4.energy('hf/6-31G', molecule=h2)\n",
    "\n",
    "    print(f'{dist}  | {E_RHF:.3f}')\n",
    "\n",
    "    energies_RHF.append(E_RHF)\n",
    "    \n",
    "psi4.core.clean_options()\n",
    "psi4.core.clean()"
   ],
   "outputs": [],
   "metadata": {}
  },
  {
   "cell_type": "markdown",
   "source": [
    "Now plot the interaction energy \n",
    "\n",
    "$$\n",
    "\\begin{aligned}\n",
    "          E_{inter}^{6-31G}(\\mathbf{R}) = E_{H_2}^{6-31G}(\\mathbf{R})-2\\cdot E_H^{6-31G}\n",
    "          \\end{aligned}\n",
    "$$\n",
    "\n",
    "against the interatomic distance $\\mathbf{R}$.\n",
    "\n",
    "The value for the $E_H^{6-31G}$ you can calculate as described below:"
   ],
   "metadata": {}
  },
  {
   "cell_type": "code",
   "execution_count": 3,
   "source": [
    "h = psi4.geometry(f\"\"\"\n",
    "H 0.0 0.0 0.0\n",
    "\"\"\")\n",
    "psi4.set_options({'reference':'uhf'})\n",
    "psi4.core.set_output_file(f'single_UHF.log', True)\n",
    "E_H_UHF = psi4.energy('hf/6-31G', molecule=h)\n"
   ],
   "outputs": [],
   "metadata": {}
  },
  {
   "cell_type": "markdown",
   "source": [
    "Psi4 comes with a handy set of [conversion factors](https://psicode.org/psi4manual/master/autodoc_physconst.html) e.g to convert a.u into kcal mol$^{-1}$"
   ],
   "metadata": {}
  },
  {
   "cell_type": "code",
   "execution_count": 5,
   "source": [
    "psi4.constants.hartree2kcalmol"
   ],
   "outputs": [
    {
     "output_type": "execute_result",
     "data": {
      "text/plain": [
       "627.5094737775374"
      ]
     },
     "metadata": {},
     "execution_count": 5
    }
   ],
   "metadata": {}
  },
  {
   "cell_type": "markdown",
   "source": [
    "we can convert our lists of energies to numpy arrays and use broadcasting to quickly substract the energy of the single H atoms from each list item to get the interaction energy. \n",
    "\n",
    "```{margin}\n",
    "We have to use `np.array` as standard python lists (defined using `[item1, item2]`) do not support broadcasting. \n",
    "\n",
    "Broadcasting is an efficient way to perform arithmetics on vectors and matrices in python. Instead of having to write a `for` loop to perform arithemetic for each element we can simply substract the single H energy once and the operation is broadcast meaning that numpy will be smart about the dimensions. In the case of substracting a scalar from a matrix it will substract each value of the matrix by the scalar.  \n",
    "```"
   ],
   "metadata": {}
  },
  {
   "cell_type": "code",
   "execution_count": 14,
   "source": [
    "#Complete formula below\n",
    "\n",
    "#E_inter_RHF =  (np.array(energies_RHF) #### insert here #### )*psi4.constants.hartree2kcalmol\n",
    "\n",
    "#E_inter_UHF = ...\n",
    "    "
   ],
   "outputs": [],
   "metadata": {}
  },
  {
   "cell_type": "code",
   "execution_count": null,
   "source": [
    "fig, ax = plt.subplots(1)\n",
    "\n",
    "#ax.plot(distances,E_inter_RHF, label='RHF')\n",
    "#ax.plot(distances,E_inter_UHF,label='UHF')\n",
    "\n",
    "ax.axhline(0, color='gray', lw=1, linestyle='--')\n",
    "\n",
    "ax.set_xlabel('R (Å)')\n",
    "ax.set_ylabel('E [kcal/mol]')\n",
    "ax.legend()\n",
    "plt.show()"
   ],
   "outputs": [],
   "metadata": {}
  },
  {
   "cell_type": "markdown",
   "source": [
    "```{admonition} Exercise \n",
    ":class: exercise\n",
    "Explain the physical origin of the difference between the two\n",
    "    dissociation curves. Discuss how important this difference is by\n",
    "    comparing to the energy that is normally required to break a bond.\n",
    "```"
   ],
   "metadata": {}
  },
  {
   "cell_type": "markdown",
   "source": [
    "```{admonition} Exercise \n",
    ":class: exercise\n",
    "Try to find out why we are using `guess_mix:True` and `'guess':'gwh'`. What happend when you used the same settings as for the RHF calculation. \n",
    "You can look at the Psi4 manual to find out about the different options for the initial guess. \n",
    "```"
   ],
   "metadata": {}
  },
  {
   "cell_type": "code",
   "execution_count": null,
   "source": [],
   "outputs": [],
   "metadata": {}
  }
 ],
 "metadata": {
  "kernelspec": {
   "display_name": "iesm",
   "language": "python",
   "name": "iesm"
  },
  "language_info": {
   "codemirror_mode": {
    "name": "ipython",
    "version": 3
   },
   "file_extension": ".py",
   "mimetype": "text/x-python",
   "name": "python",
   "nbconvert_exporter": "python",
   "pygments_lexer": "ipython3",
   "version": "3.7.10"
  }
 },
 "nbformat": 4,
 "nbformat_minor": 2
}