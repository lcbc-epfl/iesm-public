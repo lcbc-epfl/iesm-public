{
 "cells": [
  {
   "cell_type": "markdown",
   "metadata": {},
   "source": []
  },
  {
   "cell_type": "markdown",
   "metadata": {},
   "source": [
    "# Effects of Basis Set Size: The Molecular Case\n",
    "\n",
    "\n",
    "In exercise 2.4, you have already computed the equilibrium energy of\n",
    "H$_2$ at the Hartree-Fock level using the 6-31G basis set. You will now\n",
    "be employing the slightly larger 6-311G basis, as well as Dunning's\n",
    "correlation-consistent aug-cc-pVTZ basis. Correlation-consistent basis\n",
    "sets were defined such that systematic improvement over total energies\n",
    "and molecular properties is possible. \n",
    "\n",
    "First again we again import the required modules:"
   ]
  },
  {
   "cell_type": "code",
   "execution_count": 1,
   "metadata": {},
   "outputs": [],
   "source": [
    "import psi4\n",
    "import pandas as pd\n",
    "import numpy as np\n",
    "import matplotlib.pyplot as plt\n",
    "\n",
    "plt.style.use(['seaborn-poster', 'seaborn-ticks'])\n"
   ]
  },
  {
   "cell_type": "markdown",
   "metadata": {},
   "source": [
    "then we set the maximum ressources that can be used"
   ]
  },
  {
   "cell_type": "code",
   "execution_count": 2,
   "metadata": {},
   "outputs": [
    {
     "name": "stdout",
     "output_type": "stream",
     "text": [
      "\n",
      "  Memory set to   1.863 GiB by Python driver.\n",
      "  Threads set to 4 by Python driver.\n"
     ]
    }
   ],
   "source": [
    "psi4.set_memory('2 GB')\n",
    "psi4.set_num_threads(4)"
   ]
  },
  {
   "cell_type": "markdown",
   "metadata": {},
   "source": [
    "next we define our $H_2$ geometry that we already used last week setting the H molecules at equilibrium distance of each other. "
   ]
  },
  {
   "cell_type": "code",
   "execution_count": 3,
   "metadata": {},
   "outputs": [],
   "source": [
    "h2 = psi4.geometry(\"\"\"\n",
    "0 1\n",
    "H 0.0 0.0 0.0\n",
    "H 0.0 0.0 0.7414\n",
    "\"\"\")\n"
   ]
  },
  {
   "cell_type": "code",
   "execution_count": 4,
   "metadata": {},
   "outputs": [
    {
     "name": "stdout",
     "output_type": "stream",
     "text": [
      "6-31G None\n",
      "6-311G None\n",
      "aug-cc-pvtz None\n"
     ]
    }
   ],
   "source": [
    "basissets = ['6-31G', '6-311G', 'aug-cc-pvtz'] # these are the basis sets we are going to use\n",
    "\n",
    "psi4.set_options({'reference':'UHF'}) # We are using Unrestriced Hartee Fock\n",
    "\n",
    "for basis in basissets:\n",
    "    psi4.core.set_output_file(f'{basis}-output.log', False) # save in seperate log files\n",
    "    # you can concatenate strings e.g using 'method/'+basis, to select the molecule explicitly you can use the molecule=h2\n",
    "    E = None #call psi4  single point energy calculation here once per basis set\n",
    "\n",
    "    print(basis, E)"
   ]
  },
  {
   "cell_type": "markdown",
   "metadata": {},
   "source": [
    "```{admonition} Exercise 1\n",
    ":class: exercise\n",
    "Include a table of the the calculated energies using the three different basis sets\n",
    "```"
   ]
  },
  {
   "cell_type": "markdown",
   "metadata": {},
   "source": [
    "Lets have a look at one of the outputs (e.g for the `6-31G` basis). We can use the shell command `!grep -options SEARCHTERM FILENAME` for this. (The `!` denotes that this is not a python command but a bash program. \n",
    "\n",
    "As the SCF procedure is iterative we can search for the word `iter` in the output. By including `-A 1 -B 3` we get 1 line after the last find and 3 lines before the first find, which contain some helpful context to make sense of the results. "
   ]
  },
  {
   "cell_type": "code",
   "execution_count": 5,
   "metadata": {},
   "outputs": [],
   "source": [
    "!grep -A 1 -B 3 iter 6-31G-output.log"
   ]
  },
  {
   "cell_type": "markdown",
   "metadata": {},
   "source": [
    "```{admonition} Exercise 2\n",
    ":class: exercise\n",
    "What is the meaning of the Delta E column? What is DIIS? \n",
    "```"
   ]
  },
  {
   "cell_type": "markdown",
   "metadata": {},
   "source": [
    "Next, let's plot the SCF convergence for the three tested basis sets. You can use a little helper function which will read in the table shown above and return it to you as pandas dataframe that you can easily plot. \n",
    "\n",
    "For the plotting we will use matplotlib. "
   ]
  },
  {
   "cell_type": "code",
   "execution_count": 6,
   "metadata": {
    "scrolled": true
   },
   "outputs": [],
   "source": [
    "import sys\n",
    "sys.path.append(\"..\")\n",
    "from helpers import psi4_read_scf"
   ]
  },
  {
   "cell_type": "code",
   "execution_count": 7,
   "metadata": {
    "scrolled": true
   },
   "outputs": [],
   "source": [
    "# read in scf table like so:\n",
    "\n",
    "# nameOfDataFrame = psi4_read_scf('nameOfOutputFile.log')\n",
    "\n",
    "# to view the table you can simply type the name of the DataFrame\n",
    "\n",
    "# nameOfDataFrame"
   ]
  },
  {
   "cell_type": "markdown",
   "metadata": {},
   "source": [
    "Matplotlib is an easy and convenient plotting library. You can complete the figure plot below or you can also export the Dataframe for Excel or other programs `NameOfDataFrame.to_csv('basis.csv', index=False)`"
   ]
  },
  {
   "cell_type": "code",
   "execution_count": 8,
   "metadata": {},
   "outputs": [
    {
     "data": {
      "image/png": "[encoded data removed]",
      "text/plain": [
       "<Figure size 576x576 with 1 Axes>"
      ]
     },
     "metadata": {},
     "output_type": "display_data"
    }
   ],
   "source": [
    "fig, ax = plt.subplots(1, figsize=(8,8)) # create figure\n",
    "\n",
    "#ax.plot(nameOfDataFrame.index, nameOfDataFrame['Total Energy'], label='label')  # we use the table index and the Total Energy column for plotting\n",
    "\n",
    "#plot horizontal line with exact value\n",
    "ax.axhline(-1.174474, label='Exact value', linestyle='--', color='gray') # horizontal line for the exact energy\n",
    "\n",
    "ax.set_xlabel('SCF Iteration') # set axis labels\n",
    "ax.set_ylabel('E [a.u]')\n",
    "ax.legend() # show legend\n",
    "plt.show()"
   ]
  },
  {
   "cell_type": "markdown",
   "metadata": {},
   "source": [
    "```{admonition} Exercise 3\n",
    ":class: exercise\n",
    "How does the basis set size influence the SCF convergence behaviour?\n",
    "```"
   ]
  },
  {
   "cell_type": "markdown",
   "metadata": {},
   "source": [
    "```{admonition} Exercise 4\n",
    ":class: exercise\n",
    "Use your knowledge on the Hartree-Fock SCF procedure and the\n",
    "    PSI4 output to derive a flow chart of how a wavefunction\n",
    "    optimisation is carried out. Use $\\Psi_{guess}$ for the first trial\n",
    "    wavefunction (`SCF Guess` in the PSI4 output), $\\Psi_{opt}$ for the\n",
    "    optimised wavefunction (`@DF-UHF Final Energy:  ` in the Gaussian output) and think\n",
    "    of appropriate naming schemes for the intermediate steps. Clarify\n",
    "    whether, during an iteration, the Fock operator acts on the previous\n",
    "    $\\Psi$ or on the new one. Include checks for convergence at the\n",
    "    appropriate points.\n",
    "```"
   ]
  }
 ],
 "metadata": {
  "kernelspec": {
   "display_name": "Quantum Chemistry",
   "language": "python",
   "name": "psi4"
  },
  "language_info": {
   "codemirror_mode": {
    "name": "ipython",
    "version": 3
   },
   "file_extension": ".py",
   "mimetype": "text/x-python",
   "name": "python",
   "nbconvert_exporter": "python",
   "pygments_lexer": "ipython3",
   "version": "3.8.10"
  }
 },
 "nbformat": 4,
 "nbformat_minor": 4
}
