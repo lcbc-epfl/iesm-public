{
 "cells": [
  {
   "cell_type": "markdown",
   "source": [
    "# Potential Energy Scans and Visualisation of Trajectories\n",
    "\n",
    "\n",
    "The range of problems that can be tackled with Psi4 or other electronic structure packages is not limited\n",
    "to wavefunction or geometry optimisations. We can use python to create complex inputs, adjusting various settings, or making specific modifications of\n",
    "some variables. \n",
    "\n",
    "In this set of exercises, you will instruct Psi4 to\n",
    "selectively scan one degree of freedom of a potential energy surface."
   ],
   "metadata": {}
  },
  {
   "cell_type": "markdown",
   "source": [
    "## Scanning a Potential Energy Surface: Dihedral Scan of Butane\n",
    "\n",
    "\n",
    "Potential energy surfaces (PES) are complex objects which are, in\n",
    "general, 3N-6 dimensional, where N is the number of atoms. Therefore, obtaining the complete topology of\n",
    "a PES is not feasible for most molecules. However, one may limit the\n",
    "sampling of the surface to a few degrees of freedom that are of interest\n",
    "and relevant to the problem under examination (*cf.* figure 1). Scans\n",
    "along limited degrees of freedom may be helpful if one needs information\n",
    "about various possible (local) minima, for example if (or whether) one\n",
    "is trapped in one of them. In practice, the degrees of freedom can be\n",
    "defined by a Z-matrix, such as the one that you have already been using\n",
    "in the previous exercises.\n",
    "\n",
    "\n",
    "\n",
    "```{figure} ../../images/pesslize.jpg\n",
    "---\n",
    "name: PES\n",
    "---\n",
    "Example of a 2D PES (right) and a 1D potential energy profile (left)\n",
    "obtained by considering only one degree of freedom.\n",
    "```\n",
    "\n",
    "\n",
    "\n",
    "In a *relaxed PES scan*, all degrees of freedom that are not under\n",
    "consideration are optimised, and one obtains a minimum energy path along\n",
    "the chosen degree(s) of freedom. This implies that a constrained\n",
    "optimisation is carried out for each desired value of the degree of\n",
    "freedom that is being sampled.\n",
    "Instead, one may freeze the remaining degrees of\n",
    "freedom, keeping them fixed at their initial values, lowering the computational cost. This procedure is\n",
    "referred to as a *rigid PES scan*. For simple scans of bond angles or\n",
    "lengths in a pre-optimised structure, this is often sufficient (and more\n",
    "efficient). \n",
    "\n",
    "In this exercise, you will perform a relaxed potential energy\n",
    "scan of the dihedral in butane in order to determine the possible\n",
    "configurational minima, and the rotational barrier."
   ],
   "metadata": {}
  },
  {
   "cell_type": "code",
   "execution_count": 6,
   "source": [
    "import psi4\n",
    "import numpy as np\n",
    "import matplotlib.pyplot as plt"
   ],
   "outputs": [],
   "metadata": {}
  },
  {
   "cell_type": "code",
   "execution_count": null,
   "source": [
    "psi4.set_num_threads(2)\n",
    "psi4.set_memory('2 GB')"
   ],
   "outputs": [],
   "metadata": {}
  },
  {
   "cell_type": "code",
   "execution_count": 8,
   "source": [
    "import sys\n",
    "sys.path.append(\"..\")\n",
    "from helpers import *"
   ],
   "outputs": [],
   "metadata": {}
  },
  {
   "cell_type": "markdown",
   "source": [
    "### Starting geometry"
   ],
   "metadata": {}
  },
  {
   "cell_type": "code",
   "execution_count": 9,
   "source": [
    "butane = psi4.geometry(\"\"\"\n",
    "0 1\n",
    "symmetry c1\n",
    " C   -0.574898269478    0.504464946904    0.002857403041\n",
    " C    0.574897889171   -0.504464956128    0.002852323696\n",
    " C   -1.952555649148   -0.156973625260   -0.002714475295\n",
    " C    1.952555886024    0.156973652497   -0.002581128735\n",
    " H   -0.482337591908    1.153589194213   -0.865497092594\n",
    " H   -0.486779969577    1.148810594948    0.875228985704\n",
    " H    0.486726518666   -1.148880661714    0.875166539075\n",
    " H    0.482391583848   -1.153518537029   -0.865560612888\n",
    " H   -2.083450168132   -0.782621265854   -0.881234078511\n",
    " H   -2.088869387618   -0.785799807033    0.872685653169\n",
    " H   -2.745769632423    0.584304626628   -0.003839522994\n",
    " H    2.083505309790    0.782692137537   -0.881042037137\n",
    " H    2.745769132889   -0.584305467493   -0.003716913318\n",
    " H    2.088815912268    0.785728971311    0.872878191372\n",
    "\"\"\")"
   ],
   "outputs": [],
   "metadata": {}
  },
  {
   "cell_type": "code",
   "execution_count": 10,
   "source": [
    "drawXYZ_labeled(butane)"
   ],
   "outputs": [
    {
     "output_type": "display_data",
     "data": {
      "text/html": [
       "<div id=\"3dmolviewer_162921287770743\"  style=\"position: relative; width: 400px; height: 400px\">\n",
       "        <p id=\"3dmolwarning_162921287770743\" style=\"background-color:#ffcccc;color:black\">You appear to be running in JupyterLab (or JavaScript failed to load for some other reason).  You need to install the 3dmol extension: <br>\n",
       "        <tt>jupyter labextension install jupyterlab_3dmol</tt></p>\n",
       "        </div>\n",
       "<script>\n",
       "\n",
       "var loadScriptAsync = function(uri){\n",
       "  return new Promise((resolve, reject) => {\n",
       "    var tag = document.createElement('script');\n",
       "    tag.src = uri;\n",
       "    tag.async = true;\n",
       "    tag.onload = () => {\n",
       "      resolve();\n",
       "    };\n",
       "  var firstScriptTag = document.getElementsByTagName('script')[0];\n",
       "  firstScriptTag.parentNode.insertBefore(tag, firstScriptTag);\n",
       "});\n",
       "};\n",
       "\n",
       "if(typeof $3Dmolpromise === 'undefined') {\n",
       "$3Dmolpromise = null;\n",
       "  $3Dmolpromise = loadScriptAsync('https://3dmol.org/build/3Dmol.js');\n",
       "}\n",
       "\n",
       "var viewer_162921287770743 = null;\n",
       "var warn = document.getElementById(\"3dmolwarning_162921287770743\");\n",
       "if(warn) {\n",
       "    warn.parentNode.removeChild(warn);\n",
       "}\n",
       "$3Dmolpromise.then(function() {\n",
       "viewer_162921287770743 = $3Dmol.createViewer($(\"#3dmolviewer_162921287770743\"),{backgroundColor:\"white\"});\n",
       "viewer_162921287770743.zoomTo();\n",
       "\tviewer_162921287770743.addModel(\"14\\n\\n C   -0.574898269478    0.504464946904    0.002857403041\\n C    0.574897889171   -0.504464956128    0.002852323696\\n C   -1.952555649148   -0.156973625260   -0.002714475295\\n C    1.952555886024    0.156973652497   -0.002581128735\\n H   -0.482337591908    1.153589194213   -0.865497092594\\n H   -0.486779969577    1.148810594948    0.875228985704\\n H    0.486726518666   -1.148880661714    0.875166539075\\n H    0.482391583848   -1.153518537029   -0.865560612888\\n H   -2.083450168132   -0.782621265854   -0.881234078511\\n H   -2.088869387618   -0.785799807033    0.872685653169\\n H   -2.745769632423    0.584304626628   -0.003839522994\\n H    2.083505309790    0.782692137537   -0.881042037137\\n H    2.745769132889   -0.584305467493   -0.003716913318\\n H    2.088815912268    0.785728971311    0.872878191372\\n\",\"xyz\");\n",
       "\tviewer_162921287770743.addLabel(\"0\",{\"position\": {\"x\": -0.5748982694792218, \"y\": 0.5044649469052975, \"z\": 0.0028574030409458813}, \"inFront\": true});\n",
       "\tviewer_162921287770743.addLabel(\"1\",{\"position\": {\"x\": 0.5748978891724074, \"y\": -0.5044649561290097, \"z\": 0.0028523236959458703}, \"inFront\": true});\n",
       "\tviewer_162921287770743.addLabel(\"2\",{\"position\": {\"x\": -1.952555649152372, \"y\": -0.156973625260215, \"z\": -0.0027144752950668594}, \"inFront\": true});\n",
       "\tviewer_162921287770743.addLabel(\"3\",{\"position\": {\"x\": 1.9525558860285575, \"y\": 0.1569736524975029, \"z\": -0.0025811287350665543}, \"inFront\": true});\n",
       "\tviewer_162921287770743.addLabel(\"4\",{\"position\": {\"x\": -0.4823375919090102, \"y\": 1.1535891942157819, \"z\": -0.8654970925960397}, \"inFront\": true});\n",
       "\tviewer_162921287770743.addLabel(\"5\",{\"position\": {\"x\": -0.48677996957802033, \"y\": 1.148810594950771, \"z\": 0.8752289857059407}, \"inFront\": true});\n",
       "\tviewer_162921287770743.addLabel(\"6\",{\"position\": {\"x\": 0.4867265186672057, \"y\": -1.148880661716483, \"z\": 0.8751665390769405}, \"inFront\": true});\n",
       "\tviewer_162921287770743.addLabel(\"7\",{\"position\": {\"x\": 0.4823915838491958, \"y\": -1.1535185370314938, \"z\": -0.8655606128900399}, \"inFront\": true});\n",
       "\tviewer_162921287770743.addLabel(\"8\",{\"position\": {\"x\": -2.0834501681366713, \"y\": -0.7826212658556456, \"z\": -0.8812340785130758}, \"inFront\": true});\n",
       "\tviewer_162921287770743.addLabel(\"9\",{\"position\": {\"x\": -2.088869387622683, \"y\": -0.7857998070346529, \"z\": 0.8726856531709348}, \"inFront\": true});\n",
       "\tviewer_162921287770743.addLabel(\"10\",{\"position\": {\"x\": -2.7457696324291856, \"y\": 0.58430462662948, \"z\": -0.003839522994069432}, \"inFront\": true});\n",
       "\tviewer_162921287770743.addLabel(\"11\",{\"position\": {\"x\": 2.083505309794857, \"y\": 0.7826921375389336, \"z\": -0.8810420371390754}, \"inFront\": true});\n",
       "\tviewer_162921287770743.addLabel(\"12\",{\"position\": {\"x\": 2.7457691328953713, \"y\": -0.5843054674941922, \"z\": -0.0037169133180691514}, \"inFront\": true});\n",
       "\tviewer_162921287770743.addLabel(\"13\",{\"position\": {\"x\": 2.088815912272869, \"y\": 0.7857289713129406, \"z\": 0.8728781913739352}, \"inFront\": true});\n",
       "\tviewer_162921287770743.setStyle({\"stick\": {}, \"sphere\": {\"scale\": 0.1}});\n",
       "\tviewer_162921287770743.setStyle({\"model\": 0},{\"stick\": {\"colorscheme\": \"yellowCarbon\"}, \"sphere\": {\"scale\": 0.1}});\n",
       "\tviewer_162921287770743.zoomTo();\n",
       "viewer_162921287770743.render();\n",
       "});\n",
       "</script>"
      ],
      "application/3dmoljs_load.v0": "<div id=\"3dmolviewer_162921287770743\"  style=\"position: relative; width: 400px; height: 400px\">\n        <p id=\"3dmolwarning_162921287770743\" style=\"background-color:#ffcccc;color:black\">You appear to be running in JupyterLab (or JavaScript failed to load for some other reason).  You need to install the 3dmol extension: <br>\n        <tt>jupyter labextension install jupyterlab_3dmol</tt></p>\n        </div>\n<script>\n\nvar loadScriptAsync = function(uri){\n  return new Promise((resolve, reject) => {\n    var tag = document.createElement('script');\n    tag.src = uri;\n    tag.async = true;\n    tag.onload = () => {\n      resolve();\n    };\n  var firstScriptTag = document.getElementsByTagName('script')[0];\n  firstScriptTag.parentNode.insertBefore(tag, firstScriptTag);\n});\n};\n\nif(typeof $3Dmolpromise === 'undefined') {\n$3Dmolpromise = null;\n  $3Dmolpromise = loadScriptAsync('https://3dmol.org/build/3Dmol.js');\n}\n\nvar viewer_162921287770743 = null;\nvar warn = document.getElementById(\"3dmolwarning_162921287770743\");\nif(warn) {\n    warn.parentNode.removeChild(warn);\n}\n$3Dmolpromise.then(function() {\nviewer_162921287770743 = $3Dmol.createViewer($(\"#3dmolviewer_162921287770743\"),{backgroundColor:\"white\"});\nviewer_162921287770743.zoomTo();\n\tviewer_162921287770743.addModel(\"14\\n\\n C   -0.574898269478    0.504464946904    0.002857403041\\n C    0.574897889171   -0.504464956128    0.002852323696\\n C   -1.952555649148   -0.156973625260   -0.002714475295\\n C    1.952555886024    0.156973652497   -0.002581128735\\n H   -0.482337591908    1.153589194213   -0.865497092594\\n H   -0.486779969577    1.148810594948    0.875228985704\\n H    0.486726518666   -1.148880661714    0.875166539075\\n H    0.482391583848   -1.153518537029   -0.865560612888\\n H   -2.083450168132   -0.782621265854   -0.881234078511\\n H   -2.088869387618   -0.785799807033    0.872685653169\\n H   -2.745769632423    0.584304626628   -0.003839522994\\n H    2.083505309790    0.782692137537   -0.881042037137\\n H    2.745769132889   -0.584305467493   -0.003716913318\\n H    2.088815912268    0.785728971311    0.872878191372\\n\",\"xyz\");\n\tviewer_162921287770743.addLabel(\"0\",{\"position\": {\"x\": -0.5748982694792218, \"y\": 0.5044649469052975, \"z\": 0.0028574030409458813}, \"inFront\": true});\n\tviewer_162921287770743.addLabel(\"1\",{\"position\": {\"x\": 0.5748978891724074, \"y\": -0.5044649561290097, \"z\": 0.0028523236959458703}, \"inFront\": true});\n\tviewer_162921287770743.addLabel(\"2\",{\"position\": {\"x\": -1.952555649152372, \"y\": -0.156973625260215, \"z\": -0.0027144752950668594}, \"inFront\": true});\n\tviewer_162921287770743.addLabel(\"3\",{\"position\": {\"x\": 1.9525558860285575, \"y\": 0.1569736524975029, \"z\": -0.0025811287350665543}, \"inFront\": true});\n\tviewer_162921287770743.addLabel(\"4\",{\"position\": {\"x\": -0.4823375919090102, \"y\": 1.1535891942157819, \"z\": -0.8654970925960397}, \"inFront\": true});\n\tviewer_162921287770743.addLabel(\"5\",{\"position\": {\"x\": -0.48677996957802033, \"y\": 1.148810594950771, \"z\": 0.8752289857059407}, \"inFront\": true});\n\tviewer_162921287770743.addLabel(\"6\",{\"position\": {\"x\": 0.4867265186672057, \"y\": -1.148880661716483, \"z\": 0.8751665390769405}, \"inFront\": true});\n\tviewer_162921287770743.addLabel(\"7\",{\"position\": {\"x\": 0.4823915838491958, \"y\": -1.1535185370314938, \"z\": -0.8655606128900399}, \"inFront\": true});\n\tviewer_162921287770743.addLabel(\"8\",{\"position\": {\"x\": -2.0834501681366713, \"y\": -0.7826212658556456, \"z\": -0.8812340785130758}, \"inFront\": true});\n\tviewer_162921287770743.addLabel(\"9\",{\"position\": {\"x\": -2.088869387622683, \"y\": -0.7857998070346529, \"z\": 0.8726856531709348}, \"inFront\": true});\n\tviewer_162921287770743.addLabel(\"10\",{\"position\": {\"x\": -2.7457696324291856, \"y\": 0.58430462662948, \"z\": -0.003839522994069432}, \"inFront\": true});\n\tviewer_162921287770743.addLabel(\"11\",{\"position\": {\"x\": 2.083505309794857, \"y\": 0.7826921375389336, \"z\": -0.8810420371390754}, \"inFront\": true});\n\tviewer_162921287770743.addLabel(\"12\",{\"position\": {\"x\": 2.7457691328953713, \"y\": -0.5843054674941922, \"z\": -0.0037169133180691514}, \"inFront\": true});\n\tviewer_162921287770743.addLabel(\"13\",{\"position\": {\"x\": 2.088815912272869, \"y\": 0.7857289713129406, \"z\": 0.8728781913739352}, \"inFront\": true});\n\tviewer_162921287770743.setStyle({\"stick\": {}, \"sphere\": {\"scale\": 0.1}});\n\tviewer_162921287770743.setStyle({\"model\": 0},{\"stick\": {\"colorscheme\": \"yellowCarbon\"}, \"sphere\": {\"scale\": 0.1}});\n\tviewer_162921287770743.zoomTo();\nviewer_162921287770743.render();\n});\n</script>"
     },
     "metadata": {}
    }
   ],
   "metadata": {}
  },
  {
   "cell_type": "code",
   "execution_count": 6,
   "source": [
    "drawXYZ(butane)"
   ],
   "outputs": [
    {
     "output_type": "display_data",
     "data": {
      "text/html": [
       "<div id=\"3dmolviewer_16280642809598265\"  style=\"position: relative; width: 400px; height: 400px\">\n",
       "        <p id=\"3dmolwarning_16280642809598265\" style=\"background-color:#ffcccc;color:black\">You appear to be running in JupyterLab (or JavaScript failed to load for some other reason).  You need to install the 3dmol extension: <br>\n",
       "        <tt>jupyter labextension install jupyterlab_3dmol</tt></p>\n",
       "        </div>\n",
       "<script>\n",
       "\n",
       "var loadScriptAsync = function(uri){\n",
       "  return new Promise((resolve, reject) => {\n",
       "    var tag = document.createElement('script');\n",
       "    tag.src = uri;\n",
       "    tag.async = true;\n",
       "    tag.onload = () => {\n",
       "      resolve();\n",
       "    };\n",
       "  var firstScriptTag = document.getElementsByTagName('script')[0];\n",
       "  firstScriptTag.parentNode.insertBefore(tag, firstScriptTag);\n",
       "});\n",
       "};\n",
       "\n",
       "if(typeof $3Dmolpromise === 'undefined') {\n",
       "$3Dmolpromise = null;\n",
       "  $3Dmolpromise = loadScriptAsync('https://3dmol.org/build/3Dmol.js');\n",
       "}\n",
       "\n",
       "var viewer_16280642809598265 = null;\n",
       "var warn = document.getElementById(\"3dmolwarning_16280642809598265\");\n",
       "if(warn) {\n",
       "    warn.parentNode.removeChild(warn);\n",
       "}\n",
       "$3Dmolpromise.then(function() {\n",
       "viewer_16280642809598265 = $3Dmol.createViewer($(\"#3dmolviewer_16280642809598265\"),{backgroundColor:\"white\"});\n",
       "viewer_16280642809598265.zoomTo();\n",
       "\tviewer_16280642809598265.addModel(\"14\\n\\n C   -0.574898269478    0.504464946904    0.002857403041\\n C    0.574897889171   -0.504464956128    0.002852323696\\n C   -1.952555649148   -0.156973625260   -0.002714475295\\n C    1.952555886024    0.156973652497   -0.002581128735\\n H   -0.482337591908    1.153589194213   -0.865497092594\\n H   -0.486779969577    1.148810594948    0.875228985704\\n H    0.486726518666   -1.148880661714    0.875166539075\\n H    0.482391583848   -1.153518537029   -0.865560612888\\n H   -2.083450168132   -0.782621265854   -0.881234078511\\n H   -2.088869387618   -0.785799807033    0.872685653169\\n H   -2.745769632423    0.584304626628   -0.003839522994\\n H    2.083505309790    0.782692137537   -0.881042037137\\n H    2.745769132889   -0.584305467493   -0.003716913318\\n H    2.088815912268    0.785728971311    0.872878191372\\n\",\"xyz\");\n",
       "\tviewer_16280642809598265.setStyle({\"stick\": {}, \"sphere\": {\"scale\": 0.1}});\n",
       "\tviewer_16280642809598265.zoomTo();\n",
       "viewer_16280642809598265.render();\n",
       "});\n",
       "</script>"
      ],
      "application/3dmoljs_load.v0": "<div id=\"3dmolviewer_16280642809598265\"  style=\"position: relative; width: 400px; height: 400px\">\n        <p id=\"3dmolwarning_16280642809598265\" style=\"background-color:#ffcccc;color:black\">You appear to be running in JupyterLab (or JavaScript failed to load for some other reason).  You need to install the 3dmol extension: <br>\n        <tt>jupyter labextension install jupyterlab_3dmol</tt></p>\n        </div>\n<script>\n\nvar loadScriptAsync = function(uri){\n  return new Promise((resolve, reject) => {\n    var tag = document.createElement('script');\n    tag.src = uri;\n    tag.async = true;\n    tag.onload = () => {\n      resolve();\n    };\n  var firstScriptTag = document.getElementsByTagName('script')[0];\n  firstScriptTag.parentNode.insertBefore(tag, firstScriptTag);\n});\n};\n\nif(typeof $3Dmolpromise === 'undefined') {\n$3Dmolpromise = null;\n  $3Dmolpromise = loadScriptAsync('https://3dmol.org/build/3Dmol.js');\n}\n\nvar viewer_16280642809598265 = null;\nvar warn = document.getElementById(\"3dmolwarning_16280642809598265\");\nif(warn) {\n    warn.parentNode.removeChild(warn);\n}\n$3Dmolpromise.then(function() {\nviewer_16280642809598265 = $3Dmol.createViewer($(\"#3dmolviewer_16280642809598265\"),{backgroundColor:\"white\"});\nviewer_16280642809598265.zoomTo();\n\tviewer_16280642809598265.addModel(\"14\\n\\n C   -0.574898269478    0.504464946904    0.002857403041\\n C    0.574897889171   -0.504464956128    0.002852323696\\n C   -1.952555649148   -0.156973625260   -0.002714475295\\n C    1.952555886024    0.156973652497   -0.002581128735\\n H   -0.482337591908    1.153589194213   -0.865497092594\\n H   -0.486779969577    1.148810594948    0.875228985704\\n H    0.486726518666   -1.148880661714    0.875166539075\\n H    0.482391583848   -1.153518537029   -0.865560612888\\n H   -2.083450168132   -0.782621265854   -0.881234078511\\n H   -2.088869387618   -0.785799807033    0.872685653169\\n H   -2.745769632423    0.584304626628   -0.003839522994\\n H    2.083505309790    0.782692137537   -0.881042037137\\n H    2.745769132889   -0.584305467493   -0.003716913318\\n H    2.088815912268    0.785728971311    0.872878191372\\n\",\"xyz\");\n\tviewer_16280642809598265.setStyle({\"stick\": {}, \"sphere\": {\"scale\": 0.1}});\n\tviewer_16280642809598265.zoomTo();\nviewer_16280642809598265.render();\n});\n</script>"
     },
     "metadata": {}
    }
   ],
   "metadata": {}
  },
  {
   "cell_type": "markdown",
   "source": [
    "### Relaxed PES scan"
   ],
   "metadata": {}
  },
  {
   "cell_type": "markdown",
   "source": [
    "Now that we had a look at the butane molecule, let's perform the relaxed PES scan. We will fix the dihedral angle at different values and optimize the other degrees of freedom."
   ],
   "metadata": {}
  },
  {
   "cell_type": "code",
   "execution_count": 7,
   "source": [
    "psi4.core.clean_options()\n",
    "psi4.core.clean()\n",
    "psi4.core.clean_variables()"
   ],
   "outputs": [],
   "metadata": {}
  },
  {
   "cell_type": "code",
   "execution_count": 8,
   "source": [
    "#First optimize the butane molecule \n",
    "#from the starting geometry provided\n",
    "#use the blyp method and the 6-31+G* basis set\n",
    "\n"
   ],
   "outputs": [],
   "metadata": {}
  },
  {
   "cell_type": "code",
   "execution_count": 9,
   "source": [
    "dihedrals = np.linspace(180,-175, 72) #We set here the dihedrals that we are going to use for the scan\n",
    "PES = {} #Here we will store the optimized energy for each dihedral\n",
    "geometries = [] #Here we will store the optimized geometries"
   ],
   "outputs": [],
   "metadata": {}
  },
  {
   "cell_type": "code",
   "execution_count": null,
   "source": [
    "for dihedral in dihedrals:\n",
    "    print(dihedral)\n",
    "    psi4.set_options({\n",
    "    \"fixed_dihedral\": \"3 1 2 4 \"+str(dihedral), #This option specifies the dihedral angles between atoms to be fixed\n",
    "    \"geom_maxiter\":500 #This option sets the maximum number of geometry optimization steps\n",
    "     }) \n",
    "    \n",
    "    #Perform the optimization of the butame molecule here\n",
    "    #use the blyp method and the 6-31+G* basis set\n",
    "    E = None\n",
    "    \n",
    "    geometries.append(butane.clone())\n",
    "    PES[dihedral] = E\n"
   ],
   "outputs": [],
   "metadata": {}
  },
  {
   "cell_type": "code",
   "execution_count": 11,
   "source": [
    "#Convert the energy units to kcal/mol\n",
    "#you can use psi4.constants.hartree2kcalmol for the unit conversion \n",
    "energies = None\n",
    "\n",
    "#Rescale the energy scale by setting the minimum value as the zero of the scale\n",
    "#and change everything accordingly\n",
    "energies = None"
   ],
   "outputs": [],
   "metadata": {}
  },
  {
   "cell_type": "markdown",
   "source": [
    "### Visualization of the Results"
   ],
   "metadata": {}
  },
  {
   "cell_type": "markdown",
   "source": [
    "Now, let’s plot the PES at the different dihedral considered. You can use a little helper function which will read in the optimized geometries just calculated and the dihedrals and return the PES and the corresponding geometry at each dihedral value."
   ],
   "metadata": {}
  },
  {
   "cell_type": "code",
   "execution_count": null,
   "source": [
    "traj = [geom.save_string_xyz_file() for geom in geometries]\n",
    "traj_arrays = [geom.to_arrays()[0] for geom in geometries]\n",
    "drawXYZGeomSliderMolecularProperty(traj, dihedrals, energies, 'dihedral')"
   ],
   "outputs": [],
   "metadata": {}
  },
  {
   "cell_type": "markdown",
   "source": [
    "Now, we can monitor different quantities during the rigid PES scan, to understand how the different dihedrals affect the overall geometry. One example is the bond length between C atoms 1 and 2, the central atoms of the dihedral for which we performed the scan. Having a look at the fluctuations of this bond legth during the scan can be easily done using one of the helper functions, which will read the coordinates of the two atoms and calculate their distance."
   ],
   "metadata": {}
  },
  {
   "cell_type": "code",
   "execution_count": 14,
   "source": [
    "bond_length = []\n",
    "\n",
    "for geom in traj_arrays:\n",
    "    bond_length.append(calculate_bond(geom[0], geom[1])) #Here the bond length is calculated and saved"
   ],
   "outputs": [],
   "metadata": {}
  },
  {
   "cell_type": "code",
   "execution_count": null,
   "source": [
    "fig, ax = plt.subplots(1)\n",
    "ax.plot(dihedrals, bond_length)\n",
    "ax.set_xlabel('dihedral')\n",
    "ax.set_ylabel('bond [A]')\n",
    "plt.show()"
   ],
   "outputs": [],
   "metadata": {}
  },
  {
   "cell_type": "markdown",
   "source": [
    "```{admonition} Exercise 1\n",
    ":class: exercise    \n",
    "Plot the fluctuations of the dihedral that you used in the rigid\n",
    "    scan and show this plot in your report.\n",
    "```"
   ],
   "metadata": {}
  },
  {
   "cell_type": "markdown",
   "source": [
    "```{admonition} Exercise 2\n",
    ":class: exercise    \n",
    "Does the bond length of the $H_3CH_2C-CH_2CH_3$ bond fluctuate as\n",
    "    the dihedral is changed? Why (not)?\n",
    "```"
   ],
   "metadata": {}
  },
  {
   "cell_type": "markdown",
   "source": [
    "```{admonition} Exercise 3\n",
    ":class: exercise    \n",
    "Create a potential energy profile along the dihedral by plotting the\n",
    "    energies of the system as a function of the scanned dihedral angle as done above.\n",
    "    Then, to each maximum and minimum, assign the corresponding\n",
    "    conformation from your trajectory. Show these conformations in your\n",
    "    report.\n",
    "    Assign also names to the conformations according to the *Newman\n",
    "    projections* you know from organic chemistry (where possible).\n",
    "\n",
    "```"
   ],
   "metadata": {}
  },
  {
   "cell_type": "markdown",
   "source": [
    ":::{admonition} Exercise 4\n",
    ":class: exercise    \n",
    "The rotational barrier of butane lies between 5 and 6 kcal\n",
    "    mol$^{-1}$ [^Murcko1996]. Compare this value with the one you calculated and explain possible sources of error, leading to higher or lower barriers.\n",
    ":::\n",
    "\n",
    "\n",
    "[^Murcko1996] : Murcko M. A., Castejon H., Wiberg K.B., J. Phys. Chem., 1996, 100, 16162\n"
   ],
   "metadata": {}
  }
 ],
 "metadata": {
  "kernelspec": {
   "display_name": "iesm2",
   "language": "python",
   "name": "iesm2"
  },
  "language_info": {
   "codemirror_mode": {
    "name": "ipython",
    "version": 3
   },
   "file_extension": ".py",
   "mimetype": "text/x-python",
   "name": "python",
   "nbconvert_exporter": "python",
   "pygments_lexer": "ipython3",
   "version": "3.8.11"
  }
 },
 "nbformat": 4,
 "nbformat_minor": 2
}