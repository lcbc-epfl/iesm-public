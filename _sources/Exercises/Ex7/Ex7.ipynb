{
 "cells": [
  {
   "cell_type": "markdown",
   "source": [
    "# Potential Energy Scans and Visualisation of Trajectories\n",
    "\n",
    "\n",
    "The range of problems that can be tackled with Psi4 or other electronic structure packages is not limited\n",
    "to wavefunction or geometry optimisations. We can use python to create complex inputs, adjusting various settings, or making specific modifications of\n",
    "some variables. \n",
    "\n",
    "In this set of exercises, you will instruct Psi4 to\n",
    "selectively scan one degree of freedom of a potential energy surface."
   ],
   "metadata": {}
  },
  {
   "cell_type": "markdown",
   "source": [
    "## Scanning a Potential Energy Surface: Dihedral Scan of Butane\n",
    "\n",
    "\n",
    "Potential energy surfaces (PES) are complex objects which are, in\n",
    "general, 3N-6 dimensional, where N is the number of atoms. Therefore, obtaining the complete topology of\n",
    "a PES is not feasible for most molecules. However, one may limit the\n",
    "sampling of the surface to a few degrees of freedom that are of interest\n",
    "and relevant to the problem under examination (*cf.* figure 1). Scans\n",
    "along limited degrees of freedom may be helpful if one needs information\n",
    "about various possible (local) minima, for example if (or whether) one\n",
    "is trapped in one of them. In practice, the degrees of freedom can be\n",
    "defined by a Z-matrix, such as the one that you have already been using\n",
    "in the previous exercises.\n",
    "\n",
    "\n",
    "\n",
    "```{figure} ../../images/pesslize.jpg\n",
    "---\n",
    "name: PES\n",
    "---\n",
    "Example of a 2D PES (right) and a 1D potential energy profile (left)\n",
    "obtained by considering only one degree of freedom.\n",
    "```\n",
    "\n",
    "\n",
    "\n",
    "In a *relaxed PES scan*, all degrees of freedom that are not under\n",
    "consideration are optimised, and one obtains a minimum energy path along\n",
    "the chosen degree(s) of freedom. This implies that a constrained\n",
    "optimisation is carried out for each desired value of the degree of\n",
    "freedom that is being sampled.\n",
    "Instead, one may freeze the remaining degrees of\n",
    "freedom, keeping them fixed at their initial values, lowering the computational cost. This procedure is\n",
    "referred to as a *rigid PES scan*. For simple scans of bond angles or\n",
    "lengths in a pre-optimised structure, this is often sufficient (and more\n",
    "efficient). \n",
    "\n",
    "In this exercise, you will perform a relaxed potential energy\n",
    "scan of the dihedral in butane in order to determine the possible\n",
    "configurational minima, and the rotational barrier."
   ],
   "metadata": {}
  },
  {
   "cell_type": "code",
   "execution_count": 1,
   "source": [
    "import psi4\n",
    "import py3Dmol\n",
    "import numpy as np\n",
    "import matplotlib.pyplot as plt"
   ],
   "outputs": [],
   "metadata": {}
  },
  {
   "cell_type": "code",
   "execution_count": 2,
   "source": [
    "psi4.set_num_threads(2)\n",
    "psi4.set_memory('2 GB')"
   ],
   "outputs": [
    {
     "output_type": "execute_result",
     "data": {
      "text/plain": [
       "2000000000"
      ]
     },
     "metadata": {},
     "execution_count": 2
    },
    {
     "output_type": "stream",
     "name": "stdout",
     "text": [
      "  Threads set to 2 by Python driver.\n",
      "\n",
      "  Memory set to   1.863 GiB by Python driver.\n"
     ]
    }
   ],
   "metadata": {}
  },
  {
   "cell_type": "code",
   "execution_count": 3,
   "source": [
    "import sys\n",
    "sys.path.append(\"..\")\n",
    "from helpers import *"
   ],
   "outputs": [],
   "metadata": {}
  },
  {
   "cell_type": "markdown",
   "source": [
    "### Starting geometry"
   ],
   "metadata": {}
  },
  {
   "cell_type": "code",
   "execution_count": 4,
   "source": [
    "butane = psi4.geometry(\"\"\"\n",
    "C       \n",
    "C    1    1.450000\n",
    "C    1    1.450000      2  109.471000\n",
    "H    1 1.089         2 109.471000         3 120\n",
    "H    1 1.089        2 109.471000          3 -120\n",
    "C    2 1.45         1 109.471000         3 180\n",
    "H    2 1.089        1 109.471000        6 120\n",
    "H    2 1.089         1 109.471000          6 240\n",
    "H    3 1.089         1 109.471000          2 180\n",
    "H    3 1.089        1 109.471000         9 120\n",
    "H    3 1.089        1 109.471000         9 240\n",
    "H    6 1.089        2 109.471000         1 180\n",
    "H    6 1.089       2 109.471000        12 120\n",
    "H    6 1.089        2 109.471000        12 240\n",
    "\"\"\")\n"
   ],
   "outputs": [],
   "metadata": {}
  },
  {
   "cell_type": "code",
   "execution_count": 5,
   "source": [
    "drawXYZ_labeled(butane)"
   ],
   "outputs": [
    {
     "output_type": "display_data",
     "data": {
      "text/html": [
       "<div id=\"3dmolviewer_16312694809216015\"  style=\"position: relative; width: 400px; height: 400px\">\n",
       "        <p id=\"3dmolwarning_16312694809216015\" style=\"background-color:#ffcccc;color:black\">You appear to be running in JupyterLab (or JavaScript failed to load for some other reason).  You need to install the 3dmol extension: <br>\n",
       "        <tt>jupyter labextension install jupyterlab_3dmol</tt></p>\n",
       "        </div>\n",
       "<script>\n",
       "\n",
       "var loadScriptAsync = function(uri){\n",
       "  return new Promise((resolve, reject) => {\n",
       "    var tag = document.createElement('script');\n",
       "    tag.src = uri;\n",
       "    tag.async = true;\n",
       "    tag.onload = () => {\n",
       "      resolve();\n",
       "    };\n",
       "  var firstScriptTag = document.getElementsByTagName('script')[0];\n",
       "  firstScriptTag.parentNode.insertBefore(tag, firstScriptTag);\n",
       "});\n",
       "};\n",
       "\n",
       "if(typeof $3Dmolpromise === 'undefined') {\n",
       "$3Dmolpromise = null;\n",
       "  $3Dmolpromise = loadScriptAsync('https://3dmol.org/build/3Dmol.js');\n",
       "}\n",
       "\n",
       "var viewer_16312694809216015 = null;\n",
       "var warn = document.getElementById(\"3dmolwarning_16312694809216015\");\n",
       "if(warn) {\n",
       "    warn.parentNode.removeChild(warn);\n",
       "}\n",
       "$3Dmolpromise.then(function() {\n",
       "viewer_16312694809216015 = $3Dmol.createViewer($(\"#3dmolviewer_16312694809216015\"),{backgroundColor:\"white\"});\n",
       "viewer_16312694809216015.zoomTo();\n",
       "\tviewer_16312694809216015.addModel(\"14\\n\\n C    0.000000000000    0.725000000000    0.000000000000\\n C    0.000000000000   -0.725000000000    0.000000000000\\n C   -1.367074971503    1.208328069007    0.000000000000\\n H    0.513360222058    1.087996046309    0.889165987188\\n H    0.513360222058    1.087996046309   -0.889165987188\\n C    1.367074971503   -1.208328069007    0.000000000000\\n H   -0.513360222058   -1.087996046309    0.889165987188\\n H   -0.513360222058   -1.087996046309   -0.889165987188\\n H   -1.367074971503    2.297328069007    0.000000000000\\n H   -1.880429602190    0.845324115338   -0.889165987188\\n H   -1.880429602190    0.845324115338    0.889165987188\\n H    1.367074971503   -2.297328069007    0.000000000000\\n H    1.880429602190   -0.845324115338   -0.889165987188\\n H    1.880429602190   -0.845324115338    0.889165987188\\n\",\"xyz\");\n",
       "\tviewer_16312694809216015.addLabel(\"0\",{\"position\": {\"x\": 0.0, \"y\": 0.7250000000016578, \"z\": 0.0}, \"inFront\": true});\n",
       "\tviewer_16312694809216015.addLabel(\"1\",{\"position\": {\"x\": 0.0, \"y\": -0.7250000000016578, \"z\": 0.0}, \"inFront\": true});\n",
       "\tviewer_16312694809216015.addLabel(\"2\",{\"position\": {\"x\": -1.367074971506163, \"y\": 1.2083280690096956, \"z\": 0.0}, \"inFront\": true});\n",
       "\tviewer_16312694809216015.addLabel(\"3\",{\"position\": {\"x\": 0.5133602220586935, \"y\": 1.087996046311832, \"z\": 0.8891659871904984}, \"inFront\": true});\n",
       "\tviewer_16312694809216015.addLabel(\"4\",{\"position\": {\"x\": 0.5133602220586935, \"y\": 1.087996046311832, \"z\": -0.8891659871904984}, \"inFront\": true});\n",
       "\tviewer_16312694809216015.addLabel(\"5\",{\"position\": {\"x\": 1.367074971506163, \"y\": -1.2083280690096956, \"z\": 0.0}, \"inFront\": true});\n",
       "\tviewer_16312694809216015.addLabel(\"6\",{\"position\": {\"x\": -0.5133602220586935, \"y\": -1.087996046311832, \"z\": 0.8891659871904984}, \"inFront\": true});\n",
       "\tviewer_16312694809216015.addLabel(\"7\",{\"position\": {\"x\": -0.5133602220586935, \"y\": -1.087996046311832, \"z\": -0.8891659871904984}, \"inFront\": true});\n",
       "\tviewer_16312694809216015.addLabel(\"8\",{\"position\": {\"x\": -1.367074971506163, \"y\": 2.297328069012185, \"z\": 0.0}, \"inFront\": true});\n",
       "\tviewer_16312694809216015.addLabel(\"9\",{\"position\": {\"x\": -1.8804296021942979, \"y\": 0.845324115339741, \"z\": -0.8891659871904983}, \"inFront\": true});\n",
       "\tviewer_16312694809216015.addLabel(\"10\",{\"position\": {\"x\": -1.8804296021942979, \"y\": 0.845324115339741, \"z\": 0.8891659871904984}, \"inFront\": true});\n",
       "\tviewer_16312694809216015.addLabel(\"11\",{\"position\": {\"x\": 1.367074971506163, \"y\": -2.297328069012185, \"z\": 0.0}, \"inFront\": true});\n",
       "\tviewer_16312694809216015.addLabel(\"12\",{\"position\": {\"x\": 1.8804296021942979, \"y\": -0.845324115339741, \"z\": -0.8891659871904984}, \"inFront\": true});\n",
       "\tviewer_16312694809216015.addLabel(\"13\",{\"position\": {\"x\": 1.880429602194298, \"y\": -0.845324115339741, \"z\": 0.8891659871904983}, \"inFront\": true});\n",
       "\tviewer_16312694809216015.setStyle({\"stick\": {}, \"sphere\": {\"scale\": 0.1}});\n",
       "\tviewer_16312694809216015.setStyle({\"model\": 0},{\"stick\": {\"colorscheme\": \"yellowCarbon\"}, \"sphere\": {\"scale\": 0.1}});\n",
       "\tviewer_16312694809216015.zoomTo();\n",
       "viewer_16312694809216015.render();\n",
       "});\n",
       "</script>"
      ],
      "application/3dmoljs_load.v0": "<div id=\"3dmolviewer_16312694809216015\"  style=\"position: relative; width: 400px; height: 400px\">\n        <p id=\"3dmolwarning_16312694809216015\" style=\"background-color:#ffcccc;color:black\">You appear to be running in JupyterLab (or JavaScript failed to load for some other reason).  You need to install the 3dmol extension: <br>\n        <tt>jupyter labextension install jupyterlab_3dmol</tt></p>\n        </div>\n<script>\n\nvar loadScriptAsync = function(uri){\n  return new Promise((resolve, reject) => {\n    var tag = document.createElement('script');\n    tag.src = uri;\n    tag.async = true;\n    tag.onload = () => {\n      resolve();\n    };\n  var firstScriptTag = document.getElementsByTagName('script')[0];\n  firstScriptTag.parentNode.insertBefore(tag, firstScriptTag);\n});\n};\n\nif(typeof $3Dmolpromise === 'undefined') {\n$3Dmolpromise = null;\n  $3Dmolpromise = loadScriptAsync('https://3dmol.org/build/3Dmol.js');\n}\n\nvar viewer_16312694809216015 = null;\nvar warn = document.getElementById(\"3dmolwarning_16312694809216015\");\nif(warn) {\n    warn.parentNode.removeChild(warn);\n}\n$3Dmolpromise.then(function() {\nviewer_16312694809216015 = $3Dmol.createViewer($(\"#3dmolviewer_16312694809216015\"),{backgroundColor:\"white\"});\nviewer_16312694809216015.zoomTo();\n\tviewer_16312694809216015.addModel(\"14\\n\\n C    0.000000000000    0.725000000000    0.000000000000\\n C    0.000000000000   -0.725000000000    0.000000000000\\n C   -1.367074971503    1.208328069007    0.000000000000\\n H    0.513360222058    1.087996046309    0.889165987188\\n H    0.513360222058    1.087996046309   -0.889165987188\\n C    1.367074971503   -1.208328069007    0.000000000000\\n H   -0.513360222058   -1.087996046309    0.889165987188\\n H   -0.513360222058   -1.087996046309   -0.889165987188\\n H   -1.367074971503    2.297328069007    0.000000000000\\n H   -1.880429602190    0.845324115338   -0.889165987188\\n H   -1.880429602190    0.845324115338    0.889165987188\\n H    1.367074971503   -2.297328069007    0.000000000000\\n H    1.880429602190   -0.845324115338   -0.889165987188\\n H    1.880429602190   -0.845324115338    0.889165987188\\n\",\"xyz\");\n\tviewer_16312694809216015.addLabel(\"0\",{\"position\": {\"x\": 0.0, \"y\": 0.7250000000016578, \"z\": 0.0}, \"inFront\": true});\n\tviewer_16312694809216015.addLabel(\"1\",{\"position\": {\"x\": 0.0, \"y\": -0.7250000000016578, \"z\": 0.0}, \"inFront\": true});\n\tviewer_16312694809216015.addLabel(\"2\",{\"position\": {\"x\": -1.367074971506163, \"y\": 1.2083280690096956, \"z\": 0.0}, \"inFront\": true});\n\tviewer_16312694809216015.addLabel(\"3\",{\"position\": {\"x\": 0.5133602220586935, \"y\": 1.087996046311832, \"z\": 0.8891659871904984}, \"inFront\": true});\n\tviewer_16312694809216015.addLabel(\"4\",{\"position\": {\"x\": 0.5133602220586935, \"y\": 1.087996046311832, \"z\": -0.8891659871904984}, \"inFront\": true});\n\tviewer_16312694809216015.addLabel(\"5\",{\"position\": {\"x\": 1.367074971506163, \"y\": -1.2083280690096956, \"z\": 0.0}, \"inFront\": true});\n\tviewer_16312694809216015.addLabel(\"6\",{\"position\": {\"x\": -0.5133602220586935, \"y\": -1.087996046311832, \"z\": 0.8891659871904984}, \"inFront\": true});\n\tviewer_16312694809216015.addLabel(\"7\",{\"position\": {\"x\": -0.5133602220586935, \"y\": -1.087996046311832, \"z\": -0.8891659871904984}, \"inFront\": true});\n\tviewer_16312694809216015.addLabel(\"8\",{\"position\": {\"x\": -1.367074971506163, \"y\": 2.297328069012185, \"z\": 0.0}, \"inFront\": true});\n\tviewer_16312694809216015.addLabel(\"9\",{\"position\": {\"x\": -1.8804296021942979, \"y\": 0.845324115339741, \"z\": -0.8891659871904983}, \"inFront\": true});\n\tviewer_16312694809216015.addLabel(\"10\",{\"position\": {\"x\": -1.8804296021942979, \"y\": 0.845324115339741, \"z\": 0.8891659871904984}, \"inFront\": true});\n\tviewer_16312694809216015.addLabel(\"11\",{\"position\": {\"x\": 1.367074971506163, \"y\": -2.297328069012185, \"z\": 0.0}, \"inFront\": true});\n\tviewer_16312694809216015.addLabel(\"12\",{\"position\": {\"x\": 1.8804296021942979, \"y\": -0.845324115339741, \"z\": -0.8891659871904984}, \"inFront\": true});\n\tviewer_16312694809216015.addLabel(\"13\",{\"position\": {\"x\": 1.880429602194298, \"y\": -0.845324115339741, \"z\": 0.8891659871904983}, \"inFront\": true});\n\tviewer_16312694809216015.setStyle({\"stick\": {}, \"sphere\": {\"scale\": 0.1}});\n\tviewer_16312694809216015.setStyle({\"model\": 0},{\"stick\": {\"colorscheme\": \"yellowCarbon\"}, \"sphere\": {\"scale\": 0.1}});\n\tviewer_16312694809216015.zoomTo();\nviewer_16312694809216015.render();\n});\n</script>"
     },
     "metadata": {}
    }
   ],
   "metadata": {}
  },
  {
   "cell_type": "code",
   "execution_count": 6,
   "source": [
    "drawXYZ(butane)"
   ],
   "outputs": [
    {
     "output_type": "display_data",
     "data": {
      "text/html": [
       "<div id=\"3dmolviewer_16312694819803686\"  style=\"position: relative; width: 400px; height: 400px\">\n",
       "        <p id=\"3dmolwarning_16312694819803686\" style=\"background-color:#ffcccc;color:black\">You appear to be running in JupyterLab (or JavaScript failed to load for some other reason).  You need to install the 3dmol extension: <br>\n",
       "        <tt>jupyter labextension install jupyterlab_3dmol</tt></p>\n",
       "        </div>\n",
       "<script>\n",
       "\n",
       "var loadScriptAsync = function(uri){\n",
       "  return new Promise((resolve, reject) => {\n",
       "    var tag = document.createElement('script');\n",
       "    tag.src = uri;\n",
       "    tag.async = true;\n",
       "    tag.onload = () => {\n",
       "      resolve();\n",
       "    };\n",
       "  var firstScriptTag = document.getElementsByTagName('script')[0];\n",
       "  firstScriptTag.parentNode.insertBefore(tag, firstScriptTag);\n",
       "});\n",
       "};\n",
       "\n",
       "if(typeof $3Dmolpromise === 'undefined') {\n",
       "$3Dmolpromise = null;\n",
       "  $3Dmolpromise = loadScriptAsync('https://3dmol.org/build/3Dmol.js');\n",
       "}\n",
       "\n",
       "var viewer_16312694819803686 = null;\n",
       "var warn = document.getElementById(\"3dmolwarning_16312694819803686\");\n",
       "if(warn) {\n",
       "    warn.parentNode.removeChild(warn);\n",
       "}\n",
       "$3Dmolpromise.then(function() {\n",
       "viewer_16312694819803686 = $3Dmol.createViewer($(\"#3dmolviewer_16312694819803686\"),{backgroundColor:\"white\"});\n",
       "viewer_16312694819803686.zoomTo();\n",
       "\tviewer_16312694819803686.addModel(\"14\\n\\n C    0.000000000000    0.725000000000    0.000000000000\\n C    0.000000000000   -0.725000000000    0.000000000000\\n C   -1.367074971503    1.208328069007    0.000000000000\\n H    0.513360222058    1.087996046309    0.889165987188\\n H    0.513360222058    1.087996046309   -0.889165987188\\n C    1.367074971503   -1.208328069007    0.000000000000\\n H   -0.513360222058   -1.087996046309    0.889165987188\\n H   -0.513360222058   -1.087996046309   -0.889165987188\\n H   -1.367074971503    2.297328069007    0.000000000000\\n H   -1.880429602190    0.845324115338   -0.889165987188\\n H   -1.880429602190    0.845324115338    0.889165987188\\n H    1.367074971503   -2.297328069007    0.000000000000\\n H    1.880429602190   -0.845324115338   -0.889165987188\\n H    1.880429602190   -0.845324115338    0.889165987188\\n\",\"xyz\");\n",
       "\tviewer_16312694819803686.setStyle({\"stick\": {}, \"sphere\": {\"scale\": 0.1}});\n",
       "\tviewer_16312694819803686.zoomTo();\n",
       "viewer_16312694819803686.render();\n",
       "});\n",
       "</script>"
      ],
      "application/3dmoljs_load.v0": "<div id=\"3dmolviewer_16312694819803686\"  style=\"position: relative; width: 400px; height: 400px\">\n        <p id=\"3dmolwarning_16312694819803686\" style=\"background-color:#ffcccc;color:black\">You appear to be running in JupyterLab (or JavaScript failed to load for some other reason).  You need to install the 3dmol extension: <br>\n        <tt>jupyter labextension install jupyterlab_3dmol</tt></p>\n        </div>\n<script>\n\nvar loadScriptAsync = function(uri){\n  return new Promise((resolve, reject) => {\n    var tag = document.createElement('script');\n    tag.src = uri;\n    tag.async = true;\n    tag.onload = () => {\n      resolve();\n    };\n  var firstScriptTag = document.getElementsByTagName('script')[0];\n  firstScriptTag.parentNode.insertBefore(tag, firstScriptTag);\n});\n};\n\nif(typeof $3Dmolpromise === 'undefined') {\n$3Dmolpromise = null;\n  $3Dmolpromise = loadScriptAsync('https://3dmol.org/build/3Dmol.js');\n}\n\nvar viewer_16312694819803686 = null;\nvar warn = document.getElementById(\"3dmolwarning_16312694819803686\");\nif(warn) {\n    warn.parentNode.removeChild(warn);\n}\n$3Dmolpromise.then(function() {\nviewer_16312694819803686 = $3Dmol.createViewer($(\"#3dmolviewer_16312694819803686\"),{backgroundColor:\"white\"});\nviewer_16312694819803686.zoomTo();\n\tviewer_16312694819803686.addModel(\"14\\n\\n C    0.000000000000    0.725000000000    0.000000000000\\n C    0.000000000000   -0.725000000000    0.000000000000\\n C   -1.367074971503    1.208328069007    0.000000000000\\n H    0.513360222058    1.087996046309    0.889165987188\\n H    0.513360222058    1.087996046309   -0.889165987188\\n C    1.367074971503   -1.208328069007    0.000000000000\\n H   -0.513360222058   -1.087996046309    0.889165987188\\n H   -0.513360222058   -1.087996046309   -0.889165987188\\n H   -1.367074971503    2.297328069007    0.000000000000\\n H   -1.880429602190    0.845324115338   -0.889165987188\\n H   -1.880429602190    0.845324115338    0.889165987188\\n H    1.367074971503   -2.297328069007    0.000000000000\\n H    1.880429602190   -0.845324115338   -0.889165987188\\n H    1.880429602190   -0.845324115338    0.889165987188\\n\",\"xyz\");\n\tviewer_16312694819803686.setStyle({\"stick\": {}, \"sphere\": {\"scale\": 0.1}});\n\tviewer_16312694819803686.zoomTo();\nviewer_16312694819803686.render();\n});\n</script>"
     },
     "metadata": {}
    }
   ],
   "metadata": {}
  },
  {
   "cell_type": "markdown",
   "source": [
    "### Rigid PES scan"
   ],
   "metadata": {}
  },
  {
   "cell_type": "markdown",
   "source": [
    "Now that we had a look at the butane molecule, let's perform the rigid PES scan. We will fix the dihedral angle at different values and do single point calculations. \n",
    "First, we need to optimize the the geometry provided above. "
   ],
   "metadata": {}
  },
  {
   "cell_type": "code",
   "execution_count": 7,
   "source": [
    "psi4.core.clean_options()\n",
    "psi4.core.clean()\n",
    "psi4.core.clean_variables()"
   ],
   "outputs": [],
   "metadata": {}
  },
  {
   "cell_type": "code",
   "execution_count": 8,
   "source": [
    "#First optimize the butane molecule \n",
    "#from the starting geometry provided\n",
    "#use the bylp method and the 6-31+G* basis set\n",
    "\n"
   ],
   "outputs": [],
   "metadata": {}
  },
  {
   "cell_type": "code",
   "execution_count": 5,
   "source": [
    "dihedrals = np.linspace(180,-180, 37) #We set here the dihedrals that we are going to use for the scan\n",
    "PES = {} #Here we will store the optimized energy for each dihedral. This is a dictionary\n",
    "geometries = [] #Here we will store the optimized geometries. This is a list"
   ],
   "outputs": [],
   "metadata": {}
  },
  {
   "cell_type": "code",
   "execution_count": null,
   "source": [
    "butane.print_in_input_format()"
   ],
   "outputs": [],
   "metadata": {}
  },
  {
   "cell_type": "markdown",
   "source": [
    "The geometry optimization will print you the optimized coordinates in the format you provided them at the end if you call `butane.print_in_input_format()`. Here, this is the z-matrix format. Use these coordinates below and create a python f-string where you replace the dihedral that we want to scan with a variable. \n",
    "\n",
    "```python\n",
    "for dihedral in dihedrals:\n",
    "    psi4.geometry(f\"\"\"\n",
    "    x i bond k angle j {dihedral} #this is the dihedral we want to optimize\n",
    "    x i bond k angle j dihedral\n",
    "    \"\"\")\n",
    "    [....]\n",
    "```\n",
    "\n",
    "Save the molecules in the `geometries` list (use `butane.clone()`) and save the calculated energies in the `PES` dictionary."
   ],
   "metadata": {}
  },
  {
   "cell_type": "code",
   "execution_count": null,
   "source": [
    "\n"
   ],
   "outputs": [],
   "metadata": {}
  },
  {
   "cell_type": "code",
   "execution_count": 7,
   "source": [
    "# Convert the energy units to kcal/mol\n",
    "# you can use psi4.constants.hartree2kcalmol for the unit conversion \n",
    "# in python you can use list comprehensions e.g [x+1 for x in lst] will increase every value in lst by 1.\n",
    "# to access the values in the dictionary PES you can use PES.values() which return a list.\n",
    "# to construct the list comprehensions set energies equal to... .\n",
    "# [e*conversionfactor for e in list(insert the call to the list of PES values here)].\n",
    "energies = None\n",
    "\n",
    "#Rescale the energy scale by setting the minimum value as the zero of the scale\n",
    "#and change everything accordingly\n",
    "# the function np.min(lst) returns the lowest value of a list. \n",
    "# to use broadcasting you need to convert the list into a np.array by calling np.array(energies)\n",
    "energies = None"
   ],
   "outputs": [],
   "metadata": {}
  },
  {
   "cell_type": "markdown",
   "source": [
    "### Visualization of the Results"
   ],
   "metadata": {}
  },
  {
   "cell_type": "markdown",
   "source": [
    "Now, let’s plot the PES at the different dihedral considered. You can use a little helper function which will read in the optimized geometries just calculated and the dihedrals and return the PES and the corresponding geometry at each dihedral value."
   ],
   "metadata": {}
  },
  {
   "cell_type": "code",
   "execution_count": null,
   "source": [
    "traj = [geom.save_string_xyz_file() for geom in geometries]\n",
    "traj_arrays = [geom.to_arrays()[0] for geom in geometries]\n",
    "\n",
    "drawXYZGeomSliderMolecularProperty(traj, dihedrals, energies, 'dihedral')"
   ],
   "outputs": [],
   "metadata": {}
  },
  {
   "cell_type": "markdown",
   "source": [
    "Now, we can monitor different quantities during the rigid PES scan, to understand how the different dihedrals affect the overall geometry. One example is the bond length between C atoms 1 and 2, the central atoms of the dihedral for which we performed the scan. Having a look at the fluctuations of this bond legth during the scan can be easily done using one of the helper functions, which will read the coordinates of the two atoms and calculate their distance."
   ],
   "metadata": {}
  },
  {
   "cell_type": "code",
   "execution_count": 14,
   "source": [
    "bond_length = []\n",
    "\n",
    "for geom in traj_arrays:\n",
    "    bond_length.append(calculate_bond(geom[0], geom[1])) #Here the bond length is calculated and saved"
   ],
   "outputs": [],
   "metadata": {}
  },
  {
   "cell_type": "code",
   "execution_count": null,
   "source": [
    "fig, ax = plt.subplots(1)\n",
    "ax.plot(dihedrals, bond_length)\n",
    "ax.set_xlabel('dihedral')\n",
    "ax.set_ylabel('bond [A]')\n",
    "plt.show()"
   ],
   "outputs": [],
   "metadata": {}
  },
  {
   "cell_type": "markdown",
   "source": [
    "```{admonition} Exercise 1\n",
    ":class: exercise    \n",
    "Does the bond length of the $H_3CH_2C-CH_2CH_3$ bond fluctuate as\n",
    "    the dihedral is changed? Why (not)?\n",
    "```"
   ],
   "metadata": {}
  },
  {
   "cell_type": "markdown",
   "source": [
    "```{admonition} Exercise 2\n",
    ":class: exercise    \n",
    "Create a potential energy profile along the dihedral by plotting the\n",
    "    energies of the system as a function of the scanned dihedral angle as done above.\n",
    "    Then, to each maximum and minimum, assign the corresponding\n",
    "    conformation from your trajectory. Show these conformations in your\n",
    "    report.\n",
    "    Assign also names to the conformations according to the *Newman\n",
    "    projections* you know from organic chemistry (where possible).\n",
    "\n",
    "```"
   ],
   "metadata": {}
  },
  {
   "cell_type": "markdown",
   "source": [
    "```{admonition} Exercise 3\n",
    ":class: exercise    \n",
    "The rotational barrier of butane lies between 5 and 6 kcal  mol$^{-1}$ {cite}`murcko_carboncarbon_1996`. Compare this value with the one you calculated and explain possible sources of error, leading to higher or lower barriers.\n",
    "```"
   ],
   "metadata": {}
  },
  {
   "cell_type": "markdown",
   "source": [],
   "metadata": {}
  }
 ],
 "metadata": {
  "kernelspec": {
   "display_name": "Quantum Chemistry",
   "language": "python",
   "name": "psi4"
  },
  "language_info": {
   "codemirror_mode": {
    "name": "ipython",
    "version": 3
   },
   "file_extension": ".py",
   "mimetype": "text/x-python",
   "name": "python",
   "nbconvert_exporter": "python",
   "pygments_lexer": "ipython3",
   "version": "3.8.10"
  }
 },
 "nbformat": 4,
 "nbformat_minor": 4
}
