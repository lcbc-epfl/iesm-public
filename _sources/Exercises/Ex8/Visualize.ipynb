{
 "cells": [
  {
   "cell_type": "markdown",
   "source": [
    "# IRC analysis\n",
    "\n",
    "In this notebook, we combine the both the forward and backward irc search into one trajectory and one list of energy values so that we can plot/analyze the minimum free energy path for converting the chloro-alcohol into the epoxide. "
   ],
   "metadata": {}
  },
  {
   "cell_type": "code",
   "execution_count": 89,
   "source": [
    "import pickle\n",
    "import sys\n",
    "sys.path.append(\"..\")\n",
    "from helpers import *\n",
    "\n",
    "import psi4\n",
    "\n",
    "import matplotlib.pyplot as plt "
   ],
   "outputs": [],
   "metadata": {}
  },
  {
   "cell_type": "markdown",
   "source": [
    "## Download the other part of the trajectory from your colleague"
   ],
   "metadata": {}
  },
  {
   "cell_type": "code",
   "execution_count": null,
   "source": [
    "# Copy the code that you got from your colleague\n",
    "key =  'adz9IoTVAFHh'\n",
    "\n",
    "name = 'forward' #backward\n",
    "\n",
    "!curl https://file.io/$key --output $name.p"
   ],
   "outputs": [],
   "metadata": {}
  },
  {
   "cell_type": "markdown",
   "source": [
    "This load the pickled objects from disk, deserializes them and you get back the original variables. \n",
    "\n",
    "Note, that psi4.molecules cannot directly be pickled but numpy arrays and python lists, strings, integers etc. can be pickled. "
   ],
   "metadata": {}
  },
  {
   "cell_type": "code",
   "execution_count": 63,
   "source": [
    "# pickle load returns a tuple of three lists (list1, list2, list3)\n",
    "# We can directly unpack this tuple into different variables using l1, l2, l3 = (list1, list2, list3) \n",
    "\n",
    "backward_e, traj_backward, traj_backward_np = pickle.load( open( \"backward.p\", \"rb\" ) )\n",
    "forward_e, traj_forward, traj_forward_np= pickle.load( open( \"forward.p\", \"rb\" ) )"
   ],
   "outputs": [],
   "metadata": {}
  },
  {
   "cell_type": "markdown",
   "source": [
    "Look at the energy list and find out which you need to reverse. \n",
    "\n",
    "Remember that we substracted the highest energy from all the values. Think about which point is the highest energy point on the minimum energy path connecting reactant and products. \n",
    "\n",
    "You can use `variablename.reverse()` to reverse the list. "
   ],
   "metadata": {}
  },
  {
   "cell_type": "code",
   "execution_count": null,
   "source": [
    "# look at backward_e\n",
    "backward_e"
   ],
   "outputs": [],
   "metadata": {}
  },
  {
   "cell_type": "code",
   "execution_count": 64,
   "source": [
    "backward_e = list(backward_e)\n",
    "forward_e = list(forward_e)"
   ],
   "outputs": [],
   "metadata": {}
  },
  {
   "cell_type": "code",
   "execution_count": 65,
   "source": [
    "#list.reverse() #this is an inplace operation\n",
    "\n",
    "# combine the energies \n",
    "# Note that we need exclude the ts point from one of the trajectories\n",
    "# You can remove one index from the lists using list1[:-1] \n",
    "# Lists can be combined using lists = l1 + l2\n",
    "energies = None "
   ],
   "outputs": [],
   "metadata": {}
  },
  {
   "cell_type": "code",
   "execution_count": null,
   "source": [],
   "outputs": [],
   "metadata": {}
  },
  {
   "cell_type": "code",
   "execution_count": 66,
   "source": [
    "# combine the trajectories which are lists\n",
    "traj = None"
   ],
   "outputs": [],
   "metadata": {}
  },
  {
   "cell_type": "markdown",
   "source": [],
   "metadata": {}
  },
  {
   "cell_type": "markdown",
   "source": [
    "## Visualize the trajectory"
   ],
   "metadata": {}
  },
  {
   "cell_type": "code",
   "execution_count": 67,
   "source": [
    "drawXYZGeomSlider(traj)"
   ],
   "outputs": [
    {
     "output_type": "display_data",
     "data": {
      "application/vnd.jupyter.widget-view+json": {
       "model_id": "ed6f4bfd18ca48298cc52ee5d3f324a0",
       "version_major": 2,
       "version_minor": 0
      },
      "text/plain": [
       "interactive(children=(IntSlider(value=0, description='conf', max=151), Output()), _dom_classes=('widget-intera…"
      ]
     },
     "metadata": {}
    }
   ],
   "metadata": {}
  },
  {
   "cell_type": "markdown",
   "source": [
    "```{admonition} Exercise 12\n",
    ":class: exercise\n",
    "Is the stereochemistry at the carbon at which the reaction takes  place retained?\n",
    "```"
   ],
   "metadata": {}
  },
  {
   "cell_type": "markdown",
   "source": [
    "## Plot the minium energy path"
   ],
   "metadata": {}
  },
  {
   "cell_type": "code",
   "execution_count": null,
   "source": [
    "fig, ax =  plt.subplots(1)\n",
    "\n",
    "ax.plot(energies)\n",
    "ax.set_xlabel('IRC step')\n",
    "ax.set_ylabel('Pot Energy (kcal mol$^{-1}$)')\n",
    "\n",
    "plt.show()"
   ],
   "outputs": [],
   "metadata": {}
  },
  {
   "cell_type": "markdown",
   "source": [
    "```{admonition} Exercise 13\n",
    ":class: exercise\n",
    "Take a screenshot of the graph of the potential energy profile you recorded. \n",
    "Why is the barrier for the epoxide formation so low? Will this be the overall barrier for the reaction as depicted in the previous section?\n",
    "```"
   ],
   "metadata": {}
  },
  {
   "cell_type": "markdown",
   "source": [
    "## Analyse Bonds\n",
    "\n",
    "For the visualization we used a list of xyz file formated strings. \n",
    "For the analysis it is more convenient to work with a list of numpy arrays of xyz coordinates. \n",
    "\n",
    "We can then use standard python tools to calculate distances, angles or dihedrals.\n",
    "\n",
    "Let's have a look at different bond distances involving different atoms in the molecule.\n",
    "\n",
    "We can fist have a look at the first and last conformations, which correspond to the starting and ending point of the IRC that we performed."
   ],
   "metadata": {}
  },
  {
   "cell_type": "code",
   "execution_count": 92,
   "source": [
    "drawXYZSideBySide_labeled(traj[0], traj[-1])"
   ],
   "outputs": [
    {
     "output_type": "display_data",
     "data": {
      "text/html": [
       "<div id=\"3dmolviewer_16311988370924737\"  style=\"position: relative; width: 640px; height: 480px\">\n",
       "        <p id=\"3dmolwarning_16311988370924737\" style=\"background-color:#ffcccc;color:black\">You appear to be running in JupyterLab (or JavaScript failed to load for some other reason).  You need to install the 3dmol extension: <br>\n",
       "        <tt>jupyter labextension install jupyterlab_3dmol</tt></p>\n",
       "        </div>\n",
       "<script>\n",
       "\n",
       "var loadScriptAsync = function(uri){\n",
       "  return new Promise((resolve, reject) => {\n",
       "    var tag = document.createElement('script');\n",
       "    tag.src = uri;\n",
       "    tag.async = true;\n",
       "    tag.onload = () => {\n",
       "      resolve();\n",
       "    };\n",
       "  var firstScriptTag = document.getElementsByTagName('script')[0];\n",
       "  firstScriptTag.parentNode.insertBefore(tag, firstScriptTag);\n",
       "});\n",
       "};\n",
       "\n",
       "if(typeof $3Dmolpromise === 'undefined') {\n",
       "$3Dmolpromise = null;\n",
       "  $3Dmolpromise = loadScriptAsync('https://3dmol.org/build/3Dmol.js');\n",
       "}\n",
       "\n",
       "var viewer_16311988370924737 = null;\n",
       "var warn = document.getElementById(\"3dmolwarning_16311988370924737\");\n",
       "if(warn) {\n",
       "    warn.parentNode.removeChild(warn);\n",
       "}\n",
       "$3Dmolpromise.then(function() {\n",
       "var viewergrid_16311988370924737 = null;\n",
       "viewergrid_16311988370924737 = $3Dmol.createViewerGrid($(\"#3dmolviewer_16311988370924737\"),{rows: 1, cols: 2, control_all: true},{backgroundColor:\"white\"});\n",
       "viewer_16311988370924737 = viewergrid_16311988370924737[0][0];\n",
       "viewergrid_16311988370924737[0][0].zoomTo();viewergrid_16311988370924737[0][1].zoomTo();\tviewergrid_16311988370924737[0][0].addModel(\"11\\n\\n C    0.160379936003   -0.274358535619   -0.250687562184\\n C    0.187692358787   -0.541536736739    1.273326656579\\nCL    0.153954542336    1.560737510258   -0.688287906602\\n H    1.107234333761   -0.636654700770   -0.677811612663\\n C   -1.018381296258   -0.931935892905   -0.942065298938\\n O    0.326841374089   -1.855280552220    1.482184191070\\n H    1.017792912030    0.123742081357    1.684035357712\\n H   -0.751165411261   -0.086175192740    1.678237748462\\n H   -0.957952836897   -0.850302253443   -2.035817924249\\n H   -1.005614164670   -1.977650171615   -0.640290963117\\n H   -1.958064022685   -0.470632408942   -0.609306843219\\n\",\"xyz\");\n",
       "\tviewergrid_16311988370924737[0][0].addLabel(\"0\",{\"position\": {\"x\": 0.16037993600325903, \"y\": -0.2743585356191373, \"z\": -0.25068756218479704}, \"inFront\": true});\n",
       "\tviewergrid_16311988370924737[0][0].addLabel(\"1\",{\"position\": {\"x\": 0.18769235878758664, \"y\": -0.5415367367397628, \"z\": 1.2733266565821912}, \"inFront\": true});\n",
       "\tviewergrid_16311988370924737[0][0].addLabel(\"2\",{\"position\": {\"x\": 0.15395454233593794, \"y\": 1.5607375102612366, \"z\": -0.6882879066038118}, \"inFront\": true});\n",
       "\tviewergrid_16311988370924737[0][0].addLabel(\"3\",{\"position\": {\"x\": 1.1072343337638237, \"y\": -0.6366547007717812, \"z\": -0.6778116126643904}, \"inFront\": true});\n",
       "\tviewergrid_16311988370924737[0][0].addLabel(\"4\",{\"position\": {\"x\": -1.0183812962602965, \"y\": -0.9319358929066855, \"z\": -0.9420652989401923}, \"inFront\": true});\n",
       "\tviewergrid_16311988370924737[0][0].addLabel(\"5\",{\"position\": {\"x\": 0.3268413740901303, \"y\": -1.8552805522237523, \"z\": 1.482184191073403}, \"inFront\": true});\n",
       "\tviewergrid_16311988370924737[0][0].addLabel(\"6\",{\"position\": {\"x\": 1.0177929120324956, \"y\": 0.12374208135679275, \"z\": 1.6840353577153606}, \"inFront\": true});\n",
       "\tviewergrid_16311988370924737[0][0].addLabel(\"7\",{\"position\": {\"x\": -0.7511654112624216, \"y\": -0.0861751927402206, \"z\": 1.678237748465457}, \"inFront\": true});\n",
       "\tviewergrid_16311988370924737[0][0].addLabel(\"8\",{\"position\": {\"x\": -0.9579528368991489, \"y\": -0.8503022534453328, \"z\": -2.0358179242539993}, \"inFront\": true});\n",
       "\tviewergrid_16311988370924737[0][0].addLabel(\"9\",{\"position\": {\"x\": -1.0056141646727776, \"y\": -1.9776501716198138, \"z\": -0.640290963118775}, \"inFront\": true});\n",
       "\tviewergrid_16311988370924737[0][0].addLabel(\"10\",{\"position\": {\"x\": -1.9580640226890649, \"y\": -0.4706324089434447, \"z\": -0.6093068432208331}, \"inFront\": true});\n",
       "\tviewergrid_16311988370924737[0][1].addModel(\"11\\n\\n C    0.128961846745   -1.086621208518    0.207138700320\\n C    0.095272442351   -0.416271399513    1.491408548931\\nCL    0.296273119288    1.925703778358   -1.035328186516\\n H    1.107759301745   -1.054486202884   -0.345292153238\\n C   -1.084831810889   -1.235712393623   -0.659324349210\\n O    0.181897969684   -1.855251286318    1.437021800191\\n H    0.984268462601    0.097412863216    1.853662436923\\n H   -0.855327514711   -0.019771740823    1.856864844080\\n H   -1.089953294447   -0.400372037258   -1.365423088195\\n H   -1.067303236918   -2.190762176428   -1.203085822099\\n H   -1.999199827660   -1.196543950098   -0.054014926474\\n\",\"xyz\");\n",
       "\tviewergrid_16311988370924737[0][1].addLabel(\"0\",{\"position\": {\"x\": 0.12896184674504155, \"y\": -1.0866212085208107, \"z\": 0.2071387003206128}, \"inFront\": true});\n",
       "\tviewergrid_16311988370924737[0][1].addLabel(\"1\",{\"position\": {\"x\": 0.09527244235141086, \"y\": -0.41627139951425557, \"z\": 1.491408548934826}, \"inFront\": true});\n",
       "\tviewergrid_16311988370924737[0][1].addLabel(\"2\",{\"position\": {\"x\": 0.29627311928827876, \"y\": 1.9257037783628839, \"z\": -1.035328186518185}, \"inFront\": true});\n",
       "\tviewergrid_16311988370924737[0][1].addLabel(\"3\",{\"position\": {\"x\": 1.1077593017479592, \"y\": -1.054486202886409, \"z\": -0.34529215323878265}, \"inFront\": true});\n",
       "\tviewergrid_16311988370924737[0][1].addLabel(\"4\",{\"position\": {\"x\": -1.0848318108918726, \"y\": -1.2357123936262284, \"z\": -0.6593243492115177}, \"inFront\": true});\n",
       "\tviewergrid_16311988370924737[0][1].addLabel(\"5\",{\"position\": {\"x\": 0.1818979696842043, \"y\": -1.8552512863223212, \"z\": 1.4370218001938113}, \"inFront\": true});\n",
       "\tviewergrid_16311988370924737[0][1].addLabel(\"6\",{\"position\": {\"x\": 0.9842684626028192, \"y\": 0.0974128632160798, \"z\": 1.853662436926964}, \"inFront\": true});\n",
       "\tviewergrid_16311988370924737[0][1].addLabel(\"7\",{\"position\": {\"x\": -0.8553275147124672, \"y\": -0.019771740823455206, \"z\": 1.856864844084738}, \"inFront\": true});\n",
       "\tviewergrid_16311988370924737[0][1].addLabel(\"8\",{\"position\": {\"x\": -1.0899532944496968, \"y\": -0.4003720372591144, \"z\": -1.3654230881979088}, \"inFront\": true});\n",
       "\tviewergrid_16311988370924737[0][1].addLabel(\"9\",{\"position\": {\"x\": -1.067303236920007, \"y\": -2.1907621764329495, \"z\": -1.203085822101859}, \"inFront\": true});\n",
       "\tviewergrid_16311988370924737[0][1].addLabel(\"10\",{\"position\": {\"x\": -1.9991998276642193, \"y\": -1.1965439501010058, \"z\": -0.05401492647402644}, \"inFront\": true});\n",
       "\tviewergrid_16311988370924737[0][0].setStyle({\"stick\": {}});\n",
       "\tviewergrid_16311988370924737[0][1].setStyle({\"stick\": {}});\n",
       "\tviewergrid_16311988370924737[0][0].setStyle({\"model\": 0},{\"stick\": {\"colorscheme\": \"yellowCarbon\"}, \"sphere\": {\"scale\": 0.1}});\n",
       "\tviewergrid_16311988370924737[0][1].setStyle({\"model\": 0},{\"stick\": {\"colorscheme\": \"yellowCarbon\"}, \"sphere\": {\"scale\": 0.1}});\n",
       "\tviewergrid_16311988370924737[0][0].zoomTo();\n",
       "\tviewergrid_16311988370924737[0][1].zoomTo();\n",
       "viewergrid_16311988370924737[0][1].render();\n",
       "viewergrid_16311988370924737[0][0].render();\n",
       "});\n",
       "</script>"
      ],
      "application/3dmoljs_load.v0": "<div id=\"3dmolviewer_16311988370924737\"  style=\"position: relative; width: 640px; height: 480px\">\n        <p id=\"3dmolwarning_16311988370924737\" style=\"background-color:#ffcccc;color:black\">You appear to be running in JupyterLab (or JavaScript failed to load for some other reason).  You need to install the 3dmol extension: <br>\n        <tt>jupyter labextension install jupyterlab_3dmol</tt></p>\n        </div>\n<script>\n\nvar loadScriptAsync = function(uri){\n  return new Promise((resolve, reject) => {\n    var tag = document.createElement('script');\n    tag.src = uri;\n    tag.async = true;\n    tag.onload = () => {\n      resolve();\n    };\n  var firstScriptTag = document.getElementsByTagName('script')[0];\n  firstScriptTag.parentNode.insertBefore(tag, firstScriptTag);\n});\n};\n\nif(typeof $3Dmolpromise === 'undefined') {\n$3Dmolpromise = null;\n  $3Dmolpromise = loadScriptAsync('https://3dmol.org/build/3Dmol.js');\n}\n\nvar viewer_16311988370924737 = null;\nvar warn = document.getElementById(\"3dmolwarning_16311988370924737\");\nif(warn) {\n    warn.parentNode.removeChild(warn);\n}\n$3Dmolpromise.then(function() {\nvar viewergrid_16311988370924737 = null;\nviewergrid_16311988370924737 = $3Dmol.createViewerGrid($(\"#3dmolviewer_16311988370924737\"),{rows: 1, cols: 2, control_all: true},{backgroundColor:\"white\"});\nviewer_16311988370924737 = viewergrid_16311988370924737[0][0];\nviewergrid_16311988370924737[0][0].zoomTo();viewergrid_16311988370924737[0][1].zoomTo();\tviewergrid_16311988370924737[0][0].addModel(\"11\\n\\n C    0.160379936003   -0.274358535619   -0.250687562184\\n C    0.187692358787   -0.541536736739    1.273326656579\\nCL    0.153954542336    1.560737510258   -0.688287906602\\n H    1.107234333761   -0.636654700770   -0.677811612663\\n C   -1.018381296258   -0.931935892905   -0.942065298938\\n O    0.326841374089   -1.855280552220    1.482184191070\\n H    1.017792912030    0.123742081357    1.684035357712\\n H   -0.751165411261   -0.086175192740    1.678237748462\\n H   -0.957952836897   -0.850302253443   -2.035817924249\\n H   -1.005614164670   -1.977650171615   -0.640290963117\\n H   -1.958064022685   -0.470632408942   -0.609306843219\\n\",\"xyz\");\n\tviewergrid_16311988370924737[0][0].addLabel(\"0\",{\"position\": {\"x\": 0.16037993600325903, \"y\": -0.2743585356191373, \"z\": -0.25068756218479704}, \"inFront\": true});\n\tviewergrid_16311988370924737[0][0].addLabel(\"1\",{\"position\": {\"x\": 0.18769235878758664, \"y\": -0.5415367367397628, \"z\": 1.2733266565821912}, \"inFront\": true});\n\tviewergrid_16311988370924737[0][0].addLabel(\"2\",{\"position\": {\"x\": 0.15395454233593794, \"y\": 1.5607375102612366, \"z\": -0.6882879066038118}, \"inFront\": true});\n\tviewergrid_16311988370924737[0][0].addLabel(\"3\",{\"position\": {\"x\": 1.1072343337638237, \"y\": -0.6366547007717812, \"z\": -0.6778116126643904}, \"inFront\": true});\n\tviewergrid_16311988370924737[0][0].addLabel(\"4\",{\"position\": {\"x\": -1.0183812962602965, \"y\": -0.9319358929066855, \"z\": -0.9420652989401923}, \"inFront\": true});\n\tviewergrid_16311988370924737[0][0].addLabel(\"5\",{\"position\": {\"x\": 0.3268413740901303, \"y\": -1.8552805522237523, \"z\": 1.482184191073403}, \"inFront\": true});\n\tviewergrid_16311988370924737[0][0].addLabel(\"6\",{\"position\": {\"x\": 1.0177929120324956, \"y\": 0.12374208135679275, \"z\": 1.6840353577153606}, \"inFront\": true});\n\tviewergrid_16311988370924737[0][0].addLabel(\"7\",{\"position\": {\"x\": -0.7511654112624216, \"y\": -0.0861751927402206, \"z\": 1.678237748465457}, \"inFront\": true});\n\tviewergrid_16311988370924737[0][0].addLabel(\"8\",{\"position\": {\"x\": -0.9579528368991489, \"y\": -0.8503022534453328, \"z\": -2.0358179242539993}, \"inFront\": true});\n\tviewergrid_16311988370924737[0][0].addLabel(\"9\",{\"position\": {\"x\": -1.0056141646727776, \"y\": -1.9776501716198138, \"z\": -0.640290963118775}, \"inFront\": true});\n\tviewergrid_16311988370924737[0][0].addLabel(\"10\",{\"position\": {\"x\": -1.9580640226890649, \"y\": -0.4706324089434447, \"z\": -0.6093068432208331}, \"inFront\": true});\n\tviewergrid_16311988370924737[0][1].addModel(\"11\\n\\n C    0.128961846745   -1.086621208518    0.207138700320\\n C    0.095272442351   -0.416271399513    1.491408548931\\nCL    0.296273119288    1.925703778358   -1.035328186516\\n H    1.107759301745   -1.054486202884   -0.345292153238\\n C   -1.084831810889   -1.235712393623   -0.659324349210\\n O    0.181897969684   -1.855251286318    1.437021800191\\n H    0.984268462601    0.097412863216    1.853662436923\\n H   -0.855327514711   -0.019771740823    1.856864844080\\n H   -1.089953294447   -0.400372037258   -1.365423088195\\n H   -1.067303236918   -2.190762176428   -1.203085822099\\n H   -1.999199827660   -1.196543950098   -0.054014926474\\n\",\"xyz\");\n\tviewergrid_16311988370924737[0][1].addLabel(\"0\",{\"position\": {\"x\": 0.12896184674504155, \"y\": -1.0866212085208107, \"z\": 0.2071387003206128}, \"inFront\": true});\n\tviewergrid_16311988370924737[0][1].addLabel(\"1\",{\"position\": {\"x\": 0.09527244235141086, \"y\": -0.41627139951425557, \"z\": 1.491408548934826}, \"inFront\": true});\n\tviewergrid_16311988370924737[0][1].addLabel(\"2\",{\"position\": {\"x\": 0.29627311928827876, \"y\": 1.9257037783628839, \"z\": -1.035328186518185}, \"inFront\": true});\n\tviewergrid_16311988370924737[0][1].addLabel(\"3\",{\"position\": {\"x\": 1.1077593017479592, \"y\": -1.054486202886409, \"z\": -0.34529215323878265}, \"inFront\": true});\n\tviewergrid_16311988370924737[0][1].addLabel(\"4\",{\"position\": {\"x\": -1.0848318108918726, \"y\": -1.2357123936262284, \"z\": -0.6593243492115177}, \"inFront\": true});\n\tviewergrid_16311988370924737[0][1].addLabel(\"5\",{\"position\": {\"x\": 0.1818979696842043, \"y\": -1.8552512863223212, \"z\": 1.4370218001938113}, \"inFront\": true});\n\tviewergrid_16311988370924737[0][1].addLabel(\"6\",{\"position\": {\"x\": 0.9842684626028192, \"y\": 0.0974128632160798, \"z\": 1.853662436926964}, \"inFront\": true});\n\tviewergrid_16311988370924737[0][1].addLabel(\"7\",{\"position\": {\"x\": -0.8553275147124672, \"y\": -0.019771740823455206, \"z\": 1.856864844084738}, \"inFront\": true});\n\tviewergrid_16311988370924737[0][1].addLabel(\"8\",{\"position\": {\"x\": -1.0899532944496968, \"y\": -0.4003720372591144, \"z\": -1.3654230881979088}, \"inFront\": true});\n\tviewergrid_16311988370924737[0][1].addLabel(\"9\",{\"position\": {\"x\": -1.067303236920007, \"y\": -2.1907621764329495, \"z\": -1.203085822101859}, \"inFront\": true});\n\tviewergrid_16311988370924737[0][1].addLabel(\"10\",{\"position\": {\"x\": -1.9991998276642193, \"y\": -1.1965439501010058, \"z\": -0.05401492647402644}, \"inFront\": true});\n\tviewergrid_16311988370924737[0][0].setStyle({\"stick\": {}});\n\tviewergrid_16311988370924737[0][1].setStyle({\"stick\": {}});\n\tviewergrid_16311988370924737[0][0].setStyle({\"model\": 0},{\"stick\": {\"colorscheme\": \"yellowCarbon\"}, \"sphere\": {\"scale\": 0.1}});\n\tviewergrid_16311988370924737[0][1].setStyle({\"model\": 0},{\"stick\": {\"colorscheme\": \"yellowCarbon\"}, \"sphere\": {\"scale\": 0.1}});\n\tviewergrid_16311988370924737[0][0].zoomTo();\n\tviewergrid_16311988370924737[0][1].zoomTo();\nviewergrid_16311988370924737[0][1].render();\nviewergrid_16311988370924737[0][0].render();\n});\n</script>"
     },
     "metadata": {}
    }
   ],
   "metadata": {}
  },
  {
   "cell_type": "code",
   "execution_count": 68,
   "source": [
    "traj_array = traj_backward_np + traj_forward_np"
   ],
   "outputs": [],
   "metadata": {}
  },
  {
   "cell_type": "code",
   "execution_count": 69,
   "source": [
    "bond_length_XX = []\n",
    "\n",
    "for coord in traj_array:\n",
    "    # collect bond length between atom 0 and 1 over the trajectory\n",
    "    bond_length_XX.append(calculate_bond(coord[0], coord[1])) "
   ],
   "outputs": [],
   "metadata": {}
  },
  {
   "cell_type": "markdown",
   "source": [
    "```{admonition} Exercise  14\n",
    ":class: exercise\n",
    "How do the C-Cl and the two relevant C-O bond lengths change during the trajectory? Does the C-C bond in the ring contract as the epoxide is formed? Show a graph depicting the evolution of these parameters as the reaction progresses. \n",
    "```\n"
   ],
   "metadata": {}
  },
  {
   "cell_type": "code",
   "execution_count": null,
   "source": [
    "fig, ax = plt.subplots(1)\n",
    "\n",
    "# add a call to ax.plot for each distance that you want to plot \n",
    "ax.plot(bond_length_XX)\n",
    "\n",
    "# add an entry to the list of labels for each distance that you want to plot\n",
    "plt.legend([\"label\"]) \n",
    "\n",
    "ax.set_xlabel('IRC step')\n",
    "ax.set_ylabel('bond [A]')\n",
    "plt.show()"
   ],
   "outputs": [],
   "metadata": {}
  },
  {
   "cell_type": "markdown",
   "source": [
    "```{admonition} Exercise 15\n",
    ":class: exercise\n",
    "What is happening to the methyl group as the reaction proceeds? Find a suitable parameter (angle, dihedral) to describe and characterise possible changes you observe, change the code below. Explain in your report what atoms you considered and take and include the evolutions of the chosen parameters during the IRC procedure. \n",
    "```"
   ],
   "metadata": {}
  },
  {
   "cell_type": "code",
   "execution_count": null,
   "source": [
    "#Modify the code below, chosing proper atoms to monitor the changes of the methyl group \n",
    "methyl_angle = []\n",
    "methyl_dihedral = []\n",
    "\n",
    "for coord in traj_array:\n",
    "    methyl_angle.append(calculate_angle(coord[#], coord[#], coord[#])) \n",
    "    methyl_dihedral.append(calculate_dihedral(coord[#], coord[#], coord[#], coord[#])) \n",
    "\n",
    "fig, ax = plt.subplots(1)\n",
    "ax.plot(methyl_angle)\n",
    "ax.plot(methyl_dihedral)\n",
    "\n",
    "plt.legend([\"angle (#-#-#)\", \"dihedral (#-#-#-#)\"])\n",
    "        \n",
    "ax.set_xlabel('IRC step')\n",
    "ax.set_ylabel('angle [deg]')\n",
    "plt.show()"
   ],
   "outputs": [],
   "metadata": {}
  }
 ],
 "metadata": {
  "kernelspec": {
   "display_name": "Quantum Chemistry",
   "language": "python",
   "name": "psi4"
  },
  "language_info": {
   "codemirror_mode": {
    "name": "ipython",
    "version": 3
   },
   "file_extension": ".py",
   "mimetype": "text/x-python",
   "name": "python",
   "nbconvert_exporter": "python",
   "pygments_lexer": "ipython3",
   "version": "3.8.10"
  }
 },
 "nbformat": 4,
 "nbformat_minor": 5
}