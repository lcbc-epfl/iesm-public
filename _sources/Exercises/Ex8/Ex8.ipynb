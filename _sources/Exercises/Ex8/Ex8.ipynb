{
 "cells": [
  {
   "cell_type": "markdown",
   "source": [
    "# Locating Transition States: Constrained Optimisations\n",
    "\n",
    "Unlike a geometry optimisation, a transition state search requires more\n",
    "than just *some* guess. Finding the transition state from a reactant or\n",
    "a product structure will be computationally unfeasible, as those\n",
    "structures are given by local minima on the PES. Hence, all possible\n",
    "paths originating from these minima will go uphill (recall the\n",
    "mathematical definition of a minimum with respect to its derivatives),\n",
    "and it cannot be clear in advance which paths will actually connect\n",
    "reactants and products, or which path(s) will proceed *via* the lowest\n",
    "lying transition state. Instead, one needs a guess that is reasonably\n",
    "close to the real transition state, such that the *curvature* of the\n",
    "potential energy surface close to the TS is known, making it possible to\n",
    "proceed uphill along the reaction coordinate until the transition state\n",
    "is reached. The general procedure for a transition state search includes\n",
    "the construction of a guess geometry that should be reasonably close to\n",
    "the expected TS, followed by a *constrained optimisation* (*cf.* figure\n",
    "3)."
   ],
   "metadata": {}
  },
  {
   "cell_type": "markdown",
   "source": [
    "```{figure} ../../images/miniumenergypath.png\n",
    "---\n",
    "name: TSsearch\n",
    "---\n",
    "Finding a transition state from an initial guess by performing a\n",
    "constrained optimisation followed by a TS\n",
    "search.\n",
    "```\n",
    "\n",
    "In a constrained optimisation, all degrees of freedom which are not\n",
    "deemed relevant for the reaction are relaxed, whereas the relevant\n",
    "degree(s) of freedom is (are) kept fixed. After the optimisation, the\n",
    "curvature of the PES is evaluated at the chosen geometry (either\n",
    "analytically or numerically, *cf.* the following section). If the\n",
    "constrained degree(s) of freedom was (were) suitably chosen, the paths\n",
    "associated to the unconstrained N-1 degrees of freedom will go uphill in\n",
    "both directions, indicating that the corresponding structural parameters\n",
    "were properly relaxed. There should be one degree of freedom remaining\n",
    "that is associated to a path that goes downhill on one side and uphill\n",
    "on the other side: This will be the path that leads uphill to the\n",
    "transition state. As the associated degree of freedom is then known, the\n",
    "geometry can then be optimised to a transition state by selectively\n",
    "'walking uphill' along this specific path."
   ],
   "metadata": {}
  },
  {
   "cell_type": "markdown",
   "source": [
    "### Constructing a Guess"
   ],
   "metadata": {}
  },
  {
   "cell_type": "markdown",
   "source": [
    "You can find below the Z-matrix for the chloropropanoate (2-Chloro-1-propanol) already set, obtained using the Open Source Software [Avogadro](https://avogadro.cc/). We want to set the Z-matrix for the transition state editing this matrix. Correct the parameters adapting the conformation to be reasonably close to the transition state: for the TS, one expects that the C-Cl bond will already be elongated, whereas the oxygen atom will start to form the epoxide ring. Change the bond angle of the oxygen atom to something smaller than the original value, such as 80◦, and modify the bond length for the C-Cl bond to an elongated conformation, such as 2.40 Å. Moreover, you need to delete the hydrogen bond to the oxygen atom, and edit the Z-matrix accordingly. "
   ],
   "metadata": {}
  },
  {
   "cell_type": "code",
   "execution_count": null,
   "source": [
    "import psi4\n",
    "import py3Dmol\n",
    "import numpy as np\n",
    "import matplotlib.pyplot as plt\n",
    "\n",
    "psi4.set_num_threads(2)\n",
    "psi4.set_memory('2 GB')\n",
    "\n",
    "import sys\n",
    "sys.path.append(\"..\")\n",
    "from helpers import *"
   ],
   "outputs": [],
   "metadata": {}
  },
  {
   "cell_type": "code",
   "execution_count": null,
   "source": [
    "#Z-matrix for the chloropropanoate\n",
    "chloropropanoate = psi4.geometry(\"\"\"\n",
    "0 1\n",
    " symmetry c1\n",
    " c\n",
    " c    1 cc2\n",
    " cl   1 clc3        2 clcc3\n",
    " h    1 hc4         2 hcc4          3 dih4\n",
    " c    1 cc5         2 ccc5          3 dih5\n",
    " o    2 oc6         1 occ6          3 dih6\n",
    " h    2 hc7         1 hcc7          6 dih7\n",
    " h    2 hc8         1 hcc8          6 dih8\n",
    " h    5 hc9         1 hcc9          2 dih9\n",
    " h    5 hc10        1 hcc10         9 dih10\n",
    " h    5 hc11        1 hcc11         9 dih11\n",
    " h    6 ho          2 hoc2          1 dih12\n",
    " \n",
    "cc2     =    1.500000\n",
    "clc3    =    1.790000 \n",
    "clcc3   =    109.471\n",
    "hc4     =    1.089000\n",
    "hcc4    =    109.471\n",
    "dih4    =    100.000\n",
    "cc5     =    1.500000\n",
    "ccc5    =    109.471\n",
    "dih5    =   -100.000\n",
    "oc6     =    1.430000\n",
    "occ6    =    110.600  \n",
    "dih6    =    180.000\n",
    "hc7     =    1.070000\n",
    "hcc7    =    109.471\n",
    "dih7    =    120.000\n",
    "hc8     =    1.070000\n",
    "hcc8    =    109.471\n",
    "dih8    =    240.000\n",
    "hc9     =    1.070000\n",
    "hcc9    =    109.471\n",
    "dih9    =    180.000\n",
    "hc10    =    1.070000\n",
    "hcc10   =    109.471\n",
    "dih10   =    120.000\n",
    "hc11    =    1.070000\n",
    "hcc11   =    109.471\n",
    "dih11   =    240.000\n",
    "ho      =    0.97       \n",
    "hoc2    =    109.471    \n",
    "dih12   =    180.0      \n",
    "\"\"\")\n",
    "\n",
    "#Edit the Z-matrix to obtain the TS guess according to the requests above\n",
    "ts_guess = psi4.geometry(\"\"\"\n",
    "0 1\n",
    " symmetry c1\n",
    " c\n",
    " c    1 cc2\n",
    " cl   1 clc3        2 clcc3\n",
    " h    1 hc4         2 hcc4          3 dih4\n",
    " c    1 cc5         2 ccc5          3 dih5\n",
    " o    2 oc6         1 occ6          3 dih6\n",
    " h    2 hc7         1 hcc7          6 dih7\n",
    " h    2 hc8         1 hcc8          6 dih8\n",
    " h    5 hc9         1 hcc9          2 dih9\n",
    " h    5 hc10        1 hcc10         9 dih10\n",
    " h    5 hc11        1 hcc11         9 dih11\n",
    " h    6 ho          2 hoc2          1 dih12\n",
    " \n",
    "cc2     =    1.500000\n",
    "clc3    =    1.790000 \n",
    "clcc3   =    109.471\n",
    "hc4     =    1.089000\n",
    "hcc4    =    109.471\n",
    "dih4    =    100.000\n",
    "cc5     =    1.500000\n",
    "ccc5    =    109.471\n",
    "dih5    =   -100.000\n",
    "oc6     =    1.430000\n",
    "occ6    =    110.600  \n",
    "dih6    =    180.000\n",
    "hc7     =    1.070000\n",
    "hcc7    =    109.471\n",
    "dih7    =    120.000\n",
    "hc8     =    1.070000\n",
    "hcc8    =    109.471\n",
    "dih8    =    240.000\n",
    "hc9     =    1.070000\n",
    "hcc9    =    109.471\n",
    "dih9    =    180.000\n",
    "hc10    =    1.070000\n",
    "hcc10   =    109.471\n",
    "dih10   =    120.000\n",
    "hc11    =    1.070000\n",
    "hcc11   =    109.471\n",
    "dih11   =    240.000\n",
    "ho      =    0.97       \n",
    "hoc2    =    109.471    \n",
    "dih12   =    180.0 \n",
    "\"\"\")\n",
    "\n",
    "\n"
   ],
   "outputs": [],
   "metadata": {}
  },
  {
   "cell_type": "code",
   "execution_count": null,
   "source": [
    "drawXYZSideBySide_labeled(chloropropanoate, ts_guess)"
   ],
   "outputs": [],
   "metadata": {}
  },
  {
   "cell_type": "markdown",
   "source": [
    "```{admonition} Exercise 3\n",
    ":class: exercise \n",
    "Include a screenshot of the transition state that you obtained and the corresponding Z-matrix for the transition state guess\n",
    "```\n"
   ],
   "metadata": {}
  },
  {
   "cell_type": "markdown",
   "source": [
    "### Constrained optimization\n",
    "\n",
    "We will first optimize our transition state guess keeping the C-Cl distance fixed. "
   ],
   "metadata": {}
  },
  {
   "cell_type": "code",
   "execution_count": null,
   "source": [
    "ts_guess_opt = ts_guess.clone()\n",
    "psi4.core.set_output_file(f'poxide.log', False)\n",
    "psi4.set_options({\"frozen_distance\":\"1 3\"})\n",
    "psi4.optimize('b3pw91/6-31+G*', molecule=ts_guess_opt)"
   ],
   "outputs": [],
   "metadata": {}
  },
  {
   "cell_type": "code",
   "execution_count": null,
   "source": [
    "drawXYZSideBySide_labeled(ts_guess, ts_guess_opt)"
   ],
   "outputs": [],
   "metadata": {}
  },
  {
   "cell_type": "markdown",
   "source": [
    "### Finding the Transition State \n",
    "\n",
    "Now that we have our  transition state guess optimized, we want to find out whether this guess is close to the transition state (meaning it has one imaginary frequency) and then optimize to the actual transition state. \n",
    "\n",
    "If we set `full_hess_every` to `0`, a frequency calculation will be performed at the begining (you could also do it seperately using `psi4.frequency([..])`. By setting `opt_type` to `ts` the optimization will try to find the 1st order saddlepoint that is the transition state. \n",
    "\n",
    "We will write the normal modes to a file for visualization. "
   ],
   "metadata": {}
  },
  {
   "cell_type": "code",
   "execution_count": null,
   "source": [
    "ts = ts_guess_opt.clone()\n",
    "psi4.core.clean_options()\n",
    "\n",
    "psi4.core.set_output_file(f'ts.log', False)\n",
    "psi4.set_options({\n",
    "    \"opt_type\":\"ts\",\n",
    "    \"geom_maxiter\":500, \n",
    "    \"normal_modes_write\": True,\n",
    "    \"full_hess_every\":0 #0 compute the initial Hessian only\n",
    "    })\n",
    "\n",
    "E = psi4.optimize('b3pw91/6-31+G*', molecule=ts)\n",
    "\n",
    "\n",
    "#print out TS in case something goes wrong\n",
    "with open('ts.xyz', 'w') as f:\n",
    "    f.write(ts.save_string_xyz_file())"
   ],
   "outputs": [],
   "metadata": {}
  },
  {
   "cell_type": "markdown",
   "source": [
    "We can also compare the TS with the guess to see how far we are. "
   ],
   "metadata": {}
  },
  {
   "cell_type": "code",
   "execution_count": null,
   "source": [
    "drawXYZSideBySide_labeled(ts_guess_opt, ts)"
   ],
   "outputs": [],
   "metadata": {}
  },
  {
   "cell_type": "markdown",
   "source": [
    "```{admonition} Exercise 4\n",
    ":class: exercise\n",
    "Take a screenshot of the optimised transition state structure. How did the structure change with respect to the constrained-optimised guess?\n",
    "```"
   ],
   "metadata": {}
  },
  {
   "cell_type": "markdown",
   "source": [
    "We can now have a look at the normal model that we obtained, for that we need to first check how the file is named. Then you can visualize one normal mode at time. "
   ],
   "metadata": {}
  },
  {
   "cell_type": "code",
   "execution_count": null,
   "source": [
    "# check how the file is named, this is a bash command\n",
    "# ls means list all the files in the current directory\n",
    "# -ltrh are flags that print output as a detailed list (-l) in reversed order(-r) by time (-t) with human readable units (-h)\n",
    "!ls -lrth ts.*.molden_normal_modes "
   ],
   "outputs": [],
   "metadata": {}
  },
  {
   "cell_type": "code",
   "execution_count": null,
   "source": [
    "show_normal_modes(filename='FILENAME.XX.molden_normal_modes')"
   ],
   "outputs": [],
   "metadata": {}
  },
  {
   "cell_type": "markdown",
   "source": [
    "```{admonition} Exercise 5\n",
    ":class: exercise\n",
    "Report the value of the negative frequency that you obtain.  What motion is this mode related to?\n",
    "What motions are associated with low and high vibrational frequencies? Choose two positive vibrational modes and desribe their particular associated motion.\n",
    "```"
   ],
   "metadata": {}
  },
  {
   "cell_type": "markdown",
   "source": [
    "```{admonition} Exercise 6\n",
    ":class: exercise\n",
    "Is the transition state you predicted an early or a late transition state? What about the guess?\n",
    "```\n"
   ],
   "metadata": {}
  },
  {
   "cell_type": "markdown",
   "source": [
    "```{admonition} Exercise 7\n",
    ":class: exercise\n",
    "Having found a transition state, how would you now obtain the barrier height for your reaction? Are there ways of verifying whether you have found a meaningful\n",
    "    transition state? **Bonus:** How would you define 'meaningful' in\n",
    "    this context?\n",
    "```"
   ],
   "metadata": {}
  },
  {
   "cell_type": "code",
   "execution_count": null,
   "source": [
    "psi4.core.set_output_file(f'irc_backward.log', False)\n",
    "psi4.set_options({\n",
    "     \"geom_maxiter\":500,\n",
    "     \"full_hess_every\":0, #-1\n",
    "     \"opt_type\":\"irc\",\n",
    "     \"irc_step_size\":0.25,\n",
    "     \"ensure_bt_convergence\":True,\n",
    "#     \"cart_hess_read\":True,\n",
    "     \"irc_direction\":\"backward\",\n",
    "     })\n",
    "\n",
    "E, history_backward = psi4.optimize('b3pw91/6-31+G*',molecule=backward, return_history=True)#, ref_gradient=wfn.gradient())"
   ],
   "outputs": [],
   "metadata": {}
  },
  {
   "cell_type": "markdown",
   "source": [
    "The `return_history=True` option indicates to additionally return dictionary of lists of geometries, energies, and gradients at each step in the optimization. We can use this history to follow the optimization along the IRC steps.\n",
    "Some operations on the arrays are needed in order to properly visualize the PES."
   ],
   "metadata": {}
  },
  {
   "cell_type": "code",
   "execution_count": null,
   "source": [
    "coordinates_backward = history_backward['coordinates']\n",
    "energies_backward = history_backward['energy']\n",
    "\n",
    "backward_e = [energy * psi4.constants.hartree2kcalmol for energy in energies_backward]\n",
    "backward_e.reverse()\n",
    "backward_e = np.array(backward_e)-np.max(backward_e)"
   ],
   "outputs": [],
   "metadata": {}
  },
  {
   "cell_type": "markdown",
   "source": [
    "## IRC\n",
    "Now we have all the data to obtain the  potential energy profile for the reaction, as well as the trajectory that visualises the lowest energy path from reactant to TS to product.\n",
    "\n",
    "We can fist have a look at the *backward* and *forward* conformations, which correspond to the starting and ending point of the IRC that we performed"
   ],
   "metadata": {
    "tags": []
   }
  },
  {
   "cell_type": "code",
   "execution_count": null,
   "source": [
    "drawXYZSideBySide_labeled(backward, forward)"
   ],
   "outputs": [],
   "metadata": {}
  },
  {
   "cell_type": "markdown",
   "source": [
    "Now let's have a look to the potential energy profile along the IRC steps. "
   ],
   "metadata": {}
  },
  {
   "cell_type": "code",
   "execution_count": null,
   "source": [
    "fig, ax =  plt.subplots(1)\n",
    "\n",
    "ax.plot(energies)\n",
    "ax.set_xlabel('IRC step')\n",
    "ax.set_ylabel('Pot Energy (kcal mol$^{-1}$)')\n",
    "\n",
    "plt.show()"
   ],
   "outputs": [],
   "metadata": {}
  },
  {
   "cell_type": "markdown",
   "source": [
    "```{admonition} Exercise 8\n",
    ":class: exercise\n",
    "Take a screenshot of the graph of the potential energy profile you recorded. \n",
    "Why is the barrier for the epoxide formation so low? Will this be  the overall barrier for the reaction as depicted in the previous section?\n",
    "```\n"
   ],
   "metadata": {}
  },
  {
   "cell_type": "markdown",
   "source": [
    "We can have a closer look at the process, focusing on different parameters along the scan. First of all we can observe visually how the conformation changes during the process, then we will try to have a more quantitative understanding of the process,  focusing on meaningful parameters.  "
   ],
   "metadata": {}
  },
  {
   "cell_type": "code",
   "execution_count": null,
   "source": [
    "coordinates_backward.reverse()\n",
    "coordinates = coordinates_backward + coordinates_forward\n",
    "traj = mol2traj(ts, coordinates)\n",
    "drawXYZGeomSlider(traj)"
   ],
   "outputs": [],
   "metadata": {}
  },
  {
   "cell_type": "markdown",
   "source": [
    "```{admonition} Exercise 9\n",
    ":class: exercise\n",
    "Is the stereochemistry at the carbon at which the reaction takes\n",
    "    place retained?\n",
    "```"
   ],
   "metadata": {}
  },
  {
   "cell_type": "markdown",
   "source": [
    "Let's have a look at different bond distances involving different atoms in the molecule. You can have a look at the labeled represetnations of the molecule above to understand between which atoms the distances are calculated."
   ],
   "metadata": {}
  },
  {
   "cell_type": "code",
   "execution_count": null,
   "source": [
    "traj_array = coord2traj_array(coordinates)\n",
    "\n",
    "bond_length_C0_Cl2 = []\n",
    "bond_length_C0_O5 = []\n",
    "bond_length_C1_O5 = []\n",
    "bond_length_C0_C1 = []\n",
    "\n",
    "for coord in traj_array:\n",
    "    bond_length_C0_Cl2.append(calculate_bond(coord[0], coord[2])) \n",
    "    bond_length_C0_O5.append(calculate_bond(coord[0], coord[5])) \n",
    "    bond_length_C1_O5.append(calculate_bond(coord[1], coord[5])) \n",
    "    bond_length_C0_C1.append(calculate_bond(coord[0], coord[1])) "
   ],
   "outputs": [],
   "metadata": {}
  },
  {
   "cell_type": "code",
   "execution_count": null,
   "source": [
    "fig, ax = plt.subplots(1)\n",
    "ax.plot(bond_length_C0_Cl2)\n",
    "ax.plot(bond_length_C0_O5)\n",
    "ax.plot(bond_length_C1_O5)\n",
    "ax.plot(bond_length_C0_C1)\n",
    "plt.legend([\"C0-Cl\", \"C0-O\", \"C1-O\", \"C0-C1\"])\n",
    "\n",
    "ax.set_xlabel('IRC step')\n",
    "ax.set_ylabel('bond [A]')\n",
    "plt.show()"
   ],
   "outputs": [],
   "metadata": {}
  },
  {
   "cell_type": "markdown",
   "source": [
    "```{admonition} Exercise  10\n",
    ":class: exercise\n",
    "How do the C-Cl and the two relevant C-O bond lengths change during\n",
    "    the trajectory? Does the C-C bond in the ring contract as the\n",
    "    epoxide is formed? Show a graph depicting the evolution of these\n",
    "    parameters as the reaction progresses. \n",
    "```\n"
   ],
   "metadata": {}
  },
  {
   "cell_type": "markdown",
   "source": [
    "```{admonition} Exercise 11\n",
    ":class: exercise\n",
    "What is happening to the methyl group as the reaction proceeds? Find\n",
    "    a suitable parameter (angle, dihedral) to describe and characterise\n",
    "    possible changes you observe, change the code below. Explain in your report what atoms you considered and take and include the evolutions of the chosen parameters during the IRC procedure. \n",
    "```"
   ],
   "metadata": {}
  },
  {
   "cell_type": "code",
   "execution_count": null,
   "source": [
    "#Modify the code below, chosing proper atoms to monitor the changes of the methyl group \n",
    "methyl_angle = []\n",
    "methyl_dihedral = []\n",
    "\n",
    "for coord in traj_array:\n",
    "    methyl_angle.append(calculate_angle(coord[#], coord[#], coord[#])) \n",
    "    methyl_dihedral.append(calculate_dihedral(coord[#], coord[#], coord[#], coord[#])) \n",
    "    \n",
    "fig, ax = plt.subplots(1)\n",
    "ax.plot(methyl_angle)\n",
    "ax.plot(methyl_dihedral)\n",
    "plt.legend([\"angle (#-#-#)\", \"dihedral (#-#-#-#)\"])\n",
    "\n",
    "ax.set_xlabel('IRC step')\n",
    "ax.set_ylabel('angle [deg]')\n",
    "plt.show()"
   ],
   "outputs": [],
   "metadata": {}
  },
  {
   "cell_type": "code",
   "execution_count": null,
   "source": [],
   "outputs": [],
   "metadata": {}
  },
  {
   "cell_type": "code",
   "execution_count": null,
   "source": [],
   "outputs": [],
   "metadata": {}
  }
 ],
 "metadata": {
  "jupytext": {
   "cell_metadata_filter": "-all",
   "notebook_metadata_filter": "-all",
   "text_representation": {
    "extension": ".md",
    "format_name": "markdown"
   }
  },
  "kernelspec": {
   "display_name": "Quantum Chemistry",
   "language": "python",
   "name": "psi4"
  },
  "language_info": {
   "codemirror_mode": {
    "name": "ipython",
    "version": 3
   },
   "file_extension": ".py",
   "mimetype": "text/x-python",
   "name": "python",
   "nbconvert_exporter": "python",
   "pygments_lexer": "ipython3",
   "version": "3.8.10"
  }
 },
 "nbformat": 4,
 "nbformat_minor": 5
}