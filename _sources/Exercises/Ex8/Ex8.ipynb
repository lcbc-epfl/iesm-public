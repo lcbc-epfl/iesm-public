{
 "cells": [
  {
   "cell_type": "markdown",
   "id": "bd64e247",
   "metadata": {},
   "source": [
    "# Locating Transition States: Constrained Optimisations\n",
    "\n",
    "Unlike a geometry optimisation, a transition state search requires more\n",
    "than just *some* guess. Finding the transition state from a reactant or\n",
    "a product structure will be computationally unfeasible, as those\n",
    "structures are given by local minima on the PES. Hence, all possible\n",
    "paths originating from these minima will go uphill (recall the\n",
    "mathematical definition of a minimum with respect to its derivatives),\n",
    "and it cannot be clear in advance which paths will actually connect\n",
    "reactants and products, or which path(s) will proceed *via* the lowest\n",
    "lying transition state. Instead, one needs a guess that is reasonably\n",
    "close to the real transition state, such that the *curvature* of the\n",
    "potential energy surface close to the TS is known, making it possible to\n",
    "proceed uphill along the reaction coordinate until the transition state\n",
    "is reached. The general procedure for a transition state search includes\n",
    "the construction of a guess geometry that should be reasonably close to\n",
    "the expected TS, followed by a *constrained optimisation* (*cf.* figure\n",
    "3)."
   ]
  },
  {
   "cell_type": "markdown",
   "id": "f30edd20",
   "metadata": {},
   "source": [
    "```{figure} ../../images/miniumenergypath.png\n",
    "---\n",
    "name: TSsearch\n",
    "---\n",
    "Finding a transition state from an initial guess by performing a\n",
    "constrained optimisation followed by a TS\n",
    "search.\n",
    "```\n",
    "\n",
    "In a constrained optimisation, all degrees of freedom which are not\n",
    "deemed relevant for the reaction are relaxed, whereas the relevant\n",
    "degree(s) of freedom is (are) kept fixed. After the optimisation, the\n",
    "curvature of the PES is evaluated at the chosen geometry (either\n",
    "analytically or numerically, *cf.* the following section). If the\n",
    "constrained degree(s) of freedom was (were) suitably chosen, the paths\n",
    "associated to the unconstrained N-1 degrees of freedom will go uphill in\n",
    "both directions, indicating that the corresponding structural parameters\n",
    "were properly relaxed. There should be one degree of freedom remaining\n",
    "that is associated to a path that goes downhill on one side and uphill\n",
    "on the other side: This will be the path that leads uphill to the\n",
    "transition state. As the associated degree of freedom is then known, the\n",
    "geometry can then be optimised to a transition state by selectively\n",
    "'walking uphill' along this specific path."
   ]
  },
  {
   "cell_type": "markdown",
   "id": "5269c5b0",
   "metadata": {},
   "source": [
    "### Constructing a Guess"
   ]
  },
  {
   "cell_type": "markdown",
   "id": "72c9799d",
   "metadata": {},
   "source": [
    "You can find below the Z-matrix for the chloropropanoate (2-Chloro-1-propanol) already set, obtained using the Open Source Software [Avogadro](https://avogadro.cc/). We want to set the Z-matrix for the transition state editing this matrix. Correct the parameters adapting the conformation to be reasonably close to the transition state: for the TS, one expects that the C-Cl bond will already be elongated, whereas the oxygen atom will start to form the epoxide ring. Change the bond angle of the oxygen atom to something smaller than the original value, such as 80◦, and modify the bond length for the C-Cl bond to an elongated conformation, such as 2.40 Å. Moreover, you need to delete the hydrogen bond to the oxygen atom, and edit the Z-matrix accordingly. "
   ]
  },
  {
   "cell_type": "code",
   "execution_count": 1,
   "id": "ce751924",
   "metadata": {},
   "outputs": [],
   "source": [
    "import psi4\n",
    "import py3Dmol\n",
    "import numpy as np\n",
    "import matplotlib.pyplot as plt\n",
    "\n",
    "psi4.set_num_threads(2)\n",
    "psi4.set_memory('2 GB')\n",
    "\n",
    "import sys\n",
    "sys.path.append(\"..\")\n",
    "from helpers import *"
   ]
  },
  {
   "cell_type": "code",
   "execution_count": 2,
   "id": "f8a0e4fa",
   "metadata": {},
   "outputs": [],
   "source": [
    "#Z-matrix for the chloropropanoate\n",
    "chloropropanoate = psi4.geometry(\"\"\"\n",
    "0 1\n",
    " symmetry c1\n",
    " c\n",
    " c    1 cc2\n",
    " cl   1 clc3        2 clcc3\n",
    " h    1 hc4         2 hcc4          3 dih4\n",
    " c    1 cc5         2 ccc5          3 dih5\n",
    " o    2 oc6         1 occ6          3 dih6\n",
    " h    2 hc7         1 hcc7          6 dih7\n",
    " h    2 hc8         1 hcc8          6 dih8\n",
    " h    5 hc9         1 hcc9          2 dih9\n",
    " h    5 hc10        1 hcc10         9 dih10\n",
    " h    5 hc11        1 hcc11         9 dih11\n",
    " h    6 ho          2 hoc2          1 dih12\n",
    " \n",
    "cc2     =    1.500000\n",
    "clc3    =    1.790000 \n",
    "clcc3   =    109.471\n",
    "hc4     =    1.089000\n",
    "hcc4    =    109.471\n",
    "dih4    =    100.000\n",
    "cc5     =    1.500000\n",
    "ccc5    =    109.471\n",
    "dih5    =   -100.000\n",
    "oc6     =    1.430000\n",
    "occ6    =    110.600  \n",
    "dih6    =    180.000\n",
    "hc7     =    1.070000\n",
    "hcc7    =    109.471\n",
    "dih7    =    120.000\n",
    "hc8     =    1.070000\n",
    "hcc8    =    109.471\n",
    "dih8    =    240.000\n",
    "hc9     =    1.070000\n",
    "hcc9    =    109.471\n",
    "dih9    =    180.000\n",
    "hc10    =    1.070000\n",
    "hcc10   =    109.471\n",
    "dih10   =    120.000\n",
    "hc11    =    1.070000\n",
    "hcc11   =    109.471\n",
    "dih11   =    240.000\n",
    "ho      =    0.97       \n",
    "hoc2    =    109.471    \n",
    "dih12   =    180.0      \n",
    "\"\"\")\n",
    "\n",
    "#Edit the Z-matrix to obtain the TS guess accordin to the requests above\n",
    "ts_guess = psi4.geometry(\"\"\"\n",
    "0 1\n",
    " symmetry c1\n",
    " c\n",
    " c    1 cc2\n",
    " cl   1 clc3        2 clcc3\n",
    " h    1 hc4         2 hcc4          3 dih4\n",
    " c    1 cc5         2 ccc5          3 dih5\n",
    " o    2 oc6         1 occ6          3 dih6\n",
    " h    2 hc7         1 hcc7          6 dih7\n",
    " h    2 hc8         1 hcc8          6 dih8\n",
    " h    5 hc9         1 hcc9          2 dih9\n",
    " h    5 hc10        1 hcc10         9 dih10\n",
    " h    5 hc11        1 hcc11         9 dih11\n",
    " h    6 ho          2 hoc2          1 dih12\n",
    " \n",
    "cc2     =    1.500000\n",
    "clc3    =    1.790000 \n",
    "clcc3   =    109.471\n",
    "hc4     =    1.089000\n",
    "hcc4    =    109.471\n",
    "dih4    =    100.000\n",
    "cc5     =    1.500000\n",
    "ccc5    =    109.471\n",
    "dih5    =   -100.000\n",
    "oc6     =    1.430000\n",
    "occ6    =    110.600  \n",
    "dih6    =    180.000\n",
    "hc7     =    1.070000\n",
    "hcc7    =    109.471\n",
    "dih7    =    120.000\n",
    "hc8     =    1.070000\n",
    "hcc8    =    109.471\n",
    "dih8    =    240.000\n",
    "hc9     =    1.070000\n",
    "hcc9    =    109.471\n",
    "dih9    =    180.000\n",
    "hc10    =    1.070000\n",
    "hcc10   =    109.471\n",
    "dih10   =    120.000\n",
    "hc11    =    1.070000\n",
    "hcc11   =    109.471\n",
    "dih11   =    240.000\n",
    "ho      =    0.97       \n",
    "hoc2    =    109.471    \n",
    "dih12   =    180.0 \n",
    "\"\"\")\n",
    "\n",
    "\n"
   ]
  },
  {
   "cell_type": "code",
   "execution_count": 3,
   "id": "10a2e3de",
   "metadata": {},
   "outputs": [
    {
     "data": {
      "application/3dmoljs_load.v0": "<div id=\"3dmolviewer_16287812982446342\"  style=\"position: relative; width: 640px; height: 480px\">\n        <p id=\"3dmolwarning_16287812982446342\" style=\"background-color:#ffcccc;color:black\">You appear to be running in JupyterLab (or JavaScript failed to load for some other reason).  You need to install the 3dmol extension: <br>\n        <tt>jupyter labextension install jupyterlab_3dmol</tt></p>\n        </div>\n<script>\n\nvar loadScriptAsync = function(uri){\n  return new Promise((resolve, reject) => {\n    var tag = document.createElement('script');\n    tag.src = uri;\n    tag.async = true;\n    tag.onload = () => {\n      resolve();\n    };\n  var firstScriptTag = document.getElementsByTagName('script')[0];\n  firstScriptTag.parentNode.insertBefore(tag, firstScriptTag);\n});\n};\n\nif(typeof $3Dmolpromise === 'undefined') {\n$3Dmolpromise = null;\n  $3Dmolpromise = loadScriptAsync('https://3dmol.org/build/3Dmol.js');\n}\n\nvar viewer_16287812982446342 = null;\nvar warn = document.getElementById(\"3dmolwarning_16287812982446342\");\nif(warn) {\n    warn.parentNode.removeChild(warn);\n}\n$3Dmolpromise.then(function() {\nvar viewergrid_16287812982446342 = null;\nviewergrid_16287812982446342 = $3Dmol.createViewerGrid($(\"#3dmolviewer_16287812982446342\"),{rows: 1, cols: 2, control_all: true},{backgroundColor:\"white\"});\nviewer_16287812982446342 = viewergrid_16287812982446342[0][0];\nviewergrid_16287812982446342[0][0].zoomTo();viewergrid_16287812982446342[0][1].zoomTo();\tviewergrid_16287812982446342[0][0].addModel(\"12\\n\\n C    0.222358902508   -0.353606380052   -0.294378928442\\n C    0.222358902508   -0.353606380052    1.205621071558\\nCL    0.222358902508    1.334024102010   -0.891039096389\\n H    1.233481156049   -0.531894514146   -0.657374974751\\n C   -1.170371474270   -0.599182322331   -0.794373482587\\n O    0.222358902508   -1.692171516159    1.708754628777\\n H    1.096011433538    0.150797143916    1.562283853515\\n H   -0.651293628522    0.150797143916    1.562283853515\\n H   -1.170371474270   -0.599182322331   -1.864373482587\\n H   -1.515398395040   -1.547149907082   -0.437702931232\\n H   -1.818814734895    0.173609664912   -0.437702931232\\n H    0.222358902508   -1.673059128797    2.678566320111\\n\",\"xyz\");\n\tviewergrid_16287812982446342[0][0].addLabel(\"0\",{\"position\": {\"x\": 0.22235890250849727, \"y\": -0.35360638005327316, \"z\": -0.2943789284427553}, \"inFront\": true});\n\tviewergrid_16287812982446342[0][0].addLabel(\"1\",{\"position\": {\"x\": 0.22235890250849727, \"y\": -0.35360638005327316, \"z\": 1.2056210715606743}, \"inFront\": true});\n\tviewergrid_16287812982446342[0][0].addLabel(\"2\",{\"position\": {\"x\": 0.22235890250849727, \"y\": 1.3340241020129557, \"z\": -0.8910390963906087}, \"inFront\": true});\n\tviewergrid_16287812982446342[0][0].addLabel(\"3\",{\"position\": {\"x\": 1.2334811560514378, \"y\": -0.5318945141476388, \"z\": -0.6573749747529298}, \"inFront\": true});\n\tviewergrid_16287812982446342[0][0].addLabel(\"4\",{\"position\": {\"x\": -1.1703714742724125, \"y\": -0.5991823223320136, \"z\": -0.7943734825890012}, \"inFront\": true});\n\tviewergrid_16287812982446342[0][0].addLabel(\"5\",{\"position\": {\"x\": 0.22235890250849727, \"y\": -1.6921715161630655, \"z\": 1.7087546287805488}, \"inFront\": true});\n\tviewergrid_16287812982446342[0][0].addLabel(\"6\",{\"position\": {\"x\": 1.0960114335404842, \"y\": 0.15079714391624185, \"z\": 1.56228385351833}, \"inFront\": true});\n\tviewergrid_16287812982446342[0][0].addLabel(\"7\",{\"position\": {\"x\": -0.651293628523489, \"y\": 0.15079714391624277, \"z\": 1.56228385351833}, \"inFront\": true});\n\tviewergrid_16287812982446342[0][0].addLabel(\"8\",{\"position\": {\"x\": -1.1703714742724125, \"y\": -0.5991823223320135, \"z\": -1.8643734825914484}, \"inFront\": true});\n\tviewergrid_16287812982446342[0][0].addLabel(\"9\",{\"position\": {\"x\": -1.5153983950430838, \"y\": -1.547149907085861, \"z\": -0.43770293123284804}, \"inFront\": true});\n\tviewergrid_16287812982446342[0][0].addLabel(\"10\",{\"position\": {\"x\": -1.8188147348986956, \"y\": 0.17360966491221708, \"z\": -0.4377029312328472}, \"inFront\": true});\n\tviewergrid_16287812982446342[0][0].addLabel(\"11\",{\"position\": {\"x\": 0.22235890250849727, \"y\": -1.6730591288011394, \"z\": 2.678566320117393}, \"inFront\": true});\n\tviewergrid_16287812982446342[0][1].addModel(\"11\\n\\n C    0.224768290094   -0.575970360166   -0.059683739329\\n C    0.224768290094   -0.575970360166    1.440316260671\\nCL    0.224768290094    1.686774420253   -0.859675025962\\n H    1.235890543635   -0.754258494259   -0.422679785639\\n C   -1.167962086684   -0.821546302444   -0.559678293475\\n O    0.224768290094   -1.984245446973    1.191999366607\\n H    1.098420821124   -0.071566836197    1.796979042627\\n H   -0.648884240936   -0.071566836197    1.796979042627\\n H   -1.167962086684   -0.821546302444   -1.629678293475\\n H   -1.512989007454   -1.769513887195   -0.203007742119\\n H   -1.816405347309   -0.048754315201   -0.203007742119\\n\",\"xyz\");\n\tviewergrid_16287812982446342[0][1].addLabel(\"0\",{\"position\": {\"x\": 0.22476829009438942, \"y\": -0.5759703601668448, \"z\": -0.05968373932955492}, \"inFront\": true});\n\tviewergrid_16287812982446342[0][1].addLabel(\"1\",{\"position\": {\"x\": 0.22476829009438942, \"y\": -0.5759703601668448, \"z\": 1.4403162606738749}, \"inFront\": true});\n\tviewergrid_16287812982446342[0][1].addLabel(\"2\",{\"position\": {\"x\": 0.22476829009438942, \"y\": 1.686774420257149, \"z\": -0.8596750259635483}, \"inFront\": true});\n\tviewergrid_16287812982446342[0][1].addLabel(\"3\",{\"position\": {\"x\": 1.2358905436373302, \"y\": -0.7542584942612103, \"z\": -0.4226797856397294}, \"inFront\": true});\n\tviewergrid_16287812982446342[0][1].addLabel(\"4\",{\"position\": {\"x\": -1.1679620866865206, \"y\": -0.8215463024455855, \"z\": -0.5596782934758008}, \"inFront\": true});\n\tviewergrid_16287812982446342[0][1].addLabel(\"5\",{\"position\": {\"x\": 0.22476829009438942, \"y\": -1.9842454469775224, \"z\": 1.191999366609597}, \"inFront\": true});\n\tviewergrid_16287812982446342[0][1].addLabel(\"6\",{\"position\": {\"x\": 1.0984208211263762, \"y\": -0.07156683619732974, \"z\": 1.7969790426315304}, \"inFront\": true});\n\tviewergrid_16287812982446342[0][1].addLabel(\"7\",{\"position\": {\"x\": -0.6488842409375969, \"y\": -0.07156683619732887, \"z\": 1.7969790426315304}, \"inFront\": true});\n\tviewergrid_16287812982446342[0][1].addLabel(\"8\",{\"position\": {\"x\": -1.1679620866865206, \"y\": -0.8215463024455852, \"z\": -1.6296782934782479}, \"inFront\": true});\n\tviewergrid_16287812982446342[0][1].addLabel(\"9\",{\"position\": {\"x\": -1.5129890074571914, \"y\": -1.7695138871994327, \"z\": -0.20300774211964764}, \"inFront\": true});\n\tviewergrid_16287812982446342[0][1].addLabel(\"10\",{\"position\": {\"x\": -1.8164053473128035, \"y\": -0.04875431520135457, \"z\": -0.20300774211964684}, \"inFront\": true});\n\tviewergrid_16287812982446342[0][0].setStyle({\"stick\": {}});\n\tviewergrid_16287812982446342[0][1].setStyle({\"stick\": {}});\n\tviewergrid_16287812982446342[0][0].setStyle({\"model\": 0},{\"stick\": {\"colorscheme\": \"yellowCarbon\"}, \"sphere\": {\"scale\": 0.1}});\n\tviewergrid_16287812982446342[0][1].setStyle({\"model\": 0},{\"stick\": {\"colorscheme\": \"yellowCarbon\"}, \"sphere\": {\"scale\": 0.1}});\n\tviewergrid_16287812982446342[0][0].zoomTo();\n\tviewergrid_16287812982446342[0][1].zoomTo();\nviewergrid_16287812982446342[0][1].render();\nviewergrid_16287812982446342[0][0].render();\n});\n</script>",
      "text/html": [
       "<div id=\"3dmolviewer_16287812982446342\"  style=\"position: relative; width: 640px; height: 480px\">\n",
       "        <p id=\"3dmolwarning_16287812982446342\" style=\"background-color:#ffcccc;color:black\">You appear to be running in JupyterLab (or JavaScript failed to load for some other reason).  You need to install the 3dmol extension: <br>\n",
       "        <tt>jupyter labextension install jupyterlab_3dmol</tt></p>\n",
       "        </div>\n",
       "<script>\n",
       "\n",
       "var loadScriptAsync = function(uri){\n",
       "  return new Promise((resolve, reject) => {\n",
       "    var tag = document.createElement('script');\n",
       "    tag.src = uri;\n",
       "    tag.async = true;\n",
       "    tag.onload = () => {\n",
       "      resolve();\n",
       "    };\n",
       "  var firstScriptTag = document.getElementsByTagName('script')[0];\n",
       "  firstScriptTag.parentNode.insertBefore(tag, firstScriptTag);\n",
       "});\n",
       "};\n",
       "\n",
       "if(typeof $3Dmolpromise === 'undefined') {\n",
       "$3Dmolpromise = null;\n",
       "  $3Dmolpromise = loadScriptAsync('https://3dmol.org/build/3Dmol.js');\n",
       "}\n",
       "\n",
       "var viewer_16287812982446342 = null;\n",
       "var warn = document.getElementById(\"3dmolwarning_16287812982446342\");\n",
       "if(warn) {\n",
       "    warn.parentNode.removeChild(warn);\n",
       "}\n",
       "$3Dmolpromise.then(function() {\n",
       "var viewergrid_16287812982446342 = null;\n",
       "viewergrid_16287812982446342 = $3Dmol.createViewerGrid($(\"#3dmolviewer_16287812982446342\"),{rows: 1, cols: 2, control_all: true},{backgroundColor:\"white\"});\n",
       "viewer_16287812982446342 = viewergrid_16287812982446342[0][0];\n",
       "viewergrid_16287812982446342[0][0].zoomTo();viewergrid_16287812982446342[0][1].zoomTo();\tviewergrid_16287812982446342[0][0].addModel(\"12\\n\\n C    0.222358902508   -0.353606380052   -0.294378928442\\n C    0.222358902508   -0.353606380052    1.205621071558\\nCL    0.222358902508    1.334024102010   -0.891039096389\\n H    1.233481156049   -0.531894514146   -0.657374974751\\n C   -1.170371474270   -0.599182322331   -0.794373482587\\n O    0.222358902508   -1.692171516159    1.708754628777\\n H    1.096011433538    0.150797143916    1.562283853515\\n H   -0.651293628522    0.150797143916    1.562283853515\\n H   -1.170371474270   -0.599182322331   -1.864373482587\\n H   -1.515398395040   -1.547149907082   -0.437702931232\\n H   -1.818814734895    0.173609664912   -0.437702931232\\n H    0.222358902508   -1.673059128797    2.678566320111\\n\",\"xyz\");\n",
       "\tviewergrid_16287812982446342[0][0].addLabel(\"0\",{\"position\": {\"x\": 0.22235890250849727, \"y\": -0.35360638005327316, \"z\": -0.2943789284427553}, \"inFront\": true});\n",
       "\tviewergrid_16287812982446342[0][0].addLabel(\"1\",{\"position\": {\"x\": 0.22235890250849727, \"y\": -0.35360638005327316, \"z\": 1.2056210715606743}, \"inFront\": true});\n",
       "\tviewergrid_16287812982446342[0][0].addLabel(\"2\",{\"position\": {\"x\": 0.22235890250849727, \"y\": 1.3340241020129557, \"z\": -0.8910390963906087}, \"inFront\": true});\n",
       "\tviewergrid_16287812982446342[0][0].addLabel(\"3\",{\"position\": {\"x\": 1.2334811560514378, \"y\": -0.5318945141476388, \"z\": -0.6573749747529298}, \"inFront\": true});\n",
       "\tviewergrid_16287812982446342[0][0].addLabel(\"4\",{\"position\": {\"x\": -1.1703714742724125, \"y\": -0.5991823223320136, \"z\": -0.7943734825890012}, \"inFront\": true});\n",
       "\tviewergrid_16287812982446342[0][0].addLabel(\"5\",{\"position\": {\"x\": 0.22235890250849727, \"y\": -1.6921715161630655, \"z\": 1.7087546287805488}, \"inFront\": true});\n",
       "\tviewergrid_16287812982446342[0][0].addLabel(\"6\",{\"position\": {\"x\": 1.0960114335404842, \"y\": 0.15079714391624185, \"z\": 1.56228385351833}, \"inFront\": true});\n",
       "\tviewergrid_16287812982446342[0][0].addLabel(\"7\",{\"position\": {\"x\": -0.651293628523489, \"y\": 0.15079714391624277, \"z\": 1.56228385351833}, \"inFront\": true});\n",
       "\tviewergrid_16287812982446342[0][0].addLabel(\"8\",{\"position\": {\"x\": -1.1703714742724125, \"y\": -0.5991823223320135, \"z\": -1.8643734825914484}, \"inFront\": true});\n",
       "\tviewergrid_16287812982446342[0][0].addLabel(\"9\",{\"position\": {\"x\": -1.5153983950430838, \"y\": -1.547149907085861, \"z\": -0.43770293123284804}, \"inFront\": true});\n",
       "\tviewergrid_16287812982446342[0][0].addLabel(\"10\",{\"position\": {\"x\": -1.8188147348986956, \"y\": 0.17360966491221708, \"z\": -0.4377029312328472}, \"inFront\": true});\n",
       "\tviewergrid_16287812982446342[0][0].addLabel(\"11\",{\"position\": {\"x\": 0.22235890250849727, \"y\": -1.6730591288011394, \"z\": 2.678566320117393}, \"inFront\": true});\n",
       "\tviewergrid_16287812982446342[0][1].addModel(\"11\\n\\n C    0.224768290094   -0.575970360166   -0.059683739329\\n C    0.224768290094   -0.575970360166    1.440316260671\\nCL    0.224768290094    1.686774420253   -0.859675025962\\n H    1.235890543635   -0.754258494259   -0.422679785639\\n C   -1.167962086684   -0.821546302444   -0.559678293475\\n O    0.224768290094   -1.984245446973    1.191999366607\\n H    1.098420821124   -0.071566836197    1.796979042627\\n H   -0.648884240936   -0.071566836197    1.796979042627\\n H   -1.167962086684   -0.821546302444   -1.629678293475\\n H   -1.512989007454   -1.769513887195   -0.203007742119\\n H   -1.816405347309   -0.048754315201   -0.203007742119\\n\",\"xyz\");\n",
       "\tviewergrid_16287812982446342[0][1].addLabel(\"0\",{\"position\": {\"x\": 0.22476829009438942, \"y\": -0.5759703601668448, \"z\": -0.05968373932955492}, \"inFront\": true});\n",
       "\tviewergrid_16287812982446342[0][1].addLabel(\"1\",{\"position\": {\"x\": 0.22476829009438942, \"y\": -0.5759703601668448, \"z\": 1.4403162606738749}, \"inFront\": true});\n",
       "\tviewergrid_16287812982446342[0][1].addLabel(\"2\",{\"position\": {\"x\": 0.22476829009438942, \"y\": 1.686774420257149, \"z\": -0.8596750259635483}, \"inFront\": true});\n",
       "\tviewergrid_16287812982446342[0][1].addLabel(\"3\",{\"position\": {\"x\": 1.2358905436373302, \"y\": -0.7542584942612103, \"z\": -0.4226797856397294}, \"inFront\": true});\n",
       "\tviewergrid_16287812982446342[0][1].addLabel(\"4\",{\"position\": {\"x\": -1.1679620866865206, \"y\": -0.8215463024455855, \"z\": -0.5596782934758008}, \"inFront\": true});\n",
       "\tviewergrid_16287812982446342[0][1].addLabel(\"5\",{\"position\": {\"x\": 0.22476829009438942, \"y\": -1.9842454469775224, \"z\": 1.191999366609597}, \"inFront\": true});\n",
       "\tviewergrid_16287812982446342[0][1].addLabel(\"6\",{\"position\": {\"x\": 1.0984208211263762, \"y\": -0.07156683619732974, \"z\": 1.7969790426315304}, \"inFront\": true});\n",
       "\tviewergrid_16287812982446342[0][1].addLabel(\"7\",{\"position\": {\"x\": -0.6488842409375969, \"y\": -0.07156683619732887, \"z\": 1.7969790426315304}, \"inFront\": true});\n",
       "\tviewergrid_16287812982446342[0][1].addLabel(\"8\",{\"position\": {\"x\": -1.1679620866865206, \"y\": -0.8215463024455852, \"z\": -1.6296782934782479}, \"inFront\": true});\n",
       "\tviewergrid_16287812982446342[0][1].addLabel(\"9\",{\"position\": {\"x\": -1.5129890074571914, \"y\": -1.7695138871994327, \"z\": -0.20300774211964764}, \"inFront\": true});\n",
       "\tviewergrid_16287812982446342[0][1].addLabel(\"10\",{\"position\": {\"x\": -1.8164053473128035, \"y\": -0.04875431520135457, \"z\": -0.20300774211964684}, \"inFront\": true});\n",
       "\tviewergrid_16287812982446342[0][0].setStyle({\"stick\": {}});\n",
       "\tviewergrid_16287812982446342[0][1].setStyle({\"stick\": {}});\n",
       "\tviewergrid_16287812982446342[0][0].setStyle({\"model\": 0},{\"stick\": {\"colorscheme\": \"yellowCarbon\"}, \"sphere\": {\"scale\": 0.1}});\n",
       "\tviewergrid_16287812982446342[0][1].setStyle({\"model\": 0},{\"stick\": {\"colorscheme\": \"yellowCarbon\"}, \"sphere\": {\"scale\": 0.1}});\n",
       "\tviewergrid_16287812982446342[0][0].zoomTo();\n",
       "\tviewergrid_16287812982446342[0][1].zoomTo();\n",
       "viewergrid_16287812982446342[0][1].render();\n",
       "viewergrid_16287812982446342[0][0].render();\n",
       "});\n",
       "</script>"
      ]
     },
     "metadata": {},
     "output_type": "display_data"
    }
   ],
   "source": [
    "drawXYZSideBySide_labeled(chloropropanoate, ts_guess)"
   ]
  },
  {
   "cell_type": "markdown",
   "id": "a5301a7b",
   "metadata": {},
   "source": [
    "```{admonition} Exercise 3\n",
    ":class: exercise \n",
    "Include a screenshot of the transition state that you obtained and the corresponding Z-matrix for the transition state guess\n",
    "```\n"
   ]
  },
  {
   "cell_type": "markdown",
   "id": "92ffc9eb",
   "metadata": {},
   "source": [
    "### Constrained optimization\n",
    "\n",
    "We will first optimize our transition state guess keeping the C-Cl distance fixed. "
   ]
  },
  {
   "cell_type": "code",
   "execution_count": 4,
   "id": "374d8c60",
   "metadata": {},
   "outputs": [
    {
     "name": "stdout",
     "output_type": "stream",
     "text": [
      "Optimizer: Optimization complete!\n"
     ]
    },
    {
     "data": {
      "text/plain": [
       "-653.2420085847897"
      ]
     },
     "execution_count": 4,
     "metadata": {},
     "output_type": "execute_result"
    }
   ],
   "source": [
    "ts_guess_opt = ts_guess.clone()\n",
    "psi4.core.set_output_file(f'poxide.log', False)\n",
    "psi4.set_options({\"frozen_distance\":\"1 3\"})\n",
    "psi4.optimize('b3pw91/6-31+G*', molecule=ts_guess_opt)"
   ]
  },
  {
   "cell_type": "code",
   "execution_count": 5,
   "id": "4eb68a13",
   "metadata": {},
   "outputs": [
    {
     "data": {
      "application/3dmoljs_load.v0": "<div id=\"3dmolviewer_16287814255155861\"  style=\"position: relative; width: 640px; height: 480px\">\n        <p id=\"3dmolwarning_16287814255155861\" style=\"background-color:#ffcccc;color:black\">You appear to be running in JupyterLab (or JavaScript failed to load for some other reason).  You need to install the 3dmol extension: <br>\n        <tt>jupyter labextension install jupyterlab_3dmol</tt></p>\n        </div>\n<script>\n\nvar loadScriptAsync = function(uri){\n  return new Promise((resolve, reject) => {\n    var tag = document.createElement('script');\n    tag.src = uri;\n    tag.async = true;\n    tag.onload = () => {\n      resolve();\n    };\n  var firstScriptTag = document.getElementsByTagName('script')[0];\n  firstScriptTag.parentNode.insertBefore(tag, firstScriptTag);\n});\n};\n\nif(typeof $3Dmolpromise === 'undefined') {\n$3Dmolpromise = null;\n  $3Dmolpromise = loadScriptAsync('https://3dmol.org/build/3Dmol.js');\n}\n\nvar viewer_16287814255155861 = null;\nvar warn = document.getElementById(\"3dmolwarning_16287814255155861\");\nif(warn) {\n    warn.parentNode.removeChild(warn);\n}\n$3Dmolpromise.then(function() {\nvar viewergrid_16287814255155861 = null;\nviewergrid_16287814255155861 = $3Dmol.createViewerGrid($(\"#3dmolviewer_16287814255155861\"),{rows: 1, cols: 2, control_all: true},{backgroundColor:\"white\"});\nviewer_16287814255155861 = viewergrid_16287814255155861[0][0];\nviewergrid_16287814255155861[0][0].zoomTo();viewergrid_16287814255155861[0][1].zoomTo();\tviewergrid_16287814255155861[0][0].addModel(\"11\\n\\n C    0.224768290094   -0.575970360166   -0.059683739329\\n C    0.224768290094   -0.575970360166    1.440316260671\\nCL    0.224768290094    1.686774420253   -0.859675025962\\n H    1.235890543635   -0.754258494259   -0.422679785639\\n C   -1.167962086684   -0.821546302444   -0.559678293475\\n O    0.224768290094   -1.984245446973    1.191999366607\\n H    1.098420821124   -0.071566836197    1.796979042627\\n H   -0.648884240936   -0.071566836197    1.796979042627\\n H   -1.167962086684   -0.821546302444   -1.629678293475\\n H   -1.512989007454   -1.769513887195   -0.203007742119\\n H   -1.816405347309   -0.048754315201   -0.203007742119\\n\",\"xyz\");\n\tviewergrid_16287814255155861[0][0].addLabel(\"0\",{\"position\": {\"x\": 0.22476829009438942, \"y\": -0.5759703601668448, \"z\": -0.05968373932955492}, \"inFront\": true});\n\tviewergrid_16287814255155861[0][0].addLabel(\"1\",{\"position\": {\"x\": 0.22476829009438942, \"y\": -0.5759703601668448, \"z\": 1.4403162606738749}, \"inFront\": true});\n\tviewergrid_16287814255155861[0][0].addLabel(\"2\",{\"position\": {\"x\": 0.22476829009438942, \"y\": 1.686774420257149, \"z\": -0.8596750259635483}, \"inFront\": true});\n\tviewergrid_16287814255155861[0][0].addLabel(\"3\",{\"position\": {\"x\": 1.2358905436373302, \"y\": -0.7542584942612103, \"z\": -0.4226797856397294}, \"inFront\": true});\n\tviewergrid_16287814255155861[0][0].addLabel(\"4\",{\"position\": {\"x\": -1.1679620866865206, \"y\": -0.8215463024455855, \"z\": -0.5596782934758008}, \"inFront\": true});\n\tviewergrid_16287814255155861[0][0].addLabel(\"5\",{\"position\": {\"x\": 0.22476829009438942, \"y\": -1.9842454469775224, \"z\": 1.191999366609597}, \"inFront\": true});\n\tviewergrid_16287814255155861[0][0].addLabel(\"6\",{\"position\": {\"x\": 1.0984208211263762, \"y\": -0.07156683619732974, \"z\": 1.7969790426315304}, \"inFront\": true});\n\tviewergrid_16287814255155861[0][0].addLabel(\"7\",{\"position\": {\"x\": -0.6488842409375969, \"y\": -0.07156683619732887, \"z\": 1.7969790426315304}, \"inFront\": true});\n\tviewergrid_16287814255155861[0][0].addLabel(\"8\",{\"position\": {\"x\": -1.1679620866865206, \"y\": -0.8215463024455852, \"z\": -1.6296782934782479}, \"inFront\": true});\n\tviewergrid_16287814255155861[0][0].addLabel(\"9\",{\"position\": {\"x\": -1.5129890074571914, \"y\": -1.7695138871994327, \"z\": -0.20300774211964764}, \"inFront\": true});\n\tviewergrid_16287814255155861[0][0].addLabel(\"10\",{\"position\": {\"x\": -1.8164053473128035, \"y\": -0.04875431520135457, \"z\": -0.20300774211964684}, \"inFront\": true});\n\tviewergrid_16287814255155861[0][1].addModel(\"11\\n\\n C    0.167598983715   -0.609607776614   -0.079600355888\\n C    0.167598983715   -0.609607776614    1.367645119866\\nCL    0.167598983715    1.739534045434   -0.571060120164\\n H    1.123736803055   -0.562476463144   -0.578356524542\\n C   -1.059805892716   -0.922780430843   -0.894764202766\\n O    0.351430785319   -1.939182035471    0.961063597049\\n H    1.014194068747   -0.128033703032    1.875603425038\\n H   -0.786183167941   -0.381547412193    1.866896014623\\n H   -1.103869071413   -0.280227015552   -1.777030701767\\n H   -1.046149051110   -1.975716481459   -1.204867303234\\n H   -1.966648475510   -0.748606213292   -0.303475971869\\n\",\"xyz\");\n\tviewergrid_16287814255155861[0][1].addLabel(\"0\",{\"position\": {\"x\": 0.16759898371552723, \"y\": -0.609607776615544, \"z\": -0.0796003558882859}, \"inFront\": true});\n\tviewergrid_16287814255155861[0][1].addLabel(\"1\",{\"position\": {\"x\": 0.16759898371552723, \"y\": -0.609607776615544, \"z\": 1.3676451198687127}, \"inFront\": true});\n\tviewergrid_16287814255155861[0][1].addLabel(\"2\",{\"position\": {\"x\": 0.16759898371552723, \"y\": 1.7395340454384012, \"z\": -0.5710601201655082}, \"inFront\": true});\n\tviewergrid_16287814255155861[0][1].addLabel(\"3\",{\"position\": {\"x\": 1.1237368030574115, \"y\": -0.5624764631450518, \"z\": -0.5783565245433491}, \"inFront\": true});\n\tviewergrid_16287814255155861[0][1].addLabel(\"4\",{\"position\": {\"x\": -1.0598058927181637, \"y\": -0.9227804308454556, \"z\": -0.8947642027682035}, \"inFront\": true});\n\tviewergrid_16287814255155861[0][1].addLabel(\"5\",{\"position\": {\"x\": 0.35143078532006083, \"y\": -1.9391820354756473, \"z\": 0.9610635970508048}, \"inFront\": true});\n\tviewergrid_16287814255155861[0][1].addLabel(\"6\",{\"position\": {\"x\": 1.0141940687489257, \"y\": -0.12803370303215963, \"z\": 1.875603425041949}, \"inFront\": true});\n\tviewergrid_16287814255155861[0][1].addLabel(\"7\",{\"position\": {\"x\": -0.7861831679425413, \"y\": -0.38154741219349864, \"z\": 1.8668960146268287}, \"inFront\": true});\n\tviewergrid_16287814255155861[0][1].addLabel(\"8\",{\"position\": {\"x\": -1.1038690714157209, \"y\": -0.2802270155521906, \"z\": -1.7770307017715248}, \"inFront\": true});\n\tviewergrid_16287814255155861[0][1].addLabel(\"9\",{\"position\": {\"x\": -1.0461490511120408, \"y\": -1.9757164814639967, \"z\": -1.2048673032371595}, \"inFront\": true});\n\tviewergrid_16287814255155861[0][1].addLabel(\"10\",{\"position\": {\"x\": -1.9666484755144362, \"y\": -0.7486062132936017, \"z\": -0.3034759718695101}, \"inFront\": true});\n\tviewergrid_16287814255155861[0][0].setStyle({\"stick\": {}});\n\tviewergrid_16287814255155861[0][1].setStyle({\"stick\": {}});\n\tviewergrid_16287814255155861[0][0].setStyle({\"model\": 0},{\"stick\": {\"colorscheme\": \"yellowCarbon\"}, \"sphere\": {\"scale\": 0.1}});\n\tviewergrid_16287814255155861[0][1].setStyle({\"model\": 0},{\"stick\": {\"colorscheme\": \"yellowCarbon\"}, \"sphere\": {\"scale\": 0.1}});\n\tviewergrid_16287814255155861[0][0].zoomTo();\n\tviewergrid_16287814255155861[0][1].zoomTo();\nviewergrid_16287814255155861[0][1].render();\nviewergrid_16287814255155861[0][0].render();\n});\n</script>",
      "text/html": [
       "<div id=\"3dmolviewer_16287814255155861\"  style=\"position: relative; width: 640px; height: 480px\">\n",
       "        <p id=\"3dmolwarning_16287814255155861\" style=\"background-color:#ffcccc;color:black\">You appear to be running in JupyterLab (or JavaScript failed to load for some other reason).  You need to install the 3dmol extension: <br>\n",
       "        <tt>jupyter labextension install jupyterlab_3dmol</tt></p>\n",
       "        </div>\n",
       "<script>\n",
       "\n",
       "var loadScriptAsync = function(uri){\n",
       "  return new Promise((resolve, reject) => {\n",
       "    var tag = document.createElement('script');\n",
       "    tag.src = uri;\n",
       "    tag.async = true;\n",
       "    tag.onload = () => {\n",
       "      resolve();\n",
       "    };\n",
       "  var firstScriptTag = document.getElementsByTagName('script')[0];\n",
       "  firstScriptTag.parentNode.insertBefore(tag, firstScriptTag);\n",
       "});\n",
       "};\n",
       "\n",
       "if(typeof $3Dmolpromise === 'undefined') {\n",
       "$3Dmolpromise = null;\n",
       "  $3Dmolpromise = loadScriptAsync('https://3dmol.org/build/3Dmol.js');\n",
       "}\n",
       "\n",
       "var viewer_16287814255155861 = null;\n",
       "var warn = document.getElementById(\"3dmolwarning_16287814255155861\");\n",
       "if(warn) {\n",
       "    warn.parentNode.removeChild(warn);\n",
       "}\n",
       "$3Dmolpromise.then(function() {\n",
       "var viewergrid_16287814255155861 = null;\n",
       "viewergrid_16287814255155861 = $3Dmol.createViewerGrid($(\"#3dmolviewer_16287814255155861\"),{rows: 1, cols: 2, control_all: true},{backgroundColor:\"white\"});\n",
       "viewer_16287814255155861 = viewergrid_16287814255155861[0][0];\n",
       "viewergrid_16287814255155861[0][0].zoomTo();viewergrid_16287814255155861[0][1].zoomTo();\tviewergrid_16287814255155861[0][0].addModel(\"11\\n\\n C    0.224768290094   -0.575970360166   -0.059683739329\\n C    0.224768290094   -0.575970360166    1.440316260671\\nCL    0.224768290094    1.686774420253   -0.859675025962\\n H    1.235890543635   -0.754258494259   -0.422679785639\\n C   -1.167962086684   -0.821546302444   -0.559678293475\\n O    0.224768290094   -1.984245446973    1.191999366607\\n H    1.098420821124   -0.071566836197    1.796979042627\\n H   -0.648884240936   -0.071566836197    1.796979042627\\n H   -1.167962086684   -0.821546302444   -1.629678293475\\n H   -1.512989007454   -1.769513887195   -0.203007742119\\n H   -1.816405347309   -0.048754315201   -0.203007742119\\n\",\"xyz\");\n",
       "\tviewergrid_16287814255155861[0][0].addLabel(\"0\",{\"position\": {\"x\": 0.22476829009438942, \"y\": -0.5759703601668448, \"z\": -0.05968373932955492}, \"inFront\": true});\n",
       "\tviewergrid_16287814255155861[0][0].addLabel(\"1\",{\"position\": {\"x\": 0.22476829009438942, \"y\": -0.5759703601668448, \"z\": 1.4403162606738749}, \"inFront\": true});\n",
       "\tviewergrid_16287814255155861[0][0].addLabel(\"2\",{\"position\": {\"x\": 0.22476829009438942, \"y\": 1.686774420257149, \"z\": -0.8596750259635483}, \"inFront\": true});\n",
       "\tviewergrid_16287814255155861[0][0].addLabel(\"3\",{\"position\": {\"x\": 1.2358905436373302, \"y\": -0.7542584942612103, \"z\": -0.4226797856397294}, \"inFront\": true});\n",
       "\tviewergrid_16287814255155861[0][0].addLabel(\"4\",{\"position\": {\"x\": -1.1679620866865206, \"y\": -0.8215463024455855, \"z\": -0.5596782934758008}, \"inFront\": true});\n",
       "\tviewergrid_16287814255155861[0][0].addLabel(\"5\",{\"position\": {\"x\": 0.22476829009438942, \"y\": -1.9842454469775224, \"z\": 1.191999366609597}, \"inFront\": true});\n",
       "\tviewergrid_16287814255155861[0][0].addLabel(\"6\",{\"position\": {\"x\": 1.0984208211263762, \"y\": -0.07156683619732974, \"z\": 1.7969790426315304}, \"inFront\": true});\n",
       "\tviewergrid_16287814255155861[0][0].addLabel(\"7\",{\"position\": {\"x\": -0.6488842409375969, \"y\": -0.07156683619732887, \"z\": 1.7969790426315304}, \"inFront\": true});\n",
       "\tviewergrid_16287814255155861[0][0].addLabel(\"8\",{\"position\": {\"x\": -1.1679620866865206, \"y\": -0.8215463024455852, \"z\": -1.6296782934782479}, \"inFront\": true});\n",
       "\tviewergrid_16287814255155861[0][0].addLabel(\"9\",{\"position\": {\"x\": -1.5129890074571914, \"y\": -1.7695138871994327, \"z\": -0.20300774211964764}, \"inFront\": true});\n",
       "\tviewergrid_16287814255155861[0][0].addLabel(\"10\",{\"position\": {\"x\": -1.8164053473128035, \"y\": -0.04875431520135457, \"z\": -0.20300774211964684}, \"inFront\": true});\n",
       "\tviewergrid_16287814255155861[0][1].addModel(\"11\\n\\n C    0.167598983715   -0.609607776614   -0.079600355888\\n C    0.167598983715   -0.609607776614    1.367645119866\\nCL    0.167598983715    1.739534045434   -0.571060120164\\n H    1.123736803055   -0.562476463144   -0.578356524542\\n C   -1.059805892716   -0.922780430843   -0.894764202766\\n O    0.351430785319   -1.939182035471    0.961063597049\\n H    1.014194068747   -0.128033703032    1.875603425038\\n H   -0.786183167941   -0.381547412193    1.866896014623\\n H   -1.103869071413   -0.280227015552   -1.777030701767\\n H   -1.046149051110   -1.975716481459   -1.204867303234\\n H   -1.966648475510   -0.748606213292   -0.303475971869\\n\",\"xyz\");\n",
       "\tviewergrid_16287814255155861[0][1].addLabel(\"0\",{\"position\": {\"x\": 0.16759898371552723, \"y\": -0.609607776615544, \"z\": -0.0796003558882859}, \"inFront\": true});\n",
       "\tviewergrid_16287814255155861[0][1].addLabel(\"1\",{\"position\": {\"x\": 0.16759898371552723, \"y\": -0.609607776615544, \"z\": 1.3676451198687127}, \"inFront\": true});\n",
       "\tviewergrid_16287814255155861[0][1].addLabel(\"2\",{\"position\": {\"x\": 0.16759898371552723, \"y\": 1.7395340454384012, \"z\": -0.5710601201655082}, \"inFront\": true});\n",
       "\tviewergrid_16287814255155861[0][1].addLabel(\"3\",{\"position\": {\"x\": 1.1237368030574115, \"y\": -0.5624764631450518, \"z\": -0.5783565245433491}, \"inFront\": true});\n",
       "\tviewergrid_16287814255155861[0][1].addLabel(\"4\",{\"position\": {\"x\": -1.0598058927181637, \"y\": -0.9227804308454556, \"z\": -0.8947642027682035}, \"inFront\": true});\n",
       "\tviewergrid_16287814255155861[0][1].addLabel(\"5\",{\"position\": {\"x\": 0.35143078532006083, \"y\": -1.9391820354756473, \"z\": 0.9610635970508048}, \"inFront\": true});\n",
       "\tviewergrid_16287814255155861[0][1].addLabel(\"6\",{\"position\": {\"x\": 1.0141940687489257, \"y\": -0.12803370303215963, \"z\": 1.875603425041949}, \"inFront\": true});\n",
       "\tviewergrid_16287814255155861[0][1].addLabel(\"7\",{\"position\": {\"x\": -0.7861831679425413, \"y\": -0.38154741219349864, \"z\": 1.8668960146268287}, \"inFront\": true});\n",
       "\tviewergrid_16287814255155861[0][1].addLabel(\"8\",{\"position\": {\"x\": -1.1038690714157209, \"y\": -0.2802270155521906, \"z\": -1.7770307017715248}, \"inFront\": true});\n",
       "\tviewergrid_16287814255155861[0][1].addLabel(\"9\",{\"position\": {\"x\": -1.0461490511120408, \"y\": -1.9757164814639967, \"z\": -1.2048673032371595}, \"inFront\": true});\n",
       "\tviewergrid_16287814255155861[0][1].addLabel(\"10\",{\"position\": {\"x\": -1.9666484755144362, \"y\": -0.7486062132936017, \"z\": -0.3034759718695101}, \"inFront\": true});\n",
       "\tviewergrid_16287814255155861[0][0].setStyle({\"stick\": {}});\n",
       "\tviewergrid_16287814255155861[0][1].setStyle({\"stick\": {}});\n",
       "\tviewergrid_16287814255155861[0][0].setStyle({\"model\": 0},{\"stick\": {\"colorscheme\": \"yellowCarbon\"}, \"sphere\": {\"scale\": 0.1}});\n",
       "\tviewergrid_16287814255155861[0][1].setStyle({\"model\": 0},{\"stick\": {\"colorscheme\": \"yellowCarbon\"}, \"sphere\": {\"scale\": 0.1}});\n",
       "\tviewergrid_16287814255155861[0][0].zoomTo();\n",
       "\tviewergrid_16287814255155861[0][1].zoomTo();\n",
       "viewergrid_16287814255155861[0][1].render();\n",
       "viewergrid_16287814255155861[0][0].render();\n",
       "});\n",
       "</script>"
      ]
     },
     "metadata": {},
     "output_type": "display_data"
    }
   ],
   "source": [
    "drawXYZSideBySide_labeled(ts_guess, ts_guess_opt)"
   ]
  },
  {
   "cell_type": "markdown",
   "id": "760f8b21",
   "metadata": {},
   "source": [
    "### Finding the Transition State \n",
    "\n",
    "Now that we have our  transition state guess optimized, we want to find out whether this guess is close to the transition state (meaning it has one imaginary frequency) and then optimize to the actual transition state. \n",
    "\n",
    "If we set `full_hess_every` to `0`, a frequency calculation will be performed at the begining (you could also do it seperately using `psi4.frequency([..])`. By setting `opt_type` to `ts` the optimization will try to find the 1st order saddlepoint that is the transition state. \n",
    "\n",
    "We will write the normal modes to a file for visualization. "
   ]
  },
  {
   "cell_type": "code",
   "execution_count": 6,
   "id": "878d787f",
   "metadata": {},
   "outputs": [
    {
     "name": "stdout",
     "output_type": "stream",
     "text": [
      " 55 displacements needed.\n",
      " 1 2 3 4 5 6 7 8 9 10 11 12 13 14 15 16 17 18 19 20 21 22 23 24 25 26 27 28 29 30 31 32 33 34 35 36 37 38 39 40 41 42 43 44 45 46 47 48 49 50 51 52 53 54 55\n",
      "Warning: thermodynamics relations excluded imaginary frequencies: ['381.2365i']\n",
      "Warning: used thermodynamics relations inappropriate for low-frequency modes: ['85.7172' '182.7490' '225.6997' '301.9617' '379.9305' '408.6446']\n",
      "Optimizer: Optimization complete!\n"
     ]
    },
    {
     "data": {
      "text/plain": [
       "'11\\n\\n C    0.161357053629   -0.511256148914   -0.065664084757\\n C    0.161357053629   -0.511256148914    1.410182742708\\nCL    0.161357053629    1.675082246570   -0.830276612112\\n H    1.132467894899   -0.697551737274   -0.509038133351\\n C   -1.040810400675   -1.016788088306   -0.814524778141\\n O    0.357820745280   -1.868677427818    1.406009598037\\n H    0.974204396689    0.103595337534    1.848386886461\\n H   -0.802592739043   -0.159400885501    1.838653307947\\n H   -0.947697450572   -0.799236008474   -1.882558623854\\n H   -1.132489426792   -2.098230744587   -0.668157830485\\n H   -1.951179355428   -0.531215137812   -0.443830646071\\n'"
      ]
     },
     "execution_count": 6,
     "metadata": {},
     "output_type": "execute_result"
    }
   ],
   "source": [
    "ts = ts_guess_opt.clone()\n",
    "psi4.core.clean_options()\n",
    "\n",
    "psi4.core.set_output_file(f'ts.log', False)\n",
    "psi4.set_options({\n",
    "    \"opt_type\":\"ts\",\n",
    "    \"geom_maxiter\":500, \n",
    "    \"normal_modes_write\": True,\n",
    "    \"full_hess_every\":0 #0 compute the initial Hessian only\n",
    "    })\n",
    "\n",
    "E = psi4.optimize('b3pw91/6-31+G*', molecule=ts)\n",
    "ts.save_string_xyz_file()"
   ]
  },
  {
   "cell_type": "markdown",
   "id": "91e3b140",
   "metadata": {},
   "source": [
    "We can also compare the TS with the guess to see how far we are. "
   ]
  },
  {
   "cell_type": "code",
   "execution_count": 7,
   "id": "1a796682",
   "metadata": {},
   "outputs": [
    {
     "data": {
      "application/3dmoljs_load.v0": "<div id=\"3dmolviewer_16287820567118528\"  style=\"position: relative; width: 640px; height: 480px\">\n        <p id=\"3dmolwarning_16287820567118528\" style=\"background-color:#ffcccc;color:black\">You appear to be running in JupyterLab (or JavaScript failed to load for some other reason).  You need to install the 3dmol extension: <br>\n        <tt>jupyter labextension install jupyterlab_3dmol</tt></p>\n        </div>\n<script>\n\nvar loadScriptAsync = function(uri){\n  return new Promise((resolve, reject) => {\n    var tag = document.createElement('script');\n    tag.src = uri;\n    tag.async = true;\n    tag.onload = () => {\n      resolve();\n    };\n  var firstScriptTag = document.getElementsByTagName('script')[0];\n  firstScriptTag.parentNode.insertBefore(tag, firstScriptTag);\n});\n};\n\nif(typeof $3Dmolpromise === 'undefined') {\n$3Dmolpromise = null;\n  $3Dmolpromise = loadScriptAsync('https://3dmol.org/build/3Dmol.js');\n}\n\nvar viewer_16287820567118528 = null;\nvar warn = document.getElementById(\"3dmolwarning_16287820567118528\");\nif(warn) {\n    warn.parentNode.removeChild(warn);\n}\n$3Dmolpromise.then(function() {\nvar viewergrid_16287820567118528 = null;\nviewergrid_16287820567118528 = $3Dmol.createViewerGrid($(\"#3dmolviewer_16287820567118528\"),{rows: 1, cols: 2, control_all: true},{backgroundColor:\"white\"});\nviewer_16287820567118528 = viewergrid_16287820567118528[0][0];\nviewergrid_16287820567118528[0][0].zoomTo();viewergrid_16287820567118528[0][1].zoomTo();\tviewergrid_16287820567118528[0][0].addModel(\"11\\n\\n C    0.167598983715   -0.609607776614   -0.079600355888\\n C    0.167598983715   -0.609607776614    1.367645119866\\nCL    0.167598983715    1.739534045434   -0.571060120164\\n H    1.123736803055   -0.562476463144   -0.578356524542\\n C   -1.059805892716   -0.922780430843   -0.894764202766\\n O    0.351430785319   -1.939182035471    0.961063597049\\n H    1.014194068747   -0.128033703032    1.875603425038\\n H   -0.786183167941   -0.381547412193    1.866896014623\\n H   -1.103869071413   -0.280227015552   -1.777030701767\\n H   -1.046149051110   -1.975716481459   -1.204867303234\\n H   -1.966648475510   -0.748606213292   -0.303475971869\\n\",\"xyz\");\n\tviewergrid_16287820567118528[0][0].addLabel(\"0\",{\"position\": {\"x\": 0.16759898371552723, \"y\": -0.609607776615544, \"z\": -0.0796003558882859}, \"inFront\": true});\n\tviewergrid_16287820567118528[0][0].addLabel(\"1\",{\"position\": {\"x\": 0.16759898371552723, \"y\": -0.609607776615544, \"z\": 1.3676451198687127}, \"inFront\": true});\n\tviewergrid_16287820567118528[0][0].addLabel(\"2\",{\"position\": {\"x\": 0.16759898371552723, \"y\": 1.7395340454384012, \"z\": -0.5710601201655082}, \"inFront\": true});\n\tviewergrid_16287820567118528[0][0].addLabel(\"3\",{\"position\": {\"x\": 1.1237368030574115, \"y\": -0.5624764631450518, \"z\": -0.5783565245433491}, \"inFront\": true});\n\tviewergrid_16287820567118528[0][0].addLabel(\"4\",{\"position\": {\"x\": -1.0598058927181637, \"y\": -0.9227804308454556, \"z\": -0.8947642027682035}, \"inFront\": true});\n\tviewergrid_16287820567118528[0][0].addLabel(\"5\",{\"position\": {\"x\": 0.35143078532006083, \"y\": -1.9391820354756473, \"z\": 0.9610635970508048}, \"inFront\": true});\n\tviewergrid_16287820567118528[0][0].addLabel(\"6\",{\"position\": {\"x\": 1.0141940687489257, \"y\": -0.12803370303215963, \"z\": 1.875603425041949}, \"inFront\": true});\n\tviewergrid_16287820567118528[0][0].addLabel(\"7\",{\"position\": {\"x\": -0.7861831679425413, \"y\": -0.38154741219349864, \"z\": 1.8668960146268287}, \"inFront\": true});\n\tviewergrid_16287820567118528[0][0].addLabel(\"8\",{\"position\": {\"x\": -1.1038690714157209, \"y\": -0.2802270155521906, \"z\": -1.7770307017715248}, \"inFront\": true});\n\tviewergrid_16287820567118528[0][0].addLabel(\"9\",{\"position\": {\"x\": -1.0461490511120408, \"y\": -1.9757164814639967, \"z\": -1.2048673032371595}, \"inFront\": true});\n\tviewergrid_16287820567118528[0][0].addLabel(\"10\",{\"position\": {\"x\": -1.9666484755144362, \"y\": -0.7486062132936017, \"z\": -0.3034759718695101}, \"inFront\": true});\n\tviewergrid_16287820567118528[0][1].addModel(\"11\\n\\n C    0.161357053629   -0.511256148914   -0.065664084757\\n C    0.161357053629   -0.511256148914    1.410182742708\\nCL    0.161357053629    1.675082246570   -0.830276612112\\n H    1.132467894899   -0.697551737274   -0.509038133351\\n C   -1.040810400675   -1.016788088306   -0.814524778141\\n O    0.357820745280   -1.868677427818    1.406009598037\\n H    0.974204396689    0.103595337534    1.848386886461\\n H   -0.802592739043   -0.159400885501    1.838653307947\\n H   -0.947697450572   -0.799236008474   -1.882558623854\\n H   -1.132489426792   -2.098230744587   -0.668157830485\\n H   -1.951179355428   -0.531215137812   -0.443830646071\\n\",\"xyz\");\n\tviewergrid_16287820567118528[0][1].addLabel(\"0\",{\"position\": {\"x\": 0.16135705362967134, \"y\": -0.5112561489153796, \"z\": -0.0656640847569374}, \"inFront\": true});\n\tviewergrid_16287820567118528[0][1].addLabel(\"1\",{\"position\": {\"x\": 0.16135705362967134, \"y\": -0.5112561489153796, \"z\": 1.4101827427108533}, \"inFront\": true});\n\tviewergrid_16287820567118528[0][1].addLabel(\"2\",{\"position\": {\"x\": 0.16135705362967134, \"y\": 1.6750822465735689, \"z\": -0.8302766121135379}, \"inFront\": true});\n\tviewergrid_16287820567118528[0][1].addLabel(\"3\",{\"position\": {\"x\": 1.1324678949014244, \"y\": -0.6975517372759803, \"z\": -0.5090381333520839}, \"inFront\": true});\n\tviewergrid_16287820567118528[0][1].addLabel(\"4\",{\"position\": {\"x\": -1.040810400677755, \"y\": -1.0167880883085787, \"z\": -0.8145247781431951}, \"inFront\": true});\n\tviewergrid_16287820567118528[0][1].addLabel(\"5\",{\"position\": {\"x\": 0.35782074528037755, \"y\": -1.8686774278218754, \"z\": 1.4060095980403426}, \"inFront\": true});\n\tviewergrid_16287820567118528[0][1].addLabel(\"6\",{\"position\": {\"x\": 0.9742043966908637, \"y\": 0.10359533753445017, \"z\": 1.8483868864655522}, \"inFront\": true});\n\tviewergrid_16287820567118528[0][1].addLabel(\"7\",{\"position\": {\"x\": -0.8025927390450799, \"y\": -0.15940088550152212, \"z\": 1.8386533079512446}, \"inFront\": true});\n\tviewergrid_16287820567118528[0][1].addLabel(\"8\",{\"position\": {\"x\": -0.9476974505738671, \"y\": -0.7992360084754624, \"z\": -1.8825586238579102}, \"inFront\": true});\n\tviewergrid_16287820567118528[0][1].addLabel(\"9\",{\"position\": {\"x\": -1.132489426794913, \"y\": -2.098230744591749, \"z\": -0.6681578304860681}, \"inFront\": true});\n\tviewergrid_16287820567118528[0][1].addLabel(\"10\",{\"position\": {\"x\": -1.9511793554321404, \"y\": -0.5312151378135388, \"z\": -0.44383064607207023}, \"inFront\": true});\n\tviewergrid_16287820567118528[0][0].setStyle({\"stick\": {}});\n\tviewergrid_16287820567118528[0][1].setStyle({\"stick\": {}});\n\tviewergrid_16287820567118528[0][0].setStyle({\"model\": 0},{\"stick\": {\"colorscheme\": \"yellowCarbon\"}, \"sphere\": {\"scale\": 0.1}});\n\tviewergrid_16287820567118528[0][1].setStyle({\"model\": 0},{\"stick\": {\"colorscheme\": \"yellowCarbon\"}, \"sphere\": {\"scale\": 0.1}});\n\tviewergrid_16287820567118528[0][0].zoomTo();\n\tviewergrid_16287820567118528[0][1].zoomTo();\nviewergrid_16287820567118528[0][1].render();\nviewergrid_16287820567118528[0][0].render();\n});\n</script>",
      "text/html": [
       "<div id=\"3dmolviewer_16287820567118528\"  style=\"position: relative; width: 640px; height: 480px\">\n",
       "        <p id=\"3dmolwarning_16287820567118528\" style=\"background-color:#ffcccc;color:black\">You appear to be running in JupyterLab (or JavaScript failed to load for some other reason).  You need to install the 3dmol extension: <br>\n",
       "        <tt>jupyter labextension install jupyterlab_3dmol</tt></p>\n",
       "        </div>\n",
       "<script>\n",
       "\n",
       "var loadScriptAsync = function(uri){\n",
       "  return new Promise((resolve, reject) => {\n",
       "    var tag = document.createElement('script');\n",
       "    tag.src = uri;\n",
       "    tag.async = true;\n",
       "    tag.onload = () => {\n",
       "      resolve();\n",
       "    };\n",
       "  var firstScriptTag = document.getElementsByTagName('script')[0];\n",
       "  firstScriptTag.parentNode.insertBefore(tag, firstScriptTag);\n",
       "});\n",
       "};\n",
       "\n",
       "if(typeof $3Dmolpromise === 'undefined') {\n",
       "$3Dmolpromise = null;\n",
       "  $3Dmolpromise = loadScriptAsync('https://3dmol.org/build/3Dmol.js');\n",
       "}\n",
       "\n",
       "var viewer_16287820567118528 = null;\n",
       "var warn = document.getElementById(\"3dmolwarning_16287820567118528\");\n",
       "if(warn) {\n",
       "    warn.parentNode.removeChild(warn);\n",
       "}\n",
       "$3Dmolpromise.then(function() {\n",
       "var viewergrid_16287820567118528 = null;\n",
       "viewergrid_16287820567118528 = $3Dmol.createViewerGrid($(\"#3dmolviewer_16287820567118528\"),{rows: 1, cols: 2, control_all: true},{backgroundColor:\"white\"});\n",
       "viewer_16287820567118528 = viewergrid_16287820567118528[0][0];\n",
       "viewergrid_16287820567118528[0][0].zoomTo();viewergrid_16287820567118528[0][1].zoomTo();\tviewergrid_16287820567118528[0][0].addModel(\"11\\n\\n C    0.167598983715   -0.609607776614   -0.079600355888\\n C    0.167598983715   -0.609607776614    1.367645119866\\nCL    0.167598983715    1.739534045434   -0.571060120164\\n H    1.123736803055   -0.562476463144   -0.578356524542\\n C   -1.059805892716   -0.922780430843   -0.894764202766\\n O    0.351430785319   -1.939182035471    0.961063597049\\n H    1.014194068747   -0.128033703032    1.875603425038\\n H   -0.786183167941   -0.381547412193    1.866896014623\\n H   -1.103869071413   -0.280227015552   -1.777030701767\\n H   -1.046149051110   -1.975716481459   -1.204867303234\\n H   -1.966648475510   -0.748606213292   -0.303475971869\\n\",\"xyz\");\n",
       "\tviewergrid_16287820567118528[0][0].addLabel(\"0\",{\"position\": {\"x\": 0.16759898371552723, \"y\": -0.609607776615544, \"z\": -0.0796003558882859}, \"inFront\": true});\n",
       "\tviewergrid_16287820567118528[0][0].addLabel(\"1\",{\"position\": {\"x\": 0.16759898371552723, \"y\": -0.609607776615544, \"z\": 1.3676451198687127}, \"inFront\": true});\n",
       "\tviewergrid_16287820567118528[0][0].addLabel(\"2\",{\"position\": {\"x\": 0.16759898371552723, \"y\": 1.7395340454384012, \"z\": -0.5710601201655082}, \"inFront\": true});\n",
       "\tviewergrid_16287820567118528[0][0].addLabel(\"3\",{\"position\": {\"x\": 1.1237368030574115, \"y\": -0.5624764631450518, \"z\": -0.5783565245433491}, \"inFront\": true});\n",
       "\tviewergrid_16287820567118528[0][0].addLabel(\"4\",{\"position\": {\"x\": -1.0598058927181637, \"y\": -0.9227804308454556, \"z\": -0.8947642027682035}, \"inFront\": true});\n",
       "\tviewergrid_16287820567118528[0][0].addLabel(\"5\",{\"position\": {\"x\": 0.35143078532006083, \"y\": -1.9391820354756473, \"z\": 0.9610635970508048}, \"inFront\": true});\n",
       "\tviewergrid_16287820567118528[0][0].addLabel(\"6\",{\"position\": {\"x\": 1.0141940687489257, \"y\": -0.12803370303215963, \"z\": 1.875603425041949}, \"inFront\": true});\n",
       "\tviewergrid_16287820567118528[0][0].addLabel(\"7\",{\"position\": {\"x\": -0.7861831679425413, \"y\": -0.38154741219349864, \"z\": 1.8668960146268287}, \"inFront\": true});\n",
       "\tviewergrid_16287820567118528[0][0].addLabel(\"8\",{\"position\": {\"x\": -1.1038690714157209, \"y\": -0.2802270155521906, \"z\": -1.7770307017715248}, \"inFront\": true});\n",
       "\tviewergrid_16287820567118528[0][0].addLabel(\"9\",{\"position\": {\"x\": -1.0461490511120408, \"y\": -1.9757164814639967, \"z\": -1.2048673032371595}, \"inFront\": true});\n",
       "\tviewergrid_16287820567118528[0][0].addLabel(\"10\",{\"position\": {\"x\": -1.9666484755144362, \"y\": -0.7486062132936017, \"z\": -0.3034759718695101}, \"inFront\": true});\n",
       "\tviewergrid_16287820567118528[0][1].addModel(\"11\\n\\n C    0.161357053629   -0.511256148914   -0.065664084757\\n C    0.161357053629   -0.511256148914    1.410182742708\\nCL    0.161357053629    1.675082246570   -0.830276612112\\n H    1.132467894899   -0.697551737274   -0.509038133351\\n C   -1.040810400675   -1.016788088306   -0.814524778141\\n O    0.357820745280   -1.868677427818    1.406009598037\\n H    0.974204396689    0.103595337534    1.848386886461\\n H   -0.802592739043   -0.159400885501    1.838653307947\\n H   -0.947697450572   -0.799236008474   -1.882558623854\\n H   -1.132489426792   -2.098230744587   -0.668157830485\\n H   -1.951179355428   -0.531215137812   -0.443830646071\\n\",\"xyz\");\n",
       "\tviewergrid_16287820567118528[0][1].addLabel(\"0\",{\"position\": {\"x\": 0.16135705362967134, \"y\": -0.5112561489153796, \"z\": -0.0656640847569374}, \"inFront\": true});\n",
       "\tviewergrid_16287820567118528[0][1].addLabel(\"1\",{\"position\": {\"x\": 0.16135705362967134, \"y\": -0.5112561489153796, \"z\": 1.4101827427108533}, \"inFront\": true});\n",
       "\tviewergrid_16287820567118528[0][1].addLabel(\"2\",{\"position\": {\"x\": 0.16135705362967134, \"y\": 1.6750822465735689, \"z\": -0.8302766121135379}, \"inFront\": true});\n",
       "\tviewergrid_16287820567118528[0][1].addLabel(\"3\",{\"position\": {\"x\": 1.1324678949014244, \"y\": -0.6975517372759803, \"z\": -0.5090381333520839}, \"inFront\": true});\n",
       "\tviewergrid_16287820567118528[0][1].addLabel(\"4\",{\"position\": {\"x\": -1.040810400677755, \"y\": -1.0167880883085787, \"z\": -0.8145247781431951}, \"inFront\": true});\n",
       "\tviewergrid_16287820567118528[0][1].addLabel(\"5\",{\"position\": {\"x\": 0.35782074528037755, \"y\": -1.8686774278218754, \"z\": 1.4060095980403426}, \"inFront\": true});\n",
       "\tviewergrid_16287820567118528[0][1].addLabel(\"6\",{\"position\": {\"x\": 0.9742043966908637, \"y\": 0.10359533753445017, \"z\": 1.8483868864655522}, \"inFront\": true});\n",
       "\tviewergrid_16287820567118528[0][1].addLabel(\"7\",{\"position\": {\"x\": -0.8025927390450799, \"y\": -0.15940088550152212, \"z\": 1.8386533079512446}, \"inFront\": true});\n",
       "\tviewergrid_16287820567118528[0][1].addLabel(\"8\",{\"position\": {\"x\": -0.9476974505738671, \"y\": -0.7992360084754624, \"z\": -1.8825586238579102}, \"inFront\": true});\n",
       "\tviewergrid_16287820567118528[0][1].addLabel(\"9\",{\"position\": {\"x\": -1.132489426794913, \"y\": -2.098230744591749, \"z\": -0.6681578304860681}, \"inFront\": true});\n",
       "\tviewergrid_16287820567118528[0][1].addLabel(\"10\",{\"position\": {\"x\": -1.9511793554321404, \"y\": -0.5312151378135388, \"z\": -0.44383064607207023}, \"inFront\": true});\n",
       "\tviewergrid_16287820567118528[0][0].setStyle({\"stick\": {}});\n",
       "\tviewergrid_16287820567118528[0][1].setStyle({\"stick\": {}});\n",
       "\tviewergrid_16287820567118528[0][0].setStyle({\"model\": 0},{\"stick\": {\"colorscheme\": \"yellowCarbon\"}, \"sphere\": {\"scale\": 0.1}});\n",
       "\tviewergrid_16287820567118528[0][1].setStyle({\"model\": 0},{\"stick\": {\"colorscheme\": \"yellowCarbon\"}, \"sphere\": {\"scale\": 0.1}});\n",
       "\tviewergrid_16287820567118528[0][0].zoomTo();\n",
       "\tviewergrid_16287820567118528[0][1].zoomTo();\n",
       "viewergrid_16287820567118528[0][1].render();\n",
       "viewergrid_16287820567118528[0][0].render();\n",
       "});\n",
       "</script>"
      ]
     },
     "metadata": {},
     "output_type": "display_data"
    }
   ],
   "source": [
    "drawXYZSideBySide_labeled(ts_guess_opt, ts)"
   ]
  },
  {
   "cell_type": "markdown",
   "id": "404d3528",
   "metadata": {},
   "source": [
    "```{admonition} Exercise 4\n",
    ":class: exercise\n",
    "Take a screenshot of the optimised transition state structure. How did the structure change with respect to the constrained-optimised guess?\n",
    "```\n",
    "\n",
    "\n",
    "```{admonition} Solution\n",
    ":class: tip\n",
    "\n",
    "Increased Cl-C distance (fixed during guess optimization) and C-C-O angle increased, resulting in a structure more symilar to the reagent than to the product. \n",
    "```"
   ]
  },
  {
   "cell_type": "markdown",
   "id": "414a2005",
   "metadata": {},
   "source": [
    "We can now have a look at the normal model that we obtained, for that we need to first check how the file is named. Then you can visualize one normal mode at time. "
   ]
  },
  {
   "cell_type": "code",
   "execution_count": 8,
   "id": "f366582b",
   "metadata": {},
   "outputs": [
    {
     "name": "stdout",
     "output_type": "stream",
     "text": [
      "-rw-r--r-- 1 anlevy software 21K Aug 12 17:26 ts.default.14947.molden_normal_modes\r\n"
     ]
    }
   ],
   "source": [
    "# check how the file is named\n",
    "!ls -lrth ts.*.molden_normal_modes "
   ]
  },
  {
   "cell_type": "code",
   "execution_count": 9,
   "id": "18325e34",
   "metadata": {},
   "outputs": [
    {
     "name": "stdout",
     "output_type": "stream",
     "text": [
      "File name: ts.default.14947.molden_normal_modes\n"
     ]
    },
    {
     "data": {
      "application/vnd.jupyter.widget-view+json": {
       "model_id": "4f472874c20a4da99869177d7ab4d75f",
       "version_major": 2,
       "version_minor": 0
      },
      "text/plain": [
       "interactive(children=(Dropdown(description='Normal mode:', options=((-381.2365479913, 0), (85.7171968568, 1), …"
      ]
     },
     "metadata": {},
     "output_type": "display_data"
    }
   ],
   "source": [
    "# be sure to use the right file in the show_normal_modes\n",
    "NormalModeFile = !ls ts.*.molden_normal_modes \n",
    "print('File name: '+NormalModeFile[0])\n",
    "\n",
    "show_normal_modes(filename=NormalModeFile[0])"
   ]
  },
  {
   "cell_type": "markdown",
   "id": "f6451480",
   "metadata": {},
   "source": [
    "```{admonition} Exercise 4\n",
    ":class: exercise\n",
    "Report the value of the negative frequency that you obtain.  What motion is this mode related to?\n",
    "What motions are associated with low and high vibrational frequencies? Choose two positive vibrational modes and desribe their particular associated motion.\n",
    "```"
   ]
  },
  {
   "cell_type": "markdown",
   "id": "ee480f15",
   "metadata": {},
   "source": [
    "```{admonition} Exercise 5\n",
    ":class: exercise\n",
    "Is the transition state you predicted an early or a late transition state? What about the guess?\n",
    "```\n"
   ]
  },
  {
   "cell_type": "markdown",
   "id": "64b79126",
   "metadata": {},
   "source": [
    "```{admonition} Exercise 6\n",
    ":class: exercise\n",
    "Having found a transition state, how would you now obtain the barrier height for your reaction? Are there ways of verifying whether you have found a meaningful\n",
    "    transition state? **Bonus:** How would you define 'meaningful' in\n",
    "    this context?\n",
    "```\n",
    "\n",
    "```{admonition} Solution\n",
    ":class: tip\n",
    "From the TS it is necessary to find a minimum energy reaction path on the PES joining the reactants with the TS and the TS with the products.\n",
    "\n",
    "TS corresponds to a saddle point of the PES, this can be verified through the  eigenvalues of the Hessian matrix. The TS found should be a maximum of the PES over the reaction coordinate. \n",
    "\n",
    "**Bonus:** A TS state can be defined meaningful if it is not too far from reactant and products and it is energetically feasible. \n",
    "\n",
    "```"
   ]
  },
  {
   "cell_type": "markdown",
   "id": "5760cca3",
   "metadata": {},
   "source": [
    "Lets check again that our TS is a good one by performing a frequency calculation. \n",
    "We will save the wave function as well because we want to use the hessian to speed up our IRC search. \n"
   ]
  },
  {
   "cell_type": "code",
   "execution_count": 10,
   "id": "59096249",
   "metadata": {},
   "outputs": [
    {
     "name": "stdout",
     "output_type": "stream",
     "text": [
      " 55 displacements needed.\n",
      " 1 2 3 4 5 6 7 8 9 10 11 12 13 14 15 16 17 18 19 20 21 22 23 24 25 26 27 28 29 30 31 32 33 34 35 36 37 38 39 40 41 42 43 44 45 46 47 48 49 50 51 52 53 54 55\n",
      "Warning: thermodynamics relations excluded imaginary frequencies: ['312.1010i']\n",
      "Warning: used thermodynamics relations inappropriate for low-frequency modes: ['123.0345' '200.0323' '200.6087' '278.1032' '310.4237' '399.1138']\n"
     ]
    }
   ],
   "source": [
    "psi4.core.clean_options()\n",
    "E, wfn = psi4.frequency('b3pw91/6-31+G*', molecule=ts, return_wfn=True)"
   ]
  },
  {
   "cell_type": "markdown",
   "id": "0622f9f0",
   "metadata": {},
   "source": [
    "# Recording a Potential Energy Profile: The Intrinsic Reaction Coordinate (IRC)\n"
   ]
  },
  {
   "cell_type": "markdown",
   "id": "afd89c9b",
   "metadata": {},
   "source": [
    "A transition state search merely guarantees that one reaches a\n",
    "first-order saddle point on the PES; there is, however, no guarantee\n",
    "that it is really linked to the reactant and product. (For instance,\n",
    "there may be further transition states lying in between.) Although the\n",
    "visualisation of the imaginary vibrational mode may give some hint as to\n",
    "whether one has found a reasonable saddle point, this information is not\n",
    "sufficient to guarantee a connection to the reactant and product well.\n",
    "Following the negative Hessian eigenvalues from the transition state to\n",
    "the next local minimum, on the other hand, will immediately reveal\n",
    "whether such a connection exists. This Hessian-following in\n",
    "mass-weighted coordinates is referred to as a search along the\n",
    "*Intrinsic Reaction Coordinate* (IRC). This search will create a\n",
    "potential energy profile for the reaction, as well as a trajectory that\n",
    "visualises the lowest energy path from reactant to TS to product. \n",
    "\n",
    "You will verify whether the transition state\n",
    "you computed is the proper state that connects your\n",
    "starting material to the product, and you will build the reaction\n",
    "profile and visualize it."
   ]
  },
  {
   "cell_type": "markdown",
   "id": "135e9605",
   "metadata": {},
   "source": [
    "As Psi4 updates the molecule geometry when optimizing we make two copies for the product and reactant and then we use `irc` to follow the intrinsic reaction coordinate. "
   ]
  },
  {
   "cell_type": "code",
   "execution_count": 11,
   "id": "0717c311",
   "metadata": {},
   "outputs": [],
   "source": [
    "backward = ts.clone()\n",
    "forward = ts.clone()"
   ]
  },
  {
   "cell_type": "code",
   "execution_count": 12,
   "id": "d6499f2c",
   "metadata": {},
   "outputs": [
    {
     "name": "stdout",
     "output_type": "stream",
     "text": [
      "Optimizer: Optimization complete!\n"
     ]
    }
   ],
   "source": [
    "psi4.core.clean_options()\n",
    "E_b, wfn_b = psi4.optimize('b3pw91/6-31+G*', molecule=backward, return_wfn=True)"
   ]
  },
  {
   "cell_type": "markdown",
   "id": "dd293446",
   "metadata": {},
   "source": [
    "## Backward\n",
    "\n",
    "First, let's optimize towards the reactant"
   ]
  },
  {
   "cell_type": "code",
   "execution_count": 13,
   "id": "0bf97a6d",
   "metadata": {},
   "outputs": [
    {
     "name": "stdout",
     "output_type": "stream",
     "text": [
      " 55 displacements needed.\n",
      " 1 2 3 4 5 6 7 8 9 10 11 12 13 14 15 16 17 18 19 20 21 22 23 24 25 26 27 28 29 30 31 32 33 34 35 36 37 38 39 40 41 42 43 44 45 46 47 48 49 50 51 52 53 54 55\n",
      "Warning: thermodynamics relations excluded imaginary frequencies: ['312.0870i']\n",
      "Warning: used thermodynamics relations inappropriate for low-frequency modes: ['123.0557' '200.1544' '200.5153' '277.9453' '310.4210' '399.1393']\n",
      "Optimizer: Optimization complete!\n"
     ]
    }
   ],
   "source": [
    "psi4.core.set_output_file(f'irc_backward.log', False)\n",
    "psi4.set_options({\n",
    "     \"geom_maxiter\":500,\n",
    "     \"full_hess_every\":0, #-1\n",
    "     \"opt_type\":\"irc\",\n",
    "     \"irc_step_size\":0.25,\n",
    "     \"ensure_bt_convergence\":True,\n",
    "#     \"cart_hess_read\":True,\n",
    "     \"irc_direction\":\"backward\",\n",
    "     })\n",
    "\n",
    "E, history_backward = psi4.optimize('b3pw91/6-31+G*',molecule=backward, return_history=True)#, ref_gradient=wfn.gradient())"
   ]
  },
  {
   "cell_type": "markdown",
   "id": "d1eff8ac",
   "metadata": {},
   "source": [
    "The `return_history=True` option indicates to additionally return dictionary of lists of geometries, energies, and gradients at each step in the optimization. We can use this history to follow the optimization along the IRC steps.\n",
    "Some operations on the arrays are needed in order to properly visualize the PES."
   ]
  },
  {
   "cell_type": "code",
   "execution_count": 14,
   "id": "6deb9f54",
   "metadata": {},
   "outputs": [],
   "source": [
    "coordinates_backward = history_backward['coordinates']\n",
    "energies_backward = history_backward['energy']\n",
    "\n",
    "backward_e = [energy * psi4.constants.hartree2kcalmol for energy in energies_backward]\n",
    "backward_e.reverse()\n",
    "backward_e = np.array(backward_e)-np.max(backward_e)"
   ]
  },
  {
   "cell_type": "markdown",
   "id": "7ff3c109",
   "metadata": {},
   "source": [
    "## Forward\n",
    "\n",
    "Then, let's alos optimize towards the products"
   ]
  },
  {
   "cell_type": "code",
   "execution_count": 15,
   "id": "e6d3a61c",
   "metadata": {},
   "outputs": [
    {
     "name": "stdout",
     "output_type": "stream",
     "text": [
      " 55 displacements needed.\n",
      " 1 2 3 4 5 6 7 8 9 10 11 12 13 14 15 16 17 18 19 20 21 22 23 24 25 26 27 28 29 30 31 32 33 34 35 36 37 38 39 40 41 42 43 44 45 46 47 48 49 50 51 52 53 54 55\n",
      "Warning: thermodynamics relations excluded imaginary frequencies: ['312.1058i']\n",
      "Warning: used thermodynamics relations inappropriate for low-frequency modes: ['122.9877' '199.9856' '200.5702' '277.9339' '310.3788' '399.1489']\n",
      "Optimizer: Optimization complete!\n"
     ]
    }
   ],
   "source": [
    "psi4.core.set_output_file(f'irc_forward.log', False)\n",
    "psi4.set_options({\n",
    "     \"geom_maxiter\":500,\n",
    "     \"full_hess_every\":0, #-1\n",
    "     \"opt_type\":\"irc\",\n",
    "     \"irc_step_size\":0.25,\n",
    "     \"ensure_bt_convergence\":True,\n",
    "#     \"cart_hess_read\":True,\n",
    "     \"irc_direction\":\"forward\",\n",
    "     })\n",
    "\n",
    "\n",
    "E, history_forward = psi4.optimize('b3pw91/6-31+G*',molecule=forward, return_history=True)#, ref_gradient=wfn.gradient())"
   ]
  },
  {
   "cell_type": "code",
   "execution_count": 16,
   "id": "7d9c7b29",
   "metadata": {},
   "outputs": [],
   "source": [
    "coordinates_forward = history_forward['coordinates']\n",
    "energies_forward = history_forward['energy']\n",
    "\n",
    "forward_e = [energy * psi4.constants.hartree2kcalmol for energy in energies_forward ]\n",
    "forward_e = np.array(forward_e)-np.max(forward_e)"
   ]
  },
  {
   "cell_type": "code",
   "execution_count": 18,
   "id": "80ac4bc5",
   "metadata": {},
   "outputs": [],
   "source": [
    "energies = np.concatenate([backward_e[:-2],forward_e], axis=0)"
   ]
  },
  {
   "cell_type": "markdown",
   "id": "07a1c10e",
   "metadata": {},
   "source": [
    "## IRC\n",
    "Now we have all the data to obtain the  potential energy profile for the reaction, as well as the trajectory that visualises the lowest energy path from reactant to TS to product.\n",
    "\n",
    "We can fist have a look at the *backward* and *forward* conformations, which correspond to the starting and ending point of the IRC that we performed"
   ]
  },
  {
   "cell_type": "code",
   "execution_count": 17,
   "id": "6b31bc28",
   "metadata": {},
   "outputs": [
    {
     "data": {
      "application/3dmoljs_load.v0": "<div id=\"3dmolviewer_16287848860810616\"  style=\"position: relative; width: 640px; height: 480px\">\n        <p id=\"3dmolwarning_16287848860810616\" style=\"background-color:#ffcccc;color:black\">You appear to be running in JupyterLab (or JavaScript failed to load for some other reason).  You need to install the 3dmol extension: <br>\n        <tt>jupyter labextension install jupyterlab_3dmol</tt></p>\n        </div>\n<script>\n\nvar loadScriptAsync = function(uri){\n  return new Promise((resolve, reject) => {\n    var tag = document.createElement('script');\n    tag.src = uri;\n    tag.async = true;\n    tag.onload = () => {\n      resolve();\n    };\n  var firstScriptTag = document.getElementsByTagName('script')[0];\n  firstScriptTag.parentNode.insertBefore(tag, firstScriptTag);\n});\n};\n\nif(typeof $3Dmolpromise === 'undefined') {\n$3Dmolpromise = null;\n  $3Dmolpromise = loadScriptAsync('https://3dmol.org/build/3Dmol.js');\n}\n\nvar viewer_16287848860810616 = null;\nvar warn = document.getElementById(\"3dmolwarning_16287848860810616\");\nif(warn) {\n    warn.parentNode.removeChild(warn);\n}\n$3Dmolpromise.then(function() {\nvar viewergrid_16287848860810616 = null;\nviewergrid_16287848860810616 = $3Dmol.createViewerGrid($(\"#3dmolviewer_16287848860810616\"),{rows: 1, cols: 2, control_all: true},{backgroundColor:\"white\"});\nviewer_16287848860810616 = viewergrid_16287848860810616[0][0];\nviewergrid_16287848860810616[0][0].zoomTo();viewergrid_16287848860810616[0][1].zoomTo();\tviewergrid_16287848860810616[0][0].addModel(\"11\\n\\n C    0.164725685417   -0.314404742072   -0.199251844430\\n C    0.164725685417   -0.314404742072    1.352596286801\\nCL    0.164725685417    1.420561294057   -0.940953729318\\n H    1.118984197602   -0.724376676710   -0.542413888188\\n C   -1.000380393813   -1.079182652284   -0.788605067476\\n O    0.304422597990   -1.574904494097    1.780447894381\\n H    0.981424855593    0.399658700644    1.658313187484\\n H   -0.792735012852    0.203251550892    1.661255207777\\n H   -0.926214186384   -1.194666488602   -1.877086166771\\n H   -0.991233289024   -2.061756970882   -0.303033684683\\n H   -1.948541085022   -0.580168246328   -0.548327999630\\n\",\"xyz\");\n\tviewergrid_16287848860810616[0][0].addLabel(\"0\",{\"position\": {\"x\": 0.16472568541737143, \"y\": -0.31440474207288505, \"z\": -0.19925184443053592}, \"inFront\": true});\n\tviewergrid_16287848860810616[0][0].addLabel(\"1\",{\"position\": {\"x\": 0.16472568541737143, \"y\": -0.31440474207288505, \"z\": 1.352596286803661}, \"inFront\": true});\n\tviewergrid_16287848860810616[0][0].addLabel(\"2\",{\"position\": {\"x\": 0.16472568541737143, \"y\": 1.4205612940603736, \"z\": -0.9409537293200873}, \"inFront\": true});\n\tviewergrid_16287848860810616[0][0].addLabel(\"3\",{\"position\": {\"x\": 1.1189841976047818, \"y\": -0.7243766767119932, \"z\": -0.5424138881893892}, \"inFront\": true});\n\tviewergrid_16287848860810616[0][0].addLabel(\"4\",{\"position\": {\"x\": -1.000380393815203, \"y\": -1.0791826522864452, \"z\": -0.7886050674774562}, \"inFront\": true});\n\tviewergrid_16287848860810616[0][0].addLabel(\"5\",{\"position\": {\"x\": 0.3044225979907533, \"y\": -1.5749044941010204, \"z\": 1.7804478943850588}, \"inFront\": true});\n\tviewergrid_16287848860810616[0][0].addLabel(\"6\",{\"position\": {\"x\": 0.9814248555956254, \"y\": 0.39965870064448117, \"z\": 1.6583131874881356}, \"inFront\": true});\n\tviewergrid_16287848860810616[0][0].addLabel(\"7\",{\"position\": {\"x\": -0.7927350128534594, \"y\": 0.2032515508926214, \"z\": 1.6612552077804932}, \"inFront\": true});\n\tviewergrid_16287848860810616[0][0].addLabel(\"8\",{\"position\": {\"x\": -0.9262141863859129, \"y\": -1.194666488604609, \"z\": -1.8770861667748715}, \"inFront\": true});\n\tviewergrid_16287848860810616[0][0].addLabel(\"9\",{\"position\": {\"x\": -0.9912332890261355, \"y\": -2.061756970886851, \"z\": -0.30303368468354824}, \"inFront\": true});\n\tviewergrid_16287848860810616[0][0].addLabel(\"10\",{\"position\": {\"x\": -1.9485410850265037, \"y\": -0.5801682463293755, \"z\": -0.5483279996313566}, \"inFront\": true});\n\tviewergrid_16287848860810616[0][1].addModel(\"11\\n\\n C    0.179334534090   -1.050644687500   -0.322183005568\\n C    0.179334534090   -1.050644687500    1.128832626702\\nCL    0.179334534090    2.199535470029   -0.037147845479\\n H    1.101960784366   -0.730204373449   -0.805002816769\\n C   -1.070192592648   -0.850663650564   -1.127390606063\\n O    0.314171546546   -2.295877604414    0.413648906227\\n H    1.065974227305   -0.713087334324    1.663045940360\\n H   -0.764846490968   -0.918050667949    1.657788876138\\n H   -1.137416820235    0.215598437119   -1.372069043467\\n H   -1.045514740841   -1.446793770782   -2.050386583284\\n H   -1.956730853376   -1.139860376965   -0.550345127950\\n\",\"xyz\");\n\tviewergrid_16287848860810616[0][1].addLabel(\"0\",{\"position\": {\"x\": 0.17933453409032724, \"y\": -1.0506446875028055, \"z\": -0.3221830055690783}, \"inFront\": true});\n\tviewergrid_16287848860810616[0][1].addLabel(\"1\",{\"position\": {\"x\": 0.17933453409032724, \"y\": -1.0506446875028055, \"z\": 1.1288326267050472}, \"inFront\": true});\n\tviewergrid_16287848860810616[0][1].addLabel(\"2\",{\"position\": {\"x\": 0.17933453409032724, \"y\": 2.1995354700336756, \"z\": -0.037147845478645816}, \"inFront\": true});\n\tviewergrid_16287848860810616[0][1].addLabel(\"3\",{\"position\": {\"x\": 1.101960784368728, \"y\": -0.7302043734509799, \"z\": -0.8050028167712314}, \"inFront\": true});\n\tviewergrid_16287848860810616[0][1].addLabel(\"4\",{\"position\": {\"x\": -1.0701925926507319, \"y\": -0.8506636505661986, \"z\": -1.1273906060660228}, \"inFront\": true});\n\tviewergrid_16287848860810616[0][1].addLabel(\"5\",{\"position\": {\"x\": 0.31417154654690244, \"y\": -2.2958776044191804, \"z\": 0.4136489062282238}, \"inFront\": true});\n\tviewergrid_16287848860810616[0][1].addLabel(\"6\",{\"position\": {\"x\": 1.0659742273069448, \"y\": -0.7130873343255814, \"z\": 1.6630459403639695}, \"inFront\": true});\n\tviewergrid_16287848860810616[0][1].addLabel(\"7\",{\"position\": {\"x\": -0.764846490969848, \"y\": -0.9180506679507878, \"z\": 1.6577888761422155}, \"inFront\": true});\n\tviewergrid_16287848860810616[0][1].addLabel(\"8\",{\"position\": {\"x\": -1.1374168202377657, \"y\": 0.21559843711916038, \"z\": -1.372069043470591}, \"inFront\": true});\n\tviewergrid_16287848860810616[0][1].addLabel(\"9\",{\"position\": {\"x\": -1.0455147408434853, \"y\": -1.4467937707853984, \"z\": -2.0503865832888324}, \"inFront\": true});\n\tviewergrid_16287848860810616[0][1].addLabel(\"10\",{\"position\": {\"x\": -1.956730853380951, \"y\": -1.139860376967243, \"z\": -0.5503451279515833}, \"inFront\": true});\n\tviewergrid_16287848860810616[0][0].setStyle({\"stick\": {}});\n\tviewergrid_16287848860810616[0][1].setStyle({\"stick\": {}});\n\tviewergrid_16287848860810616[0][0].setStyle({\"model\": 0},{\"stick\": {\"colorscheme\": \"yellowCarbon\"}, \"sphere\": {\"scale\": 0.1}});\n\tviewergrid_16287848860810616[0][1].setStyle({\"model\": 0},{\"stick\": {\"colorscheme\": \"yellowCarbon\"}, \"sphere\": {\"scale\": 0.1}});\n\tviewergrid_16287848860810616[0][0].zoomTo();\n\tviewergrid_16287848860810616[0][1].zoomTo();\nviewergrid_16287848860810616[0][1].render();\nviewergrid_16287848860810616[0][0].render();\n});\n</script>",
      "text/html": [
       "<div id=\"3dmolviewer_16287848860810616\"  style=\"position: relative; width: 640px; height: 480px\">\n",
       "        <p id=\"3dmolwarning_16287848860810616\" style=\"background-color:#ffcccc;color:black\">You appear to be running in JupyterLab (or JavaScript failed to load for some other reason).  You need to install the 3dmol extension: <br>\n",
       "        <tt>jupyter labextension install jupyterlab_3dmol</tt></p>\n",
       "        </div>\n",
       "<script>\n",
       "\n",
       "var loadScriptAsync = function(uri){\n",
       "  return new Promise((resolve, reject) => {\n",
       "    var tag = document.createElement('script');\n",
       "    tag.src = uri;\n",
       "    tag.async = true;\n",
       "    tag.onload = () => {\n",
       "      resolve();\n",
       "    };\n",
       "  var firstScriptTag = document.getElementsByTagName('script')[0];\n",
       "  firstScriptTag.parentNode.insertBefore(tag, firstScriptTag);\n",
       "});\n",
       "};\n",
       "\n",
       "if(typeof $3Dmolpromise === 'undefined') {\n",
       "$3Dmolpromise = null;\n",
       "  $3Dmolpromise = loadScriptAsync('https://3dmol.org/build/3Dmol.js');\n",
       "}\n",
       "\n",
       "var viewer_16287848860810616 = null;\n",
       "var warn = document.getElementById(\"3dmolwarning_16287848860810616\");\n",
       "if(warn) {\n",
       "    warn.parentNode.removeChild(warn);\n",
       "}\n",
       "$3Dmolpromise.then(function() {\n",
       "var viewergrid_16287848860810616 = null;\n",
       "viewergrid_16287848860810616 = $3Dmol.createViewerGrid($(\"#3dmolviewer_16287848860810616\"),{rows: 1, cols: 2, control_all: true},{backgroundColor:\"white\"});\n",
       "viewer_16287848860810616 = viewergrid_16287848860810616[0][0];\n",
       "viewergrid_16287848860810616[0][0].zoomTo();viewergrid_16287848860810616[0][1].zoomTo();\tviewergrid_16287848860810616[0][0].addModel(\"11\\n\\n C    0.164725685417   -0.314404742072   -0.199251844430\\n C    0.164725685417   -0.314404742072    1.352596286801\\nCL    0.164725685417    1.420561294057   -0.940953729318\\n H    1.118984197602   -0.724376676710   -0.542413888188\\n C   -1.000380393813   -1.079182652284   -0.788605067476\\n O    0.304422597990   -1.574904494097    1.780447894381\\n H    0.981424855593    0.399658700644    1.658313187484\\n H   -0.792735012852    0.203251550892    1.661255207777\\n H   -0.926214186384   -1.194666488602   -1.877086166771\\n H   -0.991233289024   -2.061756970882   -0.303033684683\\n H   -1.948541085022   -0.580168246328   -0.548327999630\\n\",\"xyz\");\n",
       "\tviewergrid_16287848860810616[0][0].addLabel(\"0\",{\"position\": {\"x\": 0.16472568541737143, \"y\": -0.31440474207288505, \"z\": -0.19925184443053592}, \"inFront\": true});\n",
       "\tviewergrid_16287848860810616[0][0].addLabel(\"1\",{\"position\": {\"x\": 0.16472568541737143, \"y\": -0.31440474207288505, \"z\": 1.352596286803661}, \"inFront\": true});\n",
       "\tviewergrid_16287848860810616[0][0].addLabel(\"2\",{\"position\": {\"x\": 0.16472568541737143, \"y\": 1.4205612940603736, \"z\": -0.9409537293200873}, \"inFront\": true});\n",
       "\tviewergrid_16287848860810616[0][0].addLabel(\"3\",{\"position\": {\"x\": 1.1189841976047818, \"y\": -0.7243766767119932, \"z\": -0.5424138881893892}, \"inFront\": true});\n",
       "\tviewergrid_16287848860810616[0][0].addLabel(\"4\",{\"position\": {\"x\": -1.000380393815203, \"y\": -1.0791826522864452, \"z\": -0.7886050674774562}, \"inFront\": true});\n",
       "\tviewergrid_16287848860810616[0][0].addLabel(\"5\",{\"position\": {\"x\": 0.3044225979907533, \"y\": -1.5749044941010204, \"z\": 1.7804478943850588}, \"inFront\": true});\n",
       "\tviewergrid_16287848860810616[0][0].addLabel(\"6\",{\"position\": {\"x\": 0.9814248555956254, \"y\": 0.39965870064448117, \"z\": 1.6583131874881356}, \"inFront\": true});\n",
       "\tviewergrid_16287848860810616[0][0].addLabel(\"7\",{\"position\": {\"x\": -0.7927350128534594, \"y\": 0.2032515508926214, \"z\": 1.6612552077804932}, \"inFront\": true});\n",
       "\tviewergrid_16287848860810616[0][0].addLabel(\"8\",{\"position\": {\"x\": -0.9262141863859129, \"y\": -1.194666488604609, \"z\": -1.8770861667748715}, \"inFront\": true});\n",
       "\tviewergrid_16287848860810616[0][0].addLabel(\"9\",{\"position\": {\"x\": -0.9912332890261355, \"y\": -2.061756970886851, \"z\": -0.30303368468354824}, \"inFront\": true});\n",
       "\tviewergrid_16287848860810616[0][0].addLabel(\"10\",{\"position\": {\"x\": -1.9485410850265037, \"y\": -0.5801682463293755, \"z\": -0.5483279996313566}, \"inFront\": true});\n",
       "\tviewergrid_16287848860810616[0][1].addModel(\"11\\n\\n C    0.179334534090   -1.050644687500   -0.322183005568\\n C    0.179334534090   -1.050644687500    1.128832626702\\nCL    0.179334534090    2.199535470029   -0.037147845479\\n H    1.101960784366   -0.730204373449   -0.805002816769\\n C   -1.070192592648   -0.850663650564   -1.127390606063\\n O    0.314171546546   -2.295877604414    0.413648906227\\n H    1.065974227305   -0.713087334324    1.663045940360\\n H   -0.764846490968   -0.918050667949    1.657788876138\\n H   -1.137416820235    0.215598437119   -1.372069043467\\n H   -1.045514740841   -1.446793770782   -2.050386583284\\n H   -1.956730853376   -1.139860376965   -0.550345127950\\n\",\"xyz\");\n",
       "\tviewergrid_16287848860810616[0][1].addLabel(\"0\",{\"position\": {\"x\": 0.17933453409032724, \"y\": -1.0506446875028055, \"z\": -0.3221830055690783}, \"inFront\": true});\n",
       "\tviewergrid_16287848860810616[0][1].addLabel(\"1\",{\"position\": {\"x\": 0.17933453409032724, \"y\": -1.0506446875028055, \"z\": 1.1288326267050472}, \"inFront\": true});\n",
       "\tviewergrid_16287848860810616[0][1].addLabel(\"2\",{\"position\": {\"x\": 0.17933453409032724, \"y\": 2.1995354700336756, \"z\": -0.037147845478645816}, \"inFront\": true});\n",
       "\tviewergrid_16287848860810616[0][1].addLabel(\"3\",{\"position\": {\"x\": 1.101960784368728, \"y\": -0.7302043734509799, \"z\": -0.8050028167712314}, \"inFront\": true});\n",
       "\tviewergrid_16287848860810616[0][1].addLabel(\"4\",{\"position\": {\"x\": -1.0701925926507319, \"y\": -0.8506636505661986, \"z\": -1.1273906060660228}, \"inFront\": true});\n",
       "\tviewergrid_16287848860810616[0][1].addLabel(\"5\",{\"position\": {\"x\": 0.31417154654690244, \"y\": -2.2958776044191804, \"z\": 0.4136489062282238}, \"inFront\": true});\n",
       "\tviewergrid_16287848860810616[0][1].addLabel(\"6\",{\"position\": {\"x\": 1.0659742273069448, \"y\": -0.7130873343255814, \"z\": 1.6630459403639695}, \"inFront\": true});\n",
       "\tviewergrid_16287848860810616[0][1].addLabel(\"7\",{\"position\": {\"x\": -0.764846490969848, \"y\": -0.9180506679507878, \"z\": 1.6577888761422155}, \"inFront\": true});\n",
       "\tviewergrid_16287848860810616[0][1].addLabel(\"8\",{\"position\": {\"x\": -1.1374168202377657, \"y\": 0.21559843711916038, \"z\": -1.372069043470591}, \"inFront\": true});\n",
       "\tviewergrid_16287848860810616[0][1].addLabel(\"9\",{\"position\": {\"x\": -1.0455147408434853, \"y\": -1.4467937707853984, \"z\": -2.0503865832888324}, \"inFront\": true});\n",
       "\tviewergrid_16287848860810616[0][1].addLabel(\"10\",{\"position\": {\"x\": -1.956730853380951, \"y\": -1.139860376967243, \"z\": -0.5503451279515833}, \"inFront\": true});\n",
       "\tviewergrid_16287848860810616[0][0].setStyle({\"stick\": {}});\n",
       "\tviewergrid_16287848860810616[0][1].setStyle({\"stick\": {}});\n",
       "\tviewergrid_16287848860810616[0][0].setStyle({\"model\": 0},{\"stick\": {\"colorscheme\": \"yellowCarbon\"}, \"sphere\": {\"scale\": 0.1}});\n",
       "\tviewergrid_16287848860810616[0][1].setStyle({\"model\": 0},{\"stick\": {\"colorscheme\": \"yellowCarbon\"}, \"sphere\": {\"scale\": 0.1}});\n",
       "\tviewergrid_16287848860810616[0][0].zoomTo();\n",
       "\tviewergrid_16287848860810616[0][1].zoomTo();\n",
       "viewergrid_16287848860810616[0][1].render();\n",
       "viewergrid_16287848860810616[0][0].render();\n",
       "});\n",
       "</script>"
      ]
     },
     "metadata": {},
     "output_type": "display_data"
    }
   ],
   "source": [
    "drawXYZSideBySide_labeled(backward, forward)"
   ]
  },
  {
   "cell_type": "markdown",
   "id": "95275723",
   "metadata": {},
   "source": [
    "Now let's have a look to the potential energy profile along the IRC steps. "
   ]
  },
  {
   "cell_type": "code",
   "execution_count": 19,
   "id": "26be70ab",
   "metadata": {},
   "outputs": [
    {
     "data": {
      "image/png": "[encoded data removed]",
      "text/plain": [
       "<Figure size 432x288 with 1 Axes>"
      ]
     },
     "metadata": {
      "needs_background": "light"
     },
     "output_type": "display_data"
    }
   ],
   "source": [
    "fig, ax =  plt.subplots(1)\n",
    "\n",
    "ax.plot(energies)\n",
    "ax.set_xlabel('IRC step')\n",
    "ax.set_ylabel('Pot Energy (kcal mol$^{-1}$)')\n",
    "\n",
    "plt.show()"
   ]
  },
  {
   "cell_type": "markdown",
   "id": "b84ffd58",
   "metadata": {},
   "source": [
    "```{admonition} Exercise 7\n",
    ":class: exercise\n",
    "Take a screenshot of the graph of the potential energy profile you\n",
    "    recorded. \n",
    "Why is the barrier for the epoxide formation so low? Will this be\n",
    "    the overall barrier for the reaction as depicted in the previous section?\n",
    "```\n"
   ]
  },
  {
   "cell_type": "markdown",
   "id": "3168c92d",
   "metadata": {},
   "source": [
    "We can have a closer look at the process, focusing on different parameters along the scan. First of all we can observe visually how the conformation changes during the process, then we will try to have a more quantitative understanding of the process,  focusing on meaningful parameters.  "
   ]
  },
  {
   "cell_type": "code",
   "execution_count": 21,
   "id": "8de4c7ab",
   "metadata": {},
   "outputs": [
    {
     "data": {
      "application/vnd.jupyter.widget-view+json": {
       "model_id": "8dc8f29b6d704014b405310ab15c10eb",
       "version_major": 2,
       "version_minor": 0
      },
      "text/plain": [
       "interactive(children=(IntSlider(value=0, description='conf', max=142), Output()), _dom_classes=('widget-intera…"
      ]
     },
     "metadata": {},
     "output_type": "display_data"
    }
   ],
   "source": [
    "coordinates_backward.reverse()\n",
    "coordinates = coordinates_backward + coordinates_forward\n",
    "traj = mol2traj(ts, coordinates)\n",
    "drawXYZGeomSlider(traj)"
   ]
  },
  {
   "cell_type": "markdown",
   "id": "4ee37465",
   "metadata": {},
   "source": [
    "```{admonition} Exercise 8\n",
    ":class: exercise\n",
    "Is the stereochemistry at the carbon at which the reaction takes\n",
    "    place retained?\n",
    "```"
   ]
  },
  {
   "cell_type": "markdown",
   "id": "15681e11",
   "metadata": {},
   "source": [
    "Let's have a look at different bond distances involving different atoms in the molecule. You can have a look at the labeled represetnations of the molecule above to understand between which atoms the distances are calculated."
   ]
  },
  {
   "cell_type": "code",
   "execution_count": 22,
   "id": "0ce96d09",
   "metadata": {},
   "outputs": [],
   "source": [
    "traj_array = coord2traj_array(coordinates)\n",
    "\n",
    "bond_length_C0_Cl2 = []\n",
    "bond_length_C0_O5 = []\n",
    "bond_length_C1_O5 = []\n",
    "bond_length_C0_C1 = []\n",
    "\n",
    "for coord in traj_array:\n",
    "    bond_length_C0_Cl2.append(calculate_bond(coord[0], coord[2])) \n",
    "    bond_length_C0_O5.append(calculate_bond(coord[0], coord[5])) \n",
    "    bond_length_C1_O5.append(calculate_bond(coord[1], coord[5])) \n",
    "    bond_length_C0_C1.append(calculate_bond(coord[0], coord[1])) "
   ]
  },
  {
   "cell_type": "code",
   "execution_count": 23,
   "id": "a9a2187e",
   "metadata": {},
   "outputs": [
    {
     "data": {
      "image/png": "[encoded data removed]",
      "text/plain": [
       "<Figure size 432x288 with 1 Axes>"
      ]
     },
     "metadata": {
      "needs_background": "light"
     },
     "output_type": "display_data"
    }
   ],
   "source": [
    "fig, ax = plt.subplots(1)\n",
    "ax.plot(bond_length_C0_Cl2)\n",
    "ax.plot(bond_length_C0_O5)\n",
    "ax.plot(bond_length_C1_O5)\n",
    "ax.plot(bond_length_C0_C1)\n",
    "plt.legend([\"C0-Cl\", \"C0-O\", \"C1-O\", \"C0-C1\"])\n",
    "\n",
    "ax.set_xlabel('IRC step')\n",
    "ax.set_ylabel('bond [A]')\n",
    "plt.show()"
   ]
  },
  {
   "cell_type": "markdown",
   "id": "9ac5f54f",
   "metadata": {},
   "source": [
    "```{admonition} Exercise  9\n",
    ":class: exercise\n",
    "How do the C-Cl and the two relevant C-O bond lengths change during\n",
    "    the trajectory? Does the C-C bond in the ring contract as the\n",
    "    epoxide is formed? Show a graph depicting the evolution of these\n",
    "    parameters as the reaction progresses. \n",
    "```\n"
   ]
  },
  {
   "cell_type": "markdown",
   "id": "7c96c6f8",
   "metadata": {},
   "source": [
    "```{admonition} Exercise 10\n",
    ":class: exercise\n",
    "What is happening to the methyl group as the reaction proceeds? Find\n",
    "    a suitable parameter (angle, dihedral) to describe and characterise\n",
    "    possible changes you observe, change the code below. Explain in your report what atoms you considered and take and include the evolutions of the chosen parameters during the IRC procedure. \n",
    "```"
   ]
  },
  {
   "cell_type": "code",
   "execution_count": 24,
   "id": "e93fc807",
   "metadata": {},
   "outputs": [
    {
     "data": {
      "image/png": "[encoded data removed]",
      "text/plain": [
       "<Figure size 432x288 with 1 Axes>"
      ]
     },
     "metadata": {
      "needs_background": "light"
     },
     "output_type": "display_data"
    }
   ],
   "source": [
    "#Modify the code below, chosing proper atoms to monitor the changes of the methyl group \n",
    "methyl_angle = []\n",
    "methyl_dihedral = []\n",
    "\n",
    "for coord in traj_array:\n",
    "    methyl_angle.append(calculate_angle(coord[#], coord[#], coord[#])) \n",
    "    methyl_dihedral.append(calculate_dihedral(coord[#], coord[#], coord[#], coord[#])) \n",
    "    \n",
    "fig, ax = plt.subplots(1)\n",
    "ax.plot(methyl_angle)\n",
    "ax.plot(methyl_dihedral)\n",
    "plt.legend([\"angle (#-#-#)\", \"dihedral (#-#-#-#)\"])\n",
    "\n",
    "ax.set_xlabel('IRC step')\n",
    "ax.set_ylabel('angle [deg]')\n",
    "plt.show()"
   ]
  },
  {
   "cell_type": "code",
   "execution_count": null,
   "id": "48573a34",
   "metadata": {},
   "outputs": [],
   "source": []
  },
  {
   "cell_type": "code",
   "execution_count": null,
   "id": "dfc02277",
   "metadata": {},
   "outputs": [],
   "source": []
  }
 ],
 "metadata": {
  "jupytext": {
   "cell_metadata_filter": "-all",
   "notebook_metadata_filter": "-all",
   "text_representation": {
    "extension": ".md",
    "format_name": "markdown"
   }
  },
  "kernelspec": {
   "display_name": "iesm2",
   "language": "python",
   "name": "iesm2"
  },
  "language_info": {
   "codemirror_mode": {
    "name": "ipython",
    "version": 3
   },
   "file_extension": ".py",
   "mimetype": "text/x-python",
   "name": "python",
   "nbconvert_exporter": "python",
   "pygments_lexer": "ipython3",
   "version": "3.8.11"
  }
 },
 "nbformat": 4,
 "nbformat_minor": 5
}
