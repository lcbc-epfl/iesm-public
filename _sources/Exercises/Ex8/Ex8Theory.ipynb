{
 "cells": [
  {
   "cell_type": "markdown",
   "id": "aad4706a",
   "metadata": {
    "lines_to_next_cell": 0
   },
   "source": [
    "# Theory\n",
    "## Synthesis of Propylene Oxide\n",
    "\n",
    "\n",
    "Corrosive propylene oxide is the simplest chiral\n",
    "epoxide and of great industrial importance. The historically most\n",
    "important synthesis is based on hydrochlorination and ring closure of\n",
    "the resulting chloropropanols in a basic environment:"
   ]
  },
  {
   "cell_type": "markdown",
   "id": "2837b3ee",
   "metadata": {
    "lines_to_next_cell": 0
   },
   "source": [
    "```{figure} ../../images/reaction_epoxide4.png\n",
    "---\n",
    "name: epoxide_reaction_scheme\n",
    "---\n",
    "Epoxide reaction.\n",
    "```"
   ]
  },
  {
   "cell_type": "markdown",
   "id": "c48cf791",
   "metadata": {},
   "source": [
    "The resulting epoxide is most often directly used as a racemate.\n",
    "\n",
    "```{admonition} Exercise 1\n",
    ":class: exercise \n",
    "What kind of reaction mechanism would you expect? Would you expect\n",
    "    the stereochemistry at the chiral carbon to be preserved? Identify\n",
    "    the chirality centre in the chloropropanoate and the product\n",
    "    epoxide.\n",
    "```\n"
   ]
  },
  {
   "cell_type": "markdown",
   "id": "9f2fa3a7",
   "metadata": {},
   "source": [
    "```{admonition} Exercise 2\n",
    ":class: exercise \n",
    "Suggest possible transition state structures.\n",
    "```\n"
   ]
  },
  {
   "cell_type": "markdown",
   "id": "b24c3fa2",
   "metadata": {},
   "source": [
    "## Transition State Theory\n",
    "\n",
    "Any chemical reaction is nothing but a mere rearrangement of nuclei, and\n",
    "all the possible ways the nuclei could rearrange span a plethora of\n",
    "possible paths. Hence, there are usually many paths on the potential\n",
    "energy surface (PES) that connect reactants and products, and depending\n",
    "on the energy of the system, more or less of these paths will be\n",
    "accessible for the chemical transformation. Finding all of these paths\n",
    "is a daunting task, as all the involved degrees of freedom have to be\n",
    "mapped out of the full PES onto a reduced - but still multidimensional -\n",
    "PES. The study of these *rare events* using various mapping techniques\n",
    "is an involved subject; various elaborate techniques exist for\n",
    "elucidating possible paths. They are, however, often linked to\n",
    "computationally expensive molecular dynamics simulations (MD) and are\n",
    "more concerned with studying the free energy surface (FES; including\n",
    "entropic effects) rather than just the PES. For the study of the latter,\n",
    "simpler models exist, often yielding a qualitatively sufficient picture\n",
    "to explain many chemical transformations.\n",
    "\n"
   ]
  },
  {
   "cell_type": "markdown",
   "id": "910bdc68",
   "metadata": {},
   "source": [
    "## A Minimum (Potential) Energy Path \n",
    "```{figure} ../../images/PES_extended.png\n",
    "---\n",
    "name: PES_extended\n",
    "---\n",
    "Visualisation of transition state theory in a ficticious 2D PES. Dark\n",
    "areas correspond to high-energy regions, whereas brightly coloured areas\n",
    "correspond to energetically lower lying states. Reactants and products\n",
    "are connected through a minimum energy path via a first-order saddle\n",
    "point, the transition state.\n",
    "```\n",
    "\n",
    "The fundamental concepts that greatly simplify the problem of finding\n",
    "reactive pathways on the PES were introduced as early as the nineteenth\n",
    "century, and in the 1930ies, their development culminated in a model\n",
    "called *Transition State Theory*. Assuming that the most likely path is\n",
    "also the unique path by which a reaction proceeds, one searches for the\n",
    "*minimum energy path* connecting reactants and products along the\n",
    "reaction coordinate. The energetically highest point along this path is\n",
    "a stationary point, the *transition state* (*cf.* figure 2). There is a\n",
    "striking analogy with lazy hikers that want to get from one valley to\n",
    "another: They will not choose the steepest path across a peak of 4000 m\n",
    "altitude, but they will rather choose a mountain pass (a *col*) to reach\n",
    "their destination with least effort. The villages in the valleys\n",
    "correspond to reactant and product states: In all directions, the path\n",
    "goes uphill.\\\n",
    "It is straightforward to see from this analogy that the transition state\n",
    "is given by a *first order saddle point*. Along all possible coordinates\n",
    "except the reaction coordinate, the potential energy surface goes\n",
    "uphill; along the reaction coordinate, it goes downhill. This implies\n",
    "that the transition state is the highest energy point *along* the\n",
    "reaction coordinate, but the lowest energy point *perpendicular* to the\n",
    "reaction coordinate. This gives raise to the typical transition state\n",
    "diagrams that are frequently used to describe simple reactions in\n",
    "organic chemistry.\n",
    "\n",
    "## From Curvature to Vibrational Frequencies: The Hessian\n",
    "\n",
    "(Local) Minima and saddle points of any order are all *stationary\n",
    "points*, stable points on the potential energy surface where the\n",
    "curvature is zero. This implies that the first derivative matrix of the\n",
    "nuclear coordinates vanishes at any stationary point. However, this\n",
    "information will not be sufficient to classify the nature of the\n",
    "stationary point. The matrix of second derivatives, the *Hessian*, has\n",
    "to be used instead. The Hessian matrix can be diagonalised, and the\n",
    "resulting eigenvalues contain the desired information on the stationary\n",
    "point: If all eigenvalues are negative, the corresponding geometry\n",
    "constitutes a local maximum; if they are all positive, the geometry\n",
    "corresponds to a local minimum. If positive and negative eigenvalues\n",
    "occur, one is dealing with an N$^{th}$ order saddle point. The task of\n",
    "finding a transition state using the Hessian matrix of the system is\n",
    "therefore easy: One searches for the geometry that yields a Hessian with\n",
    "exactly one negative eigenvalue, *i.e.* a first-order saddle point - the\n",
    "transition state. (Similarly, the eigenvalue test can also be used to\n",
    "check whether a geometry optimisation has found a true minimum, or\n",
    "whether it is blocked in a flat region of the PES.)\\\n",
    "The Hessian of the system contains further useful information. For\n",
    "instance, in the approximation of a *harmonic oscillator* in a quadratic\n",
    "potential, the vibrational eigenvalues are known: \n",
    "\n",
    "$$\\begin{aligned}\n",
    "E_\\nu = \\left(\\nu+\\frac{1}{2}\\right)\\hbar\\omega \\quad ; \\quad \\omega = \\sqrt{\\frac{k}{m}},\\end{aligned}$$"
   ]
  },
  {
   "cell_type": "markdown",
   "id": "a207757c",
   "metadata": {},
   "source": [
    "where $k$ is a force constant and $m$ is the (reduced) mass of the\n",
    "oscillator. By locally approximating the PES to be harmonic, the\n",
    "(decoupled) vibrational frequencies for the corresponding geometries can\n",
    "be calculated from the Hessian matrix: It turns out that $k$ is simply\n",
    "given by the eigenvalues of the Hessian evaluated in mass-weighted\n",
    "coordinates. For equilibrium geometries with positive Hessian\n",
    "eigenvalues, the molecular vibrational frequencies $\\omega$ (as observed\n",
    "in IR spectroscopy) can easily be calculated, and the corresponding\n",
    "vibrational modes can be visualised. The possiblity of visualising the\n",
    "frequencies opens up a valuable tool in the transition state search: As\n",
    "a first order saddle point will have one negative eigenvalue, the\n",
    "corresponding frequency will be imaginary. By visualising this imaginary\n",
    "frequency, one can immediately verify whether one has found a TS of\n",
    "interest, or just another, non-relevant first-order saddle point on the\n",
    "TS: If the imaginary vibrational node corresponds to a motion that\n",
    "transfers reactants to products, the search was successful.\n",
    "\n"
   ]
  },
  {
   "cell_type": "code",
   "execution_count": null,
   "id": "d4cf990f",
   "metadata": {},
   "outputs": [],
   "source": []
  }
 ],
 "metadata": {
  "jupytext": {
   "cell_metadata_filter": "-all",
   "notebook_metadata_filter": "-all",
   "text_representation": {
    "extension": ".md",
    "format_name": "markdown"
   }
  },
  "kernelspec": {
   "display_name": "iesm2",
   "language": "python",
   "name": "iesm2"
  },
  "language_info": {
   "codemirror_mode": {
    "name": "ipython",
    "version": 3
   },
   "file_extension": ".py",
   "mimetype": "text/x-python",
   "name": "python",
   "nbconvert_exporter": "python",
   "pygments_lexer": "ipython3",
   "version": "3.8.11"
  }
 },
 "nbformat": 4,
 "nbformat_minor": 5
}
