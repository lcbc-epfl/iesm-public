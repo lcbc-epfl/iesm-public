{
 "cells": [
  {
   "cell_type": "markdown",
   "source": [
    "# Recording a Potential Energy Profile: The Intrinsic Reaction Coordinate (IRC)"
   ],
   "metadata": {}
  },
  {
   "cell_type": "markdown",
   "source": [
    "A transition state search merely guarantees that one reaches a\n",
    "first-order saddle point on the PES; there is, however, no guarantee\n",
    "that it is really linked to the reactant and product. (For instance,\n",
    "there may be further transition states lying in between.) Although the\n",
    "visualisation of the imaginary vibrational mode may give some hint as to\n",
    "whether one has found a reasonable saddle point, this information is not\n",
    "sufficient to guarantee a connection to the reactant and product well.\n",
    "Following the negative Hessian eigenvalues from the transition state to\n",
    "the next local minimum, on the other hand, will immediately reveal\n",
    "whether such a connection exists. This Hessian-following in\n",
    "mass-weighted coordinates is referred to as a search along the\n",
    "*Intrinsic Reaction Coordinate* (IRC). This search will create a\n",
    "potential energy profile for the reaction, as well as a trajectory that\n",
    "visualises the lowest energy path from reactant to TS to product or reactant (depending on the direction that one chooses). \n",
    "\n",
    "As psi4 automatically performs a frequency calculation we can verify whether the transition state that was computed is the proper transition state. "
   ],
   "metadata": {}
  },
  {
   "cell_type": "markdown",
   "source": [
    "```{warning}\n",
    "You do not need to run this notebook. The outputs `forward.p` and `backward.p` are provided to you in the next notebook. This is here for completeness. The calculation takes about 30 - 45 minutes depending on the direction you choose. \n",
    "```"
   ],
   "metadata": {}
  },
  {
   "cell_type": "code",
   "execution_count": 1,
   "source": [
    "import psi4\n",
    "import numpy as np\n",
    "\n",
    "import sys\n",
    "sys.path.append(\"..\")\n",
    "from helpers import *"
   ],
   "outputs": [],
   "metadata": {}
  },
  {
   "cell_type": "code",
   "execution_count": null,
   "source": [
    "# Read the transition state coordinates from disk\n",
    "with open('ts.xyz', 'r') as f:\n",
    "    ts_string = f.read()  # this is the xyz file as a string\n",
    "    print(ts_string)"
   ],
   "outputs": [],
   "metadata": {}
  },
  {
   "cell_type": "code",
   "execution_count": 74,
   "source": [
    "ts = psi4.geometry(f\"\"\"\n",
    "-1 1\n",
    "symmetry c1\n",
    " C    0.169891741896   -0.303396542243   -0.246565081910\n",
    " C    0.191012418901   -0.532643890512    1.275916186757\n",
    "CL    0.143804012854    1.566013819697   -0.686628413220\n",
    " H    1.120024392980   -0.636063203527   -0.672877892311\n",
    " C   -1.016755132582   -0.934703159138   -0.942141431016\n",
    " O    0.339535270596   -1.849728813088    1.472891387260\n",
    " H    1.010561961934    0.121411357267    1.686229845174\n",
    " H   -0.762913236261   -0.079611519921    1.679061412831\n",
    " H   -0.957983639113   -0.847359581313   -2.033892804890\n",
    " H   -1.031376458892   -1.990374831218   -0.649080196171\n",
    " H   -1.947496420408   -0.464044585762   -0.599503342745\"\"\")"
   ],
   "outputs": [],
   "metadata": {}
  },
  {
   "cell_type": "markdown",
   "source": [
    "# Choose a direction\n",
    "\n",
    "Start from the TS that we optimized and run the IRC calculation in one direction.\n",
    "\n",
    "You can choose `forward` or `backward` for the `irc_direction`\n",
    "\n"
   ],
   "metadata": {
    "tags": []
   }
  },
  {
   "cell_type": "code",
   "execution_count": null,
   "source": [
    "irc_direction =  'forward' # 'backward'"
   ],
   "outputs": [],
   "metadata": {}
  },
  {
   "cell_type": "code",
   "execution_count": 8,
   "source": [
    "psi4.core.set_output_file(f'irc.log', False)\n",
    "psi4.set_options({\n",
    "     \"geom_maxiter\":500,\n",
    "     \"full_hess_every\":0,\n",
    "     \"opt_type\":\"irc\",\n",
    "     \"irc_step_size\":0.25,\n",
    "     \"ensure_bt_convergence\":True,\n",
    "     \"irc_direction\":irc_direction,\n",
    "     })\n",
    "\n",
    "E, history = psi4.optimize('b3pw91/6-31+G*',molecule=ts, return_history=True)"
   ],
   "outputs": [
    {
     "output_type": "stream",
     "name": "stdout",
     "text": [
      " 55 displacements needed.\n",
      " 1 2 3 4 5 6 7 8 9 10 11 12 13 14 15 16 17 18 19 20 21 22 23 24 25 26 27 28 29 30 31 32 33 34 35 36 37 38 39 40 41 42 43 44 45 46 47 48 49 50 51 52 53 54 55\n",
      "Warning: thermodynamics relations excluded imaginary frequencies: ['312.3714i']\n",
      "Warning: used thermodynamics relations inappropriate for low-frequency modes: ['123.0283' '199.5642' '200.4680' '278.6674' '310.2934' '399.1543']\n",
      "Optimizer: Optimization complete!\n"
     ]
    }
   ],
   "metadata": {}
  },
  {
   "cell_type": "code",
   "execution_count": 67,
   "source": [
    "coordinates = history['coordinates']\n",
    "energies = history['energy']\n",
    "\n",
    "\n",
    "# Convert to kcal mol-1\n",
    "\n",
    "# Convert to kcal mol-1\n",
    "e = [energy * psi4.constants.hartree2kcalmol for energy in energies]\n",
    "# set highest value to 0\n",
    "e = np.array(e)-np.max(e)"
   ],
   "outputs": [],
   "metadata": {}
  },
  {
   "cell_type": "code",
   "execution_count": null,
   "source": [
    "import pickle\n",
    "import json"
   ],
   "outputs": [],
   "metadata": {}
  },
  {
   "cell_type": "code",
   "execution_count": null,
   "source": [
    "pickle.dump((backward_e, \n",
    "             mol2traj(backward, coordinates_backward), \n",
    "             coord2traj_array(coordinates_backward)), open( f\"{irc_direction}.p\", \"wb\" ) )"
   ],
   "outputs": [],
   "metadata": {}
  }
 ],
 "metadata": {
  "kernelspec": {
   "display_name": "Quantum Chemistry",
   "language": "python",
   "name": "psi4"
  },
  "language_info": {
   "codemirror_mode": {
    "name": "ipython",
    "version": 3
   },
   "file_extension": ".py",
   "mimetype": "text/x-python",
   "name": "python",
   "nbconvert_exporter": "python",
   "pygments_lexer": "ipython3",
   "version": "3.8.10"
  }
 },
 "nbformat": 4,
 "nbformat_minor": 5
}