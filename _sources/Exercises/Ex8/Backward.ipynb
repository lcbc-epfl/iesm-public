{
 "cells": [
  {
   "cell_type": "markdown",
   "id": "84932181-6bd8-4a67-83f6-9d204b80fe95",
   "metadata": {},
   "source": [
    "# Recording a Potential Energy Profile: The Intrinsic Reaction Coordinate (IRC)"
   ]
  },
  {
   "cell_type": "markdown",
   "id": "51b7448c-3c27-41a4-a9bb-4447ad7fe7c6",
   "metadata": {},
   "source": [
    "A transition state search merely guarantees that one reaches a\n",
    "first-order saddle point on the PES; there is, however, no guarantee\n",
    "that it is really linked to the reactant and product. (For instance,\n",
    "there may be further transition states lying in between.) Although the\n",
    "visualisation of the imaginary vibrational mode may give some hint as to\n",
    "whether one has found a reasonable saddle point, this information is not\n",
    "sufficient to guarantee a connection to the reactant and product well.\n",
    "Following the negative Hessian eigenvalues from the transition state to\n",
    "the next local minimum, on the other hand, will immediately reveal\n",
    "whether such a connection exists. This Hessian-following in\n",
    "mass-weighted coordinates is referred to as a search along the\n",
    "*Intrinsic Reaction Coordinate* (IRC). This search will create a\n",
    "potential energy profile for the reaction, as well as a trajectory that\n",
    "visualises the lowest energy path from reactant to TS to product or reactant (depending on the direction that one chooses). \n",
    "\n",
    "As psi4 automatically performs a frequency calculation we can verify whether the transition state that was computed is the proper transition state. "
   ]
  },
  {
   "cell_type": "code",
   "execution_count": 1,
   "id": "e566dc2c-cf31-41e4-b684-4099343e0f9c",
   "metadata": {},
   "outputs": [],
   "source": [
    "import psi4\n",
    "import numpy as np\n",
    "\n",
    "import sys\n",
    "sys.path.append(\"..\")\n",
    "from helpers import *"
   ]
  },
  {
   "cell_type": "code",
   "execution_count": null,
   "id": "690f9c2e-c9dc-4744-9d6b-2c5f6f4ad46d",
   "metadata": {},
   "outputs": [],
   "source": [
    "# Read the transition state coordinates from disk\n",
    "with open('ts.xyz', 'r') as f:\n",
    "    ts_string = f.read()  # this is the xyz file as a string\n",
    "    print(ts_string)"
   ]
  },
  {
   "cell_type": "code",
   "execution_count": 74,
   "id": "53d9f25c-fe81-4f78-9d3a-9129c71bac79",
   "metadata": {},
   "outputs": [],
   "source": [
    "ts = psi4.geometry(f\"\"\"\n",
    "-1 1\n",
    "symmetry c1\n",
    "#coordinates here\"\"\")"
   ]
  },
  {
   "cell_type": "markdown",
   "id": "d3fdf09e-7901-4f1c-bcf9-e83a8d0ad338",
   "metadata": {
    "tags": []
   },
   "source": [
    "# Choose a direction\n",
    "\n",
    "Start from the TS that we optimized and run the IRC calculation in one direction.\n",
    "\n",
    "You can choose `forward` or `backward` for the `irc_direction`\n",
    "\n"
   ]
  },
  {
   "cell_type": "code",
   "execution_count": null,
   "id": "48ec97d1-65a8-402b-8aa5-64072119b182",
   "metadata": {},
   "outputs": [],
   "source": [
    "irc_direction =  'forward' # 'backward'"
   ]
  },
  {
   "cell_type": "code",
   "execution_count": 8,
   "id": "e6b726e3-3134-4891-9526-a0b12686fe22",
   "metadata": {},
   "outputs": [
    {
     "name": "stdout",
     "output_type": "stream",
     "text": [
      " 55 displacements needed.\n",
      " 1 2 3 4 5 6 7 8 9 10 11 12 13 14 15 16 17 18 19 20 21 22 23 24 25 26 27 28 29 30 31 32 33 34 35 36 37 38 39 40 41 42 43 44 45 46 47 48 49 50 51 52 53 54 55\n",
      "Warning: thermodynamics relations excluded imaginary frequencies: ['312.3714i']\n",
      "Warning: used thermodynamics relations inappropriate for low-frequency modes: ['123.0283' '199.5642' '200.4680' '278.6674' '310.2934' '399.1543']\n",
      "Optimizer: Optimization complete!\n"
     ]
    }
   ],
   "source": [
    "psi4.core.set_output_file(f'irc.log', False)\n",
    "psi4.set_options({\n",
    "     \"geom_maxiter\":500,\n",
    "     \"full_hess_every\":0,\n",
    "     \"opt_type\":\"irc\",\n",
    "     \"irc_step_size\":0.25,\n",
    "     \"ensure_bt_convergence\":True,\n",
    "     \"irc_direction\":irc_direction,\n",
    "     })\n",
    "\n",
    "E, history = psi4.optimize('b3pw91/6-31+G*',molecule=ts, return_history=True)"
   ]
  },
  {
   "cell_type": "code",
   "execution_count": 67,
   "id": "4b9c375a-7f62-4e9d-a890-3e7d40445526",
   "metadata": {},
   "outputs": [],
   "source": [
    "coordinates = history['coordinates']\n",
    "energies = history['energy']\n",
    "\n",
    "\n",
    "# Convert to kcal mol-1\n",
    "e = [] # use a list comprehension\n",
    "# set highest value to 0\n",
    "e = [] # convert list to np.array and use broadcasting to substract max value, you can use np.max()"
   ]
  },
  {
   "cell_type": "markdown",
   "id": "87593902-7235-4051-acdb-f94687b3275a",
   "metadata": {},
   "source": [
    "## Pickling the result. \n",
    "We write the resulting energies and coordiations to a pickle file which is a binary representation of python objects on disk. \n",
    "\n",
    "We can load this in another notebook or you can share it with a colleague (see below)."
   ]
  },
  {
   "cell_type": "code",
   "execution_count": 34,
   "id": "e70ae147-2a50-4de6-8a13-8d81098fffc4",
   "metadata": {},
   "outputs": [],
   "source": [
    "import pickle\n",
    "import json"
   ]
  },
  {
   "cell_type": "code",
   "execution_count": 68,
   "id": "b2e7dc65-5268-4c44-beba-0fba5c7b40ec",
   "metadata": {},
   "outputs": [],
   "source": [
    "pickle.dump((backward_e, \n",
    "             mol2traj(backward, coordinates_backward), \n",
    "             coord2traj_array(coordinates_backward)), open( f\"{irc_direction}.p\", \"wb\" ) )"
   ]
  },
  {
   "cell_type": "markdown",
   "id": "7a93b168-615a-4fc3-b4f5-f9ff96f6f214",
   "metadata": {},
   "source": [
    "Calculating the IRC takes some time. We therefore ask you to only calculate one part of the trajectory and paired you with one of you colleagues so that you can still look at the full trajectory. See Moodle for the list of partners. \n",
    "\n",
    "## Upload the part of the IRC that you calculated to share with your colleague\n",
    "\n",
    "We use `curl` which is a linux package to perform http requests. We use the free `file.io` service that allows you share file anonymously without registering. \n",
    "The file can only be downloaded once. You can of course also use any other method to share the pickled files. "
   ]
  },
  {
   "cell_type": "code",
   "execution_count": null,
   "id": "8be1e5d8-5934-49bf-9c07-71b9d2bad28f",
   "metadata": {},
   "outputs": [],
   "source": [
    "# Upload, # change the name of the file forward.p\n",
    "response = !curl -F \"file=@forward.p\" https://file.io\n",
    "\n",
    "try:\n",
    "    print(\"Share this code with you colleague: \", json.loads(response[6])['key'])\n",
    "except:\n",
    "    print('Something went wrong, check the name of the file and check the response')\n",
    "    print(response)"
   ]
  }
 ],
 "metadata": {
  "kernelspec": {
   "display_name": "Quantum Chemistry",
   "language": "python",
   "name": "psi4"
  },
  "language_info": {
   "codemirror_mode": {
    "name": "ipython",
    "version": 3
   },
   "file_extension": ".py",
   "mimetype": "text/x-python",
   "name": "python",
   "nbconvert_exporter": "python",
   "pygments_lexer": "ipython3",
   "version": "3.8.10"
  }
 },
 "nbformat": 4,
 "nbformat_minor": 5
}
