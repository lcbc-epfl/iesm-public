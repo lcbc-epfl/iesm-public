{
 "cells": [
  {
   "cell_type": "markdown",
   "source": [
    "# Homolytic Cleavage of the C-F Bond\n",
    "\n",
    "In this exercise, you will investigate the influence of correlation on\n",
    "the BDE in a radical process by comparing Hartree-Fock to MPn results.\n",
    "Consider the reaction enthalpy of the homolytic cleavage of the H$_3$C-F\n",
    "bond in monofluoro methane: \n",
    "\n",
    "$$\\begin{aligned}\n",
    "CH_3F \\quad \\rightarrow \\quad H_3C\\cdot \\quad + \\quad F\\cdot.\\end{aligned}$$\n",
    "\n",
    "\n",
    "As in the exercise on hydrogen dissociation, you may calculate the bond\n",
    "dissociation energy as the difference of the energy of the fragments:\n",
    "\n",
    "\n",
    "$$\\begin{aligned}\n",
    "E^{BDE} =  E^{H_3C\\cdot} + E^{F\\cdot} - E^{CH_3F}\\end{aligned}$$\n",
    "\n",
    " where\n",
    "$E^{BDE}$ was experimentally determined to be 109.2 kcal mol$^{-1}$ {cite}`mcgivern_computationally_2000`"
   ],
   "metadata": {}
  },
  {
   "cell_type": "markdown",
   "source": [
    "## Practical Application of Post-Hartree-Fock Methods \n",
    "\n",
    "Bond dissociation energies of large systems often require the use of\n",
    "large basis sets of triple-$\\zeta$ quality; you may either use Pople's\n",
    "6-311+G\\* basis, or the larger aug-cc-pVTZ by Dunning and coworkers (the\n",
    "choice is up to you; either will take comparably long). As Post-HF\n",
    "methods require orbitals that diagonalise the Fock operator (*i.e.* the\n",
    "Hartree-Fock orbitals), the HF orbitals will need to be calculated at\n",
    "the start of every run.\\\n",
    "The Post-HF treatment itself may take some considerable time. It is\n",
    "therefore not advisable to run electronic structure calculations with\n",
    "computationally expensive methods starting from a random guess for the\n",
    "geometry (since this guess may be considerably off the equilibrium). It\n",
    "is usually more effective to pre-optimise the geometry at the Hartree-Fock level, and only then carry out the more elaborate calculations on the basis of the converged Hartree-Fock result.\n",
    "\n",
    "In psi4 this is easy as the geometry is automatically updated when calling `psi4.optimize()`. \n",
    "In other electronic structure programs often checkpoint files are written which contain intermediate states of the geometry and/or wavefunction. "
   ],
   "metadata": {}
  },
  {
   "cell_type": "markdown",
   "source": [
    "For MP3 and MP4, one often expects the geometry not to change too much\n",
    "anymore, and a reasonable estimate for the energy may already be given\n",
    "by a single-point calculation on the optimised MP2 geometry.\n",
    "\n",
    "(In general, it is sometimes necessary to optimise the geometry at a\n",
    "lower Post-Hartree-Fock level, followed by a higher level single point\n",
    "calculation. This is due to a lack of available analytical gradients for\n",
    "certain higher order methods (such as MP4), which causes the\n",
    "computational time for a geometry optimisation to become exorbitantly\n",
    "high.)"
   ],
   "metadata": {}
  },
  {
   "cell_type": "markdown",
   "source": [
    "```{admonition} Exercise 1\n",
    ":class: exercise \n",
    "Complete the following table by running the calculations below.\n",
    "\n",
    " |Method:         |   HF   | MP2  |  MP3  |  MP4  |         Exp.          |\n",
    " | :--------------| :----: | :--- | :---- | :-----| :-------------------- |\n",
    " |$E^{F\\cdot}$    |        |      |       |       |       n/a             |\n",
    " |$E^{H_3C\\cdot}$ |        |      |       |       |       n/a             |\n",
    " |$E^{CH_3F}$     |        |      |       |       |       n/a             |\n",
    " |$E^{BDE}$       |        |      |       |       | 109.2 kcal mol$^{-1}$ |\n",
    "```"
   ],
   "metadata": {}
  },
  {
   "cell_type": "markdown",
   "source": [
    "```{admonition} Exercise 2\n",
    ":class: exercise \n",
    "Is the homolytic cleavage of the H$_3$C-F bond likely, based on the\n",
    "    BDE that you calculated? (Think of radical processes in general.)\n",
    "```"
   ],
   "metadata": {}
  },
  {
   "cell_type": "markdown",
   "source": [
    "```{admonition} Exercise 3\n",
    ":class: exercise \n",
    "Why is it a reasonable choice to use Hartree-Fock geometries as a starting point for optimisations at the\n",
    "    Post-Hartree-Fock level? What is the advantage and how is this\n",
    "    approach justified?\n",
    "```"
   ],
   "metadata": {}
  },
  {
   "cell_type": "markdown",
   "source": [
    "```{admonition} Exercise 4\n",
    ":class: exercise \n",
    "What is the trend in energies when moving from HF over MP2 to MP3?\n",
    "    Does this series converge?\n",
    "```"
   ],
   "metadata": {}
  },
  {
   "cell_type": "markdown",
   "source": [
    "```{admonition} Exercise 5\n",
    ":class: exercise \n",
    "Comment on the accuracy of the HF approach for this system. If the\n",
    "    difference between HF and MPn is large, how is the use of MPn still\n",
    "    justified? (Hint: Think in terms of the scale of the absolute energy\n",
    "    of the system, rather than the reaction.)\n",
    "```"
   ],
   "metadata": {}
  },
  {
   "cell_type": "markdown",
   "source": [
    "```{admonition} Exercise 6\n",
    ":class: exercise \n",
    "Why did we choose not to carry out a geometry optimisation for the\n",
    "    methods where no analytical gradient is available (such as MP4)?\n",
    "```"
   ],
   "metadata": {}
  },
  {
   "cell_type": "code",
   "execution_count": 1,
   "source": [
    "import psi4\n",
    "import py3Dmol\n",
    "import pandas as pd\n",
    "\n",
    "import sys\n",
    "sys.path.append(\"..\")\n",
    "from helpers import *"
   ],
   "outputs": [],
   "metadata": {}
  },
  {
   "cell_type": "code",
   "execution_count": null,
   "source": [
    "psi4.set_num_threads(2)\n",
    "psi4.set_memory('2 GB')"
   ],
   "outputs": [],
   "metadata": {}
  },
  {
   "cell_type": "code",
   "execution_count": 3,
   "source": [
    "ch3f = psi4.geometry(\"\"\"\n",
    "0 1\n",
    "symmetry c1\n",
    "    F           -0.642381967195     0.000000095800    -0.000000000108\n",
    "    C            0.742340417015    -0.000000119001     0.000000000132\n",
    "    H            1.090184715481    -1.027287458657     0.000000000131\n",
    "    H            1.090184841794     0.513643534810    -0.889656896780\n",
    "    H            1.090184842203     0.513643534859     0.889656897127\"\"\")"
   ],
   "outputs": [],
   "metadata": {}
  },
  {
   "cell_type": "code",
   "execution_count": 4,
   "source": [
    "drawXYZ(ch3f)"
   ],
   "outputs": [
    {
     "output_type": "display_data",
     "data": {
      "text/html": [
       "<div id=\"3dmolviewer_16309371973781054\"  style=\"position: relative; width: 400px; height: 400px\">\n",
       "        <p id=\"3dmolwarning_16309371973781054\" style=\"background-color:#ffcccc;color:black\">You appear to be running in JupyterLab (or JavaScript failed to load for some other reason).  You need to install the 3dmol extension: <br>\n",
       "        <tt>jupyter labextension install jupyterlab_3dmol</tt></p>\n",
       "        </div>\n",
       "<script>\n",
       "\n",
       "var loadScriptAsync = function(uri){\n",
       "  return new Promise((resolve, reject) => {\n",
       "    var tag = document.createElement('script');\n",
       "    tag.src = uri;\n",
       "    tag.async = true;\n",
       "    tag.onload = () => {\n",
       "      resolve();\n",
       "    };\n",
       "  var firstScriptTag = document.getElementsByTagName('script')[0];\n",
       "  firstScriptTag.parentNode.insertBefore(tag, firstScriptTag);\n",
       "});\n",
       "};\n",
       "\n",
       "if(typeof $3Dmolpromise === 'undefined') {\n",
       "$3Dmolpromise = null;\n",
       "  $3Dmolpromise = loadScriptAsync('https://3dmol.org/build/3Dmol.js');\n",
       "}\n",
       "\n",
       "var viewer_16309371973781054 = null;\n",
       "var warn = document.getElementById(\"3dmolwarning_16309371973781054\");\n",
       "if(warn) {\n",
       "    warn.parentNode.removeChild(warn);\n",
       "}\n",
       "$3Dmolpromise.then(function() {\n",
       "viewer_16309371973781054 = $3Dmol.createViewer($(\"#3dmolviewer_16309371973781054\"),{backgroundColor:\"white\"});\n",
       "viewer_16309371973781054.zoomTo();\n",
       "\tviewer_16309371973781054.addModel(\"5\\n\\n F   -0.642381967195    0.000000095800   -0.000000000108\\n C    0.742340417015   -0.000000119001    0.000000000132\\n H    1.090184715481   -1.027287458657    0.000000000131\\n H    1.090184841794    0.513643534810   -0.889656896780\\n H    1.090184842203    0.513643534859    0.889656897127\\n\",\"xyz\");\n",
       "\tviewer_16309371973781054.setStyle({\"stick\": {}, \"sphere\": {\"scale\": 0.1}});\n",
       "\tviewer_16309371973781054.zoomTo();\n",
       "viewer_16309371973781054.render();\n",
       "});\n",
       "</script>"
      ],
      "application/3dmoljs_load.v0": "<div id=\"3dmolviewer_16309371973781054\"  style=\"position: relative; width: 400px; height: 400px\">\n        <p id=\"3dmolwarning_16309371973781054\" style=\"background-color:#ffcccc;color:black\">You appear to be running in JupyterLab (or JavaScript failed to load for some other reason).  You need to install the 3dmol extension: <br>\n        <tt>jupyter labextension install jupyterlab_3dmol</tt></p>\n        </div>\n<script>\n\nvar loadScriptAsync = function(uri){\n  return new Promise((resolve, reject) => {\n    var tag = document.createElement('script');\n    tag.src = uri;\n    tag.async = true;\n    tag.onload = () => {\n      resolve();\n    };\n  var firstScriptTag = document.getElementsByTagName('script')[0];\n  firstScriptTag.parentNode.insertBefore(tag, firstScriptTag);\n});\n};\n\nif(typeof $3Dmolpromise === 'undefined') {\n$3Dmolpromise = null;\n  $3Dmolpromise = loadScriptAsync('https://3dmol.org/build/3Dmol.js');\n}\n\nvar viewer_16309371973781054 = null;\nvar warn = document.getElementById(\"3dmolwarning_16309371973781054\");\nif(warn) {\n    warn.parentNode.removeChild(warn);\n}\n$3Dmolpromise.then(function() {\nviewer_16309371973781054 = $3Dmol.createViewer($(\"#3dmolviewer_16309371973781054\"),{backgroundColor:\"white\"});\nviewer_16309371973781054.zoomTo();\n\tviewer_16309371973781054.addModel(\"5\\n\\n F   -0.642381967195    0.000000095800   -0.000000000108\\n C    0.742340417015   -0.000000119001    0.000000000132\\n H    1.090184715481   -1.027287458657    0.000000000131\\n H    1.090184841794    0.513643534810   -0.889656896780\\n H    1.090184842203    0.513643534859    0.889656897127\\n\",\"xyz\");\n\tviewer_16309371973781054.setStyle({\"stick\": {}, \"sphere\": {\"scale\": 0.1}});\n\tviewer_16309371973781054.zoomTo();\nviewer_16309371973781054.render();\n});\n</script>"
     },
     "metadata": {}
    }
   ],
   "metadata": {}
  },
  {
   "cell_type": "code",
   "execution_count": 5,
   "source": [
    "psi4.core.set_output_file('ch3f.log', False)"
   ],
   "outputs": [],
   "metadata": {}
  },
  {
   "cell_type": "code",
   "execution_count": 6,
   "source": [
    "# setup dictionary to store results in\n",
    "energies = {'hf':{\n",
    "                 'ch3f':None,\n",
    "                 'ch3':None,\n",
    "                 'f':None\n",
    "                },\n",
    "            'mp2':{\n",
    "                 'ch3f':None,\n",
    "                 'ch3':None,\n",
    "                 'f':None\n",
    "                },\n",
    "            'mp3':{\n",
    "                 'ch3f':None,\n",
    "                 'ch3':None,\n",
    "                 'f':None\n",
    "                },\n",
    "           }"
   ],
   "outputs": [],
   "metadata": {}
  },
  {
   "cell_type": "code",
   "execution_count": null,
   "source": [
    "psi4.set_options({'reference':'uhf'}) \n",
    "# we store our results in the dictionary\n",
    "energies['hf']['ch3f'] = psi4.optimize('hf/aug-cc-pvdz')"
   ],
   "outputs": [],
   "metadata": {
    "scrolled": true
   }
  },
  {
   "cell_type": "code",
   "execution_count": null,
   "source": [
    "psi4.set_options({\"reference\" :\"uhf\",\"mp2_type\":\"conv\"})\n",
    "energies['mp2']['ch3f']  = psi4.optimize('mp2/aug-cc-pvdz')"
   ],
   "outputs": [],
   "metadata": {
    "scrolled": true
   }
  },
  {
   "cell_type": "code",
   "execution_count": 9,
   "source": [
    "energies['mp3']['ch3f'] = psi4.energy('mp3/aug-cc-pvdz')"
   ],
   "outputs": [],
   "metadata": {}
  },
  {
   "cell_type": "code",
   "execution_count": null,
   "source": [],
   "outputs": [],
   "metadata": {}
  },
  {
   "cell_type": "markdown",
   "source": [
    "# CH3&middot; radical"
   ],
   "metadata": {}
  },
  {
   "cell_type": "code",
   "execution_count": 10,
   "source": [
    "psi4.core.clean_options()\n",
    "psi4.core.clean()"
   ],
   "outputs": [],
   "metadata": {}
  },
  {
   "cell_type": "code",
   "execution_count": 11,
   "source": [
    "ch3_radical = psi4.geometry(\"\"\"\n",
    "0 2\n",
    "symmetry c1\n",
    "C        0.749   0.000   0.000\n",
    "H        1.112   0.000   1.028\n",
    "H        1.112  -0.890  -0.514\n",
    "H        1.112   0.890  -0.514\n",
    "\"\"\")"
   ],
   "outputs": [],
   "metadata": {}
  },
  {
   "cell_type": "code",
   "execution_count": 12,
   "source": [
    "# this is our inital radical structure, not very realistic\n",
    "drawXYZ(ch3_radical)"
   ],
   "outputs": [
    {
     "output_type": "display_data",
     "data": {
      "text/html": [
       "<div id=\"3dmolviewer_16309384631587336\"  style=\"position: relative; width: 400px; height: 400px\">\n",
       "        <p id=\"3dmolwarning_16309384631587336\" style=\"background-color:#ffcccc;color:black\">You appear to be running in JupyterLab (or JavaScript failed to load for some other reason).  You need to install the 3dmol extension: <br>\n",
       "        <tt>jupyter labextension install jupyterlab_3dmol</tt></p>\n",
       "        </div>\n",
       "<script>\n",
       "\n",
       "var loadScriptAsync = function(uri){\n",
       "  return new Promise((resolve, reject) => {\n",
       "    var tag = document.createElement('script');\n",
       "    tag.src = uri;\n",
       "    tag.async = true;\n",
       "    tag.onload = () => {\n",
       "      resolve();\n",
       "    };\n",
       "  var firstScriptTag = document.getElementsByTagName('script')[0];\n",
       "  firstScriptTag.parentNode.insertBefore(tag, firstScriptTag);\n",
       "});\n",
       "};\n",
       "\n",
       "if(typeof $3Dmolpromise === 'undefined') {\n",
       "$3Dmolpromise = null;\n",
       "  $3Dmolpromise = loadScriptAsync('https://3dmol.org/build/3Dmol.js');\n",
       "}\n",
       "\n",
       "var viewer_16309384631587336 = null;\n",
       "var warn = document.getElementById(\"3dmolwarning_16309384631587336\");\n",
       "if(warn) {\n",
       "    warn.parentNode.removeChild(warn);\n",
       "}\n",
       "$3Dmolpromise.then(function() {\n",
       "viewer_16309384631587336 = $3Dmol.createViewer($(\"#3dmolviewer_16309384631587336\"),{backgroundColor:\"white\"});\n",
       "viewer_16309384631587336.zoomTo();\n",
       "\tviewer_16309384631587336.addModel(\"4\\n\\n C    0.073053767723   -0.000000000000   -0.000000000000\\n H   -0.289946232277    1.028000000000   -0.000000000000\\n H   -0.289946232277   -0.514000000000   -0.890000000000\\n H   -0.289946232277   -0.514000000000    0.890000000000\\n\",\"xyz\");\n",
       "\tviewer_16309384631587336.setStyle({\"stick\": {}, \"sphere\": {\"scale\": 0.1}});\n",
       "\tviewer_16309384631587336.zoomTo();\n",
       "viewer_16309384631587336.render();\n",
       "});\n",
       "</script>"
      ],
      "application/3dmoljs_load.v0": "<div id=\"3dmolviewer_16309384631587336\"  style=\"position: relative; width: 400px; height: 400px\">\n        <p id=\"3dmolwarning_16309384631587336\" style=\"background-color:#ffcccc;color:black\">You appear to be running in JupyterLab (or JavaScript failed to load for some other reason).  You need to install the 3dmol extension: <br>\n        <tt>jupyter labextension install jupyterlab_3dmol</tt></p>\n        </div>\n<script>\n\nvar loadScriptAsync = function(uri){\n  return new Promise((resolve, reject) => {\n    var tag = document.createElement('script');\n    tag.src = uri;\n    tag.async = true;\n    tag.onload = () => {\n      resolve();\n    };\n  var firstScriptTag = document.getElementsByTagName('script')[0];\n  firstScriptTag.parentNode.insertBefore(tag, firstScriptTag);\n});\n};\n\nif(typeof $3Dmolpromise === 'undefined') {\n$3Dmolpromise = null;\n  $3Dmolpromise = loadScriptAsync('https://3dmol.org/build/3Dmol.js');\n}\n\nvar viewer_16309384631587336 = null;\nvar warn = document.getElementById(\"3dmolwarning_16309384631587336\");\nif(warn) {\n    warn.parentNode.removeChild(warn);\n}\n$3Dmolpromise.then(function() {\nviewer_16309384631587336 = $3Dmol.createViewer($(\"#3dmolviewer_16309384631587336\"),{backgroundColor:\"white\"});\nviewer_16309384631587336.zoomTo();\n\tviewer_16309384631587336.addModel(\"4\\n\\n C    0.073053767723   -0.000000000000   -0.000000000000\\n H   -0.289946232277    1.028000000000   -0.000000000000\\n H   -0.289946232277   -0.514000000000   -0.890000000000\\n H   -0.289946232277   -0.514000000000    0.890000000000\\n\",\"xyz\");\n\tviewer_16309384631587336.setStyle({\"stick\": {}, \"sphere\": {\"scale\": 0.1}});\n\tviewer_16309384631587336.zoomTo();\nviewer_16309384631587336.render();\n});\n</script>"
     },
     "metadata": {}
    }
   ],
   "metadata": {}
  },
  {
   "cell_type": "code",
   "execution_count": 13,
   "source": [
    "psi4.core.set_output_file(f'ch3_radical.log', False)\n"
   ],
   "outputs": [],
   "metadata": {}
  },
  {
   "cell_type": "code",
   "execution_count": null,
   "source": [
    "psi4.set_options({\"reference\" :\"uhf\",\"guess\":\"gwh\", \"opt_coordinates\": \"both\"})\n",
    "energies['hf']['ch3'] = psi4.optimize('hf/aug-cc-pvdz', molecule=ch3_radical)\n"
   ],
   "outputs": [],
   "metadata": {}
  },
  {
   "cell_type": "code",
   "execution_count": null,
   "source": [
    "psi4.set_options({\"reference\" :\"uhf\",\"guess\":\"gwh\", \"mp2_type\":\"conv\", \"opt_coordinates\": \"both\"})\n",
    "energies['mp2']['ch3'] = psi4.optimize('mp2/aug-cc-pvdz', molecule=ch3_radical)"
   ],
   "outputs": [],
   "metadata": {}
  },
  {
   "cell_type": "code",
   "execution_count": null,
   "source": [
    "# Lets look at the optimized radical\n",
    "drawXYZ(ch3_radical)"
   ],
   "outputs": [],
   "metadata": {}
  },
  {
   "cell_type": "code",
   "execution_count": 17,
   "source": [
    "energies['mp3']['ch3'] = psi4.energy('mp3/aug-cc-pvdz', molecule=ch3_radical)"
   ],
   "outputs": [],
   "metadata": {}
  },
  {
   "cell_type": "code",
   "execution_count": null,
   "source": [],
   "outputs": [],
   "metadata": {}
  },
  {
   "cell_type": "markdown",
   "source": [
    "# F &middot; radical"
   ],
   "metadata": {}
  },
  {
   "cell_type": "code",
   "execution_count": 18,
   "source": [
    "f_radical = psi4.geometry(\"\"\"\n",
    "0 2\n",
    "symmetry c1\n",
    "F       -0.650  -0.000   0.000\n",
    "\"\"\")"
   ],
   "outputs": [],
   "metadata": {}
  },
  {
   "cell_type": "code",
   "execution_count": 19,
   "source": [
    "psi4.set_options({\"reference\" :\"uhf\", \"guess\":\"gwh\"})"
   ],
   "outputs": [],
   "metadata": {}
  },
  {
   "cell_type": "code",
   "execution_count": null,
   "source": [
    "energies['hf']['f'] = psi4.optimize('hf/aug-cc-pvdz')"
   ],
   "outputs": [],
   "metadata": {}
  },
  {
   "cell_type": "code",
   "execution_count": null,
   "source": [
    "energies['mp2']['f'] = psi4.optimize('mp2/aug-cc-pvdz')"
   ],
   "outputs": [],
   "metadata": {}
  },
  {
   "cell_type": "code",
   "execution_count": 22,
   "source": [
    "energies['mp3']['f'] = psi4.energy('mp3/aug-cc-pvdz')"
   ],
   "outputs": [],
   "metadata": {}
  },
  {
   "cell_type": "code",
   "execution_count": null,
   "source": [
    "# calculate the BDE energies here and convert them to kcal/mol \n",
    "# You can use psi4.constants.hartree2kcalmol for the unit conversion\n",
    "\n",
    "energies['hf']['bde'] = # \n",
    "energies['mp2']['bde'] = # \n",
    "energies['mp3']['bde'] = # \n"
   ],
   "outputs": [],
   "metadata": {}
  },
  {
   "cell_type": "code",
   "execution_count": null,
   "source": [
    "pd.DataFrame.from_dict(energies)"
   ],
   "outputs": [],
   "metadata": {}
  }
 ],
 "metadata": {
  "kernelspec": {
   "display_name": "Quantum Chemistry",
   "language": "python",
   "name": "psi4"
  },
  "language_info": {
   "codemirror_mode": {
    "name": "ipython",
    "version": 3
   },
   "file_extension": ".py",
   "mimetype": "text/x-python",
   "name": "python",
   "nbconvert_exporter": "python",
   "pygments_lexer": "ipython3",
   "version": "3.8.10"
  }
 },
 "nbformat": 4,
 "nbformat_minor": 5
}