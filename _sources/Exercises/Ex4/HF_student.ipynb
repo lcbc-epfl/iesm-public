{
 "cells": [
  {
   "cell_type": "markdown",
   "source": [
    "````{panels} \n",
    ":column: col-12\n",
    "Based on **Hartree-Fock Procedure for Approximate Quantum Chemistry**\n",
    "Ashley Ringer McDonald  [![Orcid](../../images/orcid.png)](https://orcid.org/0000-0002-4381-1239) Dominic A. Sirianni [![Orcid](../../images/orcid.png)](https://orcid.org/0000-0002-6464-0213) Tricia D. Shepherd [![Orcid](../../images/orcid.png)](https://orcid.org/0000-0001-6512-8951) Sean Garrett-Roe [![Orcid](../../images/orcid.png)](https://orcid.org/0000-0001-6199-8773), 2008-2020, The Psi4Education Developers &nbsp;&nbsp; License BSD-3\n",
    "````"
   ],
   "metadata": {}
  },
  {
   "cell_type": "markdown",
   "source": [
    "## Hartree-Fock Procedure for Approximate Quantum Chemistry"
   ],
   "metadata": {}
  },
  {
   "cell_type": "code",
   "execution_count": 2,
   "source": [
    "import psi4\n",
    "import numpy as np\n",
    "from scipy import linalg as splinalg\n",
    "\n",
    "import sys\n",
    "sys.path.append(\"..\")\n",
    "from helpers import *"
   ],
   "outputs": [],
   "metadata": {}
  },
  {
   "cell_type": "markdown",
   "source": [
    "We learned that we can only solve the Schroedinger equation exactly for one-electron systems. \n",
    "\n",
    "To solve many-electron systems we need to use  Hartree-Fock molecular orbital theory. Just as a test case, let's use Psi4 to compute the Hartree-Fock wavefunction and energy for the Hydrogen atom:\n",
    "\n"
   ],
   "metadata": {}
  },
  {
   "cell_type": "markdown",
   "source": [
    "\n",
    "In this lab activity, you will build and diagonalize the Fock matrix to determine the MO coefficients and energies for a molecule.  We will be using the functions of the Psi4 quantum chemistry software package to compute the integrals we need.  The following notebook will lead you through setting up your molecule, establishing the basis set, and forming and diagonalizing the Fock matrix.  Be sure to run each cell as your proceed through the notebook.\n",
    "\n",
    "(hf)=\n",
    "###  The Hartree-Fock procedure\n",
    "The Schrödinger equation has the structure of an eigenvalue equation\n",
    "\n",
    "$$\n",
    "\\hat{H}|\\psi\\rangle = E|\\psi\\rangle\n",
    "$$\n",
    "\n",
    "In Hartree-Fock theory, this is reexpresed in terms of the Fock matrix, $F$, a matrix of wavefunction amplitudes for each MO, $C$, and the overlap matrix, $S$,\n",
    "\n",
    "$$\n",
    "FC = SCE.\n",
    "$$ (FockMatrix)\n",
    "\n",
    "The Fock matrix for a closed-shell system is \n",
    "\n",
    "$$\n",
    "F = H + 2J - K\n",
    "$$\n",
    "\n",
    "where $H$ is the one electron \"core\" Hamiltonian, $J$ is the Coulomb integral matrix, and $K$ is the exchange integral matrix. The definitions of $J$ and $K$ depend on the coefficients, $C$. We see here the central premise of SCF:  To get the Fock matrix, we need the coefficient matrix, but to compute the coefficient matrix we need the Fock matrix. When $S$ is not equal to the identity matrix (i.e. the basis is not orthonormal), then this is a pseudo-eigenvalue problem and is even harder to solve. This is our task.\n",
    "\n",
    "\n",
    "We will\n",
    "- introduce the overlap matrix \n",
    "- learn how to build an orthogonalization matrix\n",
    "- learn how to calculate the density\n",
    "- learn how to calculate the Coulomb and Exchange integral matrices\n",
    "- learn how to diagonalize the Fock matrix\n",
    "- build an iterative procedure to converge HF energy\n",
    "\n",
    "It can be helpful to look back at {ref}`exercise1`"
   ],
   "metadata": {}
  },
  {
   "cell_type": "markdown",
   "source": [
    "### Orthogonalizing the AO basis set"
   ],
   "metadata": {}
  },
  {
   "cell_type": "markdown",
   "source": [
    "Use the two orthonormal basis vector that we defined in Exercise 1"
   ],
   "metadata": {}
  },
  {
   "cell_type": "code",
   "execution_count": 4,
   "source": [
    "# define a first basis vector and a second, orthogonal vector (you can use your solutions from Ex 1)\n",
    "phi1 = np.array([]) #insert here\n",
    "phi2 = np.array([]) #insert here\n",
    "\n",
    "\n"
   ],
   "outputs": [],
   "metadata": {}
  },
  {
   "cell_type": "markdown",
   "source": [
    "### IV. The overlap integrals\n",
    "For a set of basis functions, $\\phi_i(\\tau)$, where $\\tau$ is a shorthand for all the coordinates of all the particles, we can calculate the overlap integrals between the basis functions in the following way\n",
    "\n",
    "$$S_{ij}=\\int {\\rm d}\\tau\\; \\phi_i^*(\\tau)\\phi_j(\\tau).$$\n",
    "\n",
    "\n",
    ":::{admonition} Exercise 1\n",
    ":class: exercise\n",
    "Define $S_{ij}$ using Dirac notation.\n",
    ":::"
   ],
   "metadata": {}
  },
  {
   "cell_type": "markdown",
   "source": [
    ":::{admonition} Exercise 2\n",
    ":class: exercise\n",
    "For an orthonormal basis, what does the overlap integral array, `S`, look like?\n",
    ":::"
   ],
   "metadata": {}
  },
  {
   "cell_type": "markdown",
   "source": [
    "Calculate the terms `S_ij` using the basis vectors `phi1` and `phi2`. "
   ],
   "metadata": {}
  },
  {
   "cell_type": "code",
   "execution_count": 5,
   "source": [
    "# calculate the overlap (inner product) of the vectors \n",
    "S_11 = None #<your formulas here>\n",
    "S_12 = None\n",
    "S_21 = None\n",
    "S_22 = None\n",
    "print('The ij elements of S:')\n",
    "print(S_11,S_12)\n",
    "print(S_21,S_22)\n"
   ],
   "outputs": [
    {
     "output_type": "stream",
     "name": "stdout",
     "text": [
      "The ij elements of S:\n",
      "None None\n",
      "None None\n"
     ]
    }
   ],
   "metadata": {}
  },
  {
   "cell_type": "markdown",
   "source": [
    "### Constructing the overlap matrix\n",
    "These overlap integrals, $S_{ij}$, can be interpreted as the elements on the $i$-th row and $j$-th column of a matrix, $S$. Let's propose a matrix, $S$, made of the overlap integrals $S_{ij}$. We can build $S$ systematically in the following way. First, make a matrix, $B$, composed of our basis vectors as columns,\n",
    "\n",
    "$$ B = \\left(\\begin{array}{ccc}|& |&|\\\\ \\phi_1 &\\phi_2&\\phi_3\\\\|&|&|\\end{array}\\right).$$\n",
    "\n",
    "We will use the symbol $\\dagger$ to indicate the complex conjugate of the transpose of a matrix. So\n",
    "\n",
    "$$B^\\dagger = (B^T)^*.$$"
   ],
   "metadata": {}
  },
  {
   "cell_type": "code",
   "execution_count": 6,
   "source": [
    "# construct the overlap matrix from matrix of basis vectors\n",
    "vector_length = phi1.size #length of the vector space\n",
    "phi1_column = phi1.reshape(vector_length,1) #this makes phi a column vector\n",
    "phi2_column = phi2.reshape(vector_length,1)\n",
    "\n",
    "# put together (concatenate) the vectors into the matrix B\n",
    "B = np.concatenate((phi1_column,phi2_column),axis=1)\n",
    "print(F'The matrix B:\\n{B}')\n",
    "\n",
    "B_dagger = B.conj().T\n",
    "print(F'The matrix B^\\dagger:\\n{B_dagger}')"
   ],
   "outputs": [
    {
     "output_type": "stream",
     "name": "stdout",
     "text": [
      "The matrix B:\n",
      "[]\n",
      "The matrix B^\\dagger:\n",
      "[]\n"
     ]
    }
   ],
   "metadata": {}
  },
  {
   "cell_type": "markdown",
   "source": [
    "Now, multiplying the rows of $B^\\dagger$ by the columns of $B$ (normal matrix multiplication) produces a matrix of the overlap integrals in the correct locations. we defined to be the matrix $S$.\n",
    "\n",
    "$$B^\\dagger B =\\left(\\begin{array}{ccc}-& \\phi_1^*&-\\\\-& \\phi_2^* &-\\\\-&\\phi_3&-\\end{array}\\right) \\left(\\begin{array}{ccc}|& |&|\\\\ \\phi_1 &\\phi_2&\\phi_3\\\\|&|&|\\end{array}\\right)\\equiv S.$$"
   ],
   "metadata": {}
  },
  {
   "cell_type": "markdown",
   "source": [
    ":::{margin} Numpy commands for matrix operations\n",
    "`v` = vector, and `M` = matrix:\n",
    "\n",
    "matrix vector product: `M.dot(v)`\n",
    "\n",
    "matrix matrix product: `M.dot(M)`\n",
    "\n",
    "matrix complex conjugate: `M.conj()`\n",
    "\n",
    "matrix transpose: `M.T`\n",
    ":::"
   ],
   "metadata": {}
  },
  {
   "cell_type": "markdown",
   "source": [
    ":::{admonition} Exercise 3\n",
    ":class: exercise\n",
    " Use `B` and `B_dagger` and the matrix rules above to calculate the matrix `S`.\n",
    " :::"
   ],
   "metadata": {}
  },
  {
   "cell_type": "code",
   "execution_count": 7,
   "source": [
    "# calculate S from matrix of basis vectors\n",
    "S = None #<your formula here>\n",
    "print(F'The matrix of eigenvectors in columns B =\\n {B} \\n\\nand S = B^† B =\\n{S}\\n')"
   ],
   "outputs": [
    {
     "output_type": "stream",
     "name": "stdout",
     "text": [
      "The matrix of eigenvectors in columns B =\n",
      " [] \n",
      "\n",
      "and S = B^† B =\n",
      "None\n",
      "\n"
     ]
    }
   ],
   "metadata": {}
  },
  {
   "cell_type": "markdown",
   "source": [
    "### Einstein implicit summation notation\n",
    "Matrix multiplication is defined through\n",
    "\n",
    "$$(AB)_{pq}= \\sum_i A_{p,i}B_{i,q}\\qquad\\text{explicit summation}$$\n",
    "\n",
    "Note that there is a repeated index, $i$, in the summation. In implicit summation notation, Einstein notation, we do not write the $\\sum$ and treat the summation as understood. \n",
    "\n",
    "$$(AB)_{pq}=A_{p,i}B_{i,q}\\qquad\\text{implicit summation}$$\n",
    "\n",
    "Using implicit summation for the case at hand, $B^\\dagger B$ gives\n",
    "\n",
    "$$S_{pq}=(B^\\dagger B)_{pq}= (B^\\dagger)_{p,i}B_{i,q}\\qquad\\text{implicit summation}$$\n",
    "$$= (B^*)_{i,p}B_{i,q}\\qquad\\text{implicit summation}$$\n",
    "\n",
    "where $B^*$ is the complex conjugate of $B$ (no transpose). Note that the two sets of indices, $(i,p)$ and $(i,q)$, in the input matrices become one set, $(p,q)$, in the product. \n",
    "\n",
    ":::{note}\n",
    " There is a convenient function in `numpy` called `einsum()`, which is one of the crown jewels of the numpy library.  In short, `einsum` lets you perform various combinations of multiplying, summing, and transposing matrices very efficiently.  [This is a good tutorial](http://ajcr.net/Basic-guide-to-einsum/) about `einsum` if you want to learn more. In this exercise, it suffices to look carefully at the indices of the matrices and use the **Ein**stein **Sum**mation convention.)\n",
    " \n",
    "So in order to calculate the sum \n",
    "\n",
    "$$S_{pq} = (B^*)_{i,p}B_{i,q}\\qquad\\text{implicit summation}$$\n",
    "\n",
    "use \n",
    "```\n",
    "S=numpy.einsum('ip,iq->pq',B.conj(),B)\n",
    "```\n",
    "We will use `einsum()` in several places.\n",
    "Let's try this with a simple basis set of two (perhaps) orthonormal vectors.\n",
    ":::"
   ],
   "metadata": {}
  },
  {
   "cell_type": "markdown",
   "source": [
    ":::{admonition} Exercise 4\n",
    ":class: exercise\n",
    "Describe how the notation of the `np.einsum` command correlates to the implicit summation formula written above.\n",
    ":::"
   ],
   "metadata": {}
  },
  {
   "cell_type": "markdown",
   "source": [
    ":::{admonition} Exercise 5\n",
    ":class: exercise\n",
    " Use the function `np.einsum()` to calculate the matrix `S`, and confirm that your answer is the same as above.\n",
    " :::"
   ],
   "metadata": {}
  },
  {
   "cell_type": "code",
   "execution_count": 8,
   "source": [
    "# calculate S from Einstein sum\n",
    "S = None #<your formula here>\n",
    "print(F'S from Einstein notation:\\n{S}')"
   ],
   "outputs": [
    {
     "output_type": "stream",
     "name": "stdout",
     "text": [
      "S from Einstein notation:\n",
      "None\n"
     ]
    }
   ],
   "metadata": {}
  },
  {
   "cell_type": "markdown",
   "source": [
    ":::{admonition} Exercise 6\n",
    ":class: exercise\n",
    "Propose a different orthonormal basis, modify `phi1` and `phi2`, and verify that `S` still has the same form. There are infinitely many choices. It isn't complex... or *is* it?!\n",
    ":::"
   ],
   "metadata": {}
  },
  {
   "cell_type": "markdown",
   "source": [
    "### Gaussian atomic orbital basis set"
   ],
   "metadata": {}
  },
  {
   "cell_type": "markdown",
   "source": [
    "We have already used Psi4 for hartree fock calculations on H$_2$O, we will reuse it here.\n",
    "\n",
    ":::{admonition} Exercise 7\n",
    ":class: exercise\n",
    "How many electrons are there in total in H$_2$O?\n",
    "How many occupied molecular orbitals would you expect?\n",
    ":::"
   ],
   "metadata": {}
  },
  {
   "cell_type": "markdown",
   "source": [
    "Before we can begin to implement the HF procedure, we need to specify the molecule and basis set that we will be using.  We will also set the memory usage for our calcluation and the output file name.  "
   ],
   "metadata": {}
  },
  {
   "cell_type": "code",
   "execution_count": null,
   "source": [
    "# ==> Set Basic Psi4 Options <==\n",
    "# Memory specification\n",
    "psi4.set_memory('500 MB')\n",
    "numpy_memory = 2 # No NumPy array can exceed 2 MB in size\n",
    "\n",
    "# set output file\n",
    "psi4.core.set_output_file('output.dat', False)\n",
    "\n",
    "# specify the basis\n",
    "basis = 'sto-3g'\n",
    "\n",
    "\n",
    "# Set computation options\n",
    "psi4.set_options({'basis': basis,\n",
    "                  'scf_type': 'pk',\n",
    "                  'e_convergence': 1e-8})\n",
    "\n",
    "\n",
    "# ==> Define Molecule <==\n",
    "# Define our model of water\n",
    "mol = psi4.geometry(\"\"\"\n",
    "symmetry c1\n",
    "O\n",
    "H 1 1.1\n",
    "H 1 1.1 2 104\n",
    "\"\"\")\n",
    "\n",
    "# compute energy\n",
    "\n",
    "SCF_E_psi = psi4.energy('scf')\n",
    "psi4.core.clean()\n",
    "\n",
    "print(f\"The Hartree-Fock ground state energy of the water is: {SCF_E_psi} Eh\")"
   ],
   "outputs": [],
   "metadata": {}
  },
  {
   "cell_type": "markdown",
   "source": [
    "Next, we need to build the wavefunction from the basis functions.  We store the wavefunction in a variable called `wfn`. We use the function `nalpha()` provided by the wavefunction object we created above, `wfn`, to determine the number of orbitals with spin alpha, which will be doubly occupied orbitals for close shelled systems. We save this answer as a variable called `ndocc` (number of doubly occupied orbitals).  \n",
    "\n",
    " Execute the code below and confirm that the number of doubly occupied orbitals matches your expectation for the molecule you chose."
   ],
   "metadata": {}
  },
  {
   "cell_type": "code",
   "execution_count": null,
   "source": [
    "# ==> Compute static 1e- and 2e- quantities with Psi4 <==\n",
    "wfn = psi4.core.Wavefunction.build(mol, psi4.core.get_global_option('basis'))\n",
    "\n",
    "# number of spin alpha orbitals (doubly occupied for closed-shell systems)\n",
    "ndocc = wfn.nalpha()\n",
    "nbf = wfn.basisset().nbf()\n",
    "\n",
    "print(F'Number of occupied orbitals: {ndocc}')\n",
    "print(F'Number of basis functions: {nbf}') "
   ],
   "outputs": [],
   "metadata": {}
  },
  {
   "cell_type": "markdown",
   "source": [
    "Next we will examine the atomic orbital basis set. To do this, we have to set up a data structure, called a class, to calculate the molecular integrals. (Psi4 will do the nasty calculus for us.) We will call this data structure `mints` (Molecular INTegralS). We use the function `ao_overlap` to calculate the overlap integrals between all the AO basis functions.  We cast the result to a numpy array called `S`. \n",
    "\n",
    ":::{margin} asarray()\n",
    "`asarray()` is a special case of `array()` that does not copy arrays when compatible and converts array subclasses to base class ndarrays. [Reference](https://stackoverflow.com/questions/14415741/what-is-the-difference-between-numpys-array-and-asarray-functions)\n",
    ":::"
   ],
   "metadata": {}
  },
  {
   "cell_type": "code",
   "execution_count": null,
   "source": [
    "# Construct a molecular integrals object\n",
    "mints = psi4.core.MintsHelper(wfn.basisset())\n",
    "\n",
    "# Overlap matrix as a psi4 Matrix object\n",
    "S_matrix = mints.ao_overlap()\n",
    "\n",
    "# Overlap matrix converted into an ndarray\n",
    "S = np.asarray(S_matrix) \n",
    "\n",
    "print(F'Shape of S is {S.shape}')"
   ],
   "outputs": [],
   "metadata": {}
  },
  {
   "cell_type": "markdown",
   "source": [
    ":::{admonition} Exercise 8\n",
    ":class: exercise\n",
    " Explain the shape (number of rows and columns) of `S` in terms of the AO basis set we chose.\n",
    " :::"
   ],
   "metadata": {}
  },
  {
   "cell_type": "markdown",
   "source": [
    "Examine the contents of `S`."
   ],
   "metadata": {}
  },
  {
   "cell_type": "code",
   "execution_count": null,
   "source": [
    "print(S) #the full matrix may be somewhat hard to read based on the basis set"
   ],
   "outputs": [],
   "metadata": {}
  },
  {
   "cell_type": "code",
   "execution_count": null,
   "source": [
    "# Look at the first few elements\n",
    "peak(S)"
   ],
   "outputs": [],
   "metadata": {}
  },
  {
   "cell_type": "markdown",
   "source": [
    ":::{admonition} Exercise 9\n",
    ":class: exercise\n",
    "\n",
    " Based on your observations of `S` in the AO basis, answer the following questions\n",
    "1. What do the diagonal elements of `S` indicate?\n",
    "2. What do the off-diagonal elements of `S` indicate?\n",
    "3. Does the Gaussian atomic orbital basis set form an orthonormal basis? \n",
    "\n",
    ":::"
   ],
   "metadata": {}
  },
  {
   "cell_type": "markdown",
   "source": [
    "We can perform this test programmatically as well, with a few python tricks. Construct an array of the same size as the overlap array (`S`) that has 1's along the diagonal and 0's everywhere else. Then compare that array to the `S` array to determine if the AO basis is orthonormal."
   ],
   "metadata": {}
  },
  {
   "cell_type": "code",
   "execution_count": null,
   "source": [
    "isBasisOrthonormal(S)"
   ],
   "outputs": [],
   "metadata": {}
  },
  {
   "cell_type": "markdown",
   "source": [
    ":::{admonition} Exercise 10\n",
    ":class: exercise\n",
    "Does the result agree with what you determined above?\n",
    ":::"
   ],
   "metadata": {}
  },
  {
   "cell_type": "markdown",
   "source": [
    "### An orthogonalization matrix\n",
    "Recall that if we had used the hydrogen atom wavefunctions as our basis set, the AO wavefunctions would all be orthonormal. Since we used a basis set of Gaussian wavefuctions, this may not be the case. We will now introduce some tools to fix it!\n",
    "\n",
    "Since our AO basis set was not orthonormal, we seek to construct an orthogonalization matrix, $A$, such that ${\\bf A}^{\\dagger}{\\bf SA} = {\\bf 1}$. \n",
    "\n",
    "**Motivation:** If ${\\bf A}$ and ${\\bf S}$ were real numbers $a$ and $s$ (not matrices), this would be simple to solve. First, $a^\\dagger=a$ because a real number is the same as its hermitian transpose. By simple algebra we can solve for a,\n",
    "\n",
    "$$\n",
    "a^\\dagger s a=1\n",
    "$$\n",
    "\n",
    "$$\n",
    "a^\\dagger s a=a s a=a^2s=1\n",
    "$$\n",
    "\n",
    "$$\n",
    "\\Rightarrow{}a=s^{-1/2}\n",
    "$$ \n",
    "\n",
    "In linear algebra (with matrices instead of numbers) this is more complicated, but numpy and the mints class can take care of the details for us! Leaving out the details, we will calculate\n",
    "\n",
    "$$\n",
    "{\\bf A}={\\bf S}^{-1/2}\n",
    "$$\n",
    " \n",
    ":::{admonition} Exercise 11\n",
    ":class: exercise\n",
    " Use the function `np.linalg.inv()` to calculate the inverse of `S`, and the function `splinalg.sqrtm()` to take its (matrix) square root. Execute the code below and examine the matrix `A`.\n",
    " :::"
   ],
   "metadata": {}
  },
  {
   "cell_type": "code",
   "execution_count": null,
   "source": [
    "# ==> Construct AO orthogonalization matrix A <==\n",
    "\n",
    "# inverse of S using np.linalg.inv\n",
    "# matrix square root of the inverse of S using splinalg.sqrtm\n",
    "\n",
    "A = None\n",
    "\n",
    "peak(A)"
   ],
   "outputs": [],
   "metadata": {}
  },
  {
   "cell_type": "markdown",
   "source": [
    ":::{admonition} Exercise 12\n",
    ":class: exercise\n",
    " What do you observe about the elements of `A`? Is the matrix real or complex? Is the matrix symmetric or not?\n",
    " :::"
   ],
   "metadata": {}
  },
  {
   "cell_type": "markdown",
   "source": [
    ":::{admonition} Solution\n",
    ":class: tip\n",
    "A is real and symmetric.\n",
    ":::"
   ],
   "metadata": {}
  },
  {
   "cell_type": "markdown",
   "source": [
    "Our basis set $B$ is not orthonormal, so we want to take linear combinations of its columns to make a new basis set, $B'$, that is orthonormal. We define a new matrix, $A$, in terms of that transformation,\n",
    "\n",
    "$$B' = BA.$$\n",
    "\n",
    "The new overlap matrix will be\n",
    "\n",
    "\\begin{align}\n",
    " S' &= B'^\\dagger B',\\\\\n",
    " &= (BA)^\\dagger (BA),\\\\\n",
    "&= A^\\dagger B^\\dagger BA,\\\\\n",
    "&= A^\\dagger S A.\n",
    "\\end{align}\n",
    "The matrix $A$ makes the proper linear combination of the columns of $B$ and $A^\\dagger$ makes the linear combinations of the rows of $B^\\dagger$. This is a very common structure of transformation matrices. Because $S$ is real and symmetric, $A$ is also real and symmetric, so $A^\\dagger=A$. The transformation becomes simply\n",
    "\n",
    "$$S' = A S A.$$"
   ],
   "metadata": {}
  },
  {
   "cell_type": "markdown",
   "source": [
    ":::{admonition} Exercise 13\n",
    ":class: exercise\n",
    "Use the orthogonalization matrix `A` to transform the overlap matrix, `S`. Check the transformed overlap matrix, `S_p`, to make sure it represents an orthonormal basis.\n",
    ":::"
   ],
   "metadata": {}
  },
  {
   "cell_type": "code",
   "execution_count": null,
   "source": [
    "# Transform S with A and assign the result to S_p\n",
    "\n",
    "S_p = None #<your equation here>\n",
    "\n",
    "isBasisOrthonormal(S_p)"
   ],
   "outputs": [],
   "metadata": {}
  },
  {
   "cell_type": "markdown",
   "source": [
    ":::{admonition} Exercise 14\n",
    ":class: exercise\n",
    "\n",
    "The product A S A does not take the complex conjugate transpose of A. What conditions (properties of A) make that ok?\n",
    "\n",
    ":::"
   ],
   "metadata": {}
  },
  {
   "cell_type": "markdown",
   "source": [
    ":::{admonition} Solution\n",
    ":class: tip\n",
    "A is real and symmetric.\n",
    ":::"
   ],
   "metadata": {}
  },
  {
   "cell_type": "markdown",
   "source": [
    "### The Fock Matrix Transformed to an Orthonormal Basis\n",
    "We can now return to Eq. {eq}`FockMatrix` using our orthogonalization matrix $A$. A common linear algebra trick is to \"insert one.\" In this case, the matrix $A$ times its inverse is, by definition the identity matrix, $AA^{-1}={\\bf1}$. We can put that factor of one anywhere in an equation that is useful to us, and, then, typically we regroup terms in a way we want. In this case, we insert one  between $FC$ and $SC$.\n",
    "\n",
    "\\begin{align}\n",
    "FC&=SCE\\\\\n",
    "F({\\bf1})C&=S({\\bf1})CE\\\\\n",
    "FAA^{-1}C&=SAA^{-1}CE\n",
    "\\end{align}\n",
    "Multiplying on the left by $A$ then gives\n",
    "\n",
    "$$\n",
    "AFAA^{-1}C=ASAA^{-1}CE\n",
    "$$\n",
    "\n",
    "We can recognize the transformation $S'=ASA$ on the right hand side and similarly define $F'=AFA$ on the left hand side. Lastly, we define a transformed coefficient matrix, $C'=A^{-1}C$. Our transformed Fock equation reads\n",
    "\n",
    "\\begin{align}\n",
    "F'C'&=S'C'E,\\\\\n",
    "&=C'E.\n",
    "\\end{align}\n",
    "\n",
    "The last line follows because $S'={\\bf1}$ in our new basis. We now have an eigenvalue problem that we can solve by matrix diagonalization.\n",
    "\n",
    "In the expression\n",
    "\n",
    "$$C'=A^{-1}C,$$\n",
    "\n",
    "the matrix $A^{-1}$ transforms the coefficients, $C$, into the orthogonalized basis set. We will also need a way to transform those coefficients, $C'$, back to the original AO basis.\n",
    "\n",
    ":::{admonition} Exercise 15\n",
    ":class: exercise\n",
    "Based on the definition of $C'$, propose a definition of $C$ in terms of $A$ and $C'$. Justify your equation.\n",
    ":::"
   ],
   "metadata": {}
  },
  {
   "cell_type": "markdown",
   "source": [
    "### Initial guess for the Fock Matrix is the one electron Hamiltonian\n",
    "To get the Fock matrix, we need the coefficient matrix, but to compute the coefficient matrix we need the Fock matrix.  So we start with a guess for the Fock matrix, which is the core Hamiltonian matrix."
   ],
   "metadata": {}
  },
  {
   "cell_type": "code",
   "execution_count": 17,
   "source": [
    "# Build core Hamiltonian\n",
    "T = np.asarray(mints.ao_kinetic())\n",
    "V = np.asarray(mints.ao_potential())\n",
    "H = T + V"
   ],
   "outputs": [],
   "metadata": {}
  },
  {
   "cell_type": "markdown",
   "source": [
    ":::{admonition} Exercise 16\n",
    ":class: exercise\n",
    " In the cell below, use the core Hamiltonian matrix as your initial guess for the Fock matrix. Transform it with the same A matrix you used above.  To calculate the eigenvalues, `vals`, and eigenvectors, `vecs`, of matrix `M` using  `vals, vecs = np.linalg.eigh(M)`.\n",
    " :::"
   ],
   "metadata": {}
  },
  {
   "cell_type": "code",
   "execution_count": null,
   "source": [
    "# Guess for the Fock matrix\n",
    "F = None # Replace\n",
    "\n",
    "# Transformed Fock matrix\n",
    "F_p =  None # Replace\n",
    "\n",
    "# Diagonalize F_p for eigenvalues & eigenvectors with NumPy\n",
    "e, C_p =  None # Replace"
   ],
   "outputs": [],
   "metadata": {}
  },
  {
   "cell_type": "markdown",
   "source": [
    ":::{admonition} Exercise 17\n",
    ":class: exercise\n",
    " Display, i.e., `print`, the coefficent matrix and confirm it the correct size\n",
    " :::"
   ],
   "metadata": {}
  },
  {
   "cell_type": "code",
   "execution_count": null,
   "source": [
    "print(C_p)"
   ],
   "outputs": [],
   "metadata": {}
  },
  {
   "cell_type": "markdown",
   "source": [
    "Now that we have the coefficents in the transformed basis, we need to go back and get the coefficients in the original AO basis.\n",
    "\n",
    ":::{admonition} Exercise 18\n",
    ":class: exercise\n",
    "Use `A` and the formula you proposed previously to transform the coefficient matrix back to the AO basis. Confirm that the resulting matrix appears reasonable, i.e., similar size and magnitude\n",
    ":::"
   ],
   "metadata": {}
  },
  {
   "cell_type": "code",
   "execution_count": 20,
   "source": [
    "# Transform the coefficient matrix back into AO basis\n",
    "C = None # Insert equation here\n",
    "print(C)"
   ],
   "outputs": [
    {
     "output_type": "stream",
     "name": "stdout",
     "text": [
      "None\n"
     ]
    }
   ],
   "metadata": {}
  },
  {
   "cell_type": "markdown",
   "source": [
    "### The Density Matrix\n",
    "Recall, the Fock matrix is \n",
    "\n",
    "$$\n",
    "F = H + 2J - K\n",
    "$$\n",
    "\n",
    "where $H$ is the one electron \"core\" Hamiltonian, $J$ is the Coulomb integral matrix, and $K$ is the exchange integral matrix. The HF energy can be expressed in explicit terms of one and two electron integrals\n",
    "\n",
    "$$\n",
    "E_{HF} = \\sum_i^{elec}\\langle i|h_i|i\\rangle + \\sum_{i>j}^{elec}[ii|jj]-[ij|ji]\n",
    "$$\n",
    "\n",
    "Expanding the orbitals in terms of basis functions, we find\n",
    "\n",
    "$$\n",
    "[ii|jj]=\\sum_{pqrs}c^*_{pi}c_{qi}c^*_{rj}c_{sj}\\int{\\rm d}\\tau\\; \\phi_p^*(1)\\phi_q(1)\\frac{1}{r_{ij}}\\phi_r^*(2)\\phi_s(2)\n",
    "$$ (ColoumbIntegral)"
   ],
   "metadata": {}
  },
  {
   "cell_type": "markdown",
   "source": [
    "\n",
    "First, look at the coefficients in {eq}`ColoumbIntegral`. They come in two pairs of complex-conjugates, $c^*_{pi}c_{qi}$ and $c^*_{ri}c_{si}$. The diagonal terms, when $p=q$ for example, are the probability of some basis function $p$ contributing to the MO $i$. We will sum each term over the occupied orbitals, $i$, to form the \"density matrix\"\n",
    "\n",
    "$$\n",
    "D_{pq}=\\sum_i^{occ} c^*_{pi}c_{qi}.\n",
    "$$ (DensityMatrix)\n",
    "\n",
    "We are going to construct the density matrix from the occupied orbitals.  To get a matrix of just the occupied orbitals, use the coefficient matrix in the original AO basis, and take a slice to include all rows and just the columns that represent the occupied orbitals."
   ],
   "metadata": {}
  },
  {
   "cell_type": "code",
   "execution_count": null,
   "source": [
    "# Grab occupied orbitals (recall: ndocc is the number of doubly occupied orbitals we found earlier)\n",
    "C_occ = C[:, :ndocc]\n",
    "print(F'The shape of C_occ is {C_occ.shape}')"
   ],
   "outputs": [],
   "metadata": {
    "scrolled": true
   }
  },
  {
   "cell_type": "markdown",
   "source": [
    ":::{admonition} Exercise 19\n",
    ":class: exercise\n",
    "\n",
    " Build the density matrix, `D`, from the occupied orbitals, `C_occ`, using the function `np.einsum()`. **Hint** Look at {eq}`DensityMatrix`\n",
    " :::"
   ],
   "metadata": {}
  },
  {
   "cell_type": "code",
   "execution_count": 22,
   "source": [
    "# Build density matrix from occupied orbitals\n",
    "D = np.array([]) # Insert code here\n",
    "print(F'The shape of D is {D.shape}')"
   ],
   "outputs": [
    {
     "output_type": "stream",
     "name": "stdout",
     "text": [
      "The shape of D is (0,)\n"
     ]
    }
   ],
   "metadata": {}
  },
  {
   "cell_type": "markdown",
   "source": [
    "(jk_hf)=\n",
    "### Coulomb and Exchange Integrals and the SCF Energy\n",
    "\n",
    "The integral on the right of  {eq}`electronrepuslionintrealtensor` is super important. It has four indicies, $p,q,r,s$, so formally it is a tensor. It accounts for the repulsion between pairs of electrons, so it is called the electron repulsion integral tensor, $I$,\n",
    "\n",
    "$$\n",
    "I_{pqrs} = \\int{\\rm d}\\tau\\; \\phi_p^*(1)\\phi_q(1)\\frac{1}{r_{ij}}\\phi_r^*(2)\\phi_s(2).\n",
    "$$ (electronrepuslionintrealtensor)\n",
    "\n",
    "First, we can build the electron-repulsion integral (ERI) tensor, which calculates the electron repulsion between the atomic orbital wavefunctions, and the core Hamiltonian. Mints does all the work for us!"
   ],
   "metadata": {}
  },
  {
   "cell_type": "code",
   "execution_count": 23,
   "source": [
    "# Build electron repulsion integral (ERI) Tensor\n",
    "I = np.asarray(mints.ao_eri())"
   ],
   "outputs": [],
   "metadata": {}
  },
  {
   "cell_type": "markdown",
   "source": [
    "{eq}`ColoumbIntegral` can be expressed in terms of $I$ and $D$ as\n",
    "\n",
    "$$\n",
    "\\begin{align}\n",
    "[ii|jj] &= \\sum_{pqrs}D_{pq}D_{rs}I_{pqrs},\\\\\n",
    "&=\\sum_{pq}D_{pq}\\sum_{rs}D_{rs}I_{pqrs}.\n",
    "\\end{align}\n",
    "$$\n",
    "\n",
    "The term $\\sum_{rs}D_{rs}I_{pqrs}$ is the effective repulsion felt by one electron due to the other electrons in the system. This term is the Coulomb integral matrix\n",
    "\n",
    "$$\n",
    "J_{pq}=\\sum_{rs}D_{rs}I_{pqrs}.\n",
    "$$"
   ],
   "metadata": {}
  },
  {
   "cell_type": "markdown",
   "source": [
    ":::{admonition} Exercise 20\n",
    ":class: exercise\n",
    "Define J  in terms of the density matrix, `D`, and the electron repulsion integral tensor, `I`, using `np.einsum()`. \n",
    ":::"
   ],
   "metadata": {}
  },
  {
   "cell_type": "code",
   "execution_count": 24,
   "source": [
    "#Define J\n",
    "J = None # insert code here"
   ],
   "outputs": [],
   "metadata": {}
  },
  {
   "cell_type": "markdown",
   "source": [
    "Similarly, \n",
    "\\begin{align}\n",
    "[ij|ji] &= \\sum_{pqrs}D_{ps}D_{rq}I_{pqrs},\\\\\n",
    " &= \\sum_{ps}D_{ps}\\sum_{rq}D_{rq}I_{pqrs}.\n",
    "\\end{align}\n",
    "corrects the repulsion due to electrons \"avoiding each other\" due to their Fermionic (antisymmetric w.r.t. exchange) character. This term is the exchange integral matrix\n",
    "$$\n",
    "K_{ps}=\\sum_{rq}D_{rq}I_{pqrs}.\n",
    "$$"
   ],
   "metadata": {}
  },
  {
   "cell_type": "markdown",
   "source": [
    ":::{admonition} Exercise 21\n",
    ":class: exercise\n",
    " Define K  in terms of the density matrix, `D`, and the electron repulsion integral tensor, `I`, using `einsum()`. \n",
    " :::"
   ],
   "metadata": {}
  },
  {
   "cell_type": "code",
   "execution_count": 25,
   "source": [
    "#Define K\n",
    "K = None # insert code here"
   ],
   "outputs": [],
   "metadata": {}
  },
  {
   "cell_type": "markdown",
   "source": [
    ":::{admonition} Exercise 22\n",
    ":class: exercise\n",
    "\n",
    " Define F in terms of H, J, and K. (Recall {ref}`hf`)\n",
    "\n",
    " :::"
   ],
   "metadata": {}
  },
  {
   "cell_type": "code",
   "execution_count": 26,
   "source": [
    "#Define F as a function of H, J, and K\n",
    "F = None # insert code here"
   ],
   "outputs": [],
   "metadata": {}
  },
  {
   "cell_type": "markdown",
   "source": [
    "A more convenient form of the SCF energy is in terms of a sum over the AO basis functions\n",
    "\n",
    "$$\n",
    "E = \\sum_{pq}(H_{pq} + F_{pq})D_{pq}.\n",
    "$$\n",
    "\n",
    "Remember, that this is the electronic energy only. To this we need to add the nuclear repulsion energy. \n"
   ],
   "metadata": {}
  },
  {
   "cell_type": "markdown",
   "source": [
    ":::{admonition} Exercise 23\n",
    ":class: exercise\n",
    " Calculate the SCF energy based on H, F, and D using `np.einsum()`.\n",
    ":::\n",
    "\n",
    ":::{margin} Hint\n",
    " The right hand side of the equation is the sum of the product of two terms, each of which has two indices (p and q). The result, E, is a number, so it has no indices. In `einsum()` notation, this case will be represented with the indices for the matrices on the left of the `->`, and no index on the right of the `->`. For example, in the case of just one matrix, the sum of all its elements of a matrix `M` is `sum_of_m = np.einsum('pq->',M )`. In your answer below, be sure to account for any modifications required of an element-wise product of two matrices.\n",
    ":::"
   ],
   "metadata": {}
  },
  {
   "cell_type": "code",
   "execution_count": null,
   "source": [
    "E_nuc = mol.nuclear_repulsion_energy()\n",
    "SCF_E = None # insert your code here\n",
    "print(F'Energy = {SCF_E:.8f}')"
   ],
   "outputs": [],
   "metadata": {}
  },
  {
   "cell_type": "markdown",
   "source": [
    ":::{admonition} Exercise 24\n",
    ":class: exercise\n",
    " Based on the result of the calculation in {ref}`basisset`, is this a reasonable answer? \n",
    " :::"
   ],
   "metadata": {}
  },
  {
   "cell_type": "markdown",
   "source": [
    ":::{admonition} Exercise 25\n",
    ":class: exercise\n",
    " Describe a procedure (i.e. identify the steps/commands) that will update the coefficients and compute a new density matrix based on the new definition of the Fock matrix. \n",
    " :::"
   ],
   "metadata": {}
  },
  {
   "cell_type": "markdown",
   "source": [
    ":::{admonition} Exercise 26\n",
    ":class: exercise\n",
    " Using the procedure proposed above, calculate the updated coefficients\n",
    " :::"
   ],
   "metadata": {}
  },
  {
   "cell_type": "code",
   "execution_count": null,
   "source": [
    "# insert remaining steps here\n",
    "\n",
    "# Select the occupied MOs\n",
    "C_occ = C[:, :ndocc]\n",
    "\n",
    "# Update the density matrix\n",
    "D = np.einsum('pi,qi->pq', C_occ, C_occ)"
   ],
   "outputs": [],
   "metadata": {}
  },
  {
   "cell_type": "markdown",
   "source": [
    "You have just completed one cycle of the SCF calculation!\n",
    "\n",
    "\n",
    "Now we will use the density matrix to build the Fock matrix.  The code block below sets up a skeleton of the Hartree-Fock procedure.  The basic steps are:\n",
    "1. Calculate the Fock Matrix based on the density matrix previously defined from a one electron hamiltonian {ref}`jk_hf`\n",
    "2. Calculate the energy from the Fock matrix.\n",
    "3. Check and see if the energy has converged by comparing the current energy to the previous energy and seeing if it is within the convergence threshold.\n",
    "4. If the energy has not converged, transform the Fock matrix, and diagonalize the transformed Fock matrix to get the energy and MO coefficients.  Then transform back to the original AO basis, pull the occupied orbitals, and reconstruct the density matrix. "
   ],
   "metadata": {}
  },
  {
   "cell_type": "code",
   "execution_count": null,
   "source": [
    "# ==> Nuclear Repulsion Energy <==\n",
    "E_nuc = mol.nuclear_repulsion_energy()\n",
    "\n",
    "# ==> SCF Iterations <==\n",
    "# Pre-iteration energy declarations\n",
    "SCF_E = 0.0\n",
    "E_old = 0.0\n",
    "\n",
    "# ==> Set default program options <==\n",
    "# We continue recalculating the energy until it converges to the level we specify.  \n",
    "# The varible `E_conv` is where we set this level of convergence.  We also set a \n",
    "# maximum number of iterations so that if our calculation does not converge, it \n",
    "# eventually stops and lets us know that it did not converge.  \n",
    "# Maximum SCF iterations\n",
    "MAXITER = 40\n",
    "# Energy convergence criterion\n",
    "E_conv = 1.0e-6\n",
    "\n",
    "print('==> Starting SCF Iterations <==\\n')\n",
    "\n",
    "# Begin Iterations\n",
    "for scf_iter in range(1, MAXITER + 1):\n",
    "    \n",
    "    # Build Fock matrix \n",
    "    \n",
    "    # <your code here>\n",
    "\n",
    "    # Compute SCF energy\n",
    "    \n",
    "    SCF_E = #<your formula here>\n",
    "    \n",
    "    print(F'SCF Iteration {scf_iter}: Energy = {SCF_E:.8f} dE = {SCF_E - E_old:.8f}')\n",
    "    \n",
    "    # Check to see if the energy is converged.  If it is break out of the loop.\n",
    "    # If it is not, set the current energy E_old\n",
    "    \n",
    "    if (abs(SCF_E - E_old) < E_conv):\n",
    "        break\n",
    "    E_old = SCF_E\n",
    "    \n",
    "    # Compute new coefficient & density matrices (Exercise 26)\n",
    "    \n",
    "    # <your code here>  \n",
    "    \n",
    "    # MAXITER exceeded?\n",
    "    if (scf_iter == MAXITER):\n",
    "        psi4.core.clean()\n",
    "        raise Exception(\"Maximum number of SCF iterations exceeded.\")\n",
    "\n",
    "# Post iterations\n",
    "print('\\nSCF converged.')\n",
    "print(F'Final RHF Energy: {SCF_E:.6f} [Eh]')"
   ],
   "outputs": [],
   "metadata": {
    "scrolled": true
   }
  },
  {
   "cell_type": "markdown",
   "source": [
    "Compare your results to Psi4 by computing the energy using `psi4.energy()` in the cell below.  "
   ],
   "metadata": {}
  },
  {
   "cell_type": "code",
   "execution_count": null,
   "source": [
    "\n",
    "\n",
    "# ==> Compare our SCF to Psi4 <==\n",
    "# Call psi4.energy() to compute the SCF energy\n",
    "SCF_E_psi = psi4.energy('SCF')\n",
    "psi4.core.clean()\n",
    "\n",
    "print(f\"PSI4 {SCF_E_psi:.6f}  Ours {SCF_E:.6f}   Absolute difference {np.abs(SCF_E-SCF_E_psi)}\")\n"
   ],
   "outputs": [],
   "metadata": {
    "scrolled": true
   }
  },
  {
   "cell_type": "markdown",
   "source": [
    ":::{admonition} Bonus Exercise 27\n",
    ":class: exercise\n",
    "Modify the value of E_conv and describe its affect the number of iterations.\n",
    ":::"
   ],
   "metadata": {}
  }
 ],
 "metadata": {
  "kernelspec": {
   "display_name": "Quantum Chemistry",
   "language": "python",
   "name": "psi4"
  },
  "language_info": {
   "codemirror_mode": {
    "name": "ipython",
    "version": 3
   },
   "file_extension": ".py",
   "mimetype": "text/x-python",
   "name": "python",
   "nbconvert_exporter": "python",
   "pygments_lexer": "ipython3",
   "version": "3.8.10"
  },
  "latex_envs": {
   "LaTeX_envs_menu_present": true,
   "autoclose": false,
   "autocomplete": true,
   "bibliofile": "biblio.bib",
   "cite_by": "apalike",
   "current_citInitial": 1,
   "eqLabelWithNumbers": true,
   "eqNumInitial": 1,
   "hotkeys": {
    "equation": "Ctrl-E",
    "itemize": "Ctrl-I"
   },
   "labels_anchors": false,
   "latex_user_defs": false,
   "report_style_numbering": true,
   "user_envs_cfg": true
  }
 },
 "nbformat": 4,
 "nbformat_minor": 4
}