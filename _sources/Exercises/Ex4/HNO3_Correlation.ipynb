{
 "cells": [
  {
   "cell_type": "markdown",
   "id": "0b15b497",
   "metadata": {},
   "source": [
    "# Correlation energy\n",
    "\n",
    "\n",
    "The influence of electron correlation on structural parameters such as\n",
    "bond lengths and angles is not negligible. Hartree-Fock calculations may\n",
    "give bond lengths that deviate considerably from the experimental value.\n",
    "Comparably cheap methods such as MPn may often remedy sufficiently for\n",
    "this problem, but some smaller deviations may remain. The most rigorous\n",
    "approach in such cases would be *e.g.* a full configuration interaction\n",
    "(full CI/FCI), but this is computationally untractable for any larger\n",
    "molecule using a reasonable basis. One may therefore restrict the method\n",
    "to singly and doubly excited Slater determinants, assuming that the main\n",
    "effects of correlation are captured well enough in such a truncation.\n",
    "However, such truncations introduce size-consistency problems."
   ]
  },
  {
   "source": [
    " ![image](../../images/HNO3.png)"
   ],
   "cell_type": "markdown",
   "metadata": {}
  },
  {
   "source": [
    "## Influence of correlation on geometry"
   ],
   "cell_type": "markdown",
   "metadata": {}
  },
  {
   "cell_type": "markdown",
   "id": "bf20f5df",
   "metadata": {},
   "source": [
    "```{admonition} Exercise\n",
    ":class: exercise \n",
    "\n",
    "Assess and comment on the performance of HF, MP2 and MP3 with respect to the prediction of bond lengths and bond angles in HNO$_3$ in reference to the experimental values [^no3]\n",
    "```\n",
    "\n",
    "[^no3]: Anglada J. M., Olivella, S., Sole A., Phys. Chem. Chem. Phys., 2014 16, 19437"
   ]
  },
  {
   "cell_type": "code",
   "execution_count": 1,
   "id": "03cea67c",
   "metadata": {},
   "outputs": [],
   "source": [
    "import psi4\n",
    "import py3Dmol\n",
    "import pandas as pd\n",
    "import numpy as np\n",
    "\n",
    "import sys\n",
    "sys.path.append(\"..\")\n",
    "from helpers import *"
   ]
  },
  {
   "cell_type": "code",
   "execution_count": 2,
   "id": "7c21bbc9",
   "metadata": {},
   "outputs": [],
   "source": [
    "hno3 = psi4.geometry(\"\"\"\n",
    "0 1\n",
    "symmetry c1\n",
    "O           1.326  -0.373  -0.127\n",
    "N           0.015  -0.015   0.415\n",
    "O          -0.329   1.292  -0.145\n",
    "O          -0.944  -0.973  -0.135\n",
    "H          -1.811  -0.738   0.223\"\"\")"
   ]
  },
  {
   "cell_type": "code",
   "execution_count": 3,
   "id": "a587f1aa",
   "metadata": {},
   "outputs": [
    {
     "output_type": "display_data",
     "data": {
      "application/3dmoljs_load.v0": "<div id=\"3dmolviewer_162688010790452\"  style=\"position: relative; width: 400px; height: 400px\">\n        <p id=\"3dmolwarning_162688010790452\" style=\"background-color:#ffcccc;color:black\">You appear to be running in JupyterLab (or JavaScript failed to load for some other reason).  You need to install the 3dmol extension: <br>\n        <tt>jupyter labextension install jupyterlab_3dmol</tt></p>\n        </div>\n<script>\n\nvar loadScriptAsync = function(uri){\n  return new Promise((resolve, reject) => {\n    var tag = document.createElement('script');\n    tag.src = uri;\n    tag.async = true;\n    tag.onload = () => {\n      resolve();\n    };\n  var firstScriptTag = document.getElementsByTagName('script')[0];\n  firstScriptTag.parentNode.insertBefore(tag, firstScriptTag);\n});\n};\n\nif(typeof $3Dmolpromise === 'undefined') {\n$3Dmolpromise = null;\n  $3Dmolpromise = loadScriptAsync('https://3dmol.org/build/3Dmol.js');\n}\n\nvar viewer_162688010790452 = null;\nvar warn = document.getElementById(\"3dmolwarning_162688010790452\");\nif(warn) {\n    warn.parentNode.removeChild(warn);\n}\n$3Dmolpromise.then(function() {\nviewer_162688010790452 = $3Dmol.createViewer($(\"#3dmolviewer_162688010790452\"),{backgroundColor:\"white\"});\nviewer_162688010790452.zoomTo();\n\tviewer_162688010790452.addModel(\"5\\n\\n O    1.338181708340   -0.344148062155   -0.119477105807\\n N    0.027181708340    0.013851937845    0.422522894193\\n O   -0.316818291660    1.320851937845   -0.137477105807\\n O   -0.931818291660   -0.944148062155   -0.127477105807\\n H   -1.798818291660   -0.709148062155    0.230522894193\\n\",\"xyz\");\n\tviewer_162688010790452.setStyle({\"stick\": {}, \"sphere\": {\"scale\": 0.1}});\n\tviewer_162688010790452.zoomTo();\nviewer_162688010790452.render();\n});\n</script>",
      "text/html": "<div id=\"3dmolviewer_162688010790452\"  style=\"position: relative; width: 400px; height: 400px\">\n        <p id=\"3dmolwarning_162688010790452\" style=\"background-color:#ffcccc;color:black\">You appear to be running in JupyterLab (or JavaScript failed to load for some other reason).  You need to install the 3dmol extension: <br>\n        <tt>jupyter labextension install jupyterlab_3dmol</tt></p>\n        </div>\n<script>\n\nvar loadScriptAsync = function(uri){\n  return new Promise((resolve, reject) => {\n    var tag = document.createElement('script');\n    tag.src = uri;\n    tag.async = true;\n    tag.onload = () => {\n      resolve();\n    };\n  var firstScriptTag = document.getElementsByTagName('script')[0];\n  firstScriptTag.parentNode.insertBefore(tag, firstScriptTag);\n});\n};\n\nif(typeof $3Dmolpromise === 'undefined') {\n$3Dmolpromise = null;\n  $3Dmolpromise = loadScriptAsync('https://3dmol.org/build/3Dmol.js');\n}\n\nvar viewer_162688010790452 = null;\nvar warn = document.getElementById(\"3dmolwarning_162688010790452\");\nif(warn) {\n    warn.parentNode.removeChild(warn);\n}\n$3Dmolpromise.then(function() {\nviewer_162688010790452 = $3Dmol.createViewer($(\"#3dmolviewer_162688010790452\"),{backgroundColor:\"white\"});\nviewer_162688010790452.zoomTo();\n\tviewer_162688010790452.addModel(\"5\\n\\n O    1.338181708340   -0.344148062155   -0.119477105807\\n N    0.027181708340    0.013851937845    0.422522894193\\n O   -0.316818291660    1.320851937845   -0.137477105807\\n O   -0.931818291660   -0.944148062155   -0.127477105807\\n H   -1.798818291660   -0.709148062155    0.230522894193\\n\",\"xyz\");\n\tviewer_162688010790452.setStyle({\"stick\": {}, \"sphere\": {\"scale\": 0.1}});\n\tviewer_162688010790452.zoomTo();\nviewer_162688010790452.render();\n});\n</script>"
     },
     "metadata": {}
    }
   ],
   "source": [
    "drawXYZ(hno3)"
   ]
  },
  {
   "cell_type": "code",
   "execution_count": 4,
   "id": "b2ae8ea7",
   "metadata": {},
   "outputs": [],
   "source": [
    "psi4.set_options({'reference':'uhf','guess':'gwh'})"
   ]
  },
  {
   "cell_type": "code",
   "execution_count": 5,
   "id": "97637d62",
   "metadata": {},
   "outputs": [],
   "source": [
    "hno3_hf =  hno3.clone() # we clone the molecule as we want to start the geometry optimization from the same starting structure"
   ]
  },
  {
   "cell_type": "code",
   "execution_count": 6,
   "id": "2a36c687",
   "metadata": {},
   "outputs": [
    {
     "name": "stdout",
     "output_type": "stream",
     "text": [
      "Optimizer: Optimization complete!\n"
     ]
    }
   ],
   "source": [
    "E_hf, history_hf = psi4.optimize('hf/6-31+G*', molecule=hno3_hf, return_history=True)"
   ]
  },
  {
   "cell_type": "code",
   "execution_count": 5,
   "metadata": {},
   "outputs": [],
   "source": [
    "# perform the calculations for mp2 and mp3 here also creating cloned molecules\n",
    "# also create a history file as we will use it to get the last optimized geometries from psi4"
   ]
  },
  {
   "cell_type": "code",
   "execution_count": 8,
   "id": "38a4eac6",
   "metadata": {},
   "outputs": [],
   "source": [
    "#save last optimized coordinates in a dictionary\n",
    "opt_coord = {\n",
    "    'hf':np.array(history_hf['coordinates'][-1]),\n",
    "    'mp2':np.array(history_mp2['coordinates'][-1]),\n",
    "    'mp3':np.array(history_mp3['coordinates'][-1])\n",
    "}\n"
   ]
  },
  {
   "source": [
    ":::{margin}\n",
    "the distance between two points is the L2 norm (Euclidean distance)\n",
    "```\n",
    "a = np.array([0,0,0])\n",
    "b = np.array([1,1,1])\n",
    "np.linalg.norm(a-b)\n",
    "```\n",
    "this has been implemented in the `calculate_bond` function contained in `helpers.py` imported above. \n",
    ":::"
   ],
   "cell_type": "markdown",
   "metadata": {}
  },
  {
   "source": [
    "The calculation for the angle is also possible using numpy. You can use the following function"
   ],
   "cell_type": "markdown",
   "metadata": {}
  },
  {
   "cell_type": "code",
   "execution_count": 43,
   "id": "e4b62af6",
   "metadata": {},
   "outputs": [],
   "source": [
    "def calculate_angle(a,b,c):\n",
    "    ba = a - b\n",
    "    bc = c - b\n",
    "\n",
    "    cosine_angle = np.dot(ba, bc) / (np.linalg.norm(ba) * np.linalg.norm(bc))\n",
    "    angle = np.arccos(cosine_angle)\n",
    "    return np.degrees(angle)"
   ]
  },
  {
   "cell_type": "code",
   "execution_count": 9,
   "metadata": {},
   "outputs": [
    {
     "output_type": "display_data",
     "data": {
      "application/3dmoljs_load.v0": "<div id=\"3dmolviewer_16268804457407212\"  style=\"position: relative; width: 400px; height: 400px\">\n        <p id=\"3dmolwarning_16268804457407212\" style=\"background-color:#ffcccc;color:black\">You appear to be running in JupyterLab (or JavaScript failed to load for some other reason).  You need to install the 3dmol extension: <br>\n        <tt>jupyter labextension install jupyterlab_3dmol</tt></p>\n        </div>\n<script>\n\nvar loadScriptAsync = function(uri){\n  return new Promise((resolve, reject) => {\n    var tag = document.createElement('script');\n    tag.src = uri;\n    tag.async = true;\n    tag.onload = () => {\n      resolve();\n    };\n  var firstScriptTag = document.getElementsByTagName('script')[0];\n  firstScriptTag.parentNode.insertBefore(tag, firstScriptTag);\n});\n};\n\nif(typeof $3Dmolpromise === 'undefined') {\n$3Dmolpromise = null;\n  $3Dmolpromise = loadScriptAsync('https://3dmol.org/build/3Dmol.js');\n}\n\nvar viewer_16268804457407212 = null;\nvar warn = document.getElementById(\"3dmolwarning_16268804457407212\");\nif(warn) {\n    warn.parentNode.removeChild(warn);\n}\n$3Dmolpromise.then(function() {\nviewer_16268804457407212 = $3Dmol.createViewer($(\"#3dmolviewer_16268804457407212\"),{backgroundColor:\"white\"});\nviewer_16268804457407212.zoomTo();\n\tviewer_16268804457407212.addModel(\"5\\n\\n O    1.338181708340   -0.344148062155   -0.119477105807\\n N    0.027181708340    0.013851937845    0.422522894193\\n O   -0.316818291660    1.320851937845   -0.137477105807\\n O   -0.931818291660   -0.944148062155   -0.127477105807\\n H   -1.798818291660   -0.709148062155    0.230522894193\\n\",\"xyz\");\n\tviewer_16268804457407212.addLabel(\"0\",{\"position\": {\"x\": 1.33818170834342, \"y\": -0.3441480621560101, \"z\": -0.11947710580699746}, \"inFront\": true});\n\tviewer_16268804457407212.addLabel(\"1\",{\"position\": {\"x\": 0.02718170834042214, \"y\": 0.013851937844808478, \"z\": 0.4225228941942418}, \"inFront\": true});\n\tviewer_16268804457407212.addLabel(\"2\",{\"position\": {\"x\": -0.3168182916603645, \"y\": 1.3208519378477972, \"z\": -0.13747710580703862}, \"inFront\": true});\n\tviewer_16268804457407212.addLabel(\"3\",{\"position\": {\"x\": -0.9318182916617707, \"y\": -0.944148062157382, \"z\": -0.12747710580701577}, \"inFront\": true});\n\tviewer_16268804457407212.addLabel(\"4\",{\"position\": {\"x\": -1.7988182916637532, \"y\": -0.7091480621568447, \"z\": 0.23052289419380287}, \"inFront\": true});\n\tviewer_16268804457407212.setStyle({\"stick\": {}, \"sphere\": {\"scale\": 0.1}});\n\tviewer_16268804457407212.setStyle({\"model\": 0},{\"stick\": {\"colorscheme\": \"yellowCarbon\"}, \"sphere\": {\"scale\": 0.1}});\n\tviewer_16268804457407212.zoomTo();\nviewer_16268804457407212.render();\n});\n</script>",
      "text/html": "<div id=\"3dmolviewer_16268804457407212\"  style=\"position: relative; width: 400px; height: 400px\">\n        <p id=\"3dmolwarning_16268804457407212\" style=\"background-color:#ffcccc;color:black\">You appear to be running in JupyterLab (or JavaScript failed to load for some other reason).  You need to install the 3dmol extension: <br>\n        <tt>jupyter labextension install jupyterlab_3dmol</tt></p>\n        </div>\n<script>\n\nvar loadScriptAsync = function(uri){\n  return new Promise((resolve, reject) => {\n    var tag = document.createElement('script');\n    tag.src = uri;\n    tag.async = true;\n    tag.onload = () => {\n      resolve();\n    };\n  var firstScriptTag = document.getElementsByTagName('script')[0];\n  firstScriptTag.parentNode.insertBefore(tag, firstScriptTag);\n});\n};\n\nif(typeof $3Dmolpromise === 'undefined') {\n$3Dmolpromise = null;\n  $3Dmolpromise = loadScriptAsync('https://3dmol.org/build/3Dmol.js');\n}\n\nvar viewer_16268804457407212 = null;\nvar warn = document.getElementById(\"3dmolwarning_16268804457407212\");\nif(warn) {\n    warn.parentNode.removeChild(warn);\n}\n$3Dmolpromise.then(function() {\nviewer_16268804457407212 = $3Dmol.createViewer($(\"#3dmolviewer_16268804457407212\"),{backgroundColor:\"white\"});\nviewer_16268804457407212.zoomTo();\n\tviewer_16268804457407212.addModel(\"5\\n\\n O    1.338181708340   -0.344148062155   -0.119477105807\\n N    0.027181708340    0.013851937845    0.422522894193\\n O   -0.316818291660    1.320851937845   -0.137477105807\\n O   -0.931818291660   -0.944148062155   -0.127477105807\\n H   -1.798818291660   -0.709148062155    0.230522894193\\n\",\"xyz\");\n\tviewer_16268804457407212.addLabel(\"0\",{\"position\": {\"x\": 1.33818170834342, \"y\": -0.3441480621560101, \"z\": -0.11947710580699746}, \"inFront\": true});\n\tviewer_16268804457407212.addLabel(\"1\",{\"position\": {\"x\": 0.02718170834042214, \"y\": 0.013851937844808478, \"z\": 0.4225228941942418}, \"inFront\": true});\n\tviewer_16268804457407212.addLabel(\"2\",{\"position\": {\"x\": -0.3168182916603645, \"y\": 1.3208519378477972, \"z\": -0.13747710580703862}, \"inFront\": true});\n\tviewer_16268804457407212.addLabel(\"3\",{\"position\": {\"x\": -0.9318182916617707, \"y\": -0.944148062157382, \"z\": -0.12747710580701577}, \"inFront\": true});\n\tviewer_16268804457407212.addLabel(\"4\",{\"position\": {\"x\": -1.7988182916637532, \"y\": -0.7091480621568447, \"z\": 0.23052289419380287}, \"inFront\": true});\n\tviewer_16268804457407212.setStyle({\"stick\": {}, \"sphere\": {\"scale\": 0.1}});\n\tviewer_16268804457407212.setStyle({\"model\": 0},{\"stick\": {\"colorscheme\": \"yellowCarbon\"}, \"sphere\": {\"scale\": 0.1}});\n\tviewer_16268804457407212.zoomTo();\nviewer_16268804457407212.render();\n});\n</script>"
     },
     "metadata": {}
    }
   ],
   "source": [
    "drawXYZ_labeled(hno3)"
   ]
  },
  {
   "cell_type": "code",
   "execution_count": null,
   "metadata": {},
   "outputs": [],
   "source": []
  },
  {
   "cell_type": "code",
   "execution_count": 46,
   "id": "a647d0cb",
   "metadata": {},
   "outputs": [],
   "source": [
    "# we use the opt_coord dictionary to cacluate the properties using python \n",
    "\n",
    "# the units are in bohr (atomic unit of distance), we convert to Å \n",
    "\n",
    "results = {'hf':{},'mp2':{},'mp3':{},'exp':{'r(O1-N) Å':1.198, 'r(O2-N) Å':1.410, 'r(O3-N) Å':1.213, 'φ(O-N-O) °':130.2}, }\n",
    "for method in ['hf', 'mp2', 'mp3']:\n",
    "    xyz = opt_coord[method] # store the geometry array optimized with the current method in a temp variable\n",
    "    results[method]['r(O1-N) Å'] = calculate_bond(xyz[0], xyz[1]) * psi4.constants.bohr2angstroms\n",
    "    results[method]['r(O2-N) Å'] = calculate_bond(xyz[2], xyz[1]) * psi4.constants.bohr2angstroms\n",
    "    results[method]['r(O3-N) Å'] = calculate_bond(xyz[3], xyz[1]) * psi4.constants.bohr2angstroms\n",
    "    results[method]['φ(O-N-O) °'] = calculate_angle(xyz[0], xyz[1], xyz[method][2])"
   ]
  },
  {
   "cell_type": "code",
   "execution_count": 17,
   "id": "74700ec9",
   "metadata": {},
   "outputs": [
    {
     "output_type": "execute_result",
     "data": {
      "text/plain": [
       "     hf   mp2   mp3\n",
       "0  None  None  None"
      ],
      "text/html": "<div>\n<style scoped>\n    .dataframe tbody tr th:only-of-type {\n        vertical-align: middle;\n    }\n\n    .dataframe tbody tr th {\n        vertical-align: top;\n    }\n\n    .dataframe thead th {\n        text-align: right;\n    }\n</style>\n<table border=\"1\" class=\"dataframe\">\n  <thead>\n    <tr style=\"text-align: right;\">\n      <th></th>\n      <th>hf</th>\n      <th>mp2</th>\n      <th>mp3</th>\n    </tr>\n  </thead>\n  <tbody>\n    <tr>\n      <th>0</th>\n      <td>None</td>\n      <td>None</td>\n      <td>None</td>\n    </tr>\n  </tbody>\n</table>\n</div>"
     },
     "metadata": {},
     "execution_count": 17
    }
   ],
   "source": [
    "pd.DataFrame.from_dict(results)"
   ]
  },
  {
   "cell_type": "markdown",
   "id": "d9d5e1c2",
   "metadata": {},
   "source": [
    "## Recovering Correlation Energy"
   ]
  },
  {
   "cell_type": "markdown",
   "id": "4e11f759",
   "metadata": {},
   "source": [
    ":::{margin} Attribution\n",
    "This section was adapted from Shepherd et. al. under BSD-3 license. \n",
    ":::"
   ]
  },
  {
   "cell_type": "markdown",
   "id": "cb2bb7de",
   "metadata": {},
   "source": [
    "At the Hartree Fock level of theory, each electron experiences an average potential field of all the other electrons. In essence, it is a \"mean field\" approach that neglects individual electron-electron interactions or \"electron correlation\". Thus, we define the difference between the self-consistent field energy and the exact energy as the correlation energy. Two fundamentally different approaches to account for electron correlation effects are available by selecting a Correlation method: Moller Plesset (MP) Perturbation theory and Coupled Cluster (CC) theory. \n",
    "\n",
    "\n",
    "\n",
    "\n",
    " \n",
    "\n",
    "```{admonition} Question 5\n",
    ":class: exercise \n",
    "\n",
    "Calculate the SCF energy for Boron using the *6-311+G** basis set, then determine the value of the correlation energy for boron assuming an \"experimental\" energy of **-24.608 hartrees** [^schaefer]\n",
    "\n",
    "\n",
    "Using the same basis set, perform an energy calculation with MP2 and MP4.  \n",
    "\n",
    "Using the same basis set, perform an energy calculation with CCSD and CCSD(T).\n",
    "\n",
    "Determine the percentage of the correlation energy recovered for HF, MP2, MP4, CCSD, CCSD(T). \n",
    "```\n",
    "\n",
    "```{admonition} CCSD energy/mp2 energy\n",
    ":class: tip\n",
    "You may recover the CCSD energy from the CCSD(T) calculation but you will have to look at the output file or by calculating both. The calculations for a single atom are quick.  \n",
    "\n",
    "The same is true for the MP2 energy which can be extracted from the MP4 calculation.\n",
    "MP4 will require the use of the following options: `psi4.set_options({\"reference\" :\"rohf\", \"qc_module\":\"detci\"})` as psi4 does not have MP4 implemented using a rhf reference. \n",
    "```\n",
    "\n",
    "\n",
    "[^schaefer]: H. S. Schaefer and F. Harris, (1968) Phys Rev. 167, 67\n"
   ]
  },
  {
   "cell_type": "code",
   "execution_count": 60,
   "id": "9f03bdff",
   "metadata": {},
   "outputs": [],
   "source": [
    "psi4.core.clean_options()\n",
    "\n",
    "# define a single boron atom and set the correct multiplicity\n",
    "boron_geometry = psi4.geometry(\"\"\"\"\"\")\n",
    "\n",
    "psi4.set_options({'reference' : \"UHF\"})\n",
    "\n",
    "# Perform single-point calculation with requested method/basis \n",
    "B_energy_hf  = 0"
   ]
  },
  {
   "cell_type": "code",
   "execution_count": 19,
   "id": "ef436fdf",
   "metadata": {},
   "outputs": [
    {
     "output_type": "stream",
     "name": "stdout",
     "text": [
      "\n Electron correlation: None hartrees\n"
     ]
    }
   ],
   "source": [
    "#Experimental energy of Boron\n",
    "B_exact_e = -24.608\n",
    "\n",
    "\n",
    "correlation = None # Calculate the total amount of correlation energy recovered \n",
    "\n",
    "print(F\"\\n Electron correlation: {correlation} hartrees\")"
   ]
  },
  {
   "cell_type": "code",
   "execution_count": 20,
   "id": "649e2cbf",
   "metadata": {},
   "outputs": [],
   "source": [
    "# calculate energy for other methods\n",
    "#MP2\n",
    "e_mp2 = None\n",
    "#CCSD\n",
    "e_ccsd = None \n",
    "#CCSD(T)\n",
    "e_ccsd_t = None\n",
    "#MP4\n",
    "psi4.set_options({\"reference\" :\"rohf\", \n",
    "                   \"qc_module\":\"detci\"})\n",
    "e_mp4 = None "
   ]
  },
  {
   "cell_type": "code",
   "execution_count": 21,
   "id": "c92b60fa",
   "metadata": {},
   "outputs": [],
   "source": [
    "correlations = {}\n",
    "correlations['hf']= 0\n",
    "correlations['mp2']    = None # calculate the % of correlation energy recovered here\n",
    "correlations['mp4']    = None\n",
    "correlations['ccsd']   = None\n",
    "correlations['ccsd(t)'] = None"
   ]
  },
  {
   "cell_type": "code",
   "execution_count": 22,
   "id": "2aa742a1",
   "metadata": {},
   "outputs": [
    {
     "output_type": "execute_result",
     "data": {
      "text/plain": [
       "         % correlation recovered\n",
       "hf                           0.0\n",
       "mp2                          NaN\n",
       "mp4                          NaN\n",
       "ccsd                         NaN\n",
       "ccsd(t)                      NaN"
      ],
      "text/html": "<div>\n<style scoped>\n    .dataframe tbody tr th:only-of-type {\n        vertical-align: middle;\n    }\n\n    .dataframe tbody tr th {\n        vertical-align: top;\n    }\n\n    .dataframe thead th {\n        text-align: right;\n    }\n</style>\n<table border=\"1\" class=\"dataframe\">\n  <thead>\n    <tr style=\"text-align: right;\">\n      <th></th>\n      <th>% correlation recovered</th>\n    </tr>\n  </thead>\n  <tbody>\n    <tr>\n      <th>hf</th>\n      <td>0.0</td>\n    </tr>\n    <tr>\n      <th>mp2</th>\n      <td>NaN</td>\n    </tr>\n    <tr>\n      <th>mp4</th>\n      <td>NaN</td>\n    </tr>\n    <tr>\n      <th>ccsd</th>\n      <td>NaN</td>\n    </tr>\n    <tr>\n      <th>ccsd(t)</th>\n      <td>NaN</td>\n    </tr>\n  </tbody>\n</table>\n</div>"
     },
     "metadata": {},
     "execution_count": 22
    }
   ],
   "source": [
    "pd.DataFrame.from_dict(correlations,orient='index',columns=['% correlation recovered'])"
   ]
  }
 ],
 "metadata": {
  "kernelspec": {
   "display_name": "iesm",
   "language": "python",
   "name": "iesm"
  },
  "language_info": {
   "codemirror_mode": {
    "name": "ipython",
    "version": 3
   },
   "file_extension": ".py",
   "mimetype": "text/x-python",
   "name": "python",
   "nbconvert_exporter": "python",
   "pygments_lexer": "ipython3",
   "version": "3.7.10"
  }
 },
 "nbformat": 4,
 "nbformat_minor": 5
}