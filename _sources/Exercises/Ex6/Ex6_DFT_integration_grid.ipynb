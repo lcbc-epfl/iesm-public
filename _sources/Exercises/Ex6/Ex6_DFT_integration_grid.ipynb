{
 "metadata": {
  "language_info": {
   "codemirror_mode": {
    "name": "ipython",
    "version": 3
   },
   "file_extension": ".py",
   "mimetype": "text/x-python",
   "name": "python",
   "nbconvert_exporter": "python",
   "pygments_lexer": "ipython3",
   "version": "3.7.10"
  },
  "orig_nbformat": 2,
  "kernelspec": {
   "name": "python3710jvsc74a57bd041014d9ef4f1575fd00aab395420944c5c4814a3cabc0b1373f73a24b67da32e",
   "display_name": "Python 3.7.10 64-bit ('iesm': conda)"
  }
 },
 "nbformat": 4,
 "nbformat_minor": 2,
 "cells": [
  {
   "cell_type": "markdown",
   "source": [
    "# Integration grids"
   ],
   "metadata": {}
  },
  {
   "cell_type": "markdown",
   "source": [
    "```{margin}\n",
    "Sources: [Q-Chem Documentation](https://manual.q-chem.com/5.2/Ch5.S5.SS2.html)\n",
    "[Morgante and Peverati](https://doi.org/10.1002/qua.26332)\n",
    "```\n",
    "\n",
    "In order to do DFT calculations we use an integration grid when evaluating the exchange–correlation integrals. There are many integration schemes around. Most of them calculate the integrals as weighted sum over a finite amount of grid points generally defined on the surface of a sphere. The “thickness” of these grids is usually represented by the corresponding number of radial and angular points. The choice of the grid can significantly affect the computed results.\n",
    "The SG-0 and SG-1 (pruned 50,194 with < 40% of the points of the full grid) grids were optimized for an integration error in the energy to fall below a target threshold. Unfortunately, derivatives of the energy (eg. (hyper)polarizabilities) are often more sensitive to the quality of the integration grid. \n",
    "This is also true when imaginary vibrational frequencies or  PES curves of non-bonded interactionsare are calculated. If the grid is low quality,  low-frequency (but real) vibrational frequencies might manifest as imaginary and PES curves might contain artefacts.\n",
    "\n",
    "More recent functionals developed since ~2005 often depend on the kinetic energy density or the laplacian of the density (e.g Meta-GGA functionals) and require finer grids than GGA functionals. \n",
    "\n",
    "The issue of choosing the most appropriate integration grid is often overlooked. Relying on the default settings of quantum chemistry programs is not a good idea, even if some developers implemented variable grid requirements that depend on the chosen functional (e.g in Q-Chem). In this experiment we will look at the dissociation curve of the argon dimer, between 3.0 and 6.0 Ångström using psi4 which uses the medium quality 75, 302 grid as default. \n",
    "\n",
    "We will test two functionals: `b3lyp` and  `m06-hf`. \n",
    "\n"
   ],
   "metadata": {}
  },
  {
   "cell_type": "code",
   "execution_count": 1,
   "source": [
    "import psi4\n",
    "import pandas as pd \n",
    "import numpy as np \n",
    "import matplotlib.pyplot as plt"
   ],
   "outputs": [],
   "metadata": {}
  },
  {
   "cell_type": "code",
   "execution_count": 2,
   "source": [
    "# Lets create the distances we will be looking at\n",
    "distances = np.linspace(3, 6, 31)"
   ],
   "outputs": [],
   "metadata": {}
  },
  {
   "cell_type": "code",
   "execution_count": 3,
   "source": [
    "# These are the reference energies taken from https://doi.org/10.1002/qua.26332\n",
    "reference = [2.24,1.21, 0.57, 0.18, -0.06, -0.19, -0.26, -0.28, -0.28 , -0.27, -0.25, -0.23, -0.21, -0.18, -0.16, -0.14, -0.13, -0.11, -0.10, -0.09, -0.08, -0.07, -0.06, -0.05, -0.05, -0.04, -0.04, -0.03, -0.03, -0.03, -0.02]"
   ],
   "outputs": [],
   "metadata": {}
  },
  {
   "cell_type": "code",
   "execution_count": 7,
   "source": [
    "\n",
    "functional = \"b3lyp\" # try b3lyp and m06-hf\n",
    "energies = {}\n",
    "distances = np.linspace(3, 6, 31)\n",
    "\n",
    "# here we setup the grid points in a dictionary to iterate over them\n",
    "grid_options = {\n",
    "    'sg1':{'dft_grid_name':'sg1'}, # as this is a pruned grid it is set up differently\n",
    "    '75-302':{'dft_radial_points':75, 'dft_spherical_points': 302}, # default in psi4\n",
    "    '99-590':{'dft_radial_points':99, 'dft_spherical_points': 590}\n",
    "}\n",
    "\n",
    "# we have two nested loops here, the outer loop will run three times (once per grid setting)\n",
    "for grid in grid_options.keys():\n",
    "    psi4.core.clean_options()\n",
    "    psi4.set_options(grid_options[grid])\n",
    "\n",
    "    energies[grid] = []\n",
    "\n",
    "    # the inner loop runs for the distance array\n",
    "    for R in distances:\n",
    "        # Argon Dimer Z-Matrix\n",
    "        ar_dimer = psi4.geometry(f\"\"\"\n",
    "        0 1\n",
    "        Ar \n",
    "        Ar 1 {R}\n",
    "        \"\"\")\n",
    "        energies[grid].append(psi4.energy(functional+\"/def2-QZVP\", molecule=ar_dimer))\n",
    "    "
   ],
   "outputs": [],
   "metadata": {}
  },
  {
   "cell_type": "code",
   "execution_count": 8,
   "source": [
    "# Calculate energy of single Argon atom\n",
    "psi4.core.clean_options()\n",
    "ar = psi4.geometry(\"\"\"\n",
    "Ar 0 0 0\n",
    "\"\"\")\n",
    "\n",
    "E_ar = psi4.energy(functional+\"/def2-QZVP\", molecule = ar)"
   ],
   "outputs": [],
   "metadata": {}
  },
  {
   "cell_type": "markdown",
   "source": [
    "```{admonition} Exercise 7\n",
    ":class: exercise\n",
    "Which grid size should you use for this kind of problem? Are the fluctuations observed with the SG1 grid physical?\n",
    "```\n",
    "\n",
    "```{admonition} Exercise 8\n",
    ":class: exercise\n",
    "Compare the two functionals regarding convergence with respect to the integration grid. Which functional shows concerning behavior in this regard?\n",
    "```\n",
    "\n"
   ],
   "metadata": {}
  },
  {
   "cell_type": "code",
   "execution_count": null,
   "source": [],
   "outputs": [],
   "metadata": {}
  },
  {
   "cell_type": "code",
   "execution_count": null,
   "source": [
    "fig, ax = plt.subplots(1)\n",
    "ax.set_title(functional)\n",
    "# we plot the curves for each grid we used \n",
    "for grid in grid_options.keys():\n",
    "    # the interaction energy is the E_dimer - 2*E_single\n",
    "    e = (np.array(energies[grid])-2*E_ar)*psi4.constants.hartree2kcalmol\n",
    "    ax.plot(distances, e, label=grid)\n",
    "ax.plot(distances, reference, label='reference', linestyle=\"--\")\n",
    "ax.set_xlabel('Separation (A)')\n",
    "ax.set_ylabel('Energy (kcal/mol)')\n",
    "ax.legend()\n",
    "fig.savefig(functional+'-integrationgrid.jpg')\n",
    "plt.show()"
   ],
   "outputs": [],
   "metadata": {}
  },
  {
   "cell_type": "code",
   "execution_count": null,
   "source": [],
   "outputs": [],
   "metadata": {}
  }
 ]
}