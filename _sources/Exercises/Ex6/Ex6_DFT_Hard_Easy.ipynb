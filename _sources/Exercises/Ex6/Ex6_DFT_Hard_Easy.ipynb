{
 "cells": [
  {
   "cell_type": "markdown",
   "source": [
    "# Hard and easy cases for DFT"
   ],
   "metadata": {}
  },
  {
   "cell_type": "markdown",
   "source": [
    "## Dispersion correction\n",
    "\n",
    "Dispersion interactions are caused by long-range electron correlation  and decay asymptotically with \n",
    "$E_{\\text{disp}} \\propto - C_6/R^6$ (London interaction). As the distance between two electron clouds is reduced this dispersion interaction becomes part of the normal correlation energy for short e-e distances. The London part of the dispersion energy is not included in standard local density functionals. The inclusion of short/medium range dispersion depends on the functional. Semi-local functionals that include the gradient of the density or the kinetic energy density tend to do better in this regard. A proper description of dispersion requires non-local correlation functionals. \n",
    "\n",
    "Dispersion is often synomously used with Van der Waals interaction, but technically this is not correct. Dispersion is a time-independent phenomen that one can observe e.g. for  non-overlapping, spherically-symmetric charge densities (e.g two argon atoms A and B at points $\\vec{r}$ and $\\vec{r}'$). The dispersion interaction shows up as large density gradient in regions of space where the density itself is small.\n",
    "\n",
    "This can be better described by newer exchange-correlation potentials having the following form \n",
    "\n",
    "$$\n",
    "v_c^{\\text{nl}}(\\vec{r}) = \\int f(\\vec{r}, \\vec{r}') dr'\n",
    "$$\n",
    "where a perturbation at $\\vec{r}'$ due to atom B, induces an exchange-correlation potential at $\\vec{r}$ on atom A, even at a great distance.\n",
    "Examples for such functionals are `VV10` and `vdW-DF-10`.\n",
    "\n",
    "A cheaper and simple solution is to use an empirical potential of the form $- C_6/R^6$.\n",
    "A popular dispersion correction is DFT-D3 by Grimme and coworkers. Like other corrections of the DFT-D family, this is an additive correction. \n",
    "\n",
    "$$E_{\\text{B3LYP-D3}} = E_{\\text{B3LYP}} + E_{\\text{D3, 2-body}} + E_{\\text{ATM, 3-body}}$$\n",
    "\n",
    " The dispersion correction consists of a two-body term plus a three-body term of the Axilrod-Teller-Muto (ATM) triple-dipole variety. If the BJ approach is used, a slightly different damping function is employed to make the potential finite (but non-zero) for $R_{AB} \\rightarrow 0$. This is the preferred dispersion correction for most uses. \n",
    "\n",
    " In Psi4 we can also add non-local density based correlation energy from the VV10 functional to e.g the b3lyp functional by using the following keyword `b3lyp-nl`.  The VV10 functional is less empirical than the DFT-D approaches, as it contains only two fitted parameters."
   ],
   "metadata": {}
  },
  {
   "cell_type": "markdown",
   "source": [
    "## Accuracy of DFT: Swiss army knife for computational chemistry?\n",
    "DFT although fast and available in many quantum chemistry programs is not a universal solution for any system. In principle, DFT is exact. However, in practice, as we rely on density functional approximations (DFA), the results can vary widely, depending on the DFA used. DFA are often fit using reference data from databases containing atomization energies and various other data. In this example, we will look at three reactions using geometries obtained from quantum chemical reference datasets. For reasons of efficiency, we will only perform single point calculations using a variety of functionals to learn about some points that we need to be careful about when using DFT. \n",
    "\n",
    "The reactions of interest are:\n",
    "1. Homolytic bond dissociation energy of CaO into atomic calcium and oxygen (taken from Minnesota 2015B database, 96.15 kcal mol$^{-1}$)\n",
    "2. Interaction energy of two ethane molecules (taken from GMTKN55 database, -1.34 kcal mol$^{-1}$)\n",
    "3. Energy difference between the staggered and eclipsed methanol conformations (taken from GMTKN55 database, -1.01 kcal mol$^{-1}$)\n",
    "\n",
    "Note, that one of the reactions is contained in the training data of one of the functionals that we will be using.  \n",
    "\n",
    "```{margin}\n",
    "These exercises were inspired by {cite:ts}`morgante_devil_2020`.\n",
    "```"
   ],
   "metadata": {}
  },
  {
   "cell_type": "markdown",
   "source": [
    "```{admonition} Exercise 5\n",
    ":class: exercise\n",
    "Which of the reaction energies (i.e. the energy difference between product and reactants) do you think is most \"difficult\" to calculate? Rank them in order of increasing difficulty. \n",
    "\n",
    "Difficult in this case refers to getting an accurate reaction energy with low absolute error to true energy (reference energy from the dataset). As chemical accuracy we usually use 1 kcal mol$^-1$\n",
    "```"
   ],
   "metadata": {}
  },
  {
   "cell_type": "markdown",
   "source": [
    "```{admonition} Exercise 6\n",
    ":class: exercise\n",
    "Run the calculations below and check whether your assessment of the hard, medium and easy reactions is correct. Include the tables containing the calculated energies for the three problems in your report. Which functional do you think contained the reaction in its training data?\n",
    "```"
   ],
   "metadata": {}
  },
  {
   "cell_type": "markdown",
   "source": [
    "```{admonition} Bonus Exercise 1\n",
    ":class: exercise\n",
    "How could fortitous error cancellation help in getting good results when calculating reaction energies?\n",
    "```"
   ],
   "metadata": {}
  },
  {
   "cell_type": "markdown",
   "source": [
    "```{admonition} Bonus Exercise 2\n",
    ":class: exercise\n",
    "What is the impact of using the dispersion correction for the ethane complex? For what phenomena are such corrections relevant? Give a real world example system. \n",
    "```"
   ],
   "metadata": {}
  },
  {
   "cell_type": "markdown",
   "source": [
    "## BDE CaO into atomic calcium and oxygen"
   ],
   "metadata": {}
  },
  {
   "cell_type": "code",
   "execution_count": 27,
   "source": [
    "import psi4\n",
    "import pandas as pd\n",
    "\n",
    "\n",
    "import sys\n",
    "sys.path.append(\"..\")\n",
    "from helpers import *"
   ],
   "outputs": [],
   "metadata": {}
  },
  {
   "cell_type": "code",
   "execution_count": null,
   "source": [
    "psi4.set_num_threads(2)\n",
    "psi4.set_memory('2 GB')"
   ],
   "outputs": [],
   "metadata": {}
  },
  {
   "cell_type": "code",
   "execution_count": 29,
   "source": [
    "cao=psi4.geometry(\"\"\"\n",
    "0 1\n",
    "Ca 0.0000000 0.0000000 1.8210000\n",
    "O 0.0000000 0.0000000 0.0000000\n",
    "\"\"\")"
   ],
   "outputs": [],
   "metadata": {}
  },
  {
   "cell_type": "code",
   "execution_count": 30,
   "source": [
    "ca = psi4.geometry(\"\"\"\n",
    "0 1\n",
    "Ca   0.0   0.0   0.0\n",
    "\"\"\")"
   ],
   "outputs": [],
   "metadata": {}
  },
  {
   "cell_type": "code",
   "execution_count": 31,
   "source": [
    "o= psi4.geometry(\"\"\"\n",
    "0 3\n",
    "O   0.0   0.0   0.0\n",
    "\"\"\")"
   ],
   "outputs": [],
   "metadata": {}
  },
  {
   "cell_type": "code",
   "execution_count": 72,
   "source": [
    "methods =[ 'pbe', 'b3lyp', 'mn15','mp2', 'scan']  #These are the methods that we are going to use\n",
    "energies = {} #Here we will store the energies\n",
    "\n",
    "for method in methods:\n",
    "    # we clone all the molecules as we want to start the geometry optimization from the same starting structure\n",
    "    cao_opt = cao.clone()\n",
    "    ca_opt = ca.clone()\n",
    "    o_opt = o.clone()\n",
    "    \n",
    "    # call psi4  single point energy calculation once per method\n",
    "    # use def2-QZVP basis set\n",
    "    psi4.set_options({'dft_radial_points':99, 'dft_spherical_points': 590, 'reference':'uks'})\n",
    "    E_cao = None\n",
    "    E_o = None\n",
    "    E_ca = None\n",
    "    # calculate the raction energy in kcal/mol \n",
    "    # you can use psi4.constants.hartree2kcalmol for the unit conversion    \n",
    "    E_reaction = None\n",
    "\n",
    "    energies[method]= [E_cao, E_o, E_ca, E_reaction]"
   ],
   "outputs": [],
   "metadata": {}
  },
  {
   "cell_type": "code",
   "execution_count": 73,
   "source": [
    "# insert the reference here\n",
    "energies['reference']= ['','','', None]"
   ],
   "outputs": [],
   "metadata": {}
  },
  {
   "cell_type": "code",
   "execution_count": 76,
   "source": [
    "pd.DataFrame.from_dict(energies, orient='index', columns=['E_CaO', 'E_O', 'E_Ca', 'E_reaction (kcal/mol)'])"
   ],
   "outputs": [
    {
     "output_type": "execute_result",
     "data": {
      "text/html": [
       "<div>\n",
       "<style scoped>\n",
       "    .dataframe tbody tr th:only-of-type {\n",
       "        vertical-align: middle;\n",
       "    }\n",
       "\n",
       "    .dataframe tbody tr th {\n",
       "        vertical-align: top;\n",
       "    }\n",
       "\n",
       "    .dataframe thead th {\n",
       "        text-align: right;\n",
       "    }\n",
       "</style>\n",
       "<table border=\"1\" class=\"dataframe\">\n",
       "  <thead>\n",
       "    <tr style=\"text-align: right;\">\n",
       "      <th></th>\n",
       "      <th>E_CaO</th>\n",
       "      <th>E_O</th>\n",
       "      <th>E_Ca</th>\n",
       "      <th>E_reaction (kcal/mol)</th>\n",
       "    </tr>\n",
       "  </thead>\n",
       "  <tbody>\n",
       "    <tr>\n",
       "      <th>pbe</th>\n",
       "      <td>None</td>\n",
       "      <td>None</td>\n",
       "      <td>None</td>\n",
       "      <td>None</td>\n",
       "    </tr>\n",
       "    <tr>\n",
       "      <th>b3lyp</th>\n",
       "      <td>None</td>\n",
       "      <td>None</td>\n",
       "      <td>None</td>\n",
       "      <td>None</td>\n",
       "    </tr>\n",
       "    <tr>\n",
       "      <th>mn15</th>\n",
       "      <td>None</td>\n",
       "      <td>None</td>\n",
       "      <td>None</td>\n",
       "      <td>None</td>\n",
       "    </tr>\n",
       "    <tr>\n",
       "      <th>mp2</th>\n",
       "      <td>None</td>\n",
       "      <td>None</td>\n",
       "      <td>None</td>\n",
       "      <td>None</td>\n",
       "    </tr>\n",
       "    <tr>\n",
       "      <th>scan</th>\n",
       "      <td>None</td>\n",
       "      <td>None</td>\n",
       "      <td>None</td>\n",
       "      <td>None</td>\n",
       "    </tr>\n",
       "    <tr>\n",
       "      <th>reference</th>\n",
       "      <td></td>\n",
       "      <td></td>\n",
       "      <td></td>\n",
       "      <td>None</td>\n",
       "    </tr>\n",
       "  </tbody>\n",
       "</table>\n",
       "</div>"
      ],
      "text/plain": [
       "          E_CaO   E_O  E_Ca E_reaction (kcal/mol)\n",
       "pbe        None  None  None                  None\n",
       "b3lyp      None  None  None                  None\n",
       "mn15       None  None  None                  None\n",
       "mp2        None  None  None                  None\n",
       "scan       None  None  None                  None\n",
       "reference                                    None"
      ]
     },
     "metadata": {},
     "execution_count": 76
    }
   ],
   "metadata": {
    "scrolled": true
   }
  },
  {
   "cell_type": "code",
   "execution_count": 77,
   "source": [
    "psi4.core.clean()\n",
    "psi4.core.clean_options()"
   ],
   "outputs": [],
   "metadata": {}
  },
  {
   "cell_type": "markdown",
   "source": [
    "## Interaction of two Ethane molecules"
   ],
   "metadata": {}
  },
  {
   "cell_type": "code",
   "execution_count": 78,
   "source": [
    "dimer = psi4.geometry(\"\"\"\n",
    "symmetry c1\n",
    "0 1\n",
    "C  0.684160244353  0.337751120631  -1.9114826827\n",
    "C  -0.684160244353  -0.337751120631  -1.9114826827\n",
    "H  1.48964553204  -0.401434143375  -1.9114826827\n",
    "H  0.812773290289  0.969660346322  -2.794291998\n",
    "H  0.812773290289  0.969660346322  -1.0286733674\n",
    "H  -1.48964553204  0.401434143375  -1.9114826827\n",
    "H  -0.812773290289  -0.969660346322  -2.794291998\n",
    "H  -0.812773290289  -0.969660346322  -1.0286733674\n",
    "C  0.684160244353  -0.337751120631  1.9114826827\n",
    "C  -0.684160244353  0.337751120631  1.9114826827\n",
    "H  1.48964553204  0.401434143375  1.9114826827\n",
    "H  0.812773290289  -0.969660346322  2.794291998\n",
    "H  0.812773290289  -0.969660346322  1.0286733674\n",
    "H  -1.48964553204  -0.401434143375  1.9114826827\n",
    "H  -0.812773290289  0.969660346322  2.794291998\n",
    "H  -0.812773290289  0.969660346322  1.0286733674\n",
    "\"\"\")\n",
    "monomer = psi4.geometry(\"\"\"\n",
    "symmetry c1\n",
    "0 1\n",
    "C  0.0  0.0  0.762988243308\n",
    "C  0.0  0.0  -0.762988243308\n",
    "H  -0.882809099823  0.509690071426  1.1580401983\n",
    "H  0.0  -1.01938014285  1.1580401983\n",
    "H  0.882809099823  0.509690071426  1.1580401983\n",
    "H  0.882809099823  -0.509690071426  -1.1580401983\n",
    "H  -0.882809099823  -0.509690071426  -1.1580401983\n",
    "H  0.0  1.01938014285  -1.1580401983\n",
    "\"\"\")"
   ],
   "outputs": [],
   "metadata": {}
  },
  {
   "cell_type": "code",
   "execution_count": 79,
   "source": [
    "drawXYZSideBySide(monomer, dimer)"
   ],
   "outputs": [
    {
     "output_type": "display_data",
     "data": {
      "text/html": [
       "<div id=\"3dmolviewer_1627658475076343\"  style=\"position: relative; width: 640px; height: 480px\">\n",
       "        <p id=\"3dmolwarning_1627658475076343\" style=\"background-color:#ffcccc;color:black\">You appear to be running in JupyterLab (or JavaScript failed to load for some other reason).  You need to install the 3dmol extension: <br>\n",
       "        <tt>jupyter labextension install jupyterlab_3dmol</tt></p>\n",
       "        </div>\n",
       "<script>\n",
       "\n",
       "var loadScriptAsync = function(uri){\n",
       "  return new Promise((resolve, reject) => {\n",
       "    var tag = document.createElement('script');\n",
       "    tag.src = uri;\n",
       "    tag.async = true;\n",
       "    tag.onload = () => {\n",
       "      resolve();\n",
       "    };\n",
       "  var firstScriptTag = document.getElementsByTagName('script')[0];\n",
       "  firstScriptTag.parentNode.insertBefore(tag, firstScriptTag);\n",
       "});\n",
       "};\n",
       "\n",
       "if(typeof $3Dmolpromise === 'undefined') {\n",
       "$3Dmolpromise = null;\n",
       "  $3Dmolpromise = loadScriptAsync('https://3dmol.org/build/3Dmol.js');\n",
       "}\n",
       "\n",
       "var viewer_1627658475076343 = null;\n",
       "var warn = document.getElementById(\"3dmolwarning_1627658475076343\");\n",
       "if(warn) {\n",
       "    warn.parentNode.removeChild(warn);\n",
       "}\n",
       "$3Dmolpromise.then(function() {\n",
       "var viewergrid_1627658475076343 = null;\n",
       "viewergrid_1627658475076343 = $3Dmol.createViewerGrid($(\"#3dmolviewer_1627658475076343\"),{rows: 1, cols: 2, control_all: true},{backgroundColor:\"white\"});\n",
       "viewer_1627658475076343 = viewergrid_1627658475076343[0][0];\n",
       "viewergrid_1627658475076343[0][0].zoomTo();viewergrid_1627658475076343[0][1].zoomTo();\tviewergrid_1627658475076343[0][0].addModel(\"8\\n\\n C    0.000000000000    0.762988243308    0.000000000000\\n C    0.000000000000   -0.762988243308    0.000000000000\\n H    0.509690071425    1.158040198300    0.882809099823\\n H    0.509690071425    1.158040198300   -0.882809099821\\n H   -1.019380142852    1.158040198300   -0.000000000000\\n H   -0.509690071425   -1.158040198300   -0.882809099823\\n H    1.019380142852   -1.158040198300    0.000000000000\\n H   -0.509690071425   -1.158040198300    0.882809099821\\n\",\"xyz\");\n",
       "\tviewergrid_1627658475076343[0][1].addModel(\"16\\n\\n C    0.684160244353    0.337751120631   -1.911482682700\\n C   -0.684160244353   -0.337751120631   -1.911482682700\\n H    1.489645532040   -0.401434143375   -1.911482682700\\n H    0.812773290289    0.969660346322   -2.794291998000\\n H    0.812773290289    0.969660346322   -1.028673367400\\n H   -1.489645532040    0.401434143375   -1.911482682700\\n H   -0.812773290289   -0.969660346322   -2.794291998000\\n H   -0.812773290289   -0.969660346322   -1.028673367400\\n C    0.684160244353   -0.337751120631    1.911482682700\\n C   -0.684160244353    0.337751120631    1.911482682700\\n H    1.489645532040    0.401434143375    1.911482682700\\n H    0.812773290289   -0.969660346322    2.794291998000\\n H    0.812773290289   -0.969660346322    1.028673367400\\n H   -1.489645532040   -0.401434143375    1.911482682700\\n H   -0.812773290289    0.969660346322    2.794291998000\\n H   -0.812773290289    0.969660346322    1.028673367400\\n\",\"xyz\");\n",
       "\tviewergrid_1627658475076343[0][0].setStyle({\"stick\": {}});\n",
       "\tviewergrid_1627658475076343[0][1].setStyle({\"stick\": {}});\n",
       "\tviewergrid_1627658475076343[0][0].zoomTo();\n",
       "\tviewergrid_1627658475076343[0][1].zoomTo();\n",
       "viewergrid_1627658475076343[0][1].render();\n",
       "viewergrid_1627658475076343[0][0].render();\n",
       "});\n",
       "</script>"
      ],
      "application/3dmoljs_load.v0": "<div id=\"3dmolviewer_1627658475076343\"  style=\"position: relative; width: 640px; height: 480px\">\n        <p id=\"3dmolwarning_1627658475076343\" style=\"background-color:#ffcccc;color:black\">You appear to be running in JupyterLab (or JavaScript failed to load for some other reason).  You need to install the 3dmol extension: <br>\n        <tt>jupyter labextension install jupyterlab_3dmol</tt></p>\n        </div>\n<script>\n\nvar loadScriptAsync = function(uri){\n  return new Promise((resolve, reject) => {\n    var tag = document.createElement('script');\n    tag.src = uri;\n    tag.async = true;\n    tag.onload = () => {\n      resolve();\n    };\n  var firstScriptTag = document.getElementsByTagName('script')[0];\n  firstScriptTag.parentNode.insertBefore(tag, firstScriptTag);\n});\n};\n\nif(typeof $3Dmolpromise === 'undefined') {\n$3Dmolpromise = null;\n  $3Dmolpromise = loadScriptAsync('https://3dmol.org/build/3Dmol.js');\n}\n\nvar viewer_1627658475076343 = null;\nvar warn = document.getElementById(\"3dmolwarning_1627658475076343\");\nif(warn) {\n    warn.parentNode.removeChild(warn);\n}\n$3Dmolpromise.then(function() {\nvar viewergrid_1627658475076343 = null;\nviewergrid_1627658475076343 = $3Dmol.createViewerGrid($(\"#3dmolviewer_1627658475076343\"),{rows: 1, cols: 2, control_all: true},{backgroundColor:\"white\"});\nviewer_1627658475076343 = viewergrid_1627658475076343[0][0];\nviewergrid_1627658475076343[0][0].zoomTo();viewergrid_1627658475076343[0][1].zoomTo();\tviewergrid_1627658475076343[0][0].addModel(\"8\\n\\n C    0.000000000000    0.762988243308    0.000000000000\\n C    0.000000000000   -0.762988243308    0.000000000000\\n H    0.509690071425    1.158040198300    0.882809099823\\n H    0.509690071425    1.158040198300   -0.882809099821\\n H   -1.019380142852    1.158040198300   -0.000000000000\\n H   -0.509690071425   -1.158040198300   -0.882809099823\\n H    1.019380142852   -1.158040198300    0.000000000000\\n H   -0.509690071425   -1.158040198300    0.882809099821\\n\",\"xyz\");\n\tviewergrid_1627658475076343[0][1].addModel(\"16\\n\\n C    0.684160244353    0.337751120631   -1.911482682700\\n C   -0.684160244353   -0.337751120631   -1.911482682700\\n H    1.489645532040   -0.401434143375   -1.911482682700\\n H    0.812773290289    0.969660346322   -2.794291998000\\n H    0.812773290289    0.969660346322   -1.028673367400\\n H   -1.489645532040    0.401434143375   -1.911482682700\\n H   -0.812773290289   -0.969660346322   -2.794291998000\\n H   -0.812773290289   -0.969660346322   -1.028673367400\\n C    0.684160244353   -0.337751120631    1.911482682700\\n C   -0.684160244353    0.337751120631    1.911482682700\\n H    1.489645532040    0.401434143375    1.911482682700\\n H    0.812773290289   -0.969660346322    2.794291998000\\n H    0.812773290289   -0.969660346322    1.028673367400\\n H   -1.489645532040   -0.401434143375    1.911482682700\\n H   -0.812773290289    0.969660346322    2.794291998000\\n H   -0.812773290289    0.969660346322    1.028673367400\\n\",\"xyz\");\n\tviewergrid_1627658475076343[0][0].setStyle({\"stick\": {}});\n\tviewergrid_1627658475076343[0][1].setStyle({\"stick\": {}});\n\tviewergrid_1627658475076343[0][0].zoomTo();\n\tviewergrid_1627658475076343[0][1].zoomTo();\nviewergrid_1627658475076343[0][1].render();\nviewergrid_1627658475076343[0][0].render();\n});\n</script>"
     },
     "metadata": {}
    }
   ],
   "metadata": {}
  },
  {
   "cell_type": "code",
   "execution_count": 81,
   "source": [
    "methods = ['b3lyp', 'b3lyp-d3(bj)', 'b3lyp-nl' ,'pbe', 'pbe-d3', 'mp2', 'svwn'] #These are the methods that we are going to compare\n",
    "energies = {} #Here we will store the energies\n",
    "\n",
    "for method in methods:\n",
    "    # we clone all the molecules as we want to start the geometry optimization from the same starting structure\n",
    "    monomer_opt = monomer.clone()\n",
    "    dimer_opt = dimer.clone()\n",
    "\n",
    "    # call psi4  single point energy calculation once per method\n",
    "    # use def2-TZVP basis set\n",
    "    E_monomer = None\n",
    "    E_dimer = None\n",
    "    # calculate the raction energy in kcal/mol \n",
    "    # you can use psi4.constants.hartree2kcalmol for the unit conversion    \n",
    "    E_reaction = None\n",
    "    \n",
    "    energies[method] = [E_dimer, E_monomer, E_reaction]"
   ],
   "outputs": [],
   "metadata": {}
  },
  {
   "cell_type": "code",
   "execution_count": 82,
   "source": [
    "# insert the reference here\n",
    "energies['reference']= ['','', None]"
   ],
   "outputs": [],
   "metadata": {}
  },
  {
   "cell_type": "code",
   "execution_count": 83,
   "source": [
    "pd.DataFrame.from_dict(energies, orient='index', columns=['E_dimer', 'E_monomer', 'E_interaction (kcal/mol)'])"
   ],
   "outputs": [
    {
     "output_type": "execute_result",
     "data": {
      "text/html": [
       "<div>\n",
       "<style scoped>\n",
       "    .dataframe tbody tr th:only-of-type {\n",
       "        vertical-align: middle;\n",
       "    }\n",
       "\n",
       "    .dataframe tbody tr th {\n",
       "        vertical-align: top;\n",
       "    }\n",
       "\n",
       "    .dataframe thead th {\n",
       "        text-align: right;\n",
       "    }\n",
       "</style>\n",
       "<table border=\"1\" class=\"dataframe\">\n",
       "  <thead>\n",
       "    <tr style=\"text-align: right;\">\n",
       "      <th></th>\n",
       "      <th>E_dimer</th>\n",
       "      <th>E_monomer</th>\n",
       "      <th>E_interaction (kcal/mol)</th>\n",
       "    </tr>\n",
       "  </thead>\n",
       "  <tbody>\n",
       "    <tr>\n",
       "      <th>b3lyp</th>\n",
       "      <td>None</td>\n",
       "      <td>None</td>\n",
       "      <td>None</td>\n",
       "    </tr>\n",
       "    <tr>\n",
       "      <th>b3lyp-d3(bj)</th>\n",
       "      <td>None</td>\n",
       "      <td>None</td>\n",
       "      <td>None</td>\n",
       "    </tr>\n",
       "    <tr>\n",
       "      <th>b3lyp-nl</th>\n",
       "      <td>None</td>\n",
       "      <td>None</td>\n",
       "      <td>None</td>\n",
       "    </tr>\n",
       "    <tr>\n",
       "      <th>pbe</th>\n",
       "      <td>None</td>\n",
       "      <td>None</td>\n",
       "      <td>None</td>\n",
       "    </tr>\n",
       "    <tr>\n",
       "      <th>pbe-d3</th>\n",
       "      <td>None</td>\n",
       "      <td>None</td>\n",
       "      <td>None</td>\n",
       "    </tr>\n",
       "    <tr>\n",
       "      <th>mp2</th>\n",
       "      <td>None</td>\n",
       "      <td>None</td>\n",
       "      <td>None</td>\n",
       "    </tr>\n",
       "    <tr>\n",
       "      <th>reference</th>\n",
       "      <td></td>\n",
       "      <td></td>\n",
       "      <td>None</td>\n",
       "    </tr>\n",
       "  </tbody>\n",
       "</table>\n",
       "</div>"
      ],
      "text/plain": [
       "             E_dimer E_monomer E_interaction (kcal/mol)\n",
       "b3lyp           None      None                     None\n",
       "b3lyp-d3(bj)    None      None                     None\n",
       "b3lyp-nl        None      None                     None\n",
       "pbe             None      None                     None\n",
       "pbe-d3          None      None                     None\n",
       "mp2             None      None                     None\n",
       "reference                                          None"
      ]
     },
     "metadata": {},
     "execution_count": 83
    }
   ],
   "metadata": {}
  },
  {
   "cell_type": "code",
   "execution_count": 84,
   "source": [
    "psi4.core.clean()\n",
    "psi4.core.clean_options()"
   ],
   "outputs": [],
   "metadata": {}
  },
  {
   "cell_type": "markdown",
   "source": [
    "## Eclipsed/Staggered Methanol"
   ],
   "metadata": {}
  },
  {
   "cell_type": "code",
   "execution_count": 85,
   "source": [
    "methanol_eclipsed = psi4.geometry(\"\"\"\n",
    "0 1\n",
    "C     0.1354501    0.3335445    0.0000000 \n",
    "O     0.1744673   -1.0774079    0.0000000 \n",
    "H     0.6439155    0.7202929    0.8794450 \n",
    "H     0.6439155    0.7202929   -0.8794450 \n",
    "H    -0.8812042    0.7207713    0.0000000 \n",
    "H    -0.7165441   -1.4174937    0.0000000 \n",
    "\"\"\")"
   ],
   "outputs": [],
   "metadata": {}
  },
  {
   "cell_type": "code",
   "execution_count": 86,
   "source": [
    "methanol_staggered = psi4.geometry(\"\"\"0 1\n",
    "O     0.1640874    1.0771522    0.0000000 \n",
    "C     0.1319097   -0.3310036    0.0000000 \n",
    "H     1.1612146   -0.6758875    0.0000000 \n",
    "H    -0.3605642   -0.7355506    0.8858582 \n",
    "H    -0.3605642   -0.7355506   -0.8858582 \n",
    "H    -0.7360833    1.4008402    0.0000000 \n",
    "   \"\"\")"
   ],
   "outputs": [],
   "metadata": {}
  },
  {
   "cell_type": "code",
   "execution_count": 87,
   "source": [
    "drawXYZSideBySide(methanol_eclipsed, methanol_staggered)"
   ],
   "outputs": [
    {
     "output_type": "display_data",
     "data": {
      "text/html": [
       "<div id=\"3dmolviewer_16276586667101328\"  style=\"position: relative; width: 640px; height: 480px\">\n",
       "        <p id=\"3dmolwarning_16276586667101328\" style=\"background-color:#ffcccc;color:black\">You appear to be running in JupyterLab (or JavaScript failed to load for some other reason).  You need to install the 3dmol extension: <br>\n",
       "        <tt>jupyter labextension install jupyterlab_3dmol</tt></p>\n",
       "        </div>\n",
       "<script>\n",
       "\n",
       "var loadScriptAsync = function(uri){\n",
       "  return new Promise((resolve, reject) => {\n",
       "    var tag = document.createElement('script');\n",
       "    tag.src = uri;\n",
       "    tag.async = true;\n",
       "    tag.onload = () => {\n",
       "      resolve();\n",
       "    };\n",
       "  var firstScriptTag = document.getElementsByTagName('script')[0];\n",
       "  firstScriptTag.parentNode.insertBefore(tag, firstScriptTag);\n",
       "});\n",
       "};\n",
       "\n",
       "if(typeof $3Dmolpromise === 'undefined') {\n",
       "$3Dmolpromise = null;\n",
       "  $3Dmolpromise = loadScriptAsync('https://3dmol.org/build/3Dmol.js');\n",
       "}\n",
       "\n",
       "var viewer_16276586667101328 = null;\n",
       "var warn = document.getElementById(\"3dmolwarning_16276586667101328\");\n",
       "if(warn) {\n",
       "    warn.parentNode.removeChild(warn);\n",
       "}\n",
       "$3Dmolpromise.then(function() {\n",
       "var viewergrid_16276586667101328 = null;\n",
       "viewergrid_16276586667101328 = $3Dmol.createViewerGrid($(\"#3dmolviewer_16276586667101328\"),{rows: 1, cols: 2, control_all: true},{backgroundColor:\"white\"});\n",
       "viewer_16276586667101328 = viewergrid_16276586667101328[0][0];\n",
       "viewergrid_16276586667101328[0][0].zoomTo();viewergrid_16276586667101328[0][1].zoomTo();\tviewergrid_16276586667101328[0][0].addModel(\"6\\n\\n C    0.007316057723    0.723251161055    0.000000000000\\n O    0.046333257723   -0.687701238945    0.000000000000\\n H    0.515781457723    1.109999561055    0.879445000000\\n H    0.515781457723    1.109999561055   -0.879445000000\\n H   -1.009338242277    1.110477961055    0.000000000000\\n H   -0.844678142277   -1.027787038945    0.000000000000\\n\",\"xyz\");\n",
       "\tviewergrid_16276586667101328[0][1].addModel(\"6\\n\\n O    0.042025923269    0.686693095375    0.000000000000\\n C    0.009848223269   -0.721462704625    0.000000000000\\n H    1.039153123269   -1.066346604625    0.000000000000\\n H   -0.482625676731   -1.126009704625    0.885858200000\\n H   -0.482625676731   -1.126009704625   -0.885858200000\\n H   -0.858144776731    1.010381095375    0.000000000000\\n\",\"xyz\");\n",
       "\tviewergrid_16276586667101328[0][0].setStyle({\"stick\": {}});\n",
       "\tviewergrid_16276586667101328[0][1].setStyle({\"stick\": {}});\n",
       "\tviewergrid_16276586667101328[0][0].zoomTo();\n",
       "\tviewergrid_16276586667101328[0][1].zoomTo();\n",
       "viewergrid_16276586667101328[0][1].render();\n",
       "viewergrid_16276586667101328[0][0].render();\n",
       "});\n",
       "</script>"
      ],
      "application/3dmoljs_load.v0": "<div id=\"3dmolviewer_16276586667101328\"  style=\"position: relative; width: 640px; height: 480px\">\n        <p id=\"3dmolwarning_16276586667101328\" style=\"background-color:#ffcccc;color:black\">You appear to be running in JupyterLab (or JavaScript failed to load for some other reason).  You need to install the 3dmol extension: <br>\n        <tt>jupyter labextension install jupyterlab_3dmol</tt></p>\n        </div>\n<script>\n\nvar loadScriptAsync = function(uri){\n  return new Promise((resolve, reject) => {\n    var tag = document.createElement('script');\n    tag.src = uri;\n    tag.async = true;\n    tag.onload = () => {\n      resolve();\n    };\n  var firstScriptTag = document.getElementsByTagName('script')[0];\n  firstScriptTag.parentNode.insertBefore(tag, firstScriptTag);\n});\n};\n\nif(typeof $3Dmolpromise === 'undefined') {\n$3Dmolpromise = null;\n  $3Dmolpromise = loadScriptAsync('https://3dmol.org/build/3Dmol.js');\n}\n\nvar viewer_16276586667101328 = null;\nvar warn = document.getElementById(\"3dmolwarning_16276586667101328\");\nif(warn) {\n    warn.parentNode.removeChild(warn);\n}\n$3Dmolpromise.then(function() {\nvar viewergrid_16276586667101328 = null;\nviewergrid_16276586667101328 = $3Dmol.createViewerGrid($(\"#3dmolviewer_16276586667101328\"),{rows: 1, cols: 2, control_all: true},{backgroundColor:\"white\"});\nviewer_16276586667101328 = viewergrid_16276586667101328[0][0];\nviewergrid_16276586667101328[0][0].zoomTo();viewergrid_16276586667101328[0][1].zoomTo();\tviewergrid_16276586667101328[0][0].addModel(\"6\\n\\n C    0.007316057723    0.723251161055    0.000000000000\\n O    0.046333257723   -0.687701238945    0.000000000000\\n H    0.515781457723    1.109999561055    0.879445000000\\n H    0.515781457723    1.109999561055   -0.879445000000\\n H   -1.009338242277    1.110477961055    0.000000000000\\n H   -0.844678142277   -1.027787038945    0.000000000000\\n\",\"xyz\");\n\tviewergrid_16276586667101328[0][1].addModel(\"6\\n\\n O    0.042025923269    0.686693095375    0.000000000000\\n C    0.009848223269   -0.721462704625    0.000000000000\\n H    1.039153123269   -1.066346604625    0.000000000000\\n H   -0.482625676731   -1.126009704625    0.885858200000\\n H   -0.482625676731   -1.126009704625   -0.885858200000\\n H   -0.858144776731    1.010381095375    0.000000000000\\n\",\"xyz\");\n\tviewergrid_16276586667101328[0][0].setStyle({\"stick\": {}});\n\tviewergrid_16276586667101328[0][1].setStyle({\"stick\": {}});\n\tviewergrid_16276586667101328[0][0].zoomTo();\n\tviewergrid_16276586667101328[0][1].zoomTo();\nviewergrid_16276586667101328[0][1].render();\nviewergrid_16276586667101328[0][0].render();\n});\n</script>"
     },
     "metadata": {}
    }
   ],
   "metadata": {}
  },
  {
   "cell_type": "code",
   "execution_count": 94,
   "source": [
    "methods = [ 'pbe', 'b3lyp', 'mn15','mp2', 'scan']#These are the methods that we are going to compare\n",
    "energies = {} #Here we will store the energies\n",
    "\n",
    "for method in methods: \n",
    "    # we clone all the molecules as we want to start the geometry optimization from the same starting structure\n",
    "    eclipsed_opt = methanol_eclipsed.clone()\n",
    "    staggered_opt = methanol_staggered.clone()\n",
    "\n",
    "    # call psi4  single point energy calculation once per method\n",
    "    # use def2-TZVP basis set\n",
    "    psi4.set_options({'dft_radial_points':99, 'dft_spherical_points': 590})\n",
    "    E_eclipsed = None\n",
    "    E_staggered = None\n",
    "    # calculate the raction energy in kcal/mol \n",
    "    # you can use psi4.constants.hartree2kcalmol for the unit conversion    \n",
    "    E_reaction = None\n",
    "    \n",
    "    energies[method]= [E_eclipsed, E_staggered, E_reaction]"
   ],
   "outputs": [],
   "metadata": {}
  },
  {
   "cell_type": "code",
   "execution_count": 95,
   "source": [
    "# insert the reference here\n",
    "energies['reference']= ['','', None]"
   ],
   "outputs": [],
   "metadata": {}
  },
  {
   "cell_type": "code",
   "execution_count": 96,
   "source": [
    "pd.DataFrame.from_dict(energies, orient='index', columns=['E_eclipsed', 'E_staggered', 'E_reaction (kcal/mol)'])"
   ],
   "outputs": [
    {
     "output_type": "execute_result",
     "data": {
      "text/html": [
       "<div>\n",
       "<style scoped>\n",
       "    .dataframe tbody tr th:only-of-type {\n",
       "        vertical-align: middle;\n",
       "    }\n",
       "\n",
       "    .dataframe tbody tr th {\n",
       "        vertical-align: top;\n",
       "    }\n",
       "\n",
       "    .dataframe thead th {\n",
       "        text-align: right;\n",
       "    }\n",
       "</style>\n",
       "<table border=\"1\" class=\"dataframe\">\n",
       "  <thead>\n",
       "    <tr style=\"text-align: right;\">\n",
       "      <th></th>\n",
       "      <th>E_eclipsed</th>\n",
       "      <th>E_staggered</th>\n",
       "      <th>E_reaction (kcal/mol)</th>\n",
       "    </tr>\n",
       "  </thead>\n",
       "  <tbody>\n",
       "    <tr>\n",
       "      <th>pbe</th>\n",
       "      <td>None</td>\n",
       "      <td>None</td>\n",
       "      <td>None</td>\n",
       "    </tr>\n",
       "    <tr>\n",
       "      <th>b3lyp</th>\n",
       "      <td>None</td>\n",
       "      <td>None</td>\n",
       "      <td>None</td>\n",
       "    </tr>\n",
       "    <tr>\n",
       "      <th>mn15</th>\n",
       "      <td>None</td>\n",
       "      <td>None</td>\n",
       "      <td>None</td>\n",
       "    </tr>\n",
       "    <tr>\n",
       "      <th>mp2</th>\n",
       "      <td>None</td>\n",
       "      <td>None</td>\n",
       "      <td>None</td>\n",
       "    </tr>\n",
       "    <tr>\n",
       "      <th>scan</th>\n",
       "      <td>None</td>\n",
       "      <td>None</td>\n",
       "      <td>None</td>\n",
       "    </tr>\n",
       "    <tr>\n",
       "      <th>reference</th>\n",
       "      <td></td>\n",
       "      <td></td>\n",
       "      <td>None</td>\n",
       "    </tr>\n",
       "  </tbody>\n",
       "</table>\n",
       "</div>"
      ],
      "text/plain": [
       "          E_eclipsed E_staggered E_reaction (kcal/mol)\n",
       "pbe             None        None                  None\n",
       "b3lyp           None        None                  None\n",
       "mn15            None        None                  None\n",
       "mp2             None        None                  None\n",
       "scan            None        None                  None\n",
       "reference                                         None"
      ]
     },
     "metadata": {},
     "execution_count": 96
    }
   ],
   "metadata": {}
  },
  {
   "cell_type": "code",
   "execution_count": null,
   "source": [],
   "outputs": [],
   "metadata": {}
  }
 ],
 "metadata": {
  "kernelspec": {
   "display_name": "iesm",
   "language": "python",
   "name": "iesm"
  },
  "language_info": {
   "codemirror_mode": {
    "name": "ipython",
    "version": 3
   },
   "file_extension": ".py",
   "mimetype": "text/x-python",
   "name": "python",
   "nbconvert_exporter": "python",
   "pygments_lexer": "ipython3",
   "version": "3.7.10"
  }
 },
 "nbformat": 4,
 "nbformat_minor": 2
}