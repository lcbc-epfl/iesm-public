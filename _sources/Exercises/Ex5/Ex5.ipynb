{
 "cells": [
  {
   "cell_type": "markdown",
   "source": [
    "# Testing DFT functionals on an aldol reaction."
   ],
   "metadata": {}
  },
  {
   "cell_type": "markdown",
   "source": [
    "In this example, we will study the aldol condensation of two acetone molecules to diacetone alcohol using different DFT functionals. "
   ],
   "metadata": {}
  },
  {
   "cell_type": "code",
   "execution_count": 5,
   "source": [
    "import psi4\n",
    "import pandas as pd\n",
    "\n",
    "import sys\n",
    "sys.path.append(\"..\")\n",
    "\n",
    "from helpers import *"
   ],
   "outputs": [],
   "metadata": {}
  },
  {
   "cell_type": "code",
   "execution_count": 6,
   "source": [
    "psi4.set_num_threads(2)\n",
    "psi4.set_memory('2 GB')"
   ],
   "outputs": [
    {
     "output_type": "execute_result",
     "data": {
      "text/plain": [
       "2000000000"
      ]
     },
     "metadata": {},
     "execution_count": 6
    }
   ],
   "metadata": {}
  },
  {
   "cell_type": "markdown",
   "source": [
    "## Creating diacetone alcohol\n",
    "\n",
    "For larger molecules, the creation of an approximate xyz file that can\n",
    "be used as the molecular input coordinates is impossible. In these\n",
    "cases, one may refer to molecular visualization softwares. \n",
    "\n",
    "Many different programs can be used for this task. Popular ones are for example Avogadro (open source, cross-plattform), \n",
    "*MolView* (https://molview.org/) (web-based), molden, GaussView (comes with the Gaussian quantum chemistry software), IQMol and many more.  \n",
    "\n",
    "For simplicity, we provide you the coordinates below but you could as well have drawn them yourselves. The coordinates need to be approximately right and many programs come with a force field optimization routine, that will quickly snap together all bonds to their equilibrium distances and so on. \n",
    "\n",
    "An alternative is to download structures from a database such as PubChem. We will do this for acetone below."
   ],
   "metadata": {}
  },
  {
   "cell_type": "code",
   "execution_count": 7,
   "source": [
    "product = psi4.geometry(\"\"\"\n",
    "0 1\n",
    " C     0.000000     0.000000     0.000000\n",
    " H     0.000000     0.000000     1.089000\n",
    " C     1.367075     0.000000    -0.483328\n",
    " H    -0.513360    -0.889165    -0.363000\n",
    " H    -0.513360     0.889165    -0.363000\n",
    " O     1.590009     0.000000    -1.682786\n",
    " C     2.469187     0.000000     0.458930\n",
    " C     3.724927     0.000000    -0.266066\n",
    " H     2.411497     0.889165     1.085012\n",
    " H     2.411497    -0.889165     1.085012\n",
    " O     3.469111     0.000000    -1.642495\n",
    " C     4.485272     1.183920     0.084231\n",
    " C     4.485272    -1.183920     0.084231\n",
    " H     2.533622     0.000000    -1.789702\n",
    " H     5.428376    -1.183920    -0.460266\n",
    " H     4.684261    -1.183920     1.154896\n",
    " H     3.914226    -2.073085    -0.178854\n",
    " H     5.428376     1.183920    -0.460266\n",
    " H     3.914226     2.073085    -0.178854\n",
    " H     4.684261     1.183920     1.154896\"\"\")\n"
   ],
   "outputs": [],
   "metadata": {}
  },
  {
   "cell_type": "code",
   "execution_count": 8,
   "source": [
    "acetone = psi4.geometry(\"pubchem:acetone\")"
   ],
   "outputs": [
    {
     "output_type": "stream",
     "name": "stdout",
     "text": [
      "\tSearching PubChem database for acetone (single best match returned)\n",
      "\tFound 1 result(s)\n"
     ]
    }
   ],
   "metadata": {}
  },
  {
   "cell_type": "code",
   "execution_count": null,
   "source": [],
   "outputs": [],
   "metadata": {}
  },
  {
   "cell_type": "code",
   "execution_count": 9,
   "source": [
    "drawXYZSideBySide(acetone, product)"
   ],
   "outputs": [
    {
     "output_type": "display_data",
     "data": {
      "text/html": [
       "<div id=\"3dmolviewer_16267919719132493\"  style=\"position: relative; width: 640px; height: 480px\">\n",
       "        <p id=\"3dmolwarning_16267919719132493\" style=\"background-color:#ffcccc;color:black\">You appear to be running in JupyterLab (or JavaScript failed to load for some other reason).  You need to install the 3dmol extension: <br>\n",
       "        <tt>jupyter labextension install jupyterlab_3dmol</tt></p>\n",
       "        </div>\n",
       "<script>\n",
       "\n",
       "var loadScriptAsync = function(uri){\n",
       "  return new Promise((resolve, reject) => {\n",
       "    var tag = document.createElement('script');\n",
       "    tag.src = uri;\n",
       "    tag.async = true;\n",
       "    tag.onload = () => {\n",
       "      resolve();\n",
       "    };\n",
       "  var firstScriptTag = document.getElementsByTagName('script')[0];\n",
       "  firstScriptTag.parentNode.insertBefore(tag, firstScriptTag);\n",
       "});\n",
       "};\n",
       "\n",
       "if(typeof $3Dmolpromise === 'undefined') {\n",
       "$3Dmolpromise = null;\n",
       "  $3Dmolpromise = loadScriptAsync('https://3dmol.org/build/3Dmol.js');\n",
       "}\n",
       "\n",
       "var viewer_16267919719132493 = null;\n",
       "var warn = document.getElementById(\"3dmolwarning_16267919719132493\");\n",
       "if(warn) {\n",
       "    warn.parentNode.removeChild(warn);\n",
       "}\n",
       "$3Dmolpromise.then(function() {\n",
       "var viewergrid_16267919719132493 = null;\n",
       "viewergrid_16267919719132493 = $3Dmol.createViewerGrid($(\"#3dmolviewer_16267919719132493\"),{rows: 1, cols: 2, control_all: true},{backgroundColor:\"white\"});\n",
       "viewer_16267919719132493 = viewergrid_16267919719132493[0][0];\n",
       "viewergrid_16267919719132493[0][0].zoomTo();viewergrid_16267919719132493[0][1].zoomTo();\tviewergrid_16267919719132493[0][0].addModel(\"10\\n\\n O    0.000300188065   -1.319182805008   -0.000158452352\\n C    0.000000188065   -0.089282805008    0.000641547648\\n C    1.281000188065    0.700317194992   -0.000158452352\\n C   -1.281299811935    0.699817194992   -0.000158452352\\n H    1.327900188065    1.321417194992   -0.897958452352\\n H    1.326000188065    1.326117194992    0.894541547648\\n H    2.135100188065    0.017517194992    0.002741547648\\n H   -2.135199811935    0.016617194992    0.002741547648\\n H   -1.328399811935    1.320917194992   -0.897958452352\\n H   -1.326599811935    1.325717194992    0.894541547648\\n\",\"xyz\");\n",
       "\tviewergrid_16267919719132493[0][1].addModel(\"20\\n\\n C    2.704544938488    0.455385499804    0.000000000000\\n H    2.704544938488    1.544385499804    0.000000000000\\n C    1.337469938488   -0.027942500196    0.000000000000\\n H    3.217904938488    0.092385499804   -0.889165000000\\n H    3.217904938488    0.092385499804    0.889165000000\\n O    1.114535938488   -1.227400500196    0.000000000000\\n C    0.235357938488    0.914315499804    0.000000000000\\n C   -1.020382061512    0.189319499804    0.000000000000\\n H    0.293047938488    1.540397499804    0.889165000000\\n H    0.293047938488    1.540397499804   -0.889165000000\\n O   -0.764566061512   -1.187109500196    0.000000000000\\n C   -1.780727061512    0.539616499804    1.183920000000\\n C   -1.780727061512    0.539616499804   -1.183920000000\\n H    0.170922938488   -1.334316500196    0.000000000000\\n H   -2.723831061512   -0.004880500196   -1.183920000000\\n H   -1.979716061512    1.610281499804   -1.183920000000\\n H   -1.209681061512    0.276531499804   -2.073085000000\\n H   -2.723831061512   -0.004880500196    1.183920000000\\n H   -1.209681061512    0.276531499804    2.073085000000\\n H   -1.979716061512    1.610281499804    1.183920000000\\n\",\"xyz\");\n",
       "\tviewergrid_16267919719132493[0][0].setStyle({\"stick\": {}});\n",
       "\tviewergrid_16267919719132493[0][1].setStyle({\"stick\": {}});\n",
       "\tviewergrid_16267919719132493[0][0].zoomTo();\n",
       "\tviewergrid_16267919719132493[0][1].zoomTo();\n",
       "viewergrid_16267919719132493[0][1].render();\n",
       "viewergrid_16267919719132493[0][0].render();\n",
       "});\n",
       "</script>"
      ],
      "application/3dmoljs_load.v0": "<div id=\"3dmolviewer_16267919719132493\"  style=\"position: relative; width: 640px; height: 480px\">\n        <p id=\"3dmolwarning_16267919719132493\" style=\"background-color:#ffcccc;color:black\">You appear to be running in JupyterLab (or JavaScript failed to load for some other reason).  You need to install the 3dmol extension: <br>\n        <tt>jupyter labextension install jupyterlab_3dmol</tt></p>\n        </div>\n<script>\n\nvar loadScriptAsync = function(uri){\n  return new Promise((resolve, reject) => {\n    var tag = document.createElement('script');\n    tag.src = uri;\n    tag.async = true;\n    tag.onload = () => {\n      resolve();\n    };\n  var firstScriptTag = document.getElementsByTagName('script')[0];\n  firstScriptTag.parentNode.insertBefore(tag, firstScriptTag);\n});\n};\n\nif(typeof $3Dmolpromise === 'undefined') {\n$3Dmolpromise = null;\n  $3Dmolpromise = loadScriptAsync('https://3dmol.org/build/3Dmol.js');\n}\n\nvar viewer_16267919719132493 = null;\nvar warn = document.getElementById(\"3dmolwarning_16267919719132493\");\nif(warn) {\n    warn.parentNode.removeChild(warn);\n}\n$3Dmolpromise.then(function() {\nvar viewergrid_16267919719132493 = null;\nviewergrid_16267919719132493 = $3Dmol.createViewerGrid($(\"#3dmolviewer_16267919719132493\"),{rows: 1, cols: 2, control_all: true},{backgroundColor:\"white\"});\nviewer_16267919719132493 = viewergrid_16267919719132493[0][0];\nviewergrid_16267919719132493[0][0].zoomTo();viewergrid_16267919719132493[0][1].zoomTo();\tviewergrid_16267919719132493[0][0].addModel(\"10\\n\\n O    0.000300188065   -1.319182805008   -0.000158452352\\n C    0.000000188065   -0.089282805008    0.000641547648\\n C    1.281000188065    0.700317194992   -0.000158452352\\n C   -1.281299811935    0.699817194992   -0.000158452352\\n H    1.327900188065    1.321417194992   -0.897958452352\\n H    1.326000188065    1.326117194992    0.894541547648\\n H    2.135100188065    0.017517194992    0.002741547648\\n H   -2.135199811935    0.016617194992    0.002741547648\\n H   -1.328399811935    1.320917194992   -0.897958452352\\n H   -1.326599811935    1.325717194992    0.894541547648\\n\",\"xyz\");\n\tviewergrid_16267919719132493[0][1].addModel(\"20\\n\\n C    2.704544938488    0.455385499804    0.000000000000\\n H    2.704544938488    1.544385499804    0.000000000000\\n C    1.337469938488   -0.027942500196    0.000000000000\\n H    3.217904938488    0.092385499804   -0.889165000000\\n H    3.217904938488    0.092385499804    0.889165000000\\n O    1.114535938488   -1.227400500196    0.000000000000\\n C    0.235357938488    0.914315499804    0.000000000000\\n C   -1.020382061512    0.189319499804    0.000000000000\\n H    0.293047938488    1.540397499804    0.889165000000\\n H    0.293047938488    1.540397499804   -0.889165000000\\n O   -0.764566061512   -1.187109500196    0.000000000000\\n C   -1.780727061512    0.539616499804    1.183920000000\\n C   -1.780727061512    0.539616499804   -1.183920000000\\n H    0.170922938488   -1.334316500196    0.000000000000\\n H   -2.723831061512   -0.004880500196   -1.183920000000\\n H   -1.979716061512    1.610281499804   -1.183920000000\\n H   -1.209681061512    0.276531499804   -2.073085000000\\n H   -2.723831061512   -0.004880500196    1.183920000000\\n H   -1.209681061512    0.276531499804    2.073085000000\\n H   -1.979716061512    1.610281499804    1.183920000000\\n\",\"xyz\");\n\tviewergrid_16267919719132493[0][0].setStyle({\"stick\": {}});\n\tviewergrid_16267919719132493[0][1].setStyle({\"stick\": {}});\n\tviewergrid_16267919719132493[0][0].zoomTo();\n\tviewergrid_16267919719132493[0][1].zoomTo();\nviewergrid_16267919719132493[0][1].render();\nviewergrid_16267919719132493[0][0].render();\n});\n</script>"
     },
     "metadata": {}
    }
   ],
   "metadata": {}
  },
  {
   "cell_type": "code",
   "execution_count": 11,
   "source": [
    "results_dict = {}"
   ],
   "outputs": [],
   "metadata": {}
  },
  {
   "cell_type": "markdown",
   "source": [
    "```{admonition} Exercise 2\n",
    ":class: exercise \n",
    "Compute the energy of reactants and products and calculate the reaction enthalpy at 0 K, $\\Delta H_{0K}$, filling the table above. \n",
    "\n",
    "Use the `6-31+G*` basis set and HF, MP2 as well as the following functionals `blyp`, `mpw1pw91`,`b97-2`,`PBE`, `TPSS`, `M06-L`, `M06-2X`\n",
    "```\n",
    "\n",
    ":::{admonition, margin}\n",
    ":class: tip\n",
    "\n",
    "You can generate a table using python by creating a list of the methods you want to use and iterating over them. \n",
    "As we want to start the geometry optimizations from the same geometries it is important that you always optimize a clone of the original molecule. \n",
    "We can do this by using `mol_to_optimize =  starting_mol.clone()`\n",
    "To display the table you need to store the results in a dictionary. \n",
    "\n",
    "A dictionary in python looks like this: `results_dict = {\"key\": \"value\"}`. The value can be a `str`, `int` or even a `list`. \n",
    "In this case you can update the dictionary for each method iteration like so:\n",
    "`results_dict[method] = [E1, E2, dH, label]`\n",
    "\n",
    "In the end you will have a full dictionary containing all the results which we can nicely print as a pandas dataframe using:\n",
    "\n",
    "`pd.DataFrame.from_dict(data, orient='index', columns=['E_reactant', 'E_product', 'ΔH(0K) [kcal/mol]', 'remark'])`\n",
    ":::"
   ],
   "metadata": {}
  },
  {
   "cell_type": "code",
   "execution_count": null,
   "source": [
    "methods =  [ ]  # add methods here\n",
    "\n",
    "# clone molecules\n",
    "\n",
    "for method in methods:\n",
    "    psi4.core.clean_options() # reset options for each run\n",
    "\n",
    "    if method == \"mp2\": # for the mp2 method we will use the non-density fitted MP2 version which not the default in MP2\n",
    "        psi4.set_options({'mp2_type':'conv'})\n",
    "    # perform geometry optimizations and save into variables\n",
    "\n",
    "    results_dict[method] = None # You can e.g use a list like this [Eprod, Ereact, Ereactionenergy_kcalmol,  \"ψ based\"]"
   ],
   "outputs": [],
   "metadata": {}
  },
  {
   "cell_type": "code",
   "execution_count": 13,
   "source": [
    "psi4.core.clean_options()"
   ],
   "outputs": [],
   "metadata": {}
  },
  {
   "cell_type": "code",
   "execution_count": 1,
   "source": [
    "# You can copy the loop and run it seperately for the  \"ρ based\" DFT\n",
    "# methods\n",
    "\n",
    "#use the following functionals, you can also distribute the work among yourselves. \n",
    "\n",
    "methods =  ['blyp', 'mpw1pw91','b97-2','PBE', 'TPSS', 'M06-L', 'M06-2X']\n"
   ],
   "outputs": [],
   "metadata": {}
  },
  {
   "cell_type": "code",
   "execution_count": 10,
   "source": [
    "# we insert the reference here\n",
    "results_dict['reference'] = ['-','-', -10.5, 'exp']"
   ],
   "outputs": [],
   "metadata": {}
  },
  {
   "cell_type": "code",
   "execution_count": null,
   "source": [
    "# print out dictionary nicely \n",
    "# you can also print it to latex code by adding .to_latex() and using \\usepackage{booktabs}\n",
    "pd.DataFrame.from_dict(results_dict, orient='index', columns=['E_reactant', 'E_product', 'ΔH(0K) [kcal/mol]', 'remark'])"
   ],
   "outputs": [],
   "metadata": {}
  },
  {
   "cell_type": "markdown",
   "source": [
    "\n",
    "```{admonition} Exercise 3\n",
    ":class: exercise \n",
    "What kind of basis set did we use? On which atoms will polarization and diffuse functions be included?\n",
    "```\n",
    "\n",
    "```{admonition} Exercise 4\n",
    ":class: exercise \n",
    "Comment on the performance of the wavefunction based methods and DFT\n",
    "    for this reaction. Can you imagine why some DFT methods perform\n",
    "    better than others? How does DFT compare to MP2 and HF? Would you\n",
    "    expect the exchange-correlation functionals to give similar errors\n",
    "    in different systems?\n",
    "```\n",
    "\n",
    "```{admonition} Exercise 5\n",
    ":class: exercise \n",
    "An often cited target for the development of exchange-correlation\n",
    "    functionals is an error below *chemical accuracy*, *i.e.* within 1\n",
    "    kcal mol $^{-1}$ of the accurate result. A coupled-cluster based\n",
    "    scheme called CBS-QB3 predicted $\\Delta H_{0K} = -9.2$ kcal\n",
    "    mol$^{-1}$ for this reaction. In light of this, explain the accuracy\n",
    "    of the results that you obtained.\n",
    "```\n",
    "\n",
    "```{admonition} Exercise 6\n",
    ":class: exercise \n",
    "Why is it important to construct the starting material and the\n",
    "    product in a specific conformation, although one is carrying out a\n",
    "    geometry optimisation for both species?\n",
    "```"
   ],
   "metadata": {}
  }
 ],
 "metadata": {
  "hide_input": false,
  "kernelspec": {
   "display_name": "iesm",
   "language": "python",
   "name": "iesm"
  },
  "language_info": {
   "codemirror_mode": {
    "name": "ipython",
    "version": 3
   },
   "file_extension": ".py",
   "mimetype": "text/x-python",
   "name": "python",
   "nbconvert_exporter": "python",
   "pygments_lexer": "ipython3",
   "version": "3.7.10"
  },
  "varInspector": {
   "cols": {
    "lenName": 16,
    "lenType": 16,
    "lenVar": 40
   },
   "kernels_config": {
    "python": {
     "delete_cmd_postfix": "",
     "delete_cmd_prefix": "del ",
     "library": "var_list.py",
     "varRefreshCmd": "print(var_dic_list())"
    },
    "r": {
     "delete_cmd_postfix": ") ",
     "delete_cmd_prefix": "rm(",
     "library": "var_list.r",
     "varRefreshCmd": "cat(var_dic_list()) "
    }
   },
   "types_to_exclude": [
    "module",
    "function",
    "builtin_function_or_method",
    "instance",
    "_Feature"
   ],
   "window_display": false
  }
 },
 "nbformat": 4,
 "nbformat_minor": 2
}