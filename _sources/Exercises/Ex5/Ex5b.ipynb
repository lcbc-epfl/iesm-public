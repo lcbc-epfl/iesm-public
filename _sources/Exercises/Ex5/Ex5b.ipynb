{
 "cells": [
  {
   "cell_type": "markdown",
   "source": [
    "# Density Functional Theory 2 \n",
    "\n",
    "In this set of exercises, you will assess the performance of various\n",
    "state-of-the-art density functionals in the prediction of geometric\n",
    "properties, and you will again compare your results to both wavefunction\n",
    "theory and experimental data. \n",
    "\n",
    "## Structural Parameters of NO$_3\\cdot$: Performance of DFT, HF and MP2\n",
    "\n",
    "Before diving into the theoretical aspects of exchange-correlation\n",
    "functionals, you will put a representative selection of functionals to\n",
    "good use in a notoriously tricky system, the NO$_3\\cdot$ radical.\n",
    "Nitrite radicals are highly reactive species that are rapidly destroyed\n",
    "by sunlight, but as the sun sets, they start to play an important role\n",
    "in chemical transformations (in what is called the night-time chemistry\n",
    "of the atmosphere) [^radical]. \n",
    "\n",
    "There exist various experimental and theoretical\n",
    "studies of NO$_3\\cdot$ , with the experiment indicating a fully symmetric D$_3^h$\n",
    "structure with equal N-O bond lengths of 1.24 Å and O-N-O bond angles of\n",
    "120$^\\circ$. \n",
    "\n",
    "In this exercise, you will be comparing the performance of\n",
    "various DFT exchange-correlation functionals, Hartree-Fock theory and\n",
    "MP2 in predicting these structural parameters.\n",
    "\n",
    "[^radical]: *Phys. Chem. Chem. Phys.*, **2014**, 16, *19437*"
   ],
   "metadata": {}
  },
  {
   "cell_type": "markdown",
   "source": [
    "First, we'll import the required modules."
   ],
   "metadata": {}
  },
  {
   "cell_type": "code",
   "execution_count": 1,
   "source": [
    "import psi4\n",
    "\n",
    "import sys\n",
    "sys.path.append(\"..\")\n",
    "\n",
    "\n",
    "psi4.set_memory('2 GB')\n",
    "psi4.set_num_threads(2)\n",
    "\n"
   ],
   "outputs": [],
   "metadata": {}
  },
  {
   "cell_type": "code",
   "execution_count": 2,
   "source": [
    "from helpers import *"
   ],
   "outputs": [],
   "metadata": {}
  },
  {
   "cell_type": "markdown",
   "source": [
    "This is our starting geometry."
   ],
   "metadata": {}
  },
  {
   "cell_type": "code",
   "execution_count": 4,
   "source": [
    "radical = psi4.geometry(\"\"\"\n",
    "symmetry c1\n",
    "0 2\n",
    " N     0.000000     0.000000     0.000000\n",
    " O     1.400000     0.000000     0.000000\n",
    " O    -1.000000     1.000000     0.000000\n",
    " O    -1.000000    -1.000000     0.000000\n",
    "\"\"\")\n",
    "\n"
   ],
   "outputs": [],
   "metadata": {}
  },
  {
   "cell_type": "markdown",
   "source": [
    "## HF"
   ],
   "metadata": {}
  },
  {
   "cell_type": "markdown",
   "source": [
    "First, we'll do a hartree fock calculation. As this is a difficult system we make use of a second order SCF convergence method implemented in Psi4. \n",
    "\n",
    "SOSCF makes use of the fact that the energy that we want to minimize in the SCF calculation has a gradient (and a hessian) both with respect to geometry changes and orbital changes. \n",
    "In a standard SCF calculation as you get close to convergence the orbital changes will be very small.  When using SOSCF, Psi4 uses the orbital hessian to make the next orbital step when performing the SCF calculation. In the code, the energy is written as a taylor expansion of orbitals and truncated for all terms higher than second order. This helps in converging tricky systems but requires that one is already close to a minimum. So by setting `soscf` to `true` by default the soscf procedure is switched on when the gradient RMS is below $1.0 \\times 10^{-2}$. By specifying `soscf_max_iter` we increase the number of SOSCF steps from the default of 5 to 20. "
   ],
   "metadata": {}
  },
  {
   "cell_type": "code",
   "execution_count": null,
   "source": [
    "method = \"hf\"\n",
    "\n",
    "psi4.core.set_output_file(f'radical_opt_{method}.log', False)\n",
    "psi4.set_options({'reference':'uhf','guess':'gwh', 'soscf':True, 'soscf_max_iter':20,'maxiter':200})\n",
    "E_hf = psi4.optimize('hf/6-31+G*', molecule=radical)"
   ],
   "outputs": [],
   "metadata": {}
  },
  {
   "cell_type": "code",
   "execution_count": null,
   "source": [
    "E_hf"
   ],
   "outputs": [],
   "metadata": {}
  },
  {
   "cell_type": "markdown",
   "source": [
    "## MP2"
   ],
   "metadata": {}
  },
  {
   "cell_type": "code",
   "execution_count": null,
   "source": [
    "method = \"mp2\"\n",
    "\n",
    "\n",
    "psi4.core.clean_options()\n",
    "psi4.core.set_output_file(f'radical_opt_{method}.log', False)\n",
    "psi4.set_options({'reference':'uhf','guess':'read', 'mp2_type':'conv', 'maxiter':200, 'soscf':True, 'soscf_max_iter':20})\n",
    "E_mp2, wfn = psi4.optimize(f'{method}/6-31+G*', molecule=radical, return_wfn=True)"
   ],
   "outputs": [],
   "metadata": {}
  },
  {
   "cell_type": "code",
   "execution_count": null,
   "source": [
    "E_mp2"
   ],
   "outputs": [],
   "metadata": {}
  },
  {
   "cell_type": "markdown",
   "source": [
    "# Visualizing the orbitals\n",
    "\n",
    "In order to assess the reliability of an electronic structure\n",
    "calculation, it is usually not sufficient to simply glance at the\n",
    "optimised structure and energies. One should as well examine the\n",
    "orbitals. This is also valid for DFT: Although the Kohn-Sham orbitals\n",
    "lack, in a strict sense, any physical interpretation, experience shows\n",
    "that they are *very close* to wavefunction-based single particle\n",
    "orbitals (*cf.* chapter 5.3). Thus, the DFT Kohn-Sham orbitals provide a\n",
    "useful interpretative tool to visualise changes in the electronic\n",
    "structure between different species (or in a chemical transformation),\n",
    "but one should bear in mind that they have to be interpreted with care.\n",
    "\n",
    "Refer to section {ref}`interpretation-orbital` for more details"
   ],
   "metadata": {}
  },
  {
   "cell_type": "markdown",
   "source": [
    "In Psi4 we will use the `frontier_orbitals` setting, which produces `cube` representations of the frontier molecular orbitals. For closed shell species, the highest occupied (HOMO) and the lowest unoccupied (LUMO) alpha orbitals (ie. $\\psi_\\alpha(r)$) are printed, while for open shell species a total of ($4+M_s$) orbitals are printed ($\\alpha$ and $\\beta$ spin for both lowest virtual (LVMO) and highest doubly occupied orbitals (DOMO), along with all singly occupied (SOMO) orbitals).\n",
    "The plot below will print $\\alpha$ spin orbitals in red and $\\beta$ spin orbitals in blue.\n",
    "\n",
    "Unfortuneately, there is a bug in psi4 1.4rc2 when printing cube files for MP2 wavefunctions. We therefore provide you with the necessary cube files which you can visualize using the commands `findCubeFiles(pathToDirectory)` and `showOrbitals(pathToDirectory)`"
   ],
   "metadata": {}
  },
  {
   "cell_type": "markdown",
   "source": [
    "Using cubeprop you can also acces the electron density (`density`), the basis functions (`basis_functions`), the electrostatic potential (`esp`) and the a descriptor calculated from the frontier orbitals which is $f^2(r) = \\rho_{\\text{LUMO}}(r) - \\rho_{\\text{HOMO}}(r)$ (`dual_descriptor`). This descriptor is a good measure of nucleophilicity and electrophilicity and is like both Fukui functions combined."
   ],
   "metadata": {}
  },
  {
   "cell_type": "code",
   "execution_count": 9,
   "source": [
    "# This is the code to get the cube files printed, \n",
    "# Due to a bug in Psi4 for mp2 those files are provided to you in the mp2-cube folder.\n",
    "\n",
    "#psi4.set_options({'cubeprop_tasks':['frontier_orbitals']})\n",
    "#psi4.cubeprop(wfn)"
   ],
   "outputs": [],
   "metadata": {}
  },
  {
   "cell_type": "code",
   "execution_count": 10,
   "source": [
    "orbitals = findCubeFiles('./mp2-cube/')\n",
    "show_orbitals(wd='./mp2-cube/', mol=radical)"
   ],
   "outputs": [
    {
     "output_type": "display_data",
     "data": {
      "application/vnd.jupyter.widget-view+json": {
       "model_id": "c5b52f3c06c94fe98c46a2956eca6af6",
       "version_major": 2,
       "version_minor": 0
      },
      "text/plain": [
       "interactive(children=(Dropdown(description='Orbital:', index=1, options=('LVMO', 'SOMO', 'DOMO'), value='SOMO'…"
      ]
     },
     "metadata": {}
    }
   ],
   "metadata": {}
  },
  {
   "cell_type": "code",
   "execution_count": 11,
   "source": [
    "drawXYZ_labeled(radical)"
   ],
   "outputs": [
    {
     "output_type": "display_data",
     "data": {
      "text/html": [
       "<div id=\"3dmolviewer_16267912457531056\"  style=\"position: relative; width: 400px; height: 400px\">\n",
       "        <p id=\"3dmolwarning_16267912457531056\" style=\"background-color:#ffcccc;color:black\">You appear to be running in JupyterLab (or JavaScript failed to load for some other reason).  You need to install the 3dmol extension: <br>\n",
       "        <tt>jupyter labextension install jupyterlab_3dmol</tt></p>\n",
       "        </div>\n",
       "<script>\n",
       "\n",
       "var loadScriptAsync = function(uri){\n",
       "  return new Promise((resolve, reject) => {\n",
       "    var tag = document.createElement('script');\n",
       "    tag.src = uri;\n",
       "    tag.async = true;\n",
       "    tag.onload = () => {\n",
       "      resolve();\n",
       "    };\n",
       "  var firstScriptTag = document.getElementsByTagName('script')[0];\n",
       "  firstScriptTag.parentNode.insertBefore(tag, firstScriptTag);\n",
       "});\n",
       "};\n",
       "\n",
       "if(typeof $3Dmolpromise === 'undefined') {\n",
       "$3Dmolpromise = null;\n",
       "  $3Dmolpromise = loadScriptAsync('https://3dmol.org/build/3Dmol.js');\n",
       "}\n",
       "\n",
       "var viewer_16267912457531056 = null;\n",
       "var warn = document.getElementById(\"3dmolwarning_16267912457531056\");\n",
       "if(warn) {\n",
       "    warn.parentNode.removeChild(warn);\n",
       "}\n",
       "$3Dmolpromise.then(function() {\n",
       "viewer_16267912457531056 = $3Dmol.createViewer($(\"#3dmolviewer_16267912457531056\"),{backgroundColor:\"white\"});\n",
       "viewer_16267912457531056.zoomTo();\n",
       "\tviewer_16267912457531056.addModel(\"4\\n\\n N    0.092649223047   -0.054027832619    0.000000000000\\n O   -0.049387034503   -1.263238389335    0.000000000000\\n O    1.075119810439    0.665078359930    0.000000000000\\n O   -1.106844426585    0.645459796641    0.000000000000\\n\",\"xyz\");\n",
       "\tviewer_16267912457531056.addLabel(\"0\",{\"position\": {\"x\": 0.09264922304760922, \"y\": -0.054027832619190023, \"z\": 0.0}, \"inFront\": true});\n",
       "\tviewer_16267912457531056.addLabel(\"1\",{\"position\": {\"x\": -0.049387034503364846, \"y\": -1.2632383893376042, \"z\": 0.0}, \"inFront\": true});\n",
       "\tviewer_16267912457531056.addLabel(\"2\",{\"position\": {\"x\": 1.0751198104417592, \"y\": 0.6650783599313785, \"z\": 0.0}, \"inFront\": true});\n",
       "\tviewer_16267912457531056.addLabel(\"3\",{\"position\": {\"x\": -1.1068444265877362, \"y\": 0.6454597966422334, \"z\": 0.0}, \"inFront\": true});\n",
       "\tviewer_16267912457531056.setStyle({\"stick\": {}, \"sphere\": {\"scale\": 0.1}});\n",
       "\tviewer_16267912457531056.setStyle({\"model\": 0},{\"stick\": {\"colorscheme\": \"yellowCarbon\"}, \"sphere\": {\"scale\": 0.1}});\n",
       "\tviewer_16267912457531056.zoomTo();\n",
       "viewer_16267912457531056.render();\n",
       "});\n",
       "</script>"
      ],
      "application/3dmoljs_load.v0": "<div id=\"3dmolviewer_16267912457531056\"  style=\"position: relative; width: 400px; height: 400px\">\n        <p id=\"3dmolwarning_16267912457531056\" style=\"background-color:#ffcccc;color:black\">You appear to be running in JupyterLab (or JavaScript failed to load for some other reason).  You need to install the 3dmol extension: <br>\n        <tt>jupyter labextension install jupyterlab_3dmol</tt></p>\n        </div>\n<script>\n\nvar loadScriptAsync = function(uri){\n  return new Promise((resolve, reject) => {\n    var tag = document.createElement('script');\n    tag.src = uri;\n    tag.async = true;\n    tag.onload = () => {\n      resolve();\n    };\n  var firstScriptTag = document.getElementsByTagName('script')[0];\n  firstScriptTag.parentNode.insertBefore(tag, firstScriptTag);\n});\n};\n\nif(typeof $3Dmolpromise === 'undefined') {\n$3Dmolpromise = null;\n  $3Dmolpromise = loadScriptAsync('https://3dmol.org/build/3Dmol.js');\n}\n\nvar viewer_16267912457531056 = null;\nvar warn = document.getElementById(\"3dmolwarning_16267912457531056\");\nif(warn) {\n    warn.parentNode.removeChild(warn);\n}\n$3Dmolpromise.then(function() {\nviewer_16267912457531056 = $3Dmol.createViewer($(\"#3dmolviewer_16267912457531056\"),{backgroundColor:\"white\"});\nviewer_16267912457531056.zoomTo();\n\tviewer_16267912457531056.addModel(\"4\\n\\n N    0.092649223047   -0.054027832619    0.000000000000\\n O   -0.049387034503   -1.263238389335    0.000000000000\\n O    1.075119810439    0.665078359930    0.000000000000\\n O   -1.106844426585    0.645459796641    0.000000000000\\n\",\"xyz\");\n\tviewer_16267912457531056.addLabel(\"0\",{\"position\": {\"x\": 0.09264922304760922, \"y\": -0.054027832619190023, \"z\": 0.0}, \"inFront\": true});\n\tviewer_16267912457531056.addLabel(\"1\",{\"position\": {\"x\": -0.049387034503364846, \"y\": -1.2632383893376042, \"z\": 0.0}, \"inFront\": true});\n\tviewer_16267912457531056.addLabel(\"2\",{\"position\": {\"x\": 1.0751198104417592, \"y\": 0.6650783599313785, \"z\": 0.0}, \"inFront\": true});\n\tviewer_16267912457531056.addLabel(\"3\",{\"position\": {\"x\": -1.1068444265877362, \"y\": 0.6454597966422334, \"z\": 0.0}, \"inFront\": true});\n\tviewer_16267912457531056.setStyle({\"stick\": {}, \"sphere\": {\"scale\": 0.1}});\n\tviewer_16267912457531056.setStyle({\"model\": 0},{\"stick\": {\"colorscheme\": \"yellowCarbon\"}, \"sphere\": {\"scale\": 0.1}});\n\tviewer_16267912457531056.zoomTo();\nviewer_16267912457531056.render();\n});\n</script>"
     },
     "metadata": {}
    }
   ],
   "metadata": {}
  },
  {
   "cell_type": "code",
   "execution_count": null,
   "source": [
    "# Convert molecule coordinates to numpy array\n",
    "r_numpy = radical.to_arrays()[0]*hartree2A \n",
    "\n",
    "print('MP2 values')\n",
    "print(f'r1: {calculate_bond(r_numpy[0], r_numpy[1]):.3f}')\n",
    "print(f'r2: {calculate_bond(r_numpy[0], r_numpy[3]):.3f}')\n",
    "print(f'r3: {calculate_bond(r_numpy[0], r_numpy[2]):.3f}')\n",
    "print(f'O-N-O angle: {calculate_angle(r_numpy[1], r_numpy[0], r_numpy[2]):.3f}')\n",
    "print(f'O-N-O angle: {calculate_angle(r_numpy[3], r_numpy[0], r_numpy[2]):.3f}')"
   ],
   "outputs": [],
   "metadata": {}
  },
  {
   "cell_type": "markdown",
   "source": [
    "## DFT"
   ],
   "metadata": {}
  },
  {
   "cell_type": "markdown",
   "source": [
    "Run the same geometry optimization for two of the following density functionals (where the keyword differs from the functional abbreviation, it is given in parentheses): LDA (SVWN5), BLYP, BP86, PBE, B3LYP, B97-2, M06-L, M06-2X, TPSS, mPW1PW91, wb97x-d. \n",
    "\n",
    "Your assistants will assign to you which functionals to use. For this small system, Hartree-Fock and MP2 will be surprisingly fast; however, you may rest assured that for larger molecules and basis sets, all the DFT methods will outperform MP2 in computational efficiency, with some of them even beating Hartree-Fock"
   ],
   "metadata": {}
  },
  {
   "cell_type": "code",
   "execution_count": null,
   "source": [
    "psi4.core.clean_options()\n",
    "psi4.core.set_output_file(f'radical_opt_{method}.log', False)\n",
    "psi4.set_options({'reference':''}) # Choose a reference here, for DFT it can be Unrestricted KS (uks), restricted (rks) or restricted open shell (roks)\n",
    "E_dft, wfn = psi4.optimize(f'method/basis', molecule=radical, return_wfn=True)"
   ],
   "outputs": [],
   "metadata": {}
  },
  {
   "cell_type": "code",
   "execution_count": 14,
   "source": [
    "psi4.set_options({'cubeprop_tasks':['frontier_orbitals']})\n",
    "psi4.cubeprop(wfn)"
   ],
   "outputs": [],
   "metadata": {}
  },
  {
   "cell_type": "code",
   "execution_count": 15,
   "source": [
    "orbitals = findCubeFiles() # if we provide no path, the function looks in the current directory for the cube files\n",
    "show_orbitals(mol=radical)"
   ],
   "outputs": [
    {
     "output_type": "display_data",
     "data": {
      "application/vnd.jupyter.widget-view+json": {
       "model_id": "97177575ff1f4c9daa61775e3c073a6a",
       "version_major": 2,
       "version_minor": 0
      },
      "text/plain": [
       "interactive(children=(Dropdown(description='Orbital:', index=1, options=('LVMO', 'SOMO', 'DOMO'), value='SOMO'…"
      ]
     },
     "metadata": {}
    }
   ],
   "metadata": {}
  },
  {
   "cell_type": "code",
   "execution_count": null,
   "source": [
    "# Convert molecule coordinates to numpy array\n",
    "r_numpy = radical.to_arrays()[0]*hartree2A \n",
    "\n",
    "print('DFT: B3LYP')\n",
    "print(f'r1: {calculate_bond(r_numpy[0], r_numpy[1]):.3f}')\n",
    "print(f'r2: {calculate_bond(r_numpy[0], r_numpy[3]):.3f}')\n",
    "print(f'r3: {calculate_bond(r_numpy[0], r_numpy[2]):.3f}')\n",
    "print(f'O-N-O angle: {calculate_angle(r_numpy[1], r_numpy[0], r_numpy[2]):.3f}')\n",
    "print(f'O-N-O angle: {calculate_angle(r_numpy[3], r_numpy[0], r_numpy[2]):.3f}')"
   ],
   "outputs": [],
   "metadata": {}
  },
  {
   "cell_type": "markdown",
   "source": [
    "|Method:   |  $\\phi_1$ \\[$^\\circ$\\] |  $\\phi_2$ \\[$^\\circ$\\] |  $\\mathbf{r}_1 (O-N)$ \\[Å\\] |  $\\mathbf{r}_2 (O-N)$ \\[Å\\] |  $\\mathbf{r}_3 (O-N)$ \\[Å\\] |  Symmetry |\n",
    "|----------| ----------------------- | ----------------------- | ---------------------------- |---------------------------- | ---------------------------- | ----------|\n",
    "| Exp.       |          120         |            120         |              1.24    |          1.24                         |1.24       |       D$_3^h$ |"
   ],
   "metadata": {}
  },
  {
   "cell_type": "markdown",
   "source": [
    " ```{admonition} Exercise \n",
    ":class: exercise\n",
    "    Compare the performance of the methods in predicting accurate\n",
    "    structures. For the DFT methods, specify what approximations are\n",
    "    used in the exchange functional (you may refer to {ref}`dfttheory`). Is there a trend relating the complexity\n",
    "    of the exchange-correlation functional (LDA, GGA, hybrid, ...) to\n",
    "    the quality of your results?\n",
    "```"
   ],
   "metadata": {}
  },
  {
   "cell_type": "markdown",
   "source": [
    "```{admonition} Exercise\n",
    ":class: exercise\n",
    "Take a screenshot of the MP2 SOMO and include it in your report. Take a screenshot of one of the DFT SOMOs as well.\n",
    "\n",
    "How do the orbitals differ from each other? How does the symmetry of the SOMO relate to the predicted structure?\n",
    "```"
   ],
   "metadata": {}
  },
  {
   "cell_type": "markdown",
   "source": [
    " ```{admonition} Exercise\n",
    ":class: exercise\n",
    "Explain the difference between static and dynamic correlation. Relate this to the different results you obtained for the nitrate radical. What kind of correlation do HF, MP2 and DFT take into account?\n",
    "```"
   ],
   "metadata": {}
  },
  {
   "cell_type": "markdown",
   "source": [
    "```{admonition} Exercise\n",
    ":class: exercise\n",
    "If you needed a highly accurate structure and energy for  NO$_3\\cdot$, which method would you use?\n",
    "```"
   ],
   "metadata": {}
  }
 ],
 "metadata": {
  "hide_input": false,
  "kernelspec": {
   "display_name": "iesm",
   "language": "python",
   "name": "iesm"
  },
  "language_info": {
   "codemirror_mode": {
    "name": "ipython",
    "version": 3
   },
   "file_extension": ".py",
   "mimetype": "text/x-python",
   "name": "python",
   "nbconvert_exporter": "python",
   "pygments_lexer": "ipython3",
   "version": "3.7.10"
  },
  "varInspector": {
   "cols": {
    "lenName": 16,
    "lenType": 16,
    "lenVar": 40
   },
   "kernels_config": {
    "python": {
     "delete_cmd_postfix": "",
     "delete_cmd_prefix": "del ",
     "library": "var_list.py",
     "varRefreshCmd": "print(var_dic_list())"
    },
    "r": {
     "delete_cmd_postfix": ") ",
     "delete_cmd_prefix": "rm(",
     "library": "var_list.r",
     "varRefreshCmd": "cat(var_dic_list()) "
    }
   },
   "types_to_exclude": [
    "module",
    "function",
    "builtin_function_or_method",
    "instance",
    "_Feature"
   ],
   "window_display": false
  }
 },
 "nbformat": 4,
 "nbformat_minor": 2
}