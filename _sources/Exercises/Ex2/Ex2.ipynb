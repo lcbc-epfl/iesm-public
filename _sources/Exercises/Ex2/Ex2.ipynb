{
 "cells": [
  {
   "cell_type": "markdown",
   "source": [],
   "metadata": {}
  },
  {
   "cell_type": "markdown",
   "source": [
    "# Basis Sets - Defining Vector Spaces\n",
    "\n",
    "Three questions have to be addressed before tackling an electronic\n",
    "structure problem: Which computer code is best suited for a given\n",
    "problem, which computational method will give the most accurate results\n",
    "in a reasonable time, and what basis set offers the best compromise of\n",
    "accuracy and efficiency? Throughout this course, you shall always be\n",
    "using the same code (*Psi4*) - but you will get to try out some\n",
    "of the different approaches discussed in the lecture. Before the first\n",
    "practical example - applying the Hartree-Fock-Roothaan scheme (that you\n",
    "have just treated in the lecture) - to the hydrogen atom, there remains\n",
    "one issue to be resolved: What is the basis in which we want to expand\n",
    "our wavefunction that is described by the in principle infinite\n",
    "expansion \n",
    "\n",
    "$$\n",
    " \\Psi(\\mathbf{r}_1,\\dots,\\mathbf{r}_N) = \\sum_j c_j \\psi_j(\\mathbf{r}_1,\\dots,\\mathbf{r}_N)\n",
    "$$ (wf_expansion)\n",
    "\n",
    "## One-Electron Wavefunctions: Slater-Type Orbitals\n",
    "\n",
    "By defining a basis set, we define a *vector space* in which the\n",
    "Schrödinger equation is to be solved - and we wish this space to be as\n",
    "close as possible to the complete space that defines the accurate\n",
    "solution. You have already seen that the Hartree-Fock scheme makes a\n",
    "convenient (but not always accurate) approximation to $\\Psi$, in that it\n",
    "is assumed that one Slater determinant is enough to accurately describe\n",
    "the problem. Therefore, in Hartree-Fock theory, the {eq}`wf_expansion` reduces to:\n",
    "\n",
    "$$\n",
    " \\Psi(\\mathbf{r}_1,\\dots,\\mathbf{r}_N) = \\psi(\\mathbf{r}_1,\\dots,\\mathbf{r}_N),\n",
    "$$ (HF_wf)\n",
    "\n",
    "where\n",
    "\n",
    "$$ \n",
    " \\psi(\\mathbf{r}_1,\\dots,\\mathbf{r}_N) = \\det\\left|\\phi_1(\\mathbf{r}_1),\\dots,\\phi_N(\\mathbf{r}_N)\\right|\n",
    "$$ (slater_det)\n",
    "\n",
    "is a Slater determinant to account for the antisymmetry requirement as\n",
    "discussed in the preceeding chapter, and the $\\left\\{\\phi\\right\\}$ are\n",
    "one-electron orbitals. Although an expression for the many-electron\n",
    "wavefunction in terms of one-particle wavefunctions is now given, the\n",
    "latter are not yet specified. An intuitive approach to the one-electron\n",
    "orbitals may be based on the *LCAO* (Linear Combination of Atomic\n",
    "Orbitals) theory, where one-particle molecular orbitals are formed from\n",
    "one-particle atomic orbitals. This implies that $\\phi_m(\\mathbf{r}_m)$\n",
    "will be expanded in terms of all *atomic one-particle orbitals* of the\n",
    "system, a set of *atomic basis functions* \n",
    "\n",
    "$$\n",
    " \\phi_m(\\mathbf{r}_m) = \\sum_n D_{mn} \\chi_n(\\mathbf{r}_m),\n",
    "$$ (LCAO)\n",
    "\n",
    "where the $\\left\\{\\chi\\right\\}$ are the atomic orbitals and $D_{mn}$ is\n",
    "the expansion coefficient (the contribution) of the n$^{th}$ atomic\n",
    "orbital to the single-particle molecular orbital $\\phi_m$. As the\n",
    "Hartree-Fock many-electron wavefunction is expressed as a single Slater\n",
    "determinant, the coefficients $c_j$ as defined in the introduction\n",
    "vanish, and the only coefficients left in the definition are the\n",
    "$D_{mn}$. These are the expansion coefficients that are optimised in a\n",
    "Hartree-Fock calculation.\\\n",
    " \\\n",
    "Still, the question how to define the single-particle atomic orbitals is\n",
    "not yet resolved. In principle, the condition that there be a cusp at\n",
    "the nuclei and that the orbital fall off exponentially at large\n",
    "distances from the nuclei dictates a certain form. One suitable form was\n",
    "proposed by Slater in the 30ies of the last century: \n",
    "\n",
    "$$\n",
    " \\chi_{\\xi,n,l,m}(\\mathbf{r},\\theta,\\phi) = N \\cdot Y_{lm}(\\theta,\\phi)\\cdot r^{n-1}\\cdot e^{-\\zeta r}\n",
    "$$ (STO)\n",
    "\n",
    "A Slater-type orbital is composed of an angular part that is taken from\n",
    "the exact solution of the hydrogen atom $Y_{lm}$ (the spherical\n",
    "harmonics), an exponential part (to ensure the right long-range decay)\n",
    "and a polynomial. However, products of these functions will need to be\n",
    "evaluated - and these are impractically expensive to compute. It is\n",
    "therefore more convenient to choose basis functions that offer some\n",
    "computational advantages. *Gaussian functions* would be especially\n",
    "suited, as products of Gaussians will simply yield another Gaussian that\n",
    "is placed off the initial centres. Frank Boys therefore proposed to\n",
    "approximate Slater-type orbitals with a linear combination of\n",
    "Gaussian-type functions. These Gaussian-type basis functions are\n",
    "referred to as *contraction functions*. This implies that the atomic\n",
    "basis function $\\chi$ is in turn defined by several basis functions (the\n",
    "term contraction is chosen to avoid confusion between the atomic basis\n",
    "functions, and the linear combination of Gaussians they are based upon):\n",
    "\n",
    "$$\n",
    " \\chi_{\\xi,n,l,m}^{STO-3G}(\\mathbf{r},\\theta,\\phi) = \\sum_{i=1}^3 d_i \\cdot N_i \\cdot Y_{lm}(\\theta,\\phi) \\cdot r^{2n-2-l} \\cdot e^{-\\xi_i r^2},\n",
    "$$ (STO-3G)\n",
    "\n",
    "where $N_i$ is a normalisation constant, and $\\xi_i$ is the i$^{th}$\n",
    "prefactor in the exponent that guarantees an optimal fit to the\n",
    "Slater-type orbitals. This defines a *minimal Gaussian basis set* known\n",
    "as *STO-3G* (STO stands for Slater-type orbital and refers to the origin\n",
    "of the Gaussian expansion). The term minimal basis does not refer to the\n",
    "number of contractions, but to the number of basis functions: For each\n",
    "orbital, there is one basis function. Minimal bases create minimal\n",
    "computational overhead, but will often not provide sufficient\n",
    "flexibility to accurately describe the system's wavefunction - there is\n",
    "always a certain trade-off between the desired accuracy and the\n",
    "efficiency of a calculation. For more details, you may refer to the main\n",
    "course script.\n"
   ],
   "metadata": {}
  },
  {
   "cell_type": "markdown",
   "source": [
    "### Pople-Type Split-Valence Basis Sets\n",
    "\n",
    "Core and valence orbitals are equally important for the energetics of a\n",
    "system, but bonding is dictated by the valence electrons. One may\n",
    "therefore want to improve over the STO-3G basis by allowing for\n",
    "additional flexibility in the description of valence electrons. In a\n",
    "*split-valence basis set*, the number of basis functions that is\n",
    "assigned to core orbitals differs from the one for the valence orbitals.\n",
    "Usually, core electrons are described by one function, which is in turn\n",
    "composed of a certain number of Gaussian functions (*i.e.*\n",
    "contractions). For the description of the valence electrons, multiple\n",
    "functions will be included (most often 2 to 6); and every of these\n",
    "functions will in turn be expressed by a varying number of Gaussian\n",
    "contractions.\\\n",
    " \\\n",
    "An example of a split-valence basis set is John Pople's 3-21G. The\n",
    "notation encodes information about the contraction: The number on the\n",
    "left of the hyphen denotes the number of contractions for the core\n",
    "orbitals, which consist of a single basis function per orbital only. The\n",
    "information on the right describes the contraction of the valence\n",
    "orbitals: There are two numbers, hence there are two basis functions\n",
    "$\\chi$ per orbital. These basis functions, in turn, are constructed by\n",
    "two and one Gaussian contraction(s) respectively.\n",
    "\n",
    "\n",
    "```{figure} ../../images/orbitals.png\n",
    "---\n",
    "name: orbitals\n",
    "---\n",
    "Explanation of what the numbers in the 3-21G basis set notation mean. \n",
    "```\n",
    "\n",
    "Consider, as a practical example, carbon with the electronic\n",
    "configuration $1s^22s^22p^2$ in the 3-21G basis. The core orbital (1s)\n",
    "is given by a contraction over <span style=\"color:green\">three</span> Gaussians. \n",
    "\n",
    "$$\n",
    " \\chi(1s)=\\sum_{k=1}^3 \\alpha_{1s,k}\\mathrm{e}^{-\\zeta_{1s,k}\\mathbf{r}^2}\n",
    "$$ (example_C_core)\n",
    "\n",
    "To every valence orbital (2s and 2p), one function containing <span style=\"color:blue\"> two </span>\n",
    "  Gaussians and one function containing\n",
    "<span style=\"color:red\"> one </span> Gaussian is attributed. \n",
    "\n",
    "$$\n",
    "\\begin{aligned}\n",
    "\\begin{split}\n",
    "\\chi(2s)^{(2)} & = \\sum_{k=1}^2 \\alpha_{2s,k} \\ \\mathrm{e}^{-\\zeta_{2s,k}\\mathbf{r}^2} \\\\\n",
    "\\chi(2s)^{(1)} & = \\alpha'_{2s} \\ \\mathrm{e}^{-\\zeta'_{2s}\\mathbf{r}^2}\n",
    "\\end{split}\n",
    "\\end{aligned}\n",
    "$$ (example_C_valence1)\n",
    "\n",
    "$$\n",
    "\\begin{aligned}\n",
    "\\begin{split}\n",
    "\\chi(2p)^{(2)}_{\\Gamma} & = \\sum_{k=1}^2 \\alpha_{2p,k} \\ \\Gamma_p(\\mathbf{r}) \\ \\mathrm{e}^{-\\zeta_{2p,k}\\mathbf{r}^2} \\\\\n",
    "\\chi(2p)^{(1)}_{\\Gamma}  & =\\alpha'_{2p} \\ \\Gamma_p(\\mathbf{r}) \\ \\mathrm{e}^{-\\zeta'_{2p}\\mathbf{r}^2}\n",
    "\\end{split}\n",
    "\\end{aligned}\n",
    "$$ (example_C_valence2)\n",
    "\n",
    "\n",
    "where $\\Gamma_p(\\mathbf{r})=x,y,z$ accounts\n",
    "for orbitals $p_x$, $p_y$, $p_z$. Fixed coefficients are added in front\n",
    "of each Gaussian, denoted by $\\alpha$.\\\n",
    "For each atom, there are individual sets of parameters $\\alpha$ and\n",
    "$\\zeta$, which were determined back when the basis set was designed.\n",
    "These contraction parameters are *never* changed during an electronic\n",
    "structure calculation. Recall that the molecular one-electron\n",
    "wavefunctions are variable linear combinations of *fixed* atomic\n",
    "orbitals; changing the contraction parameters during the calculation\n",
    "would change and therefore mess up the atomic basis functions. The\n",
    "values for standard basis sets are usually hard-coded in the electronic\n",
    "structure codes. \n",
    "\n",
    "For instance, *Psi4* represents the basis set\n",
    "parameters in the following format:\n",
    "\n",
    "\n",
    "```{figure} ../../images/basis_set_param_noted.png\n",
    "---\n",
    "name: basis_set_param\n",
    "---\n",
    "Example of a basis set parameter file\n",
    "```\n",
    "\n",
    "which are the 3-21G basis set parameters for a carbon atom (from https://github.com/psi4/psi4/blob/master/psi4/share/psi4/basis/3-21g.gbs).   \n",
    "The $S$ entry contains information about the core, the $SP$ entries about the valence orbitals. The first number after $S$ or $SP$ refers to the index of the contraction $k$, the column below gives the contraction parameters\n",
    "$\\zeta_k$, the second column gives the $\\alpha_{s,k}$ and the third the\n",
    "$\\alpha_{p,k}$. Note that if there is just one contraction, then\n",
    "$\\alpha_{l,1} = 1$. In general, s and p orbitals do not differ in\n",
    "$\\zeta_k$, but just in $\\alpha_{l,k}$.\n",
    "\n"
   ],
   "metadata": {}
  },
  {
   "cell_type": "markdown",
   "source": [
    "```{admonition} Exercise 1\n",
    ":class: exercise \n",
    "A minimal basis set...\\\n",
    "    a) ...always gives the lowest energy.\\\n",
    "    b) ...is optimized for small molecules.\\\n",
    "    c) ...contains one basis function for each atomic orbital only.\n",
    "```\n",
    "\n",
    "\n",
    "```{admonition} Exercise 2\n",
    ":class: exercise \n",
    "A split-valence basis set...\\\n",
    "    a) ...contains two basis functions for each valence atomic orbital.\\\n",
    "    b) ...doubles the CPU time of the calculation.\\\n",
    "    c) ...attributes a different number of basis functions to valence and\n",
    "    core orbtials.\n",
    "```\n",
    "\n",
    "\n",
    "```{admonition} Exercise 3\n",
    ":class: exercise \n",
    "Which of the following basis sets does not contain polarisation functions?\\\n",
    "    a) 6-31G$^\\ast$\\\n",
    "    b) 6-31G(d,p)\\\n",
    "    c) 3-21+G\\\n",
    "    d) DZP\n",
    "```\n",
    "\n",
    "\n",
    "```{admonition} Exercise 4\n",
    ":class: exercise \n",
    "Diffuse functions are added to a basis set to...\\\n",
    "    a) ...save CPU time.\\\n",
    "    b) ...better represent electronic effects at larger distances from the nuclei.\\\n",
    "    c) ...take polarisation into account.\\\n",
    "    d) ...enhance the description of core orbitals.\n",
    "```\n",
    "\n",
    "\n",
    "```{admonition} Exercise 5\n",
    ":class: exercise \n",
    "Using the information given about the 3-21G contraction coefficients:\\\n",
    "    a) Give the basis functions corresponding to the 1s, 2s and 2p orbitals of Carbon (**Hint**: use information from **Fig. 2.2**).\\\n",
    "    b) If you wish to calculate the Hartree-Fock energy of a carbon atom,\n",
    "    how many coefficients are *optimised* during the calculation?\n",
    "```\n",
    "\n",
    "\n",
    "```{admonition} Exercise 6\n",
    ":class: exercise \n",
    "You wish to calculate the wavefunction of ethylene C$_2$H$_2$ using the 6-31G\\* basis. \\\n",
    "   Indicate the number of basis functions and the number of Gaussian primitives that will be used in the calculation.\n",
    "```"
   ],
   "metadata": {}
  },
  {
   "cell_type": "markdown",
   "source": [
    "# First Steps in *Psi4*: The Hydrogen Atom\n",
    "\n",
    "You will learn how to use *Psi4* by putting your hands on a simple\n",
    "example: The total energy of the hydrogen atom in Hartree-Fock theory.\n",
    "This is a tutorial - you are not only invited to type the commands that\n",
    "are being introduced, you are obliged to.\n",
    "\n",
    "## Electronic Structure Software\n",
    "\n",
    "*Ab initio* electronic structure software packages make it possible to\n",
    "calculate numerically a variety of properties of a given system, based\n",
    "only on physical constants and the system's Hamiltonian. The only\n",
    "approximations that need to be made are in the method and basis set that\n",
    "have to be chosen, in order to allow for a reasonable computational\n",
    "time. (The stronger your workstation, the more approximations you may\n",
    "drop, and the more elaborate your approach can be.) There are plenty of\n",
    "*ab initio* quantum chemical packages on the market; they differ in\n",
    "their capabilities, license policy and pricing. Widley used packages\n",
    "include GAMESS US, turbomole, DALTON, CP2K, CPMD and the Gaussian set of\n",
    "programs.\n",
    "\n",
    "*Psi4* is a free and open-source ab initio electronic structure program providing implementations of Hartree–Fock, density functional theory, many-body perturbation theory, configuration interaction, density cumulant theory, symmetry-adapted perturbation theory, and coupled-cluster theory. Most of the methods are quite efficient, thanks to density fitting and multi-core parallelism. The program is a hybrid of C++ and Python, and calculations may be run with very simple text files or using the Python API, facilitating post-processing and complex workflows. [Reference: Smith DG, *et al.* PSI4 1.4: Open-source software for high-throughput quantum chemistry. *The Journal of chemical physics* (2020) DOI: https://doi.org/10.1063/5.0006002 ]\n",
    "\n",
    "The current version of *Psi4*  that you will be using is v1.4rc1. "
   ],
   "metadata": {}
  },
  {
   "cell_type": "markdown",
   "source": [
    "## Preliminary steps\n",
    "\n",
    "Before starting to work with *Psi4* we need to set up the environment, importing the required modules:"
   ],
   "metadata": {}
  },
  {
   "cell_type": "code",
   "execution_count": 2,
   "source": [
    "import psi4\n",
    "import pandas as pd\n",
    "import numpy as np\n",
    "import matplotlib.pyplot as plt\n",
    "\n",
    "plt.style.use(['seaborn-poster', 'seaborn-ticks'])"
   ],
   "outputs": [],
   "metadata": {}
  },
  {
   "cell_type": "markdown",
   "source": [
    "then we can also set the maximum resources that can be used, specifying the available memory for *Psi4* to use with the `psi4.set_memory()` function, and the number of threads to use in SMP parallel computations with the `psi4.set_num_threads()` function"
   ],
   "metadata": {}
  },
  {
   "cell_type": "code",
   "execution_count": 3,
   "source": [
    "psi4.set_memory('2 GB')\n",
    "psi4.set_num_threads(2)"
   ],
   "outputs": [],
   "metadata": {}
  },
  {
   "cell_type": "markdown",
   "source": [
    "## Writing An Input For *Psi4* and Invoking the Program\n",
    "\n",
    "The geomety of the $H$ atom can now be defined, passing it as a string into the `psi4.geometry()` function in either Z-matrix (see note below) or Cartesian format, where the triple-quote `\"\"\"string\"\"\"` syntax is used to allow the string to break over multiple lines. "
   ],
   "metadata": {}
  },
  {
   "cell_type": "code",
   "execution_count": 4,
   "source": [
    "h = psi4.geometry(\"\"\"\n",
    "0 2\n",
    "H 0.0 0.0 0.0\n",
    "\"\"\")"
   ],
   "outputs": [],
   "metadata": {}
  },
  {
   "cell_type": "markdown",
   "source": [
    "Where the first line contains the total charge of the system (0), followed by the spin multiplicity (2), and the following lines contain all the atoms of your system, one atom per line."
   ],
   "metadata": {}
  },
  {
   "cell_type": "markdown",
   "source": [
    ":::{admonition} Atomic coordinates representation\n",
    ":class: dropdown\n",
    "\n",
    "* **Z-matrix**: each line gives the coordinates of a single atom in terms of its internal coordinates (atomic number, bond length, bond angle, and dihedral angle). As example, the Z-matrix for hydrogen peroxide is reported:\n",
    "\n",
    "```\n",
    "H\n",
    "O 1 0.9\n",
    "O 2 1.4 1 105.0\n",
    "H 3 0.9 2 105.0 1 120.0\n",
    "```\n",
    "\n",
    "The first line defines the fistr atom, a H in this case. The next line defines the second atom, an O, and specifies the internuclear distance (0.9Å) with the first atom (1). The next line defines the third atom, another O, and specifies the internuclear distance (1.4Å) with the second atom (2) and the angle (105.0°) with atom 2 and atom 1 (O-O-H angle). The last line defines the fourth atom, another H,  and specifies the internuclear distance (0.9Å) with the third atom (3), the angle (105.0°) with atom 3 and atom 2 (H-O-O angle), and the dihedral angle  (120.0°) with atom 3, 2, and 1 (H-O-O-H angle).\\\n",
    "Note that if more atoms would be present, it would be needed to specify for each of them the value for  internuclear distance, angle and dihedral with other atoms previously defined.\n",
    "\n",
    "\n",
    "* **Cartesian coordinates**: each line gives the $x$, $y$, and $z$ coordinates of a single atom, with respect to the origin of the cartesian axes. The Cartesian coordinates for hydrogen peroxide result:\\\n",
    "\n",
    "```\n",
    "H 0.000 0.000 0.000\n",
    "O 0.900 0.000 0.000\n",
    "O 1.262 1.352 0.000\n",
    "H 1.742 1.465 0.753\n",
    "```\n",
    "Note that Z-matrices can be converted to Cartesian coordinates and back, as the structural information content is identical.\n",
    ":::"
   ],
   "metadata": {}
  },
  {
   "cell_type": "markdown",
   "source": [
    "The energy of the system can be computed using the function `psi4.energy()`, passing as first argument a string with the desired method and the basis set (`'METHOD/BASIS'`), and the target molecule as second argument. The ouput is the total electronic energy in Hartree.\n",
    "\n",
    "Calling `psi4.energy()` will perform a so called single point calculation and will not change the geometry. During the calculation the program will perform a wavefunction optimization to find the lowest energy combination of wavefunction coefficients. "
   ],
   "metadata": {}
  },
  {
   "cell_type": "code",
   "execution_count": 5,
   "source": [
    "basissets = ['STO-3G', '6-31G', '6-311G'] # these are the basis sets we are going to use\n",
    "\n",
    "psi4.set_options({'reference':'UHF'}) # We are using Unrestriced Hartee Fock\n",
    "\n",
    "for basis in basissets:\n",
    "    psi4.core.set_output_file(f'{basis}-output.log', False) # save in seperate log files\n",
    "    E = psi4.energy(f'hf/{basis}', molecule=h)  # we do the single point energy calculation once per basis set\n",
    "\n",
    "    print(basis, E)"
   ],
   "outputs": [
    {
     "output_type": "stream",
     "name": "stdout",
     "text": [
      "STO-3G -0.4665818495572754\n",
      "6-31G -0.4982329107290703\n",
      "6-311G -0.4998098152732822\n"
     ]
    }
   ],
   "metadata": {}
  },
  {
   "cell_type": "markdown",
   "source": [
    "```{admonition} Exercise 7\n",
    ":class: exercise \n",
    "Include a table of the the calculated energies using the three different basis sets, specifying the number of basis functions used. Compare the energies with the analytical value for the H atom, given by the analytical expression: \n",
    "\n",
    "$$\n",
    " E = \\frac{1}{2} m_e c^2\\alpha^2,\n",
    "$$\n",
    "where $\\alpha$ is the fine structure constant. \n",
    "\n",
    "$$\\begin{align}\n",
    "m_e = 0.910953\\cdot10^{-30} kg\\\\\n",
    "c = 2.99792458\\cdot10^8 m s^{-1}\\\\\n",
    "\\alpha = 7.2973525376\\cdot10^{-3}\\\\\n",
    "N_A = 6.0221367\\cdot10^{23}mol^{-1}\n",
    "\\end{align}$$\n",
    "Pay attention to the units - use atomic units or kcal$\\cdot$mol$^{-1}$ throughout!\n",
    "```\n",
    "\n",
    "```{admonition} Exercise 8\n",
    ":class: exercise \n",
    "What is the influence of the basis set size on the accuracy of the result? How do the split-valence bases compare to STO-3G?\n",
    "```"
   ],
   "metadata": {}
  },
  {
   "cell_type": "markdown",
   "source": [
    "# RHF vs. UHF\n",
    "\n",
    "This exercise is already a preparation for the next set of exercises -\n",
    "you will now calculate a molecular structure, rather than an isolated\n",
    "atom. Using the same basis throughout (6-31G), you should compare $H_2$\n",
    "at equilibrium distance (0.7414 Å) and at a larger distance of 5.6 Å at\n",
    "two different levels of Hartree-Fock: Restricted Hartree-Fock (RHF) and\n",
    "Unrestricted Hartree-Fock (UHF). \n",
    "\n",
    "Define the geometry for the $H_2$ molecule at the equilibrium distance and at the larger distance. Note the change in  the spin multiplicity, from 2 to 1."
   ],
   "metadata": {}
  },
  {
   "cell_type": "code",
   "execution_count": 6,
   "source": [
    "h2_eq = psi4.geometry(\"\"\"\n",
    "0 1\n",
    "symmetry c1\n",
    "H 0.0 0.0 0.0\n",
    "H 0.0 0.0 0.7414\n",
    "\"\"\")\n",
    "\n",
    "h2_large = psi4.geometry(\"\"\"\n",
    "0 1\n",
    "symmetry c1\n",
    "H 0.0 0.0 0.0\n",
    "H 0.0 0.0 5.6000\n",
    "\"\"\")"
   ],
   "outputs": [],
   "metadata": {}
  },
  {
   "cell_type": "markdown",
   "source": [
    "The energy of the system can be computed as before (for each new calculation, be sure to have always a new output file to avoid overwriting files).\n"
   ],
   "metadata": {}
  },
  {
   "cell_type": "code",
   "execution_count": null,
   "source": [
    "#h2_eq\n",
    "print('Equilibrium distance:')\n",
    "\n",
    "psi4.core.set_output_file(f'eq_RHF-output.log', False) # save in seperate log files\n",
    "psi4.set_options({'reference':'rhf', 'guess_mix':\"False\"})\n",
    "E_RHF = psi4.energy('hf/6-31G', molecule=h2_eq)\n",
    "print('RHF: ', E_RHF)\n",
    "\n",
    "psi4.core.set_output_file(f'eq_UHF-output.log', False) # save in seperate log files\n",
    "psi4.set_options({'reference':'uhf', 'guess':'gwh', 'guess_mix':\"True\"})\n",
    "E_UHF = psi4.energy('hf/6-31G', molecule=h2_eq)\n",
    "print('UHF: ', E_UHF)\n",
    "    \n",
    "    \n",
    "#h2_large\n",
    "print('Large distance:')\n",
    "psi4.core.set_output_file(f'large_RHF-output.log', False) # save in seperate log files\n",
    "psi4.set_options({'reference':'rhf', 'guess_mix':\"False\"})\n",
    "E_RHF = psi4.energy('hf/6-31G', molecule=h2_large)\n",
    "print('RHF: ', E_RHF)\n",
    "\n",
    "psi4.core.set_output_file(f'large_UHF-output.log', False) # save in seperate log files\n",
    "psi4.set_options({'reference':'uhf', 'guess':'gwh', 'guess_mix':\"True\"})\n",
    "E_UHF = psi4.energy('hf/6-31G', molecule=h2_large)\n",
    "print('UHF: ', E_UHF)"
   ],
   "outputs": [],
   "metadata": {}
  },
  {
   "cell_type": "markdown",
   "source": [
    "```{admonition} Exercise 9\n",
    ":class: exercise \n",
    "Include a table of the the calculated energies using the two reference wafefunctions. Compute also their difference, for both bond distances.\\\n",
    "The energy to break a chemical bond is usually between 20 and 100 kcal/mol. Explain the roots and physical origin of the difference $E_{UHF-RHF}$ (in your own words). Why is the energy gap between UHF and RHF larger at a larger bond distance?\n",
    "```"
   ],
   "metadata": {}
  },
  {
   "cell_type": "markdown",
   "source": [
    "# Output Files \n",
    "\n",
    "So far we only focused on the energy given as ouput from the `psi4.energy()` function. However, for each calculation a .log file is produced, containing detailed information of the procedure.\n",
    "\n",
    "List the files in your directory (type `ls` in your terminal) to see what new files have been generated. Indeed,\n",
    "you should find the .log files created by Psi4. As this files may be very large and we have no intention of editing it, you may use `less` to display it. \n",
    "\n",
    "As example, type `less` followed by the name of the last .log file created (*large_UHF-output.log*):"
   ],
   "metadata": {}
  },
  {
   "cell_type": "markdown",
   "source": [
    ":::{admonition} Terminal commands in Jupyter Notebooks\n",
    ":class: dropdown\n",
    "\n",
    "You can access the terminal on JupyterHub by clicking on the plus icon in the toolbar and launching a new terminal in the `Quantum Chemistry` environment. This allows you to navigate the file system (e.g using `cd` and `ls`), to view files (using `less`, `tail`, `head`) or to edit files (using `vi` or `nano`). \n",
    "\n",
    "In Jupyter Notebooks you can also execute terminal commands by prefixing them with `!` and running them inside a python cell. In the actual terminal commands do not need a prefix.\n",
    "\n",
    "You can even use python variables for this: \n",
    "\n",
    "```\n",
    "myvariable = 'searchstring'  # this is python\n",
    "!grep $myvariable filetosearch.txt \n",
    "```\n",
    "The upper command will search the file `filetosearch.txt` for occurence of the contents of the variable and return them. \n",
    ":::"
   ],
   "metadata": {}
  },
  {
   "cell_type": "code",
   "execution_count": 1,
   "source": [
    "!less large_UHF-output.log"
   ],
   "outputs": [
    {
     "output_type": "stream",
     "name": "stdout",
     "text": [
      "\u001b7\u001b[?47h\u001b[?1h\u001b=\n",
      "*** tstart() called on Zeus\n",
      "*** at Mon Jun 28 08:53:04 2021\n",
      "\n",
      "   => Loading Basis Set <=\n",
      "\n",
      "    Name: 6-31G\n",
      "    Role: ORBITAL\n",
      "    Keyword: BASIS\n",
      "    atoms 1-2 entry H          line    26 file /root/miniconda3/envs/iesm/share/psi4/basis/6-31g.gbs \n",
      "\n",
      "\n",
      "         ---------------------------------------------------------\n",
      "                                   SCF\n",
      "               by Justin Turney, Rob Parrish, Andy Simmonett\n",
      "                          and Daniel G. A. Smith\n",
      "                              UHF Reference\n",
      "                        4 Threads,   1907 MiB Core\n",
      "         ---------------------------------------------------------\n",
      "\n",
      "  ==> Geometry <==\n",
      "\n",
      "\u001b[K:\u001b[Kge_UHF-output.log\u001b[m\u001b[K\u0007"
     ]
    }
   ],
   "metadata": {}
  },
  {
   "cell_type": "markdown",
   "source": [
    "When using the terminal, after typing `less` you may ‘jump’ through the file using the enter key, or you may directly drop to its end using a capital `G` (i.e. shift and g). Pop back to the top by typing a lowercase `g`. For a more finely tuned navigation, simply resort to the arrow keys. Typing `/` followed by a word will jump to said word in the file and pressing `n` will make you go through all the occurrences of that word in the file.\n",
    "\n",
    "If you are interested in extracting the lines of a file containing one particular keyword another useful command is `grep`.\n",
    "For example, considering again the last .log file created, it is possible to extract the final energy with the command:"
   ],
   "metadata": {}
  },
  {
   "cell_type": "code",
   "execution_count": 3,
   "source": [
    "!grep 'Final Energy' large_UHF-output.log"
   ],
   "outputs": [
    {
     "output_type": "stream",
     "name": "stdout",
     "text": [
      "  @DF-UHF Final Energy:    -0.99646589192706\r\n"
     ]
    }
   ],
   "metadata": {}
  },
  {
   "cell_type": "markdown",
   "source": [
    "```{admonition} Exercise 10\n",
    ":class: exercise\n",
    "Have a look at the log files produced so far and answer the following questions:\n",
    "1.  What is the significance of the statement *Energy and wave function converged*?\n",
    "\n",
    "2.  What is the meaning of the different *iter* preceding *Energy and wave function converged*? \n",
    "    Compare the number of cycles for the different basis sets.\n",
    "```"
   ],
   "metadata": {}
  },
  {
   "cell_type": "markdown",
   "source": [
    "```{admonition} Exercise 11\n",
    ":class: exercise\n",
    "Why did we have to change the spin multiplicity when moving from an atom to a molecule? How do you calculate the spin multiplicity of a species?\n",
    "```"
   ],
   "metadata": {}
  }
 ],
 "metadata": {
  "kernelspec": {
   "display_name": "iesm",
   "language": "python",
   "name": "iesm"
  },
  "language_info": {
   "codemirror_mode": {
    "name": "ipython",
    "version": 3
   },
   "file_extension": ".py",
   "mimetype": "text/x-python",
   "name": "python",
   "nbconvert_exporter": "python",
   "pygments_lexer": "ipython3",
   "version": "3.7.10"
  }
 },
 "nbformat": 4,
 "nbformat_minor": 2
}